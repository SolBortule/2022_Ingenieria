import numpy as np
import MEF as mef


glxn = 2  # grados de libertad por nodo


MN = np.array([[0,0],[8,0],[16,0],[8,4]])  # pos de cada nodo  # metros
MC = np.array([[0,3],[0,1],[1,3],[2,3],[1,2]])  # ensamble entre elementos
E = np.array([210,210,210,210,210])*1e9  # Pascales
A = np.array([10,10,20,10,10])/(100**2)  # m2

s = np.array([0,1,5])
r = mef.vector_complemento(s, MN, glxn)

Fr = np.array([0,-20e3,0,0,0]).reshape([-1,1])
Us = np.array([0, 0, 0]).reshape([-1,1])


Nn = MN.shape[0]
Ne, Nnxe = MC.shape
glxn = 2


K, Ke = mef.Kglobal_barra(MN, MC, E, A, glxn)


F, U = mef.solve1D(K, r, s, Us, Fr)


np.set_printoptions(formatter={"float": lambda x: "%0.2f"% (x)})
F = F.reshape(Nn,glxn)
print('\n\033[4m'+f'Fuerzas x e y en cada nodo'+'\033[0m'+' [KN]:')
for n in range(Nn):
    print('\033[93m'+f'Nodo {n}: {F[n]*1e-3}'+'\033[0m')

U = U.reshape(Nn,glxn)
print('\n\033[4m'+f'Desplazamientos x e y de cada nodo'+'\033[0m'+' [mm]:')
for n in range(Nn):
    print('\033[93m'+f'Nodo {n}: {U[n]*1e3}'+'\033[0m')

K[np.abs(K) < 1e-16] = 0
print('\n\033[4m'+f'Matriz Global'+'\033[0m'+':\n\033[93m'+ f'U =\n {K/K.max()} \n'+'\033[0m')


U2D = U.reshape(Nn,glxn)


MNf = MN + U2D


sig = np.zeros([Ne,1])  # tensiones
for e in range(Ne):
    Lo = np.sqrt((MN[MC[e,1],0]-MN[MC[e,0],0])**2+(MN[MC[e,1],1]-MN[MC[e,0],1])**2)
    Lf = np.sqrt((MNf[MC[e,1],0]-MNf[MC[e,0],0])**2+(MNf[MC[e,1],1]-MNf[MC[e,0],1])**2)
    dL = Lf-Lo
    sig[e] = E[e]*dL


print('\033[4m'+f'Tensiones en cada barra'+'\033[0m'+' [MPa]:')
for e in range(Ne):
    print('\033[93m'+f'Elemento {e}: {sig[e]*1e-6}'+'\033[0m')



