{
 "cells": [
  {
   "cell_type": "code",
   "execution_count": 1,
   "id": "f44ab370-4e92-40bf-88cb-34605b1f1509",
   "metadata": {},
   "outputs": [],
   "source": [
    "import numpy as np\n",
    "import matplotlib.pyplot as plt  \n",
    "import math   \n",
    "import random   \n",
    "import copy\n",
    "import MEF"
   ]
  },
  {
   "cell_type": "code",
   "execution_count": 2,
   "id": "f5741711-0055-484d-9d5d-21409e16f551",
   "metadata": {},
   "outputs": [],
   "source": [
    "MN = np.array([[0,0,0],[8,0,0],[16,0,0],[8,4,0]]) #matriz de nodo\n",
    "MC= np.array([[0,3],[0,1],[1,3],[2,3],[1,2]]) #matriz de conectividad\n",
    "glxn= 2 #grados de libertad por nodo\n",
    "Nn = MN.shape[0] #cantidad de nodos\n",
    "Ne, Nnxe= MC.shape #cantidad de elementos y nodos por elementos"
   ]
  },
  {
   "cell_type": "code",
   "execution_count": 3,
   "id": "a22b695d-0fba-48bf-8576-b1ab44e91e8c",
   "metadata": {},
   "outputs": [],
   "source": [
    "E= np.array([210,210,210,210,210])*1E9 \n",
    "A = np.array([10,10,20,10,10])*1E-4 #sección\n",
    "k= 200 #constante de los resortes"
   ]
  },
  {
   "cell_type": "code",
   "execution_count": 4,
   "id": "bd78a38e-ebdc-4780-9d4b-750a7a81c5cf",
   "metadata": {},
   "outputs": [],
   "source": [
    "K_global= np.zeros([glxn*Nn,glxn*Nn])"
   ]
  },
  {
   "cell_type": "code",
   "execution_count": 5,
   "id": "95ca211a-7067-431e-9786-01fdb280e07b",
   "metadata": {},
   "outputs": [],
   "source": [
    "def k_elem_barra(MC,MN,Ee,Ae,e):\n",
    "    \n",
    "    nodos= MC[e]\n",
    "    cord_nodo=np.array([MN[nodos[1],0]-MN[nodos[0],0],MN[nodos[1],1]-MN[nodos[0],1]])\n",
    "    long= np.linalg.norm(cord_nodo)\n",
    "    phi= np.arctan2(cord_nodo[1],cord_nodo[0])\n",
    "    ke= Ee*Ae/long\n",
    "    c=np.cos(phi)\n",
    "    s=np.sin(phi)\n",
    "    K_elem= ke*np.array([[c**2,c*s,-c**2,-c*s],[c*s,s*s,-c*s,-s*s],\n",
    "                         [-c*c,-c*s,c*c,c*s],[-c*s,-s*s,c*s,s*s]])\n",
    "    K_elem[np.abs(K_elem/K_elem.max()) < 1e-15] = 0\n",
    "\n",
    "    return K_elem"
   ]
  },
  {
   "cell_type": "code",
   "execution_count": 6,
   "id": "70408598-f9ff-442d-affa-dd4c810bf2f2",
   "metadata": {},
   "outputs": [],
   "source": [
    "k_elem= {}"
   ]
  },
  {
   "cell_type": "code",
   "execution_count": 7,
   "id": "f3033bc9-279b-4fe5-a42d-80cfa0714f30",
   "metadata": {},
   "outputs": [],
   "source": [
    "archivo= 'Matrices_elementales.txt'\n",
    "with open(archivo,'w') as f:\n",
    "    f.write('Matrices Elementales\\n ===============')\n",
    "archivo1= 'Matriz_global.txt'\n",
    "with open(archivo1,'w') as f:\n",
    "    f.write('Matriz Global\\n ===============')"
   ]
  },
  {
   "cell_type": "code",
   "execution_count": 8,
   "id": "a4bd6381-d885-4337-a4f1-124ea8ae44ed",
   "metadata": {},
   "outputs": [],
   "source": [
    "for e in range(Ne):\n",
    "    k_elem[e]= k_elem_barra(MC,MN,E[e],A[e],e)\n",
    "    fe = np.abs(k_elem[e].max()) #factor de escala\n",
    "    with open(archivo,'a') as f:\n",
    "        f.write(f'\\nelemento {e}, fe ={fe:4e}\\n')\n",
    "        f.write(f'{k_elem[e]/fe}\\n')\n",
    "    for i in range(Nnxe):\n",
    "        rangoi= np.linspace(i*glxn,(i+1)*glxn-1,glxn, dtype = \"int\")\n",
    "        rangoni= np.linspace(MC[e,i]*glxn,(MC[e,i]+1)*glxn-1,glxn, dtype = \"int\")\n",
    "        for j in range(Nnxe):\n",
    "            rangoj= np.linspace(j*glxn,(j+1)*glxn-1,glxn, dtype = \"int\")\n",
    "            rangonj= np.linspace(MC[e,j]*glxn,(MC[e,j]+1)*glxn-1,glxn, dtype = \"int\")\n",
    "            K_global[np.ix_(rangoni,rangonj)] += k_elem[e][np.ix_(rangoi,rangoj)]"
   ]
  },
  {
   "cell_type": "code",
   "execution_count": 9,
   "id": "77bc26c8-a2b9-4070-a06d-65d61e5a6c93",
   "metadata": {},
   "outputs": [],
   "source": [
    "fe = np.abs(K_global.max())\n",
    "with open(archivo1,'a') as f:\n",
    "    f.write(f'\\nMatriz Global, fe ={fe:4e}\\n')\n",
    "    f.write(f'{K_global/fe}\\n') "
   ]
  },
  {
   "cell_type": "code",
   "execution_count": 10,
   "id": "638493c9-ddab-4f60-9843-4b95521a2d60",
   "metadata": {},
   "outputs": [],
   "source": [
    "s= np.array([0,1,5]) # nodo con condiciones de vinculo\n",
    "r = np.array([i for i in range(Nn*glxn) if i not in s ]) #complemento de s, incognitas"
   ]
  },
  {
   "cell_type": "code",
   "execution_count": 11,
   "id": "d9f7a2c4-1624-483e-9586-8f5b860641db",
   "metadata": {},
   "outputs": [],
   "source": [
    "U_s = np.zeros_like(s)\n",
    "F_r = np.zeros_like(r)\n",
    "F_r[r==3]= -20E3"
   ]
  },
  {
   "cell_type": "code",
   "execution_count": 12,
   "id": "f6a4f881-3bc0-4381-8b04-0d350cabaaf2",
   "metadata": {
    "tags": []
   },
   "outputs": [],
   "source": [
    "desp, fuerzas = MEF.solve1D(K_global,s,r,U_s,F_r)"
   ]
  },
  {
   "cell_type": "raw",
   "id": "68b7d6d6-644f-4b0b-88f0-3e2a8f4ddbfb",
   "metadata": {},
   "source": [
    "Tensiones"
   ]
  },
  {
   "cell_type": "code",
   "execution_count": 13,
   "id": "94f7f237-4bfb-4925-98b5-d3a4a5b6558e",
   "metadata": {},
   "outputs": [],
   "source": [
    "despxy= desp.reshape(Nn,2)"
   ]
  },
  {
   "cell_type": "code",
   "execution_count": 14,
   "id": "fc31ee41-9946-40b5-a6d0-41002fc7fa82",
   "metadata": {
    "tags": []
   },
   "outputs": [
    {
     "data": {
      "text/plain": [
       "array([[ 0.        ,  0.        ],\n",
       "       [ 0.0007619 , -0.00384387],\n",
       "       [ 0.00152381,  0.        ],\n",
       "       [ 0.0007619 , -0.0036534 ]])"
      ]
     },
     "execution_count": 14,
     "metadata": {},
     "output_type": "execute_result"
    }
   ],
   "source": [
    "despxy"
   ]
  },
  {
   "cell_type": "code",
   "execution_count": 15,
   "id": "aaaf1cf4-fc6d-4b16-a156-f6b2750b0007",
   "metadata": {},
   "outputs": [],
   "source": [
    "b= np.zeros([Nn,1])\n",
    "despxyz= np.append(despxy, b, axis=1)"
   ]
  },
  {
   "cell_type": "code",
   "execution_count": 16,
   "id": "7f1468a7-103f-4d4d-b7db-92c480f76706",
   "metadata": {},
   "outputs": [],
   "source": [
    "MN_final= despxyz + MN"
   ]
  },
  {
   "cell_type": "code",
   "execution_count": 17,
   "id": "4bba3d46-255f-4c87-b03a-60c555b4087c",
   "metadata": {},
   "outputs": [],
   "source": [
    "Lf = []\n",
    "Li=[]"
   ]
  },
  {
   "cell_type": "code",
   "execution_count": 18,
   "id": "2d3f437f-7362-4c88-8cac-c8e9091b1a1f",
   "metadata": {},
   "outputs": [],
   "source": [
    "sigma= []"
   ]
  },
  {
   "cell_type": "code",
   "execution_count": 19,
   "id": "2392f8b2-07ab-4606-a0ea-2028d0abdcf2",
   "metadata": {},
   "outputs": [],
   "source": [
    "for e in range(Ne):\n",
    "    nodos= MC[e]\n",
    "    cord_nodo_inicial=np.array([MN[nodos[1],0]-MN[nodos[0],0],MN[nodos[1],1]-MN[nodos[0],1]])\n",
    "    cord_nodo_final=np.array([MN_final[nodos[1],0]-MN_final[nodos[0],0],\n",
    "                              MN_final[nodos[1],1]-MN_final[nodos[0],1]])\n",
    "    Lf.append(np.linalg.norm(cord_nodo_final))\n",
    "    Li.append(np.linalg.norm(cord_nodo_inicial))\n",
    "    sigma.append((((Lf[e]-Li[e])/Li[e])*E[e]))"
   ]
  },
  {
   "cell_type": "code",
   "execution_count": 20,
   "id": "5aed6591-b498-4b81-98a5-d8f817eb8e60",
   "metadata": {},
   "outputs": [
    {
     "data": {
      "text/plain": [
       "array([-22.34358817,  20.02423853,  10.        , -22.34358817,\n",
       "        20.02423853])"
      ]
     },
     "execution_count": 20,
     "metadata": {},
     "output_type": "execute_result"
    }
   ],
   "source": [
    "sigma = np.array(sigma)\n",
    "sigma/1E6 #pas las tensiones MPa"
   ]
  },
  {
   "cell_type": "code",
   "execution_count": 21,
   "id": "ad227c0c-8dce-41c6-a8ef-9bb2d7add82d",
   "metadata": {},
   "outputs": [
    {
     "data": {
      "text/plain": [
       "[8.94427190999916, 8.0, 4.0, 8.94427190999916, 8.0]"
      ]
     },
     "execution_count": 21,
     "metadata": {},
     "output_type": "execute_result"
    }
   ],
   "source": [
    "Li "
   ]
  },
  {
   "cell_type": "code",
   "execution_count": null,
   "id": "5e66b3ac-d22b-4cf6-b40a-3ece9da16c65",
   "metadata": {},
   "outputs": [],
   "source": []
  },
  {
   "cell_type": "markdown",
   "id": "402b3876-1f57-4415-a700-8c368ac74961",
   "metadata": {},
   "source": [
    "<div style=\"background:#999900\"> \n",
    "    Estoy revisando despues de terminar las clases, en el tren, de vacaciones. \n",
    "    El notebook anda pero le faltan los detalles. \n",
    "    Entregó muy tarde. considero resuelto pero incompleto\n",
    "</div>"
   ]
  },
  {
   "cell_type": "code",
   "execution_count": null,
   "id": "6d014271-ff46-4109-b6ad-e9bda70facb4",
   "metadata": {},
   "outputs": [],
   "source": []
  }
 ],
 "metadata": {
  "kernelspec": {
   "display_name": "Modelizacion",
   "language": "python",
   "name": "modelizacion"
  },
  "language_info": {
   "codemirror_mode": {
    "name": "ipython",
    "version": 3
   },
   "file_extension": ".py",
   "mimetype": "text/x-python",
   "name": "python",
   "nbconvert_exporter": "python",
   "pygments_lexer": "ipython3",
   "version": "3.9.12"
  }
 },
 "nbformat": 4,
 "nbformat_minor": 5
}
