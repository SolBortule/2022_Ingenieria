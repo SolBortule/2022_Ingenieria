{
 "cells": [
  {
   "cell_type": "markdown",
   "id": "01510b53",
   "metadata": {},
   "source": [
    "# Comentarios a las entregas del TP 2"
   ]
  },
  {
   "cell_type": "markdown",
   "id": "2e2b93d0",
   "metadata": {},
   "source": [
    "##  Fernando\n",
    "\n",
    "### Ejercicio 1 guia 4\n",
    "-  no hace la comparación de la convergencia de las frecuencias\n",
    "### Ejercicio 2 guia 3\n",
    "-  le da algo raro en las fuerzas"
   ]
  },
  {
   "cell_type": "markdown",
   "id": "00698887",
   "metadata": {},
   "source": [
    "## Luciano\n",
    "### Ejercicio 1 guia 4\n",
    "-  no hace la comparación de la convergencia de las frecuencias\n",
    "### Ejercicio 2 guia 3\n",
    "- nada que decir\n",
    "\n"
   ]
  },
  {
   "cell_type": "markdown",
   "id": "e2b754dc",
   "metadata": {},
   "source": [
    "## Santiago\n",
    "### Ejercicio 1 guia 4\n",
    "\n",
    "-esta bien, le da algo raro la convergencia de las frecuencias\n",
    "\n",
    "### Ejercicio 2 guia 3\n",
    "\n",
    "- esta bien\n",
    "\n",
    "\n"
   ]
  },
  {
   "cell_type": "markdown",
   "id": "fa6c4a49",
   "metadata": {},
   "source": [
    "## Sol\n",
    "\n",
    "\n",
    "### Ejercicio 1 guia 4\n",
    "\n",
    "- plotea numeros anotados a mano.\n",
    "- lo demas esta bien,\n",
    "- ve tiempo de cálculo con el numero de elementos\n",
    "\n",
    "\n",
    "### Ejercicio 2 guia 3\n",
    "\n",
    "- resuelve el problema \n",
    "- pero no ve convergencia de frecuencias con numero de elementos. \n",
    "\n",
    "\n",
    "\n"
   ]
  },
  {
   "cell_type": "markdown",
   "id": "06279957",
   "metadata": {},
   "source": [
    "## Mauro\n",
    "\n",
    "###  Ejercicio 1\n",
    "- resuelve bien\n",
    "\n",
    "### ejercicio 2\n",
    " - esta bien, le falta convergencia de la frecuencia"
   ]
  },
  {
   "cell_type": "markdown",
   "id": "030ddd56",
   "metadata": {},
   "source": [
    "## Alejandro\n",
    "\n",
    "###  Ejercicio 1\n",
    "\n",
    "- esta muy bien\n",
    "\n",
    "\n",
    "\n",
    "### ejercicio 2\n",
    "\n",
    "- resuelve bien, le falta convergencia de frecuencias\n"
   ]
  },
  {
   "cell_type": "markdown",
   "id": "52f683bc",
   "metadata": {},
   "source": [
    "## Lucca\n",
    "\n",
    "### ej 1\n",
    "\n",
    "- no me queda del todo claro algun gr'afico que hizo (como el de la diferencia de los modos vs posicion), pero en general esta bien\n",
    "\n",
    "\n",
    "### ej 2\n",
    "\n",
    "-esta muy bien\n"
   ]
  },
  {
   "cell_type": "markdown",
   "id": "4d715fb7",
   "metadata": {},
   "source": [
    "## Tomas \n",
    "\n",
    "**entregó tarde**\n",
    "\n",
    "### \n",
    "\n"
   ]
  },
  {
   "cell_type": "markdown",
   "id": "56920887-bde3-44e7-9fe3-9ab88cf69d9c",
   "metadata": {},
   "source": [
    "# Flavio Lucero\n",
    "\n",
    "- entrego igual que el resto en fechas ( no lo vi)\n",
    "- esta bien, \n",
    "\n",
    "-ej1: ve bien la convergencia de frecuencias\n",
    "\n",
    "-ej2: cumple, parece estar bien."
   ]
  },
  {
   "cell_type": "code",
   "execution_count": null,
   "id": "a584baf8-28d8-42c3-a0f8-7b375bf5a01d",
   "metadata": {},
   "outputs": [],
   "source": []
  }
 ],
 "metadata": {
  "kernelspec": {
   "display_name": "Python 3 (ipykernel)",
   "language": "python",
   "name": "python3"
  },
  "language_info": {
   "codemirror_mode": {
    "name": "ipython",
    "version": 3
   },
   "file_extension": ".py",
   "mimetype": "text/x-python",
   "name": "python",
   "nbconvert_exporter": "python",
   "pygments_lexer": "ipython3",
   "version": "3.9.13"
  }
 },
 "nbformat": 4,
 "nbformat_minor": 5
}
