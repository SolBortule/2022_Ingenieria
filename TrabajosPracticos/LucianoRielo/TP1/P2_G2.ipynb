{
 "cells": [
  {
   "cell_type": "markdown",
   "id": "63d82d1f-dd65-42ad-8652-d5944dfc3324",
   "metadata": {},
   "source": [
    "$$\\LARGE\n",
    "\\underline\n",
    "{\n",
    "\\textbf\n",
    "    {Problema 2}\n",
    "}\n",
    "$$"
   ]
  },
  {
   "cell_type": "markdown",
   "id": "fc84867c-67b4-434e-8460-56081d93cd64",
   "metadata": {},
   "source": [
    "Considere el entramado mostrado en la figura, con una fuerza aplicada de 20 kN. Calcule los\n",
    "desplazamientos de cada uno de los nodos y las tensiones que sufre cada elemento. Todos los\n",
    "elementos tienen $E = 210\\ GPa$ y una sección de $10 cm^{2}$, excepto el elemento 3, que tiene una\n",
    "sección de $20 cm^{2}$. Los elementos 2 y 5 tienen una longitud de 8 metros y el elemento 3 de 4\n",
    "metros."
   ]
  },
  {
   "cell_type": "markdown",
   "id": "2054032f-8684-427a-a73f-179ccdfaeffb",
   "metadata": {},
   "source": [
    "<center><img src=\"ImgProb02G02.png\"></center>"
   ]
  },
  {
   "cell_type": "code",
   "execution_count": 1,
   "id": "1e2213dd-2056-4cdb-bfa0-5839c80f37aa",
   "metadata": {},
   "outputs": [],
   "source": [
    "import numpy as np\n",
    "import MEF as mef"
   ]
  },
  {
   "cell_type": "code",
   "execution_count": 2,
   "id": "5f07a96a-e281-483e-8b14-f81bc22427b2",
   "metadata": {},
   "outputs": [],
   "source": [
    "glxn = 2  # grados de libertad por nodo"
   ]
  },
  {
   "cell_type": "code",
   "execution_count": 3,
   "id": "9793e68b-b3f2-4c02-8a69-dbf96bc2f5c4",
   "metadata": {},
   "outputs": [],
   "source": [
    "MN = np.array([[0,0],[8,0],[16,0],[8,4]])  # pos de cada nodo  # metros\n",
    "MC = np.array([[0,3],[0,1],[1,3],[2,3],[1,2]])  # ensamble entre elementos\n",
    "E = np.array([210,210,210,210,210])*1e9  # Pascales\n",
    "A = np.array([10,10,20,10,10])/(100**2)  # m2\n",
    "\n",
    "s = np.array([0,1,5])\n",
    "r = mef.vector_complemento(s, MN, glxn)\n",
    "\n",
    "Fr = np.array([0,-20e3,0,0,0]).reshape([-1,1])\n",
    "Us = np.array([0, 0, 0]).reshape([-1,1])"
   ]
  },
  {
   "cell_type": "code",
   "execution_count": 4,
   "id": "17a7354d-1f61-4d78-afde-91c3f749f7b6",
   "metadata": {},
   "outputs": [],
   "source": [
    "Nn = MN.shape[0]\n",
    "Ne, Nnxe = MC.shape\n",
    "glxn = 2"
   ]
  },
  {
   "cell_type": "code",
   "execution_count": 5,
   "id": "a648cf8a-b240-44f2-9842-abc0f380b97c",
   "metadata": {},
   "outputs": [],
   "source": [
    "K, Ke = mef.Kglobal_barra(MN, MC, E, A, glxn)"
   ]
  },
  {
   "cell_type": "code",
   "execution_count": 6,
   "id": "f815b04b-6724-48b9-b5c5-2957b7edd6c5",
   "metadata": {},
   "outputs": [],
   "source": [
    "F, U = mef.solve1D(K, r, s, Us, Fr)"
   ]
  },
  {
   "cell_type": "code",
   "execution_count": 7,
   "id": "573191d6-c428-4c40-96e4-389127583d6f",
   "metadata": {},
   "outputs": [
    {
     "name": "stdout",
     "output_type": "stream",
     "text": [
      "\n",
      "\u001b[4mFuerzas x e y en cada nodo\u001b[0m [KN]:\n",
      "\u001b[93mNodo 0: [0.00 10.00]\u001b[0m\n",
      "\u001b[93mNodo 1: [0.00 -20.00]\u001b[0m\n",
      "\u001b[93mNodo 2: [0.00 10.00]\u001b[0m\n",
      "\u001b[93mNodo 3: [0.00 0.00]\u001b[0m\n",
      "\n",
      "\u001b[4mDesplazamientos x e y de cada nodo\u001b[0m [mm]:\n",
      "\u001b[93mNodo 0: [0.00 0.00]\u001b[0m\n",
      "\u001b[93mNodo 1: [0.76 -3.84]\u001b[0m\n",
      "\u001b[93mNodo 2: [1.52 0.00]\u001b[0m\n",
      "\u001b[93mNodo 3: [0.76 -3.65]\u001b[0m\n",
      "\n",
      "\u001b[4mMatriz Global\u001b[0m:\n",
      "\u001b[93mK =\n",
      " [[0.39 0.08 -0.23 0.00 0.00 0.00 -0.16 -0.08]\n",
      " [0.08 0.04 0.00 0.00 0.00 0.00 -0.08 -0.04]\n",
      " [-0.23 0.00 0.46 0.00 -0.23 0.00 0.00 0.00]\n",
      " [0.00 0.00 0.00 0.92 0.00 0.00 0.00 -0.92]\n",
      " [0.00 0.00 -0.23 0.00 0.39 -0.08 -0.16 0.08]\n",
      " [0.00 0.00 0.00 0.00 -0.08 0.04 0.08 -0.04]\n",
      " [-0.16 -0.08 0.00 0.00 -0.16 0.08 0.33 -0.00]\n",
      " [-0.08 -0.04 0.00 -0.92 0.08 -0.04 -0.00 1.00]] \n",
      "\u001b[0m\n"
     ]
    }
   ],
   "source": [
    "np.set_printoptions(formatter={\"float\": lambda x: \"%0.2f\"% (x)})\n",
    "F = F.reshape(Nn,glxn)\n",
    "print('\\n\\033[4m'+f'Fuerzas x e y en cada nodo'+'\\033[0m'+' [KN]:')\n",
    "for n in range(Nn):\n",
    "    print('\\033[93m'+f'Nodo {n}: {F[n]*1e-3}'+'\\033[0m')\n",
    "\n",
    "U = U.reshape(Nn,glxn)\n",
    "print('\\n\\033[4m'+f'Desplazamientos x e y de cada nodo'+'\\033[0m'+' [mm]:')\n",
    "for n in range(Nn):\n",
    "    print('\\033[93m'+f'Nodo {n}: {U[n]*1e3}'+'\\033[0m')\n",
    "\n",
    "K[np.abs(K) < 1e-16] = 0\n",
    "print('\\n\\033[4m'+f'Matriz Global'+'\\033[0m'+':\\n\\033[93m'+ f'K =\\n {K/K.max()} \\n'+'\\033[0m')"
   ]
  },
  {
   "cell_type": "markdown",
   "id": "dd65c9e6-db0e-4c96-9a36-f2cb270e94e9",
   "metadata": {},
   "source": [
    "Para calcular las tensiones en cada barra, hay que ver cuanto vario la longitud de cada una. "
   ]
  },
  {
   "cell_type": "markdown",
   "id": "e3fe1d04-5018-4eb2-bc04-3d27adc51d71",
   "metadata": {},
   "source": [
    "Acomodo los desplazamientos de cada uno de los nodos en 2 dimensiones"
   ]
  },
  {
   "cell_type": "code",
   "execution_count": 8,
   "id": "e3e719a4-be33-4742-8386-0899c19350ec",
   "metadata": {},
   "outputs": [],
   "source": [
    "U2D = U.reshape(Nn,glxn)"
   ]
  },
  {
   "cell_type": "markdown",
   "id": "419ae32b-9958-431c-a966-3a9a35511f00",
   "metadata": {},
   "source": [
    "Calculo la posición final de los nodos:"
   ]
  },
  {
   "cell_type": "code",
   "execution_count": 9,
   "id": "a3154007-35bb-42b3-84b2-09e79bdb8d36",
   "metadata": {},
   "outputs": [],
   "source": [
    "MNf = MN + U2D"
   ]
  },
  {
   "cell_type": "markdown",
   "id": "a40a72e5-b295-4f63-a996-ee17add52260",
   "metadata": {},
   "source": [
    "Calculo la longitud final $L_{f}$, y calculo las tensiones con la ecuación   $\\sigma_{i}=E_{i}\\ \\varepsilon_{i}$ donde $i$ es cada uno de los elementos. "
   ]
  },
  {
   "cell_type": "code",
   "execution_count": 10,
   "id": "4c9fb5a6-88f6-4a91-b6da-baeae9886960",
   "metadata": {},
   "outputs": [],
   "source": [
    "sig = np.zeros([Ne,1])  # tensiones\n",
    "for e in range(Ne):\n",
    "    Lo = np.sqrt((MN[MC[e,1],0]-MN[MC[e,0],0])**2+(MN[MC[e,1],1]-MN[MC[e,0],1])**2)\n",
    "    Lf = np.sqrt((MNf[MC[e,1],0]-MNf[MC[e,0],0])**2+(MNf[MC[e,1],1]-MNf[MC[e,0],1])**2)\n",
    "    dL = Lf-Lo\n",
    "    sig[e] = E[e]*dL"
   ]
  },
  {
   "cell_type": "code",
   "execution_count": 11,
   "id": "ad37a457-e68a-4071-8c83-20d8cc7a46a1",
   "metadata": {},
   "outputs": [
    {
     "name": "stdout",
     "output_type": "stream",
     "text": [
      "\u001b[4mTensiones en cada barra\u001b[0m [MPa]:\n",
      "\u001b[93mElemento 0: [-199.85]\u001b[0m\n",
      "\u001b[93mElemento 1: [160.19]\u001b[0m\n",
      "\u001b[93mElemento 2: [40.00]\u001b[0m\n",
      "\u001b[93mElemento 3: [-199.85]\u001b[0m\n",
      "\u001b[93mElemento 4: [160.19]\u001b[0m\n"
     ]
    }
   ],
   "source": [
    "print('\\033[4m'+f'Tensiones en cada barra'+'\\033[0m'+' [MPa]:')\n",
    "for e in range(Ne):\n",
    "    print('\\033[93m'+f'Elemento {e}: {sig[e]*1e-6}'+'\\033[0m')"
   ]
  },
  {
   "cell_type": "code",
   "execution_count": null,
   "id": "ec39cb76-103d-4e13-8e53-320183878097",
   "metadata": {},
   "outputs": [],
   "source": []
  }
 ],
 "metadata": {
  "kernelspec": {
   "display_name": "Python 3 (ipykernel)",
   "language": "python",
   "name": "python3"
  },
  "language_info": {
   "codemirror_mode": {
    "name": "ipython",
    "version": 3
   },
   "file_extension": ".py",
   "mimetype": "text/x-python",
   "name": "python",
   "nbconvert_exporter": "python",
   "pygments_lexer": "ipython3",
   "version": "3.9.10"
  }
 },
 "nbformat": 4,
 "nbformat_minor": 5
}
