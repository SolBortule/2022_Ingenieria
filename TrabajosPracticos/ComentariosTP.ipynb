{
 "cells": [
  {
   "cell_type": "markdown",
   "id": "bd89a1b0",
   "metadata": {},
   "source": [
    "# Entregas\n",
    "\n",
    "## Tomas Rabago\n",
    "\n",
    "- Cumple, tiene algun problema con los vertices en el problema de temperatura.\n",
    "- el problema 2 esta bien, no calcula las tensiones\n",
    "\n",
    "## Luciano Rielo\n",
    "\n",
    "Esta casi perfecto, le faltó el dibujito del puente. a demas fué el que estuvo más activo y siempre se mantuvo al día. \n",
    "\n",
    "## Augusto\n",
    "\n",
    "- le faltó hacer la cc de flujo. Lo programó pero no le daba\n",
    "- el problema del puente esta muy bien\n",
    "\n",
    "## Sol Bortulé\n",
    "\n",
    "- programó bien el problema con flujo abajo\n",
    "- no hizo los flujos de calor\n",
    "- calculó las tensiones\n",
    "\n",
    "## Fernando\n",
    "\n",
    "- Esta casi perfecto, solo le faltó hacer el gráfico de tiempo vs tamño de la matriz\n",
    "- calcula las tensiones\n",
    "\n",
    "## Alejandro\n",
    "\n",
    "- esta perfecto\n",
    "\n",
    "## Mauro\n",
    "\n",
    "- No hizo la parte de medir los tiempos\n",
    "- el problema 2 esta bien\n",
    "\n",
    "## Lucca\n",
    "- Ej 1 esta perfecto\n",
    "- Ej 2 no hizo las tensiones\n",
    "\n",
    "## Santiago Fernandez\n",
    "\n",
    "- entregó muy tarde\n",
    "- problema 1 tiene problema en el vertice, no calcula los flujos. \n"
   ]
  },
  {
   "cell_type": "markdown",
   "id": "a0b5599d",
   "metadata": {},
   "source": [
    "#  Snippets "
   ]
  },
  {
   "cell_type": "markdown",
   "id": "88ef877d",
   "metadata": {},
   "source": [
    "<div style=\"background:#999900\">salvo el primer punto, los demas estan ubicados en una recta. se ppuede ver que sigue el tiempo de resolución para la eliminación de gauss</div>"
   ]
  },
  {
   "cell_type": "code",
   "execution_count": 3,
   "id": "df1ed54d",
   "metadata": {},
   "outputs": [
    {
     "ename": "NameError",
     "evalue": "name 'np' is not defined",
     "output_type": "error",
     "traceback": [
      "\u001b[0;31m---------------------------------------------------------------------------\u001b[0m",
      "\u001b[0;31mNameError\u001b[0m                                 Traceback (most recent call last)",
      "\u001b[0;32m/tmp/ipykernel_1485/2807730635.py\u001b[0m in \u001b[0;36m<module>\u001b[0;34m\u001b[0m\n\u001b[0;32m----> 1\u001b[0;31m \u001b[0mCoefs\u001b[0m \u001b[0;34m=\u001b[0m \u001b[0mnp\u001b[0m\u001b[0;34m.\u001b[0m\u001b[0mpolyfit\u001b[0m\u001b[0;34m(\u001b[0m\u001b[0mnp\u001b[0m\u001b[0;34m.\u001b[0m\u001b[0mlog10\u001b[0m\u001b[0;34m(\u001b[0m\u001b[0mEnes\u001b[0m\u001b[0;34m)\u001b[0m\u001b[0;34m,\u001b[0m \u001b[0mnp\u001b[0m\u001b[0;34m.\u001b[0m\u001b[0mlog10\u001b[0m\u001b[0;34m(\u001b[0m\u001b[0mt\u001b[0m\u001b[0;34m)\u001b[0m\u001b[0;34m,\u001b[0m \u001b[0;36m1\u001b[0m\u001b[0;34m)\u001b[0m\u001b[0;34m\u001b[0m\u001b[0;34m\u001b[0m\u001b[0m\n\u001b[0m",
      "\u001b[0;31mNameError\u001b[0m: name 'np' is not defined"
     ]
    }
   ],
   "source": [
    "Coefs = np.polyfit(np.log10(Enes), np.log10(t), 1)"
   ]
  },
  {
   "cell_type": "code",
   "execution_count": 31,
   "id": "89725b76",
   "metadata": {},
   "outputs": [
    {
     "data": {
      "text/plain": [
       "array([[ 3.18329425],\n",
       "       [-6.20772015]])"
      ]
     },
     "execution_count": 31,
     "metadata": {},
     "output_type": "execute_result"
    }
   ],
   "source": [
    "Coefs"
   ]
  },
  {
   "cell_type": "markdown",
   "id": "da231ab7",
   "metadata": {},
   "source": [
    "<div style=\"background:#999900\">Lo esperado sería que el coeficiente del polinomio sea 6, ya que el tamaño es N2, pero aca es casi la mitad porque en cualquier compu moderna este proceso se paraleliza.</div>"
   ]
  },
  {
   "cell_type": "code",
   "execution_count": 10,
   "id": "a3167b2d",
   "metadata": {},
   "outputs": [],
   "source": [
    "import matplotlib.pyplot as plt\n",
    "plt.rc('figure', figsize=(12,8))\n",
    "plt.rc('font', size=20)"
   ]
  },
  {
   "cell_type": "code",
   "execution_count": null,
   "id": "8dd5b1a4",
   "metadata": {},
   "outputs": [],
   "source": [
    "\n",
    "DXY = np.reshape(U, (len(MN),2))\n",
    "\n",
    "MND = MN[:,:2] +DXY*100\n",
    "\n",
    "fig, ax = plt.subplots()\n",
    "for L in MC:\n",
    "    ax.plot(MN[L,0], MN[L,1], '-ok')\n",
    "    ax.plot(MND[L,0], MND[L,1], '-ob')"
   ]
  },
  {
   "cell_type": "markdown",
   "id": "6919cc7f",
   "metadata": {},
   "source": [
    "<div style=\"background:#999900\">te faltarían  las tensiones. las podes calcular viendo las nuevas longitudes de las barras a partir de la nueva MND y luego calculando los $\\varepsilon = \\dfrac{\\Delta L}{L}$</div>"
   ]
  }
 ],
 "metadata": {
  "kernelspec": {
   "display_name": "Python 3 (ipykernel)",
   "language": "python",
   "name": "python3"
  },
  "language_info": {
   "codemirror_mode": {
    "name": "ipython",
    "version": 3
   },
   "file_extension": ".py",
   "mimetype": "text/x-python",
   "name": "python",
   "nbconvert_exporter": "python",
   "pygments_lexer": "ipython3",
   "version": "3.9.13"
  }
 },
 "nbformat": 4,
 "nbformat_minor": 5
}
