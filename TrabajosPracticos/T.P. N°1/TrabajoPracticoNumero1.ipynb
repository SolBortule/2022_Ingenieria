{
 "cells": [
  {
   "cell_type": "markdown",
   "id": "a09343ea",
   "metadata": {},
   "source": [
    "# Trabajo Práctico\n",
    "\n",
    "Fecha de Entrega 28/5/2022\n",
    "\n",
    "Entregue los Jupyter Notebooks y los módulos que sean necesarios para poder ejecutar las soluciones de los siguientes problemas de las guías. Suba dichos archivos en la carpeta ‘TrabajosPracticos’, en una subcarpeta con su nombre, que estará disponible en el repositorio de la materia."
   ]
  },
  {
   "cell_type": "markdown",
   "id": "0af68e8b",
   "metadata": {},
   "source": [
    "# Problema 1\n",
    "\n",
    "Se tiene una placa cuadrada de aluminio cuyos bordes están en las\n",
    "condiciones que se indican en la figura: tres lados a temperaturas fijas \n",
    "y otro, el inferior, aislado térmicamente (flujo de calor igual a cero). \n",
    "Encuentre, utilizando el método de diferencias finitas, los valores de \n",
    "temperatura y flujo de calor para cada punto. Utilice primero la grilla \n",
    "señalada y luego generalice el problema a un número variable de nodos en \n",
    "cada eje de coordenadas. Haga un estudio del tiempo de cálculo en \n",
    "función del tamaño del sistema.\n",
    "\n",
    "![](ChapaGuia1.svg)\n"
   ]
  },
  {
   "cell_type": "markdown",
   "id": "4087e6c6",
   "metadata": {},
   "source": [
    "# Problema 2\n",
    "\n",
    "Considere el entramado mostrado en la figura, con una fuerza aplicada de 20 kN. Calcule los desplazamientos de cada uno de los nodos y las tensiones que sufre cada elemento. Todos los elementos tienen E = 210 GPa y una sección de 10 cm2, excepto el elemento 3, que tiene una sección de 20 cm2. Los elementos 2 y 5 tienen una longitud de 8 metros y el elemento 3 de  4 metros.\n",
    "\n",
    "\n",
    "![](PuenteGuia2.svg)"
   ]
  },
  {
   "cell_type": "markdown",
   "id": "448ef098",
   "metadata": {},
   "source": [
    "# Instrucciones\n",
    "\n",
    "1. Actualice su repositorio con el repositorio de la materia, desde el `home` de su repositorio busque el botón `fetch upstream` como se explicó en el tutorial al inicio de la materia. \n",
    "\n",
    "2. Cree una carpeta con su nombre, como hizo para las consultas, pero dentro de la carpeta `TrabajosPracticos`\n",
    "\n",
    "3. suba los archivos necesarios dentro de esa carpeta\n"
   ]
  },
  {
   "cell_type": "code",
   "execution_count": null,
   "id": "714ba298",
   "metadata": {},
   "outputs": [],
   "source": []
  }
 ],
 "metadata": {
  "kernelspec": {
   "display_name": "Python 3 (ipykernel)",
   "language": "python",
   "name": "python3"
  },
  "language_info": {
   "codemirror_mode": {
    "name": "ipython",
    "version": 3
   },
   "file_extension": ".py",
   "mimetype": "text/x-python",
   "name": "python",
   "nbconvert_exporter": "python",
   "pygments_lexer": "ipython3",
   "version": "3.9.10"
  }
 },
 "nbformat": 4,
 "nbformat_minor": 5
}
