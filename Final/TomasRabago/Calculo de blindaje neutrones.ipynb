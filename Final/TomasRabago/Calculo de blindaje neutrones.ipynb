{
 "cells": [
  {
   "cell_type": "markdown",
   "id": "30bc7312-9c58-406b-adfa-d38ff28b5f96",
   "metadata": {},
   "source": [
    "<div style=\"background:#999900\"> tu programa es casi una traducción de lo que hay en el libro. sería bueno que nos explicaras qué entendiste en cada línea y sobre las funciones. </div>"
   ]
  },
  {
   "cell_type": "code",
   "execution_count": 1,
   "id": "ef1e68c8-cdc8-4df1-83a0-bd49d47af7f4",
   "metadata": {},
   "outputs": [],
   "source": [
    "import numpy as np\n",
    "import matplotlib.pyplot as plt"
   ]
  },
  {
   "cell_type": "code",
   "execution_count": 2,
   "id": "820ef13c-8923-4d3b-a7df-35c826387f14",
   "metadata": {},
   "outputs": [],
   "source": [
    "def slab_reactor_mod(Pb_scatt,Pb_absor,E,thickness,density,A,N,iso):\n",
    "    \"\"\" Esta funcion calcula la fraccion de neutrones que logran atravesar una placa de Pb, los cuales tienen \n",
    "    una energia incidente constante.\n",
    "    \n",
    "    Entradas:\n",
    "    Pb_scatt: Array de la sección macroscópica de dispersión, cuya forma es: energia, sección\n",
    "    Pb_absor: Array de la sección macroscópica de absorsión, cuya forma es: energia, sección\n",
    "    E: Energia del neutron incidente [MeV]\n",
    "    espesor: Espesor de la placa escudo [cm]\n",
    "    rho: densidad del material escudo [g/cm^3]\n",
    "    A: Masa atomica del material escudo [g/mol]\n",
    "    N: Cantidad de neutrones a simular\n",
    "    iso: \"true\", si se trata de un flujo uniforme de neutrones\n",
    "    \n",
    "    Salidas:\n",
    "    transmitidos: Energia de los neutrones que logran traspasar el escudo\n",
    "    creados: Energia de los neutrones creados\n",
    "    absorbidos: Energia de los neutrones absorbidos en el escudo ¿captura neutronica?\n",
    "    \"\"\"\n",
    "    \n",
    "    alpha = (A-1.0)**2/(A+1.0)**2\n",
    "    transmitidos = []\n",
    "    creados = []\n",
    "    absorbidos = []\n",
    "    N = int(N)\n",
    "    for i in range(N):\n",
    "        #Defino mu dependiendo de si se trata de un haz de neutrones o de una distribucion isotropica\n",
    "        if (iso):\n",
    "            mu = np.random.random(1)\n",
    "        else:\n",
    "            mu = 1.0\n",
    "        #En este caso, se considera que la energia de los neutrones incidentes es constante\n",
    "        energia_inic_neutrones = E\n",
    "        #posicion inicial es 0\n",
    "        x=0\n",
    "        creados.append(E)\n",
    "        a = 1\n",
    "        while (a):\n",
    "            #Se busca la distancia hasta colision\n",
    "            scat_index = energy_lookup(Pb_scatt[0,:],energia_inic_neutrones)\n",
    "            abs_index = energy_lookup(Pb_absor[0,:],energia_inic_neutrones)\n",
    "            cur_scat = Pb_scatt[1,scat_index]\n",
    "            cur_abs = Pb_absor[1,abs_index]\n",
    "            Pb_trans= cur_scat + cur_abs\n",
    "            l = -np.log(1-np.random.random(1))/Pb_trans\n",
    "            #movimiento de la particula\n",
    "            x += l*mu\n",
    "            #Si x<espesor, el neutron logro atravesar el escudo\n",
    "            if (x>espesor):\n",
    "                transmitidos.append(energia_inic_neutrones)\n",
    "                a = 0 \n",
    "            #Si no, el neutron puede dispersarse o absorber\n",
    "            elif (x<0):\n",
    "                a = 0\n",
    "            else:\n",
    "                if (np.random.random(1) < cur_scat/Pb_trans):\n",
    "                    #se dispersa, elegimos nuevo mu y energia\n",
    "                    mu = np.random.uniform(-1,1,1)\n",
    "                    energia_inic_neutrones = np.random.uniform(alpha*energia_inic_neutrones,energia_inic_neutrones,1)\n",
    "                else: #se absorbe\n",
    "                    absorbidos.append(energia_inic_neutrones)\n",
    "                    a = 0\n",
    "        if i%100000 == 0:\n",
    "            print('Cantidad de particulas simuladas',i)\n",
    "    return transmitidos,creados,absorbidos\n",
    "\n",
    "def energy_lookup(data_set, inp_energy):\n",
    "    \"\"\"Esta funcion busca la energia en un conjunto de datos y devuelve la energia de tabla mas proxima.\n",
    "    Entradas:\n",
    "    data_set: array de energias\n",
    "    inp_energy: la energia a buscar\n",
    "    \n",
    "    Salida:\n",
    "    index: el indice de la energia de tabla mas cercana respecto de la buscada\n",
    "    \"\"\"\n",
    "    #argmin devuelve el in dice del elemento mas chico del array\n",
    "\n",
    "    index = np.argmin(np.fabs(data_set-inp_energy))\n",
    "    return index"
   ]
  },
  {
   "cell_type": "code",
   "execution_count": 3,
   "id": "faffc063-8233-4d92-b382-57f840e9fc5d",
   "metadata": {},
   "outputs": [],
   "source": [
    "# Importo las secciones transversales (secc_trans), las cuales dependen de la energia, para el Pb-208\n",
    "import csv\n",
    "Pb_s = [] #Genero una lista en blanco para las secc_trans\n",
    "Pb_s_energy = [] #Genero una lista en blanco para las energias de las secc_trans\n",
    "\n",
    "#Este ciclo solo se ejecuta si el archivo se abre\n",
    "\n",
    "with open('pb_scat.csv') as csvfile:\n",
    "    pbScat = csv.reader(csvfile)\n",
    "    for row in pbScat: \n",
    "        Pb_s.append(float(row[1]))\n",
    "        Pb_s_energy.append(float(row[0]))\n",
    "Pb_scatt = np.array([Pb_s_energy,Pb_s])\n",
    "Pb_abs = [] #Genero una lista en blanco para las secc_trans\n",
    "Pb_abs_energy = [] #Genero una lista en blanco para las energias de las secc_trans\n",
    "\n",
    "#Este ciclo solo se ejecuta si el archivo se abre\n",
    "\n",
    "with open('pb_radcap.csv') as csvfile:\n",
    "    pbAbs = csv.reader(csvfile)\n",
    "    for row in pbAbs: \n",
    "        Pb_abs.append(float(row[1]))\n",
    "        Pb_abs_energy.append(float(row[0]))\n",
    "Pb_absor = np.array([Pb_abs_energy,Pb_abs])\n"
   ]
  },
  {
   "cell_type": "code",
   "execution_count": 4,
   "id": "e78e0b92-de62-4b9a-82dd-743620e7167d",
   "metadata": {},
   "outputs": [],
   "source": [
    "# Defino los datos necesarios\n",
    "E = 2.5E6 # [MeV]\n",
    "N = 1e5 #1e3# [Nº de neutrones]\n",
    "A = 208 # [g/mol]\n",
    "Na = 6.022E23 # [atoms/mol]\n",
    "rho = 11.34/A*Na # [atomos/cm^3]\n",
    "espesor = 4 # 2 # [cm]\n",
    "iso = True"
   ]
  },
  {
   "cell_type": "code",
   "execution_count": 5,
   "id": "6f623db1-c4e9-4e61-b2bb-61008c4cfd01",
   "metadata": {},
   "outputs": [
    {
     "name": "stdout",
     "output_type": "stream",
     "text": [
      "Cantidad de particulas simuladas 0\n"
     ]
    }
   ],
   "source": [
    "transmitidos,creados,absorbidos = slab_reactor_mod(Pb_scatt,Pb_absor,E,espesor,rho,A,N,iso)"
   ]
  },
  {
   "cell_type": "code",
   "execution_count": 6,
   "id": "ae279fb3-152f-4674-8145-55d77b9beb6f",
   "metadata": {},
   "outputs": [
    {
     "data": {
      "image/png": "[encoded data removed]",
      "text/plain": [
       "<Figure size 432x288 with 1 Axes>"
      ]
     },
     "metadata": {
      "needs_background": "light"
     },
     "output_type": "display_data"
    }
   ],
   "source": [
    "# Grafico de los neutrones generados [cant. neutrones/Energia]\n",
    "plt.hist(np.array(creados)/1.e6,bins = 10 ** np.linspace(np.log10(0.001), np.log10(10), 200))\n",
    "plt.gca().set_xscale(\"log\")\n",
    "plt.gca().set_yscale(\"log\")\n",
    "plt.xlabel(\"Energía (MeV)\")\n",
    "plt.ylabel('Nº de neutrones')\n",
    "plt.title(\"Neutrones generados\")\n",
    "plt.show()"
   ]
  },
  {
   "cell_type": "code",
   "execution_count": 7,
   "id": "2dabf3da-08fc-4b20-91b9-e290c7f1b04d",
   "metadata": {},
   "outputs": [
    {
     "data": {
      "image/png": "[encoded data removed]",
      "text/plain": [
       "<Figure size 432x288 with 1 Axes>"
      ]
     },
     "metadata": {
      "needs_background": "light"
     },
     "output_type": "display_data"
    }
   ],
   "source": [
    "# Grafico de los neutrones transmitidos [cant. neutrones/Energia]\n",
    "plt.hist(np.array(transmitidos)/1.e6,bins = 10 ** np.linspace(np.log10(0.001), np.log10(10), 200))\n",
    "plt.gca().set_xscale(\"log\")\n",
    "plt.gca().set_yscale(\"log\")\n",
    "plt.xlabel(\"Energía (MeV)\")\n",
    "plt.ylabel('Nº de neutrones')\n",
    "plt.title(\"Neutrones transmitidos\")\n",
    "plt.show()\n",
    "\n"
   ]
  },
  {
   "cell_type": "markdown",
   "id": "28377940-cad2-4284-bce6-acb3bb6cd382",
   "metadata": {},
   "source": [
    "  "
   ]
  }
 ],
 "metadata": {
  "kernelspec": {
   "display_name": "Modelizacion",
   "language": "python",
   "name": "modelizacion"
  },
  "language_info": {
   "codemirror_mode": {
    "name": "ipython",
    "version": 3
   },
   "file_extension": ".py",
   "mimetype": "text/x-python",
   "name": "python",
   "nbconvert_exporter": "python",
   "pygments_lexer": "ipython3",
   "version": "3.9.12"
  }
 },
 "nbformat": 4,
 "nbformat_minor": 5
}
