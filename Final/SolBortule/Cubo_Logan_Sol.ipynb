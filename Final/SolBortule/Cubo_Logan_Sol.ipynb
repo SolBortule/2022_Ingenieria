{
 "cells": [
  {
   "cell_type": "code",
   "execution_count": 1,
   "id": "0aaea28f-d0ad-404f-9c50-29012c0ff0cf",
   "metadata": {},
   "outputs": [],
   "source": [
    "import gmsh\n",
    "import numpy as np\n",
    "import FuncionesMEF3D as M3D"
   ]
  },
  {
   "cell_type": "code",
   "execution_count": 2,
   "id": "c42d81c6-7d69-43d9-82d1-2741a0265c13",
   "metadata": {},
   "outputs": [],
   "source": [
    "gmsh.initialize()\n",
    "gmsh.model.add('Cubo Prueba')"
   ]
  },
  {
   "cell_type": "code",
   "execution_count": 3,
   "id": "9312b792-eedd-4649-9430-c48b4115d592",
   "metadata": {},
   "outputs": [],
   "source": [
    "L=1 #m\n",
    "lc=L\n",
    "nu=0.3\n",
    "E=210e9 #Pa\n",
    "\n",
    "p1 = gmsh.model.geo.addPoint(0, 0, 0, lc)\n",
    "p2 = gmsh.model.geo.addPoint(L, 0, 0, lc)\n",
    "p3 = gmsh.model.geo.addPoint(L, L, 0, lc)\n",
    "p4 = gmsh.model.geo.addPoint(0, L, 0, lc)\n",
    "\n",
    "l1 = gmsh.model.geo.addLine(p1, p2)\n",
    "l2 = gmsh.model.geo.addLine(p2, p3)\n",
    "l3 = gmsh.model.geo.addLine(p3, p4)\n",
    "l4 = gmsh.model.geo.addLine(p4, p1)\n",
    "\n",
    "C = gmsh.model.geo.addCurveLoop([l1,l2,l3,l4])\n",
    "\n",
    "S = gmsh.model.geo.addPlaneSurface([C])\n",
    "\n",
    "V_cubo = gmsh.model.geo.extrude([(2,S)],0,0,L)\n",
    "\n",
    "gmsh.model.geo.synchronize()\n",
    "\n",
    "gmsh.model.mesh.generate(dim=3)\n",
    "gmsh.model.geo.synchronize()\n",
    "# gmsh.fltk.run()"
   ]
  },
  {
   "cell_type": "code",
   "execution_count": 4,
   "id": "4a7f5aea-322e-4d51-856e-c454884f16aa",
   "metadata": {},
   "outputs": [],
   "source": [
    "NodeInfo = gmsh.model.mesh.get_nodes() #saco un objeto con todos los nodos. array uno etiquetas que asigna a los nodos, empieza con 1 y no con 0.\n",
    "NN = NodeInfo[0].shape[0] #numero de nodos es la cantidad de elementos uqe tengo en el primer array\n",
    "NN_Tags = NodeInfo[0]-1 #Los Tags de los nodos los pongo en numeración python.\n",
    "MN = NodeInfo[1].reshape(NN,3)\n",
    "\n",
    "E_Tags, MC_Flatten = gmsh.model.mesh.get_elements_by_type(4) #dame los tags (numero de elementos) del tipo 4 (tetrahedros) la MC flatten.\n",
    "NNXE=4\n",
    "NE=E_Tags.shape[0]\n",
    "MC=MC_Flatten.reshape(NE,4)\n",
    "MC=MC-np.ones(MC.shape)#Lo dejo en numeración python"
   ]
  },
  {
   "cell_type": "code",
   "execution_count": 5,
   "id": "eb50e4a9-5fb8-4d06-9af4-837b6c6e0336",
   "metadata": {},
   "outputs": [
    {
     "data": {
      "text/plain": [
       "24"
      ]
     },
     "execution_count": 5,
     "metadata": {},
     "output_type": "execute_result"
    }
   ],
   "source": [
    "NE"
   ]
  },
  {
   "cell_type": "markdown",
   "id": "b2c69e48-4c2b-4b56-a3a8-032c51bc5870",
   "metadata": {},
   "source": [
    "Para calcular los desplazamientos u(x,y,z) debo conocer V, alpha_i,beta_i, gamma_i y delta_i (i=1,2,3,4) según la ecuacion:\n",
    "\n",
    "11.2.3\n",
    "\n",
    "Análogamente, se obtienen v(x,y,z) y w(x,y,z)"
   ]
  },
  {
   "cell_type": "markdown",
   "id": "819b4599-e76a-4193-bf6f-6b6c09e2f4aa",
   "metadata": {},
   "source": [
    "Para obtener 6V se evalua el determinante:\n",
    "\n",
    "11.2.4\n",
    "\n",
    "donde xi,yi,zi , i=1,2,3,4\n",
    "son las coordenadas del nodo i. Como el Volumen de todos los tetraedros es iguales, me fijo para el primer elemento los nodos que lo componen (MC) y para esos nodos busco sus posiciones (MN).\n"
   ]
  },
  {
   "cell_type": "code",
   "execution_count": 6,
   "id": "dd1d4323-cad9-4135-a113-c9f9a4fae14c",
   "metadata": {},
   "outputs": [],
   "source": [
    "def k_elemental_3D(MN, MC, nu, E, elemento):\n",
    "    \n",
    "    Fila_MC = MC[elemento, :].astype(int)\n",
    "    x1, y1, z1= MN[Fila_MC[0]][0], MN[Fila_MC[0]][1], MN[Fila_MC[0]][2]\n",
    "    x2, y2, z2= MN[Fila_MC[1]][0], MN[Fila_MC[1]][1], MN[Fila_MC[1]][2]\n",
    "    x3, y3, z3= MN[Fila_MC[2]][0], MN[Fila_MC[2]][1], MN[Fila_MC[2]][2]\n",
    "    x4, y4, z4= MN[Fila_MC[3]][0], MN[Fila_MC[3]][1], MN[Fila_MC[3]][2]\n",
    "\n",
    "    SeisV=np.array([[1,x1,y1,z1],\n",
    "                    [1,x2,y2,z2],\n",
    "                    [1,x3,y3,z3],\n",
    "                    [1,x4,y4,z4]]) #Es el determinante de esto 6V.\n",
    "    \n",
    "    V=np.linalg.det(SeisV)/6\n",
    "\n",
    "    D=np.array([[1-nu,nu,nu,0,0,0],\n",
    "       [nu,1-nu,nu,0,0,0],\n",
    "       [nu,nu,1-nu,0,0,0],\n",
    "       [0,0,0,(1-2*nu)/2,0,0],\n",
    "       [0,0,0,0,(1-2*nu)/2,0],\n",
    "       [0,0,0,0,0,(1-2*nu)/2]])*(E/((1+nu)*(1-2*nu)))\n",
    "    \n",
    "    Coeficientes=np.zeros((4,4))\n",
    "    for i in range(4):\n",
    "        for j in range(4):\n",
    "            Coeficientes[i, j]=M3D.Menores_Det(SeisV, i, j)\n",
    "\n",
    "    alpha1 = Coeficientes[0,0]\n",
    "    alpha2 = -Coeficientes[1,0]\n",
    "    alpha3 = Coeficientes[2,0]\n",
    "    alpha4 = -Coeficientes[3,0]\n",
    "\n",
    "    beta1 = -Coeficientes[0,1]\n",
    "    beta2 = Coeficientes[1,1]\n",
    "    beta3 = -Coeficientes[2,1]\n",
    "    beta4 = Coeficientes[3,1]\n",
    "\n",
    "    gamma1 = Coeficientes[0,2]\n",
    "    gamma2 = -Coeficientes[1,2]\n",
    "    gamma3 = Coeficientes[2,2]\n",
    "    gamma4 = -Coeficientes[3,2]\n",
    "\n",
    "    delta1 = -Coeficientes[0,3]\n",
    "    delta2 = Coeficientes[1,3]\n",
    "    delta3 = -Coeficientes[2,3]\n",
    "    delta4 = Coeficientes[3,3]\n",
    "\n",
    "    B1=np.array([[beta1,0,0],\n",
    "                 [0,gamma1,0],\n",
    "                 [0,0,delta1],\n",
    "                 [gamma1,beta1,0],\n",
    "                 [0,delta1,gamma1],\n",
    "                 [delta1,0,beta1]])\n",
    "\n",
    "    B2=np.array([[beta2,0,0],\n",
    "                 [0,gamma2,0],\n",
    "                 [0,0,delta2],\n",
    "                 [gamma2,beta2,0],\n",
    "                 [0,delta2,gamma2],\n",
    "                 [delta2,0,beta2]])\n",
    "\n",
    "    B3=np.array([[beta3,0,0],\n",
    "                 [0,gamma3,0],\n",
    "                 [0,0,delta3],\n",
    "                 [gamma3,beta3,0],\n",
    "                 [0,delta3,gamma3],\n",
    "                 [delta3,0,beta3]])\n",
    "\n",
    "    B4=np.array([[beta4,0,0],\n",
    "                 [0,gamma4,0],\n",
    "                 [0,0,delta4],\n",
    "                 [gamma4,beta4,0],\n",
    "                 [0,delta4,gamma4],\n",
    "                 [delta4,0,beta4]])\n",
    "\n",
    "    B=np.hstack([B1,B2,B3,B4])/(6*V)\n",
    "    Kel=np.transpose(B).dot(D.dot(B))*np.abs(V) #agregué el modulo dividiendo Kel\n",
    "    # print(Kel)\n",
    "    return Kel, D, B"
   ]
  },
  {
   "cell_type": "code",
   "execution_count": 8,
   "id": "ff804a85-4798-4ef0-8d36-76b5afe8c875",
   "metadata": {},
   "outputs": [],
   "source": [
    "GLXN = 3\n",
    "for e in range(NE):\n",
    "    Kel, D, B = M3D.k_elemental_3D(MN, MC, nu, E, e)\n",
    "    K = M3D.Ensamblado_Matriz_Global(MN, MC, Kel, GLXN)"
   ]
  },
  {
   "cell_type": "code",
   "execution_count": 9,
   "id": "85eaffec-b8e5-43fc-9ce1-8fde26ae7a51",
   "metadata": {},
   "outputs": [],
   "source": [
    "Traccionado_PG = gmsh.model.addPhysicalGroup(2, [26])\n",
    "gmsh.model.geo.synchronize()"
   ]
  },
  {
   "cell_type": "code",
   "execution_count": 10,
   "id": "b1db3504-fbde-4434-b077-e0a99b9ce078",
   "metadata": {},
   "outputs": [],
   "source": [
    "# gmsh.fltk.run()"
   ]
  },
  {
   "cell_type": "markdown",
   "id": "e1e234eb-ddb7-493a-b603-c78ec4594adb",
   "metadata": {},
   "source": [
    "Pruebo solicitando el cubo a traccion"
   ]
  },
  {
   "cell_type": "code",
   "execution_count": null,
   "id": "43924364-1b63-4cd8-a86b-cb21a38b0148",
   "metadata": {},
   "outputs": [],
   "source": []
  },
  {
   "cell_type": "code",
   "execution_count": 11,
   "id": "ea133892-f52c-4a9f-8e47-cb402bf45384",
   "metadata": {},
   "outputs": [
    {
     "name": "stdout",
     "output_type": "stream",
     "text": [
      "nodos:  14 17 41\n",
      "nodos:  23 14 41\n",
      "nodos:  17 20 41\n",
      "nodos:  20 23 41\n"
     ]
    }
   ],
   "source": [
    "EntidadTraccionado=gmsh.model.getEntitiesForPhysicalGroup(2,Traccionado_PG)\n",
    "ETypesTraccionado, ETagsTraccionado, NodeTagsTraccionado = gmsh.model.mesh.getElements(2,EntidadTraccionado[0]) \n",
    "NElementosTraccionados=len(ETagsTraccionado[0])\n",
    "MC_T=NodeTagsTraccionado[0].reshape(NElementosTraccionados,GLXN)-1\n",
    "\n",
    "\n",
    "s=(np.array([1,2,3,4,9])-1)*GLXN+2\n",
    "Us=np.zeros_like(s)\n",
    "r = np.array([i for i in range(NN*GLXN) if i not in s])\n",
    "Fr=np.zeros_like(r).astype(float)\n",
    "Tension=100\n",
    "\n",
    "for eT in range(NElementosTraccionados):\n",
    "    n1=MC_T[eT,0].astype(int)\n",
    "    n2=MC_T[eT,1].astype(int)\n",
    "    n3=MC_T[eT,2].astype(int)\n",
    "#Aca saque en A el np.abs()\n",
    "    A= (1/2)*np.linalg.det(np.array([ [MN[n1,0] ,MN[n1,1], 1], \n",
    "                                             [MN[n2,0] ,MN[n2,1], 1], \n",
    "                                             [MN[n3,0] ,MN[n3,1], 1]]))\n",
    "    print('nodos: ', n1*GLXN+2, n2*GLXN+2, n3*GLXN+2)\n",
    "    Fr[r==n1*GLXN+2] += Tension * A / 3\n",
    "    Fr[r==n2*GLXN+2] += Tension * A / 3\n",
    "    Fr[r==n3*GLXN+2] += Tension * A / 3"
   ]
  },
  {
   "cell_type": "code",
   "execution_count": 12,
   "id": "a7173691",
   "metadata": {},
   "outputs": [
    {
     "name": "stdout",
     "output_type": "stream",
     "text": [
      "[ 2  5  8 11 26]\n",
      "[ 0  1  3  4  6  7  9 10 12 13 14 15 16 17 18 19 20 21 22 23 24 25 27 28\n",
      " 29 30 31 32 33 34 35 36 37 38 39 40 41]\n",
      "[ 0.          0.          0.          0.          0.          0.\n",
      "  0.          0.          0.          0.         16.66666667  0.\n",
      "  0.         16.66666667  0.          0.         16.66666667  0.\n",
      "  0.         16.66666667  0.          0.          0.          0.\n",
      "  0.          0.          0.          0.          0.          0.\n",
      "  0.          0.          0.          0.          0.          0.\n",
      " 33.33333333]\n"
     ]
    }
   ],
   "source": [
    "# 4 5 6 7 13\n",
    "print(s)\n",
    "print(r)\n",
    "print(Fr.flatten())"
   ]
  },
  {
   "cell_type": "code",
   "execution_count": 13,
   "id": "2c67ca72-05a0-4bd4-b903-b122d276a230",
   "metadata": {},
   "outputs": [],
   "source": [
    "U,F=M3D.solve(K,s,r,Us,Fr)"
   ]
  },
  {
   "cell_type": "code",
   "execution_count": 14,
   "id": "70ca322b-50f2-4782-872f-8b4eea68e4b4",
   "metadata": {},
   "outputs": [],
   "source": [
    "U3D = U.reshape(NN,GLXN)"
   ]
  },
  {
   "cell_type": "code",
   "execution_count": 15,
   "id": "4b8d55e3-a194-47c4-98df-082bb1d14ef0",
   "metadata": {},
   "outputs": [],
   "source": [
    "strains = gmsh.view.add(\"Desplazamientos\")\n",
    "# por algun motivo le faltaba sumar 1 a nodeinfo\n",
    "strain_model_data = gmsh.view.addModelData(strains, 0, 'Cubo Prueba', 'NodeData', NodeInfo[0], U3D, numComponents=3)\n",
    "gmsh.option.setNumber(f'View[{strains}].VectorType',5)\n",
    "\n",
    "F3D = F.reshape(NN,GLXN)\n",
    "\n",
    "forces = gmsh.view.add('forces')\n",
    "# por algun motivo le faltaba sumar 1 a nodeinfo\n",
    "forces_model_data = gmsh.view.addModelData(forces, 0, 'Cubo Prueba','NodeData',NodeInfo[0], F3D, numComponents=3)\n",
    "gmsh.option.setNumber(f'View[{forces}].VectorType',4)\n",
    "gmsh.option.setNumber(f'View[{forces}].GlyphLocation',2)\n",
    "# gmsh.fltk.run()\n",
    "\n",
    "gmsh.fltk.run()"
   ]
  }
 ],
 "metadata": {
  "kernelspec": {
   "display_name": "Python 3 (ipykernel)",
   "language": "python",
   "name": "python3"
  },
  "language_info": {
   "codemirror_mode": {
    "name": "ipython",
    "version": 3
   },
   "file_extension": ".py",
   "mimetype": "text/x-python",
   "name": "python",
   "nbconvert_exporter": "python",
   "pygments_lexer": "ipython3",
   "version": "3.9.10"
  }
 },
 "nbformat": 4,
 "nbformat_minor": 5
}
