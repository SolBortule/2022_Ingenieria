{
 "cells": [
  {
   "cell_type": "code",
   "execution_count": 1,
   "id": "c593c4bb",
   "metadata": {},
   "outputs": [],
   "source": [
    "# Importo las librerías Necesarias \n",
    "import numpy as np # Importo algebra Lineal\n",
    "import matplotlib.pyplot as plt # Importo librería de gráficos\n",
    "import math\n",
    "import gmsh #Importo gmsh\n",
    "from scipy import linalg\n",
    "from tqdm.auto import tqdm # Para ir indicando el progreso de las iteraciones y tener un estimado del tiempo de demora\n",
    "plt.rc('figure', figsize=(10,5))   # Para gráficos\n",
    "plt.rc('font', size=15)             # Para gráficos"
   ]
  },
  {
   "cell_type": "markdown",
   "id": "68db3fd2",
   "metadata": {
    "tags": []
   },
   "source": [
    "### Desarrollo"
   ]
  },
  {
   "cell_type": "markdown",
   "id": "687a8c09",
   "metadata": {
    "tags": []
   },
   "source": [
    "#### Armo modelo"
   ]
  },
  {
   "cell_type": "code",
   "execution_count": 2,
   "id": "dafce4f0",
   "metadata": {},
   "outputs": [],
   "source": [
    "gmsh.initialize() # Inicio el gmsh"
   ]
  },
  {
   "cell_type": "code",
   "execution_count": 3,
   "id": "69829289",
   "metadata": {},
   "outputs": [],
   "source": [
    "gmsh.model.add('Final') # Nombro el modelo"
   ]
  },
  {
   "cell_type": "code",
   "execution_count": 4,
   "id": "d036cb6a",
   "metadata": {},
   "outputs": [],
   "source": [
    "#Datos\n",
    "\n",
    "L = 0.1 #m\n",
    "rmax = 0.032 #m\n",
    "rmin = 0.025 #m\n",
    "pestaña = 0.003 #m\n",
    "Conduc = 187.25 #W/m°C Conductividad\n",
    "Cesp = 477 #J/kg°C  Calor especifico\n",
    "Densidad = 7850 #kg/m^3  Densidad del acero\n",
    "Espesor = 0.0001 #m\n",
    "Tprob = 900 #°C Temperatura de la probeta a la salida del horno\n",
    "Ttemple = 25 #°C Temperatura del agua de temple\n",
    "\n",
    "#Densidad de triangulos en el modelo\n",
    "lc = 0.002"
   ]
  },
  {
   "cell_type": "code",
   "execution_count": 5,
   "id": "468c7359",
   "metadata": {},
   "outputs": [],
   "source": [
    "# Definimos las coordenadas de los puntos\n",
    "\n",
    "p1 = gmsh.model.geo.addPoint(       0,      0, 0, lc)\n",
    "p2 = gmsh.model.geo.addPoint(       0, rmax/2, 0, lc)\n",
    "p3 = gmsh.model.geo.addPoint( pestaña, rmax/2, 0, lc)\n",
    "p4 = gmsh.model.geo.addPoint( pestaña, rmin/2, 0, lc)\n",
    "p5 = gmsh.model.geo.addPoint(       L, rmin/2, 0, lc)\n",
    "p6 = gmsh.model.geo.addPoint(       L,      0, 0, lc)"
   ]
  },
  {
   "cell_type": "code",
   "execution_count": 6,
   "id": "a4d339ec",
   "metadata": {},
   "outputs": [],
   "source": [
    "# Definimos las lineas\n",
    "\n",
    "l1 = gmsh.model.geo.addLine(p1, p2)\n",
    "l2 = gmsh.model.geo.addLine(p2, p3)\n",
    "l3 = gmsh.model.geo.addLine(p3, p4)\n",
    "l4 = gmsh.model.geo.addLine(p4, p5)\n",
    "l5 = gmsh.model.geo.addLine(p5, p6)\n",
    "l6 = gmsh.model.geo.addLine(p6, p1)"
   ]
  },
  {
   "cell_type": "code",
   "execution_count": 7,
   "id": "13904227",
   "metadata": {},
   "outputs": [],
   "source": [
    "# Las curvas nos van a servir para definir los bordes de nuestro modelo\n",
    "C1 = gmsh.model.geo.addCurveLoop([l1, l2, l3, l4, l5, l6])\n",
    "\n",
    "# y la superficie\n",
    "S1 = gmsh.model.geo.addPlaneSurface([C1])"
   ]
  },
  {
   "cell_type": "code",
   "execution_count": 8,
   "id": "ecd87827",
   "metadata": {},
   "outputs": [],
   "source": [
    "gmsh.model.geo.synchronize()"
   ]
  },
  {
   "cell_type": "code",
   "execution_count": 9,
   "id": "3271de00",
   "metadata": {},
   "outputs": [],
   "source": [
    "# Defino los grupos fisicos\n",
    "Templado = gmsh.model.addPhysicalGroup(1, [l5])\n",
    "gmsh.model.setPhysicalName(1, Templado, 'Templado')\n",
    "\n",
    "Superficie = gmsh.model.addPhysicalGroup(2, [S1])\n",
    "gmsh.model.setPhysicalName(2, Superficie, 'Superficie')\n",
    "gmsh.model.mesh.generate(2)"
   ]
  },
  {
   "cell_type": "code",
   "execution_count": 10,
   "id": "749db3e9",
   "metadata": {},
   "outputs": [],
   "source": [
    "# Generamos el mallado\n",
    "gmsh.model.mesh.generate(2) # El 2 indica la dimensión"
   ]
  },
  {
   "cell_type": "code",
   "execution_count": 11,
   "id": "f69e84ea",
   "metadata": {},
   "outputs": [],
   "source": [
    "# Vista del mallado\n",
    "gmsh.fltk.run()"
   ]
  },
  {
   "cell_type": "markdown",
   "id": "28b423d9",
   "metadata": {
    "tags": []
   },
   "source": [
    "#### Selección de datos"
   ]
  },
  {
   "cell_type": "code",
   "execution_count": 12,
   "id": "81f2ac9e",
   "metadata": {},
   "outputs": [],
   "source": [
    "# Obtengo información sobre los nodos del mallado\n",
    "\n",
    "NodeInfo = gmsh.model.mesh.get_nodes() # Información de los nodos\n",
    "n_nodos = NodeInfo[0].shape[0] # Cantidad de nodos\n",
    "MN = NodeInfo[1].reshape(n_nodos, 3) # Matriz de nodos (con eje Z)"
   ]
  },
  {
   "cell_type": "code",
   "execution_count": 13,
   "id": "6ce84b65",
   "metadata": {},
   "outputs": [],
   "source": [
    "# Obtengo información sobre los elementos del mallado\n",
    "\n",
    "E_etiq, Elementos = gmsh.model.mesh.get_elements_by_type(2) #El 2 es por elementos del tipo 2 (superficiales)\n",
    "n_element = E_etiq.shape[0] # Cantidad de elementos\n",
    "n_nxe = 3 #Número de nodos por elemento\n",
    "MC = Elementos.reshape(n_element, n_nxe) # Matriz de conectividad\n",
    "MC = MC - np.ones([n_element, n_nxe]) # Resto 1 para acomodar a lenguaje PYTHON.\n",
    "MC = MC.astype(int) # Los cambio a dato tipo integer"
   ]
  },
  {
   "cell_type": "markdown",
   "id": "4907ad61",
   "metadata": {
    "tags": []
   },
   "source": [
    "#### Armado de matrices"
   ]
  },
  {
   "cell_type": "code",
   "execution_count": 14,
   "id": "6fac99f6",
   "metadata": {},
   "outputs": [],
   "source": [
    "Ke = np.zeros((n_nxe, n_nxe)) # Matriz de rigidez elemental\n",
    "Kg = np.zeros([len(MN), len(MN)]) # Matriz de rigidez global\n",
    "Ce = np.array([[2, 1, 1], # Matriz de capacitancia elemental\n",
    "               [1, 2, 1],\n",
    "               [1, 1, 2]]) \n",
    "Cg = np.zeros([len(MN), len(MN)]) # Matriz de capacitancia global\n",
    "for i in range(len(MC)):\n",
    "    \n",
    "    # Calculo Área\n",
    "    Xi = MN[MC[i, 0], 0]\n",
    "    Yi = MN[MC[i, 0], 1]\n",
    "    Xj = MN[MC[i, 1], 0]\n",
    "    Yj = MN[MC[i, 1], 1]\n",
    "    Xk = MN[MC[i, 2], 0]\n",
    "    Yk = MN[MC[i, 2], 1]\n",
    "    A = np.abs((1/2)*np.linalg.det([[1, Xi, Yi],\n",
    "                                    [1, Xj, Yj],\n",
    "                                    [1, Xk, Yk]]))\n",
    "    \n",
    "    # Calculo Ke\n",
    "    Ke[0, 0] = (Yj-Yk)**2 + (Xk-Xj)**2\n",
    "    Ke[1, 1] = (Yk-Yi)**2 + (Xi-Xk)**2\n",
    "    Ke[2, 2] = (Yi-Yj)**2 + (Xj-Xi)**2\n",
    "    Ke[0, 1] = (Yj-Yk)*(Yk-Yi) + (Xk-Xj)*(Xi-Xk)\n",
    "    Ke[1, 0] = Ke[0, 1] # Por simetria\n",
    "    Ke[0, 2] = (Yj-Yk)*(Yi-Yj)+(Xk-Xj)*(Xj-Xi)\n",
    "    Ke[2, 0] = Ke[0, 2] # Por simetria\n",
    "    Ke[1, 2] = (Yk-Yi)*(Yi-Yj)+(Xi-Xk)*(Xj-Xi)\n",
    "    Ke[2, 1] = Ke[1, 2] # Por simetria\n",
    "\n",
    "    Ke = (Conduc*Espesor)/(4*A)*Ke\n",
    "\n",
    "    # Calculo Kg y Cg\n",
    "    n, m, l = MC[i, :]\n",
    "    aux = np.array([n, m, l]) # Indices\n",
    "    Kg[np.ix_(aux, aux)] += Ke\n",
    "    Cg[np.ix_(aux, aux)] += (1/6)*Ce*Cesp*Densidad*Espesor*A"
   ]
  },
  {
   "cell_type": "markdown",
   "id": "abb172ec",
   "metadata": {
    "tags": []
   },
   "source": [
    "#### Condiciones de contorno"
   ]
  },
  {
   "cell_type": "code",
   "execution_count": 15,
   "id": "de588714",
   "metadata": {},
   "outputs": [],
   "source": [
    "n_Templado = gmsh.model.mesh.get_nodes_for_physical_group(1, Templado)\n",
    "S = n_Templado[0].astype(int)-1 # Los nodos en el extremo templano tendran una T fija\n",
    "R = np.array([i for i in range(n_nodos) if i not in S]) # Complemento de S"
   ]
  },
  {
   "cell_type": "markdown",
   "id": "bff76b58",
   "metadata": {
    "tags": []
   },
   "source": [
    "#### Solución"
   ]
  },
  {
   "cell_type": "code",
   "execution_count": 16,
   "id": "a3514e25",
   "metadata": {},
   "outputs": [
    {
     "data": {
      "application/vnd.jupyter.widget-view+json": {
       "model_id": "cb6aa20818414adf8ffedcb511c7fe62",
       "version_major": 2,
       "version_minor": 0
      },
      "text/plain": [
       "  0%|          | 0/19999 [00:00<?, ?it/s]"
      ]
     },
     "metadata": {},
     "output_type": "display_data"
    }
   ],
   "source": [
    "To = np.zeros((len(MN), 1)) # To contendra las temperaturas iniciales de todos los nodos\n",
    "To[S] = Ttemple # Los nodos del extremo templado tendran una T fija igual a la de temple\n",
    "To[R] = Tprob # El resto de los nodos empezara con una T igual al de la probeta salida del horno\n",
    "tmax = 700 # Tiempo maximo a evaluar mdfcomment: no puedo esperar tanto, tengo sueño.\n",
    "dt = 0.005 # Tiempo entre calculos\n",
    "n = int(tmax/dt)\n",
    "MT = np.zeros((n, len(MN))) # Matriz de temperaturas de todos los nodos a lo largo del tiempo\n",
    "MT[0, :] = To.reshape(1, -1)\n",
    "progress = tqdm(range(n-1))\n",
    "for i in progress:\n",
    "    # Calculo la teperatura para el siguiente tiempo\n",
    "    aux = np.dot(Kg[np.ix_(R, R)], To[R])+np.dot(Kg[np.ix_(R, S)], To[S])\n",
    "    Tnext = To[R]-dt*(np.dot(np.linalg.inv(Cg[np.ix_(R, R)]), aux))\n",
    "    \n",
    "    # Completo en la matriz de temperaturas\n",
    "    MT[i+1, [S]] = To[S].reshape(1, -1)\n",
    "    MT[i+1, [R]] = Tnext.reshape(1, -1)\n",
    "    \n",
    "    # Mi nuevo To sera la ultima temperatura calculada para cada nodo\n",
    "    To = MT[i+1, :]"
   ]
  },
  {
   "cell_type": "markdown",
   "id": "331b57e7",
   "metadata": {
    "tags": []
   },
   "source": [
    "#### Grafico la evolución de la temperatura para ciertas distancias de la probeta"
   ]
  },
  {
   "cell_type": "code",
   "execution_count": 17,
   "id": "65ccb371",
   "metadata": {},
   "outputs": [
    {
     "data": {
      "text/plain": [
       "<matplotlib.legend.Legend at 0x2bbde57be20>"
      ]
     },
     "execution_count": 17,
     "metadata": {},
     "output_type": "execute_result"
    },
    {
     "data": {
      "image/png": "[encoded data removed]",
      "text/plain": [
       "<Figure size 720x360 with 1 Axes>"
      ]
     },
     "metadata": {
      "needs_background": "light"
     },
     "output_type": "display_data"
    }
   ],
   "source": [
    "# Son Distancias de referencia en los extremos y centro de la probeta\n",
    "T1 = MT[:, 0]\n",
    "T2 = MT[:, 40]\n",
    "T3 = MT[:, 50]\n",
    "T4 = MT[:, 75]\n",
    "T5 = MT[:, 60]\n",
    "T6 = MT[:, 62]\n",
    "T7 = MT[:, 4]\n",
    "t = np.arange(len(T1))*dt\n",
    "\n",
    "plt.ion()\n",
    "plt.plot(t, T1, t, T2, t, T3, t, T4, t, T5, t, T6, t, T7)\n",
    "plt.xscale(\"log\")\n",
    "plt.title(\"Temperatura Vs. Tiempo\", fontsize = 18)\n",
    "plt.xlabel(\"Tiempo [s]\", fontsize = 18)\n",
    "plt.ylabel(\"Temperatura [°C]\", fontsize = 18)\n",
    "plt.xlim(10E-2, 10E2)\n",
    "plt.legend([str(round(100-MN[0][0]*1000, 2))+' mm', str(round(100-MN[40][0]*1000, 2))+' mm', str(round(100-MN[50][0]*1000, 2))+' mm', str(round(100-MN[75][0]*1000, 2))+' mm', str(round(100-MN[60][0]*1000, 2))+' mm', str(round(100-MN[62][0]*1000, 2))+' mm', str(round(100-MN[4][0]*1000, 2))+' mm'],bbox_to_anchor=(0.5, 0.5), loc = 'center right', fontsize = 10)"
   ]
  },
  {
   "cell_type": "markdown",
   "id": "0d3db7c2",
   "metadata": {
    "tags": []
   },
   "source": [
    "#### Vista en gmsh"
   ]
  },
  {
   "cell_type": "code",
   "execution_count": 18,
   "id": "6621e7e6",
   "metadata": {},
   "outputs": [
    {
     "data": {
      "application/vnd.jupyter.widget-view+json": {
       "model_id": "ee2d588bb4b041c688a6c4b885097e33",
       "version_major": 2,
       "version_minor": 0
      },
      "text/plain": [
       "  0%|          | 0/20000 [00:00<?, ?it/s]"
      ]
     },
     "metadata": {},
     "output_type": "display_data"
    }
   ],
   "source": [
    "# Calculo la temperatura de cada elemento a lo largo del tiempo\n",
    "MET = np.zeros([len(MT[:, 0]), n_element]) # Matriz de T de los elementos a lo largo del tiempo\n",
    "progress = tqdm(range(len(MT[:, 0])))\n",
    "for i in progress: # Como tengo la T en los nodos, calculo un aproximado de la T de los elementos promediando\n",
    "    for j in range(n_element):\n",
    "        n, m, l = MC[j, :]\n",
    "        MET[i, j] = (MT[i, n]+MT[i, m]+MT[i, l])/3"
   ]
  },
  {
   "cell_type": "code",
   "execution_count": 19,
   "id": "1e65fc26",
   "metadata": {},
   "outputs": [],
   "source": [
    "# Guardo las vistas de las distribuciones de temperatura de los elementos para cada tiempo (logaritmicamente) para visualizar su avance en un video\n",
    "TEMPE = []\n",
    "tempe = gmsh.view.add('Temperatura (°C) (Elementos)')\n",
    "t_log = (np.logspace(0, np.log10(len(MET)), int(len(MET)/100))-1).astype(int)\n",
    "for i in t_log:\n",
    "    TEMPE.append(\n",
    "        gmsh.view.addModelData(tempe, i, 'Final', 'ElementData', E_etiq, MET[i, :].reshape([-1, 1]), time = dt*i, numComponents = 1)\n",
    "        )"
   ]
  },
  {
   "cell_type": "code",
   "execution_count": 20,
   "id": "3a3d1b56-90ec-42ea-a642-2f35648130fd",
   "metadata": {},
   "outputs": [],
   "source": [
    "# Guardo las vistas de las distribuciones de temperatura de los nodos para cada tiempo (logaritmicamente) para visualizar su avance en un video\n",
    "TEMPN = []\n",
    "tempn = gmsh.view.add('Temperatura (°C) (nodos)')\n",
    "t_log = (np.logspace(0, np.log10(len(MT)), int(len(MT)/100))-1).astype(int)\n",
    "for i in t_log:\n",
    "    TEMPN.append(\n",
    "        gmsh.view.addModelData(tempn, i, 'Final', 'NodeData', NodeInfo[0], MT[i, :].reshape([-1, 1]), time = dt*i, numComponents = 1) \n",
    "    )"
   ]
  },
  {
   "cell_type": "code",
   "execution_count": 21,
   "id": "54dceeed",
   "metadata": {},
   "outputs": [],
   "source": [
    "#Actualizo y grafico\n",
    "gmsh.model.geo.synchronize()\n",
    "gmsh.view.write(tempn, 'temperaturasnodales.msh')\n",
    "gmsh.view.write(tempe, 'temperaturasnodales.msh')"
   ]
  },
  {
   "cell_type": "code",
   "execution_count": 22,
   "id": "bb5dfa83",
   "metadata": {},
   "outputs": [],
   "source": [
    "gmsh.fltk.run()"
   ]
  },
  {
   "cell_type": "code",
   "execution_count": 23,
   "id": "af9aaee8",
   "metadata": {},
   "outputs": [],
   "source": [
    "gmsh.view.write(tempn, 'temperaturasnodales.html')"
   ]
  },
  {
   "cell_type": "markdown",
   "id": "212fc6fc",
   "metadata": {
    "tags": []
   },
   "source": [
    "#### Imagenes del gmsh para diferentes tiempos"
   ]
  },
  {
   "cell_type": "markdown",
   "id": "51fd11f1",
   "metadata": {},
   "source": [
    "Distribución de temperatura en la probeta a los $ 0.1 segundos $\n",
    "<center><img src=\"Probeta_0.1s.png\"></center>"
   ]
  },
  {
   "cell_type": "markdown",
   "id": "2f538725",
   "metadata": {},
   "source": [
    "Distribución de temperatura en la probeta a los $ 0.5 segundos $\n",
    "<center><img src=\"Probeta_0.5s.png\"></center>"
   ]
  },
  {
   "cell_type": "markdown",
   "id": "76a3b422",
   "metadata": {},
   "source": [
    "Distribución de temperatura en la probeta a los $ 1 segundos $\n",
    "<center><img src=\"Probeta_1s.png\"></center>"
   ]
  },
  {
   "cell_type": "markdown",
   "id": "6347e21f",
   "metadata": {},
   "source": [
    "Distribución de temperatura en la probeta a los $ 2 segundos $\n",
    "<center><img src=\"Probeta_2.5s.png\"></center>"
   ]
  },
  {
   "cell_type": "markdown",
   "id": "744f4522",
   "metadata": {},
   "source": [
    "Distribución de temperatura en la probeta a los $ 5 segundos $\n",
    "<center><img src=\"Probeta_5s.png\"></center>"
   ]
  },
  {
   "cell_type": "markdown",
   "id": "55114f32",
   "metadata": {},
   "source": [
    "Distribución de temperatura en la probeta a los $ 10 segundos $\n",
    "<center><img src=\"Probeta_10s.png\"></center>"
   ]
  },
  {
   "cell_type": "markdown",
   "id": "b8bd2f8e",
   "metadata": {},
   "source": [
    "Distribución de temperatura en la probeta a los $ 25 segundos $\n",
    "<center><img src=\"Probeta_25s.png\"></center>"
   ]
  },
  {
   "cell_type": "markdown",
   "id": "e929763f",
   "metadata": {},
   "source": [
    "Distribución de temperatura en la probeta a los $ 50 segundos $\n",
    "<center><img src=\"Probeta_50s.png\"></center>"
   ]
  },
  {
   "cell_type": "markdown",
   "id": "a060a80a",
   "metadata": {},
   "source": [
    "Distribución de temperatura en la probeta a los $ 100 segundos $\n",
    "<center><img src=\"Probeta_100s.png\"></center>"
   ]
  },
  {
   "cell_type": "markdown",
   "id": "d2569998",
   "metadata": {},
   "source": [
    "Distribución de temperatura en la probeta a los $ 200 segundos $\n",
    "<center><img src=\"Probeta_200s.png\"></center>"
   ]
  },
  {
   "cell_type": "markdown",
   "id": "cfffdc17",
   "metadata": {},
   "source": [
    "Distribución de temperatura en la probeta a los $ 400 segundos $\n",
    "<center><img src=\"Probeta_400s.png\"></center>"
   ]
  },
  {
   "cell_type": "markdown",
   "id": "1c05c782",
   "metadata": {},
   "source": [
    "Distribución de temperatura en la probeta a los $ 600 segundos $\n",
    "<center><img src=\"Probeta_600s.png\"></center>"
   ]
  }
 ],
 "metadata": {
  "kernelspec": {
   "display_name": "Python 3 (ipykernel)",
   "language": "python",
   "name": "python3"
  },
  "language_info": {
   "codemirror_mode": {
    "name": "ipython",
    "version": 3
   },
   "file_extension": ".py",
   "mimetype": "text/x-python",
   "name": "python",
   "nbconvert_exporter": "python",
   "pygments_lexer": "ipython3",
   "version": "3.9.13"
  }
 },
 "nbformat": 4,
 "nbformat_minor": 5
}
