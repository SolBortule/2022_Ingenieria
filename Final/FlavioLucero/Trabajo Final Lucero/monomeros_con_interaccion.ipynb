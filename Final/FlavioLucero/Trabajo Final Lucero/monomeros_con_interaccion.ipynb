{
 "cells": [
  {
   "cell_type": "code",
   "execution_count": 1,
   "metadata": {
    "id": "fxTr0dnf8_LN"
   },
   "outputs": [],
   "source": [
    "import numpy as np\n",
    "from numpy.random import rand\n",
    "import matplotlib.pyplot as plt"
   ]
  },
  {
   "cell_type": "code",
   "execution_count": 2,
   "metadata": {
    "id": "h0bWgoD3m8Om"
   },
   "outputs": [],
   "source": [
    "def termalizar(Terma,Ei,L,mu,T,kb): #hago montecarlo Terma veces para llegar a un seudoequilibrio, esto deberia hacerlo antes de buscar el promedio del recubirmiento para cada potencial \n",
    "    for i in range (Terma):\n",
    "        for j in range (L*L): #montecarlo\n",
    "            L = Ei.shape[0] \n",
    "            M = L*L\n",
    "    \n",
    "            x = np.random.randint(0,L)\n",
    "            y = np.random.randint(0,L)\n",
    "            Epriv = epsi*(Ei[(x-1),y]+Ei[x,(y-1)]+Ei[(x+1)%L,y]+Ei[x,(y+1)%L])\n",
    "            if Ei[x,y] == 1: #intento desorber\n",
    "                p = np.random.rand(1)\n",
    "                Pdes = np.exp((-mu+Epriv)/kb*T)              \n",
    "                if p < (Pdes):\n",
    "                    Ei[x,y]=0\n",
    "              \n",
    " \n",
    "            else: #intento adsorber\n",
    "                p = np.random.rand(1)\n",
    "                Pads = np.exp((mu-Epriv)/kb*T)\n",
    "                if p < (Pads):\n",
    "                    Ei[x,y] = 1\n",
    "            \n",
    " \n",
    "    Efterma = Ei #Estado luego de termalizar\n",
    "\n",
    "    return Efterma"
   ]
  },
  {
   "cell_type": "code",
   "execution_count": 3,
   "metadata": {
    "id": "GiZsLBBx1mtL"
   },
   "outputs": [],
   "source": [
    "def Equilibrio(Equi,Efterma,L,mu,T,kb):\n",
    "    contador=0 #tiene q volver a cero cuando cambio de potencial\n",
    "    recuMS=0 #tiene q volver a cero cuando cambio de pontencial\n",
    "    for i in range (Equi):  \n",
    "        for j in range (L*L): #montecarlo\n",
    "            L = Efterma.shape[0] \n",
    "            M = L*L \n",
    "    \n",
    "            x = np.random.randint(0,L)\n",
    "            y = np.random.randint(0,L)\n",
    "            Epriv = epsi*(Efterma[(x-1),y]+Efterma[x,(y-1)]+Efterma[(x+1)%L,y]+Efterma[x,(y+1)%L])\n",
    "            if Efterma[x,y] == 1: #intento desorber\n",
    "                p = np.random.uniform(0,1)\n",
    "                Pdes = np.exp(-mu+Epriv/kb*T)              \n",
    "                if p < (Pdes):\n",
    "                    Efterma[x,y]=0\n",
    "                \n",
    " \n",
    "            else: #intento adsorber\n",
    "                p = np.random.uniform(0,1)\n",
    "                Pads = np.exp(mu-Epriv/kb*T)\n",
    "                if p < (Pads):\n",
    "                    Efterma[x,y] = 1\n",
    "                    \n",
    "        E_equi=Efterma        \n",
    "        N = np.count_nonzero(E_equi) #numero de particulas adsorbidas por cada i\n",
    "        recuM=N/M #cubrimiento en cada vez q hago montecarlo o sea cada i\n",
    "        \n",
    "        if recuM != 0: #si es distinto de cero junta el recuM en recuMS y suma un contador\n",
    "            recuMS =+ recuM\n",
    "            contador =+ 1\n",
    "        else: \n",
    "            contador = 1 #si no adsorbe nada pongo contador 1 para q no tire error, de todas maneras\n",
    "                         #recuMS va a ser cero todavía, entonces recuP va a ser cero\n",
    "    \n",
    "    \n",
    "    recuP=recuMS/contador #hago el promedio de todos los recubrimientos por cada montecarlo\n",
    "    return recuP,E_equi"
   ]
  },
  {
   "cell_type": "code",
   "execution_count": 4,
   "metadata": {
    "colab": {
     "base_uri": "https://localhost:8080/"
    },
    "id": "5PRyMldC9dQs",
    "outputId": "dcba841e-fd77-4b15-e0d3-c89cb69d44ff"
   },
   "outputs": [
    {
     "name": "stdout",
     "output_type": "stream",
     "text": [
      "CPU times: user 2min 41s, sys: 174 ms, total: 2min 41s\n",
      "Wall time: 2min 41s\n"
     ]
    }
   ],
   "source": [
    "%%time\n",
    "L = 20 #tamaño de la malla LxL\n",
    "mui = -5\n",
    "muf = 10\n",
    "dmu = 1\n",
    "Terma = 1\n",
    "Equi = 1000\n",
    "T=1\n",
    "kb=1\n",
    "Ei = np.zeros((L, L)) #estado incila vacío\n",
    "Potenciales=[]\n",
    "potenciales=np.linspace(-5, 10, 31)\n",
    "\n",
    "Recubrimientoatrac=[]\n",
    "epsi=-0.7\n",
    "for mu in potenciales:\n",
    "    Efterma=termalizar(Terma,Ei,L,mu,T,kb)\n",
    "    recuPa,E_equia=Equilibrio(Equi,Efterma,L,mu,T,kb)\n",
    "    Ei=E_equia\n",
    "    \n",
    "    \n",
    "    Potenciales.append(mu)\n",
    "    Recubrimientoatrac.append(recuPa)\n",
    "\n",
    "Ei = np.zeros((L, L))\n",
    "Recubrimientorepul=[]\n",
    "epsi=1.0 #0.7    \n",
    "for mu in potenciales:\n",
    "    Efterma=termalizar(Terma,Ei,L,mu,T,kb)\n",
    "    recuPr,E_equir=Equilibrio(Equi,Efterma,L,mu,T,kb)\n",
    "    Ei=E_equir\n",
    "    \n",
    "    \n",
    "    \n",
    "    Recubrimientorepul.append(recuPr)  \n"
   ]
  },
  {
   "cell_type": "code",
   "execution_count": 5,
   "metadata": {
    "colab": {
     "base_uri": "https://localhost:8080/",
     "height": 296
    },
    "id": "iNONYSB1OjdE",
    "outputId": "d58a5c92-d28a-441c-f5fb-83cf0c58cd7e"
   },
   "outputs": [
    {
     "data": {
      "image/png": "[encoded data removed]",
      "text/plain": [
       "<Figure size 432x288 with 1 Axes>"
      ]
     },
     "metadata": {
      "needs_background": "light"
     },
     "output_type": "display_data"
    }
   ],
   "source": [
    "plt.plot(Potenciales,Recubrimientorepul, label = 'Interacción repulsiva')\n",
    "plt.plot(Potenciales,Recubrimientoatrac, label = 'Interacción atractiva')\n",
    "plt.title('Isotermas de adsorción')\n",
    "plt.ylabel('Recubrimiento')\n",
    "plt.xlabel('Potencial químico')\n",
    "plt.legend()\n",
    "plt.show()"
   ]
  },
  {
   "cell_type": "code",
   "execution_count": null,
   "metadata": {
    "id": "7aA9spgoPpwh"
   },
   "outputs": [],
   "source": []
  }
 ],
 "metadata": {
  "colab": {
   "collapsed_sections": [],
   "name": "monomeros con interaccion.ipynb",
   "provenance": []
  },
  "kernelspec": {
   "display_name": "Modelizacion",
   "language": "python",
   "name": "modelizacion"
  },
  "language_info": {
   "codemirror_mode": {
    "name": "ipython",
    "version": 3
   },
   "file_extension": ".py",
   "mimetype": "text/x-python",
   "name": "python",
   "nbconvert_exporter": "python",
   "pygments_lexer": "ipython3",
   "version": "3.9.12"
  }
 },
 "nbformat": 4,
 "nbformat_minor": 4
}
