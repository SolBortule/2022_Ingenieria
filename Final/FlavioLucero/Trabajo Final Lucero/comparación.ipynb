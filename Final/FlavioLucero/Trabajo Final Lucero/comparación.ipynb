{
  "cells": [
    {
      "cell_type": "code",
      "execution_count": 1,
      "metadata": {
        "id": "fxTr0dnf8_LN"
      },
      "outputs": [],
      "source": [
        "import numpy as np\n",
        "from numpy.random import rand\n",
        "import matplotlib.pyplot as plt"
      ]
    },
    {
      "cell_type": "code",
      "source": [
        "def Equilibriosin(Equi,Efterma,L,mu,T,kb):\n",
        "    contador=0 #tiene q volver a cero cuando cambio de potencial\n",
        "    recuMS=0 #tiene q volver a cero cuando cambio de pontencial\n",
        "    for i in range (Equi):  \n",
        "        for j in range (L*L): #montecarlo\n",
        "            L = Efterma.shape[0] \n",
        "            M = L*L \n",
        "    \n",
        "            x = np.random.randint(0,L)\n",
        "            y = np.random.randint(0,L)\n",
        "            if Efterma[x,y] == 1: #intento desorber\n",
        "                p = np.random.uniform(0,1)\n",
        "                Pdes = np.exp(-mu/kb*T)              \n",
        "                if p < (Pdes):\n",
        "                    Efterma[x,y]=0\n",
        "                \n",
        " \n",
        "            else: #intento adsorber\n",
        "                p = np.random.uniform(0,1)\n",
        "                Pads = np.exp(mu/kb*T)\n",
        "                if p < (Pads):\n",
        "                    Efterma[x,y] = 1\n",
        "                    \n",
        "        E_equi=Efterma        \n",
        "        N = np.count_nonzero(E_equi) #numero de particulas adsorbidas por cada i\n",
        "        recuM=N/M #cubrimiento en cada vez q hago montecarlo o sea cada i\n",
        "        \n",
        "        if recuM != 0: #si es distinto de cero junta el recuM en recuMS y suma un contador\n",
        "            recuMS =+ recuM\n",
        "            contador =+ 1\n",
        "        else: \n",
        "            contador = 1 #si no adsorbe nada pongo contador 1 para q no tire error, de todas maneras\n",
        "                         #recuMS va a ser cero todavía, entonces recuP va a ser cero\n",
        "    \n",
        "    \n",
        "    recuP=recuMS/contador #hago el promedio de todos los recubrimientos por cada montecarlo\n",
        "    return recuP,E_equi"
      ],
      "metadata": {
        "id": "pHw8GREl9Lm5"
      },
      "execution_count": 2,
      "outputs": []
    },
    {
      "cell_type": "code",
      "source": [
        "def Equilibriocon(Equi,Efterma,L,mu,T,kb):\n",
        "    contador=0 #tiene q volver a cero cuando cambio de potencial\n",
        "    recuMS=0 #tiene q volver a cero cuando cambio de pontencial\n",
        "    for i in range (Equi):  \n",
        "        for j in range (L*L): #montecarlo\n",
        "            L = Efterma.shape[0] \n",
        "            M = L*L \n",
        "    \n",
        "            x = np.random.randint(0,L)\n",
        "            y = np.random.randint(0,L)\n",
        "            Epriv = epsi*(Efterma[(x-1),y]+Efterma[x,(y-1)]+Efterma[(x+1)%L,y]+Efterma[x,(y+1)%L])\n",
        "            if Efterma[x,y] == 1: #intento desorber\n",
        "                p = np.random.uniform(0,1)\n",
        "                Pdes = np.exp(-mu+Epriv/kb*T)              \n",
        "                if p < (Pdes):\n",
        "                    Efterma[x,y]=0\n",
        "                \n",
        " \n",
        "            else: #intento adsorber\n",
        "                p = np.random.uniform(0,1)\n",
        "                Pads = np.exp(mu-Epriv/kb*T)\n",
        "                if p < (Pads):\n",
        "                    Efterma[x,y] = 1\n",
        "                    \n",
        "        E_equi=Efterma        \n",
        "        N = np.count_nonzero(E_equi) #numero de particulas adsorbidas por cada i\n",
        "        recuM=N/M #cubrimiento en cada vez q hago montecarlo o sea cada i\n",
        "        \n",
        "        if recuM != 0: #si es distinto de cero junta el recuM en recuMS y suma un contador\n",
        "            recuMS =+ recuM\n",
        "            contador =+ 1\n",
        "        else: \n",
        "            contador = 1 #si no adsorbe nada pongo contador 1 para q no tire error, de todas maneras\n",
        "                         #recuMS va a ser cero todavía, entonces recuP va a ser cero\n",
        "    \n",
        "    \n",
        "    recuP=recuMS/contador #hago el promedio de todos los recubrimientos por cada montecarlo\n",
        "    return recuP,E_equi"
      ],
      "metadata": {
        "id": "vnt2qYYv_5aC"
      },
      "execution_count": 3,
      "outputs": []
    },
    {
      "cell_type": "code",
      "source": [
        "def Equilibriodime(Equi,Efterma,L,mu,T,kb):\n",
        "    contador=0 #tiene q volver a cero cuando cambio de potencial\n",
        "    recuMS=0 #tiene q volver a cero cuando cambio de pontencial\n",
        "    for i in range (Equi):  \n",
        "        for j in range (L*L): #montecarlo\n",
        "            L = Efterma.shape[0] \n",
        "            M = L*L \n",
        "            dire=np.random.randint(0,2)#0 vertical arriba, 1 horizontal izquierda\n",
        "            \n",
        "            \n",
        "            if dire == 0: #vertical arriba\n",
        "    \n",
        "                x = np.random.randint(0,L)\n",
        "                y = np.random.randint(0,L)\n",
        "                if (Efterma[x,y] and Efterma[x-1,y]) == 1: #intento des\n",
        "                    p = np.random.uniform(0,1)\n",
        "                    Pdes = np.exp(-mu/kb*T)              \n",
        "                    if p < (Pdes):\n",
        "                        Efterma[x,y] = 0\n",
        "                        Efterma[x-1,y] = 0\n",
        "                \n",
        " \n",
        "                elif (Efterma[x,y] and Efterma[x-1,y]) == 0: #intento ads\n",
        "                    p = np.random.uniform(0,1)\n",
        "                    Pads = np.exp(mu/kb*T)\n",
        "                    if p < (Pads):\n",
        "                        Efterma[x,y] = 1\n",
        "                        Efterma[x-1,y] = 1\n",
        "                \n",
        "                 \n",
        "                        \n",
        "  \n",
        "                \n",
        "            else: #dire == 1: #horizontal izquierda\n",
        "                \n",
        "                x = np.random.randint(0,L)\n",
        "                y = np.random.randint(0,L)\n",
        "                if (Efterma[x,y] and Efterma[x,y-1]) == 1: #intento desorber\n",
        "                    p = np.random.uniform(0,1)\n",
        "                    Pdes = np.exp(-mu/kb*T)              \n",
        "                    if p < (Pdes):\n",
        "                        Efterma[x,y] = 0\n",
        "                        Efterma[x,y-1] = 0\n",
        "                \n",
        " \n",
        "                elif (Efterma[x,y] and Efterma[x,y-1]) == 0: #intento ads\n",
        "                    p = np.random.uniform(0,1)\n",
        "                    Pads = np.exp(mu/kb*T)\n",
        "                    if p < (Pads):\n",
        "                        Efterma[x,y] = 1\n",
        "                        Efterma[x,y-1] = 1\n",
        "            \n",
        "            \n",
        "                    \n",
        "        E_equi=Efterma\n",
        "               \n",
        "        N = np.count_nonzero(E_equi) #numero de particulas adsorbidas por cada i\n",
        "        recuM=N/M #cubrimiento en cada vez q hago montecarlo o sea cada i\n",
        "        \n",
        "        if recuM != 0: #si es distinto de cero junta el recuM en recuMS y suma un contador\n",
        "            recuMS =+ recuM\n",
        "            contador =+ 1\n",
        "        else: \n",
        "            contador = 1 #si no adsorbe nada pongo contador 1 para q no tire error, de todas maneras\n",
        "                         #recuMS va a ser cero todavía, entonces recuP va a ser cero\n",
        "    \n",
        "    \n",
        "    recuP=recuMS/contador #hago el promedio de todos los recubrimientos por cada montecarlo\n",
        "    return recuP,E_equi"
      ],
      "metadata": {
        "id": "RD-PPUw8ABrE"
      },
      "execution_count": 4,
      "outputs": []
    },
    {
      "cell_type": "code",
      "source": [
        "L = 20 #tamaño de la malla LxL\n",
        "mui = -5\n",
        "muf = 10\n",
        "dmu = 1\n",
        "Terma = 1\n",
        "Equi = 1000\n",
        "T=1\n",
        "kb=1\n",
        "\n",
        "Potenciales=[]\n",
        "potenciales=np.linspace(-5, 10, 31)\n",
        "\n",
        "Ei1 = np.random.randint(0,1,size=[L,L])\n",
        "Recubrimiento_sin=[]\n",
        "for mu in potenciales:\n",
        "    recuP_sin,E_equi_sin=Equilibriosin(Equi,Ei1,L,mu,T,kb)\n",
        "    Ei1=E_equi_sin\n",
        "\n",
        "    Potenciales.append(mu)\n",
        "    Recubrimiento_sin.append(recuP_sin)\n",
        "\n",
        "Ei2 = np.random.randint(0,1,size=[L,L])\n",
        "Recubrimientoatrac=[]\n",
        "epsi=-0.7\n",
        "for mu in potenciales:\n",
        "    recuP_conA,E_equi_conA=Equilibriocon(Equi,Ei2,L,mu,T,kb)\n",
        "    Ei2=E_equi_conA\n",
        "\n",
        "    \n",
        "    \n",
        "   \n",
        "    Recubrimientoatrac.append(recuP_conA)\n",
        "\n",
        "Ei3 = np.random.randint(0,1,size=[L,L])\n",
        "Recubrimientorepul=[]\n",
        "epsi=0.7    \n",
        "for mu in potenciales:\n",
        "    recuP_conR,E_equi_conR=Equilibriocon(Equi,Ei2,L,mu,T,kb)\n",
        "    Ei2=E_equi_conR\n",
        "    \n",
        "    \n",
        "    \n",
        "    Recubrimientorepul.append(recuP_conR)\n",
        "\n",
        "Recubrimientodime=[]\n",
        "Ei4 = np.random.randint(0,1,size=[L,L]) \n",
        "for mu in potenciales:\n",
        "    recuP_dime,E_equi_dime=Equilibriodime(Equi,Ei3,L,mu,T,kb)\n",
        "    Ei4=E_equi_dime\n",
        "\n",
        "\n",
        "    Recubrimientodime.append(recuP_dime)"
      ],
      "metadata": {
        "id": "LY8q22VhBGHe"
      },
      "execution_count": 5,
      "outputs": []
    },
    {
      "cell_type": "code",
      "source": [
        "plt.plot(Potenciales,Recubrimiento_sin, label='Mono sin interacción')\n",
        "plt.plot(Potenciales,Recubrimientoatrac, label='Mono con interacción atractiva')\n",
        "plt.plot(Potenciales,Recubrimientorepul, label='Mono con interacción repulsiva')\n",
        "plt.plot(Potenciales,Recubrimientodime, label='Dimeros sin interacción')\n",
        "plt.title('Isoterma de adsorción')\n",
        "plt.ylabel('Recubrimiento')\n",
        "plt.xlabel('Potencial químico')\n",
        "plt.legend()\n",
        "plt.show()"
      ],
      "metadata": {
        "colab": {
          "base_uri": "https://localhost:8080/",
          "height": 296
        },
        "id": "gibQ-byPD4df",
        "outputId": "eb633679-d1a4-4e69-a4a7-2f305e968c55"
      },
      "execution_count": 6,
      "outputs": [
        {
          "output_type": "display_data",
          "data": {
            "text/plain": [
              "<Figure size 432x288 with 1 Axes>"
            ],
            "image/png": "[encoded data removed]"
          },
          "metadata": {
            "needs_background": "light"
          }
        }
      ]
    },
    {
      "cell_type": "code",
      "source": [
        "Recubrimientodime\n"
      ],
      "metadata": {
        "colab": {
          "base_uri": "https://localhost:8080/"
        },
        "id": "hjMaxf7mM3Ea",
        "outputId": "a0a865bb-22cc-4367-a9c8-b386d0fbd3e2"
      },
      "execution_count": 7,
      "outputs": [
        {
          "output_type": "execute_result",
          "data": {
            "text/plain": [
              "[0.0675,\n",
              " 0.0725,\n",
              " 0.135,\n",
              " 0.145,\n",
              " 0.1925,\n",
              " 0.23,\n",
              " 0.295,\n",
              " 0.3575,\n",
              " 0.4375,\n",
              " 0.4825,\n",
              " 0.605,\n",
              " 0.7325,\n",
              " 0.775,\n",
              " 0.85,\n",
              " 0.875,\n",
              " 0.9075,\n",
              " 0.95,\n",
              " 0.95,\n",
              " 0.975,\n",
              " 0.9975,\n",
              " 0.9975,\n",
              " 0.995,\n",
              " 1.0,\n",
              " 0.995,\n",
              " 1.0,\n",
              " 0.9975,\n",
              " 1.0,\n",
              " 1.0,\n",
              " 1.0,\n",
              " 1.0,\n",
              " 1.0]"
            ]
          },
          "metadata": {},
          "execution_count": 7
        }
      ]
    },
    {
      "cell_type": "code",
      "source": [
        ""
      ],
      "metadata": {
        "id": "TTsSo6ipM5mw"
      },
      "execution_count": 7,
      "outputs": []
    }
  ],
  "metadata": {
    "colab": {
      "collapsed_sections": [],
      "name": "comparación.ipynb",
      "provenance": []
    },
    "kernelspec": {
      "display_name": "Python 3 (ipykernel)",
      "language": "python",
      "name": "python3"
    },
    "language_info": {
      "codemirror_mode": {
        "name": "ipython",
        "version": 3
      },
      "file_extension": ".py",
      "mimetype": "text/x-python",
      "name": "python",
      "nbconvert_exporter": "python",
      "pygments_lexer": "ipython3",
      "version": "3.9.10"
    },
    "gpuClass": "standard"
  },
  "nbformat": 4,
  "nbformat_minor": 0
}