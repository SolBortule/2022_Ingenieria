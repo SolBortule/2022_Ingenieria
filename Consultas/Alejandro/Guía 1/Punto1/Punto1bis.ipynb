{
 "cells": [
  {
   "cell_type": "code",
   "execution_count": 1,
   "id": "f9bf6a9e-6d9a-4603-9b36-58dc3687712d",
   "metadata": {},
   "outputs": [],
   "source": [
    "import numpy as np   # Importo paquete de álgebra lineal\n",
    "import matplotlib.pyplot as plt   # Importo paquete de gráficos\n",
    "import math   # Importo paquete de funciones matemáticas\n",
    "import random   # Importo paquete para generar números pseudoaleatorios\n",
    "import time"
   ]
  },
  {
   "cell_type": "markdown",
   "id": "6f5be01c-8586-406a-b38d-b367b27fda4f",
   "metadata": {},
   "source": [
    "## Punto 1"
   ]
  },
  {
   "cell_type": "markdown",
   "id": "6ecd6181-1e14-4251-91d6-b43329f3df13",
   "metadata": {},
   "source": [
    "Se tiene una placa cuadrada de aluminio cuyos bordes están en las condiciones que se indican en la figura: Tres lados a temperaturas fijas y otro, el inferior, aislado térmicamente (flujo de calor igual a cero).\n",
    "- Encuentre, utilizando el método de diferencias finitas, los valores de temperatura y flujo de calor para cada punto.\n",
    "- Utilice primero la grilla señalada y luego generalice el problema a un número variable de nodos en cada eje de coordenadas.\n",
    "- Haga un estudio del tiempo de cálculo en función del tamaño del sistema."
   ]
  },
  {
   "cell_type": "markdown",
   "id": "240be588-c7f6-4efa-a7b5-dd6d2482d9ef",
   "metadata": {},
   "source": [
    "### Resolución"
   ]
  },
  {
   "cell_type": "markdown",
   "id": "b2fa8115-2f4d-4049-a096-08cdd9ec0422",
   "metadata": {},
   "source": [
    "La ecuación diferencial que rige el problema es la ecuación de Laplace, que es la ecuación de transferencia térmica (de Poisson) homogénea:\n",
    "$$\n",
    "\\frac{\\partial^2 T_{(x,y)}}{\\partial x^2}+\\frac{\\partial^2 T_{(x,y)}}{\\partial y^2}=0\n",
    "$$\n",
    "Debido a que los contornos del recinto donde debemos resolver la ecuación de Laplace son los adecuados, se utiliza el método de DIFERENCIAS FINITAS."
   ]
  },
  {
   "cell_type": "code",
   "execution_count": 2,
   "id": "192b06d5-c10a-46da-8585-081815ce6535",
   "metadata": {},
   "outputs": [],
   "source": [
    "# Defino el tipo de condición de contorno \"tipocond\" que aplicaré en cada extremo: Puede ser temperatura \"Temp\" o flujo \"Flujo\"\n",
    "TipoCC = {'A':'Temp', 'B':'Flujo', 'C':'Temp', 'D':'Temp'}\n",
    "\n",
    "# Asigno los valores de las condiciones de contorno \"cond\".\n",
    "CC = {'A':75, 'B':0, 'C':50, 'D':100}"
   ]
  },
  {
   "cell_type": "markdown",
   "id": "73189dd6-9f03-4be5-a4d0-2347429e8708",
   "metadata": {},
   "source": [
    "**Recordar:**\n",
    "- Extremo izquierdo $\\hspace{0.2cm} \\rightarrow \\hspace{0.2 cm}$ A\n",
    "- Extremo inferior $\\hspace{0.2cm} \\rightarrow \\hspace{0.2 cm}$ B\n",
    "- Extremo derecho $\\hspace{0.2cm} \\rightarrow \\hspace{0.2 cm}$ C\n",
    "- Extremo superior $\\hspace{0.2cm} \\rightarrow \\hspace{0.2 cm}$ D"
   ]
  },
  {
   "cell_type": "markdown",
   "id": "73aeb0cc-40b4-49cf-89b5-fa15e48d1167",
   "metadata": {},
   "source": [
    "### Discretización"
   ]
  },
  {
   "cell_type": "markdown",
   "id": "a913cdce-0054-4661-b114-da290e9b8f04",
   "metadata": {},
   "source": [
    "Debemos DISCRETIZAR el dominio de la chapa en un conjunto de puntos regularmente distribuidos.\n",
    "- Divido el eje x en Nx puntos equidistantes, resultando en Nx-1 subintervalos.\n",
    "- Divido el eje y en Ny puntos equidistantes, resultando en Ny-1 subintervalos.\n",
    "Se obtiene a una grilla con una cantidad de nodos N = Nx*Ny."
   ]
  },
  {
   "cell_type": "code",
   "execution_count": 3,
   "id": "6e9dafe4-c212-4911-8560-538b97293a36",
   "metadata": {},
   "outputs": [],
   "source": [
    "Nx = 100\n",
    "Ny = 100\n",
    "N = Nx*Ny"
   ]
  },
  {
   "cell_type": "markdown",
   "id": "f2f8cbd9-0727-4f1d-a9e7-1b9d81c5ee5b",
   "metadata": {},
   "source": [
    "Para asignar valores de temperatura a cada nodo, conviene enumerarlos empleando un único ínidice $k$ así se podrán representar todas las temperaturas en un vector $T$ de Nx*Ny componentes.\n",
    "Se elige recorrer la grilla desde el extremo izquierdo hacia el extremo derecho, comenzando desde el extremo inferior hasta el extremo superior. Los 4 vértices de la grilla resultan tener las siguientes posiciones:\n",
    "- Inferior izquierdo $\\hspace{0.2cm} \\rightarrow \\hspace{0.2 cm}$ k = 0\n",
    "- Inferior derecho $\\hspace{0.2cm} \\rightarrow \\hspace{0.2 cm}$ k = Nx-1\n",
    "- Superior izquierdo $\\hspace{0.2cm} \\rightarrow \\hspace{0.2 cm}$ k = (Ny-1)*Nx = N-Nx\n",
    "- Superior derecho $\\hspace{0.2cm} \\rightarrow \\hspace{0.2 cm}$ k = (Nx*Ny)-1 = N-1"
   ]
  },
  {
   "cell_type": "markdown",
   "id": "960a5099-5966-4c0d-bc36-803f191c03f6",
   "metadata": {},
   "source": [
    "Según el método de las diferencias finitas, debemos usar las versiones DISCRETAS de las derivadas segundas en la ecuación de Laplace. Se las obtiene planteando el cociente incremental de las derivadas primeras.\n",
    "- En el eje x, tomando un nodo $k$ que NO se encuentre en el borde de la chapa, tendrá a su izquierda el nodo $k-1$ y a su derecha el nodo $k+1$.\n",
    "- En el eje y, tomando un nodo $k$ que NO se encuentre en el borde de la chapa, tendrá hacia abajo el nodo $k-Nx$ y hacia arriba el nodo $k+Nx$.\n",
    "\n",
    "$$\n",
    "\\left. \\frac{\\partial^2 T}{\\partial x^2} \\right|_k = \\frac{T_{k+1}-2\\:T_k+T_{k-1}}{\\Delta x^2}\n",
    "\\hspace{1 cm} ; \\hspace{1 cm}\n",
    "\\left. \\frac{\\partial^2 T}{\\partial y^2} \\right|_k = \\frac{T_{k+N_x}-2\\:T_k+T_{k-N_y}}{\\Delta y^2}\n",
    "$$"
   ]
  },
  {
   "cell_type": "markdown",
   "id": "d4515245-87e5-4730-902c-9826c437974a",
   "metadata": {},
   "source": [
    "### Matricialización"
   ]
  },
  {
   "cell_type": "markdown",
   "id": "91a33150-987f-49f0-9632-2b4b92b92a17",
   "metadata": {},
   "source": [
    "#### Nodos del interior de la chapa\n",
    "Reemplazo las expresiones discretizadas de las segundas derivadas parciales en la ecuación de Laplace. Defino $\\beta = \\frac{\\Delta x}{\\Delta y}$ y obtengo:\n",
    "\n",
    "$$\n",
    "\\begin{bmatrix} \\beta^2 & 1 & -2(1+\\beta^2) & 1 & \\beta^2 \\end{bmatrix} \\:\\bullet\\: \\begin{bmatrix} T_{k-N_x} \\\\ T_{k-1} \\\\ T_k \\\\ T_{k+1} \\\\ T_{k+N_x} \\end{bmatrix} = 0\n",
    "$$\n",
    "\n",
    "#### Nodos de los bordes de la chapa\n",
    "Deben plantearse puntos ficticios por fuera de la grilla, que modifican las expresiones de las primeras derivadas parciales y por ende las de las segundas derivadas parciales.\n",
    "Reemplazando las nuevas expresiones discretizadas de las segundas derivadas parciales en la ecuación de Laplace, se obtiene:\n",
    "\n",
    "- Borde izquierdo $\\hspace{0.2cm} \\rightarrow \\hspace{0.2 cm} \\begin{bmatrix} \\beta^2 & 0 & -2(1+\\beta^2) & 2 & \\beta^2 \\end{bmatrix} $\n",
    " \n",
    "- Borde inferior $\\hspace{0.2cm} \\rightarrow \\hspace{0.2 cm} \\begin{bmatrix} 0 & 1 & -2(1+\\beta^2) & 1 & 2\\:\\beta^2 \\end{bmatrix} $\n",
    "\n",
    "- Borde derecho $\\hspace{0.2cm} \\rightarrow \\hspace{0.2 cm} \\begin{bmatrix} \\beta^2 & 2 & -2(1+\\beta^2) & 0 & \\beta^2 \\end{bmatrix} $\n",
    "\n",
    "- Borde superior $\\hspace{0.2cm} \\rightarrow \\hspace{0.2 cm} \\begin{bmatrix} 2\\:\\beta^2 & 1 & -2(1+\\beta^2) & 1 & 0 \\end{bmatrix} $\n",
    "\n",
    "#### Nodos de los vértices de la chapa\n",
    "Teniendo en cuenta que los vértices son compartidos entre dos bordes, pueden presentarse tres situaciones:\n",
    "- Ambos bordes con temperatura fija $\\hspace{0.2cm} \\rightarrow \\hspace{0.2 cm}$ Se toma una temperatura promedio.\n",
    "- Un borde con temperatura fija y un borde con flujo de calor fijo $\\hspace{0.2cm} \\rightarrow \\hspace{0.2 cm}$ Se toma la temperatura del primer borde.\n",
    "- Ambos bordes con flujo de calor fijo $\\hspace{0.2cm} \\rightarrow \\hspace{0.2 cm}$ No se puede resolver el problema."
   ]
  },
  {
   "cell_type": "code",
   "execution_count": 4,
   "id": "1342d684-b285-4cf6-a9fd-eaba3ee890b4",
   "metadata": {},
   "outputs": [],
   "source": [
    "class chapa:\n",
    "\n",
    "    def __init__(self, Nx, Ny):\n",
    "        \n",
    "        self.Nx = Nx\n",
    "        self.Ny = Ny\n",
    "        self.N = Nx*Ny\n",
    "        \n",
    "        # Defino \"beta = Nx/Ny\".\n",
    "        self.beta = Nx/Ny\n",
    "\n",
    "        # Otra manera de tomar las condiciones de contorno en los BORDES, definiéndolos como vectores.\n",
    "        self.bordeB = np.linspace(0, self.Nx - 1, self.Nx).astype(int)\n",
    "        self.bordeD = np.linspace(self.N - self.Nx, self.N - 1, self.Nx).astype(int)\n",
    "        self.bordeA = np.linspace(0, self.N - self.Nx, self.Ny).astype(int)\n",
    "        self.bordeC = np.linspace(self.Nx - 1, self.N - 1, self.Ny).astype(int)\n",
    "        \n",
    "    def makematrix(self, CC, TipoCC):\n",
    "        self.CC = CC\n",
    "        self.TipoCC = TipoCC\n",
    "        \n",
    "        # Esto que voy a hacer NO SE HACE, debería cambiar todos los nx, ny y beta de la función por los que llevan self.\n",
    "        Nx = self.Nx\n",
    "        Ny = self.Ny\n",
    "        N = self.N\n",
    "        beta = self.beta\n",
    "        \n",
    "        # Teniendo en cuenta que la matriz tendrá \"1\" en la diagonal y el resto \"0\" cuando corresponde a un \"k\" de borde, \n",
    "        # defino la matriz \"M\" como sigue:\n",
    "        M = np.eye(N)\n",
    "        # Defino vector \"b\" como vector nulo, porque en un problema general la mayoría de las ecuaciones están igualadas a \"0\",\n",
    "        # salvo cuando se impone alguna condición de borde.\n",
    "        b = np.zeros([N, 1])\n",
    "        \n",
    "        for k in range(N):\n",
    "            \n",
    "            # Vértice inf. izq. (A-B)\n",
    "            if k==0:\n",
    "                if self.TipoCC['A']=='Temp' and self.TipoCC['B']=='Flujo':\n",
    "                    # Dejo el valor de temperatura.\n",
    "                    b[k] = CC['A']\n",
    "                elif self.TipoCC['A']=='Flujo' and self.TipoCC['B']=='Temp':\n",
    "                    # Dejo el valor de temperatura.\n",
    "                    b[k] = CC['B']\n",
    "                else:\n",
    "                    # Ambos bordes tienen temperatura. Hago el promedio.\n",
    "                    b[k] = (CC['A']+CC['B'])/2\n",
    "            \n",
    "            # Vértice inf. der. (B-C)\n",
    "            elif k==Nx-1:\n",
    "                if self.TipoCC['B']=='Temp' and self.TipoCC['C']=='Flujo':\n",
    "                    # Dejo el valor de temperatura.\n",
    "                    b[k] = CC['B']\n",
    "                elif self.TipoCC['B']=='Flujo' and self.TipoCC['C']=='Temp':\n",
    "                    # Dejo el valor de temperatura.\n",
    "                    b[k] = CC['C']\n",
    "                else:\n",
    "                    # Ambos bordes tienen temperatura. Hago el promedio.\n",
    "                    b[k] = (CC['B']+CC['C'])/2\n",
    "            \n",
    "            # Vértice sup. der. (C-D)\n",
    "            elif k==N-1:\n",
    "                if self.TipoCC['C']=='Temp' and self.TipoCC['D']=='Flujo':\n",
    "                    # Dejo el valor de temperatura.\n",
    "                    b[k] = CC['C']\n",
    "                elif self.TipoCC['C']=='Flujo' and self.TipoCC['D']=='Temp':\n",
    "                    # Dejo el valor de temperatura.\n",
    "                    b[k] = CC['D']\n",
    "                else:\n",
    "                    # Ambos bordes tienen temperatura. Hago el promedio.\n",
    "                    b[k] = (CC['C']+CC['D'])/2\n",
    "            \n",
    "            # Vértice sup. izq. (D-A)\n",
    "            elif k==N-Nx:\n",
    "                if self.TipoCC['D']=='Temp' and self.TipoCC['A']=='Flujo':\n",
    "                    # Dejo el valor de temperatura.\n",
    "                    b[k] = CC['D']\n",
    "                elif self.TipoCC['D']=='Flujo' and self.TipoCC['A']=='Temp':\n",
    "                    # Dejo el valor de temperatura.\n",
    "                    b[k] = CC['A']\n",
    "                else:\n",
    "                    # Ambos bordes tienen temperatura. Hago el promedio.\n",
    "                    b[k] = (CC['D']+CC['A'])/2\n",
    "            \n",
    "            # Borde izq. (A)\n",
    "            elif k in self.bordeA:\n",
    "                if self.TipoCC['A']=='Temp':\n",
    "                    b[k] = CC['A']\n",
    "                elif self.TipoCC['A']=='Flujo':\n",
    "                    M[k,k] = -2*(1+beta**2)\n",
    "                    M[k,k+1] = 2\n",
    "                    M[k,k-Nx] = beta**2\n",
    "                    M[k,k+Nx] = beta**2\n",
    "            \n",
    "            # Borde inf. (B)\n",
    "            elif k in self.bordeB:\n",
    "                if self.TipoCC['B']=='Temp':\n",
    "                    b[k] = CC['B']\n",
    "                elif self.TipoCC['B']=='Flujo':\n",
    "                    M[k,k] = -2*(1+beta**2)\n",
    "                    M[k,k-1] = 1\n",
    "                    M[k,k+1] = 1\n",
    "                    M[k,k+Nx] = 2*beta**2\n",
    "            \n",
    "            # Borde der. (C)\n",
    "            elif k in self.bordeC:\n",
    "                if self.TipoCC['C']=='Temp':\n",
    "                    b[k] = CC['C']\n",
    "                elif self.TipoCC['C']=='Flujo':\n",
    "                    M[k,k] = -2*(1+beta**2)\n",
    "                    M[k,k-1] = 2\n",
    "                    M[k,k-Nx] = beta**2\n",
    "                    M[k,k+Nx] = beta**2\n",
    "            \n",
    "            # Borde sup. (D)\n",
    "            elif k in self.bordeD:\n",
    "                if self.TipoCC['D']=='Temp':\n",
    "                    b[k] = CC['D']\n",
    "                elif self.TipoCC['D']=='Flujo':\n",
    "                    M[k,k] = -2*(1+beta**2)\n",
    "                    M[k,k-1] = 1\n",
    "                    M[k,k+1] = 1\n",
    "                    M[k,k-Nx] = 2*beta**2\n",
    "            \n",
    "            # Nodos internos\n",
    "            else:\n",
    "                M[k,k] = -2*(1+beta**2)\n",
    "                M[k,k-1] = 1\n",
    "                M[k,k+1] = 1\n",
    "                M[k,k-Nx] = beta**2\n",
    "                M[k,k+Nx] = beta**2\n",
    "        \n",
    "        self.M = M\n",
    "        self.b = b\n",
    "        return M, b"
   ]
  },
  {
   "cell_type": "code",
   "execution_count": 5,
   "id": "3b1f3357-d2e8-4e7b-ba95-b53b8f0db442",
   "metadata": {},
   "outputs": [],
   "source": [
    "# Inicializo la chapa.\n",
    "Chapa = chapa(Nx, Ny)\n",
    "\n",
    "# Completo la matriz\n",
    "M, b = Chapa.makematrix(CC, TipoCC)"
   ]
  },
  {
   "cell_type": "code",
   "execution_count": 6,
   "id": "9d7404ee-4bfc-4c20-9fb0-b5be8ebc3663",
   "metadata": {},
   "outputs": [],
   "source": [
    "# Chapa.bordeA"
   ]
  },
  {
   "cell_type": "code",
   "execution_count": 7,
   "id": "587562c2-8b4a-48ed-b094-96c0a892e05a",
   "metadata": {},
   "outputs": [],
   "source": [
    "# Chapa.bordeB"
   ]
  },
  {
   "cell_type": "code",
   "execution_count": 8,
   "id": "47153117-8250-45b5-ae52-b2b90097f4c9",
   "metadata": {},
   "outputs": [],
   "source": [
    "# Chapa.bordeC"
   ]
  },
  {
   "cell_type": "code",
   "execution_count": 9,
   "id": "1d36b966-9ce3-47f1-8783-574b1b20d937",
   "metadata": {},
   "outputs": [],
   "source": [
    "# Chapa.bordeD"
   ]
  },
  {
   "cell_type": "markdown",
   "id": "ec408cbf-32d5-4f92-943e-0e64dcb2ce3a",
   "metadata": {},
   "source": [
    "## Solución"
   ]
  },
  {
   "cell_type": "code",
   "execution_count": 10,
   "id": "f1c7ce77-9c0e-4fb6-b0c4-6a30dc1d9e9f",
   "metadata": {},
   "outputs": [],
   "source": [
    "# Resuelvo el sistema de ecuaciones \"MT=b\".\n",
    "T = np.linalg.solve(M, b)\n",
    "\n",
    "# Convierto el vector de temperaturas \"T\" en una matriz de tamaño \"Nx*Ny\".\n",
    "T_matriz = T.reshape(Nx, Ny) "
   ]
  },
  {
   "cell_type": "raw",
   "id": "6b879e0b-97cd-4253-9049-d97d96e43da3",
   "metadata": {},
   "source": [
    "plt.imshow(M)\n",
    "plt.colorbar()\n",
    "plt.title('Matriz M')\n",
    "plt.show()\n",
    "\n",
    "# De aquí se vio que hace el gráfico de 0 a Nx-1 (lo cual es correcto) y de Ny-1 a 0. Esto último es incorrecto, por eso NO USAREMOS \"M\" para graficar, sino una matriz \"T_matriz\" obtenida en base al vector solución \"T\"."
   ]
  },
  {
   "cell_type": "code",
   "execution_count": 11,
   "id": "5a654d60-9aaa-40a3-aebb-a4acaf82f19a",
   "metadata": {},
   "outputs": [
    {
     "data": {
      "image/png": "[encoded data removed]",
      "text/plain": [
       "<Figure size 432x288 with 2 Axes>"
      ]
     },
     "metadata": {
      "needs_background": "light"
     },
     "output_type": "display_data"
    }
   ],
   "source": [
    "# Defino los niveles de temperatura a graficar, que irán desde la mínima hasta la máxima temperatura almacenadas en \"CC\".\n",
    "lvl = np.linspace(50, 100, 11)\n",
    "mapable = plt.contourf(T_matriz, levels=lvl)\n",
    "plt.gca().set_aspect('equal')\n",
    "cbar = plt.colorbar(mapable)\n",
    "cbar.set_label('T(°C)')\n",
    "plt.title('Distribución de temperaturas')\n",
    "plt.xlabel('Nx')\n",
    "plt.ylabel('Ny')\n",
    "plt.show()"
   ]
  },
  {
   "cell_type": "markdown",
   "id": "02dde90f-a87f-4203-9d25-dcf9ec470e00",
   "metadata": {},
   "source": [
    "## Flujos"
   ]
  },
  {
   "cell_type": "code",
   "execution_count": 12,
   "id": "5d710a48-a5f8-4b2d-8f24-e4182032d50d",
   "metadata": {},
   "outputs": [],
   "source": [
    "def getheat(T, dx, dy):\n",
    "    # El flujo en cada nodo tendrá una componente \"x\" e \"y\", por lo que uso \"_like\" para que me cree vectores \"Qx\" y \"Qy\" del\n",
    "    # mismo tamaño que \"T\", así podré poner las respectivas componentes en \"x\" e \"y\".\n",
    "    Qx = np.zeros_like(T)\n",
    "    Qy = np.zeros_like(T)\n",
    "    N = len(T)\n",
    "    \n",
    "    for k in range(N):\n",
    "        \n",
    "        # Borde izq. (A)\n",
    "        if k%Nx==0:\n",
    "            # Tomo cociente incremental hacia la derecha, ya que para la izquierda no hay nada y no puedo tomar cociente \n",
    "            # incremental centrado.\n",
    "            Qx[k] = (T[k+1]-T[k])/dx\n",
    "        # Borde der. (C)\n",
    "        elif (k+1)%Nx==0:\n",
    "            # Tomo cociente incremental hacia la izquierda, ya que para la derecha no hay nada y no puedo tomar cociente \n",
    "            # incremental centrado.\n",
    "            Qx[k] = (T[k]-T[k-1])/dx\n",
    "        # Nodos internos y los otros bordes\n",
    "        else:\n",
    "            # Tomo cociente incremental centrado, ya que tengo elementos a izquierda y derecha.\n",
    "            Qx[k] = (T[k+1]-T[k-1])/(2*dx)\n",
    "            \n",
    "    for k in range (N):\n",
    "        \n",
    "        # Borde inf. (B)\n",
    "        if k<Nx-1:\n",
    "            # Tomo cociente incremental hacia arriba, ya que para abajo no hay nada y no puedo tomar cociente \n",
    "            # incremental centrado.\n",
    "            Qy[k] = (T[k+Nx]-T[k])/dy \n",
    "        # Borde sup. (D)\n",
    "        elif k>Nx*(Ny-1)-1:\n",
    "            # Tomo cociente incremental hacia abajo, ya que para arriba no hay nada y no puedo tomar cociente \n",
    "            # incremental centrado.\n",
    "            Qy[k] = (T[k]-T[k-Nx])/dy\n",
    "        # Nodos internos y los otros bordes\n",
    "        else:\n",
    "            # Tomo cociente incremental centrado, ya que tengo elementos abajo y arriba.\n",
    "            Qy[k] = (T[k+Nx]-T[k-Nx])/(2*dy)\n",
    "    \n",
    "    return Qx, Qy"
   ]
  },
  {
   "cell_type": "code",
   "execution_count": 13,
   "id": "4330aaae-8189-40b0-b365-90dccce0d059",
   "metadata": {},
   "outputs": [],
   "source": [
    "# Calculo la longitud de los subintervalos \"dx\" en el eje x.\n",
    "dx = 1/(Nx-1)\n",
    "\n",
    "# Calculo la longitud de los subintervalos \"dx\" en el eje x.\n",
    "dy = 1/(Ny-1)\n",
    "\n",
    "Qx, Qy = getheat(T, dx, dy)"
   ]
  },
  {
   "cell_type": "code",
   "execution_count": 14,
   "id": "16156c63-3f52-4c75-a0ea-babc087bc442",
   "metadata": {},
   "outputs": [],
   "source": [
    "# Defino grilla de tamaño \"Nx*Ny\", con espaciados de \"1\" tanto en el eje x como en el eje y.\n",
    "x = np.arange(Nx)\n",
    "y = np.arange(Ny)\n",
    "X, Y = np.meshgrid(x, y)\n",
    "\n",
    "# Tomo los vectores \"Qx\" y \"Qy\" y los convierto en matrices de tamaño \"Nx*Ny\", para que vayan de 0 a Nx-1 en el eje x, y de 0\n",
    "# a Ny-1 en el eje y (sino a este último lo haría de Ny-1 a 0 y graficaría MAL).\n",
    "Qx_matriz = Qx.reshape(Nx, Ny)\n",
    "Qy_matriz = Qy.reshape(Nx, Ny)"
   ]
  },
  {
   "cell_type": "code",
   "execution_count": 15,
   "id": "5c336e33-84a2-4e4c-b6ea-507ed9b625d7",
   "metadata": {},
   "outputs": [
    {
     "data": {
      "image/png": "[encoded data removed]",
      "text/plain": [
       "<Figure size 432x288 with 2 Axes>"
      ]
     },
     "metadata": {
      "needs_background": "light"
     },
     "output_type": "display_data"
    }
   ],
   "source": [
    "mapable = plt.contourf(T_matriz, levels=lvl)\n",
    "plt.streamplot(X, Y, -Qx_matriz, -Qy_matriz, color='k', density=0.6)   # El (-) es por la ecuación de Fourier.\n",
    "plt.gca().set_aspect('equal')\n",
    "cbar = plt.colorbar(mapable)\n",
    "cbar.set_label('T(°C)')\n",
    "plt.title('Distribución de temperaturas y flujos')\n",
    "plt.xlabel('Nx')\n",
    "plt.ylabel('Ny')\n",
    "plt.axis([0, Nx-2, 0, Ny-2])   # Sino me deja líneas en blanco, muy raro.\n",
    "plt.show()"
   ]
  },
  {
   "cell_type": "markdown",
   "id": "2e3b9326-f687-433f-928e-3e90a714cda2",
   "metadata": {},
   "source": [
    "## Tiempo de cálculo en función del tamaño del sistema"
   ]
  },
  {
   "cell_type": "code",
   "execution_count": 16,
   "id": "462e2d97-4ff3-4c4b-8d0a-3703a9209fb6",
   "metadata": {},
   "outputs": [],
   "source": [
    "# Defino vector \"Ns\" con valores entre 3 y 99, espaciados cada 6. Aquellos son los diferentes tamaños de sistema que evaluaré.\n",
    "Ns = np.arange(3, 100, 6)"
   ]
  },
  {
   "cell_type": "code",
   "execution_count": null,
   "id": "e12547c0-8dc3-43b2-a3e3-4626e39b07b3",
   "metadata": {},
   "outputs": [],
   "source": [
    "# Defino vector \"ts\" que almacenará el tiempo de cálculo asociado a cada tamaño de sistema guardado en \"Ns\".\n",
    "ts = []\n",
    "\n",
    "for Ni in Ns:\n",
    "    chapa_i = chapa(Ni, Ni)\n",
    "    M, b = chapa_i.makematrix(CC, TipoCC)\n",
    "    t1 = time.time()\n",
    "    T = np.linalg.solve(M, b)\n",
    "    T_matriz = T.reshape(Ni, Ni)\n",
    "    t2 = time.time()\n",
    "    ts.append(t2-t1)"
   ]
  },
  {
   "cell_type": "code",
   "execution_count": null,
   "id": "fa842a0b-bc2b-460d-8347-aaae019f52c7",
   "metadata": {},
   "outputs": [],
   "source": [
    "plt.plot(Ns[2:], ts[2:], 'ob', ms=9)\n",
    "plt.xlabel('Tamaño del sistema (Nx)')\n",
    "plt.ylabel('Tiempo (s)')\n",
    "plt.grid('on')\n",
    "plt.axis([0, 100, -0.1, 7])\n",
    "plt.show()"
   ]
  },
  {
   "cell_type": "code",
   "execution_count": null,
   "id": "c4cf9033-b3bc-4ac7-a8c9-b51e79da4e10",
   "metadata": {},
   "outputs": [],
   "source": []
  }
 ],
 "metadata": {
  "kernelspec": {
   "display_name": "Python 3 (ipykernel)",
   "language": "python",
   "name": "python3"
  },
  "language_info": {
   "codemirror_mode": {
    "name": "ipython",
    "version": 3
   },
   "file_extension": ".py",
   "mimetype": "text/x-python",
   "name": "python",
   "nbconvert_exporter": "python",
   "pygments_lexer": "ipython3",
   "version": "3.9.10"
  }
 },
 "nbformat": 4,
 "nbformat_minor": 5
}
