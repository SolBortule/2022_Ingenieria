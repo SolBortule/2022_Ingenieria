{
 "cells": [
  {
   "cell_type": "code",
   "execution_count": 1,
   "id": "f9bf6a9e-6d9a-4603-9b36-58dc3687712d",
   "metadata": {},
   "outputs": [],
   "source": [
    "import numpy as np   # Importo paquete de álgebra lineal\n",
    "import matplotlib.pyplot as plt   # Importo paquete de gráficos\n",
    "import math   # Importo paquete de funciones matemáticas\n",
    "import random   # Importo paquete para generar números pseudoaleatorios"
   ]
  },
  {
   "cell_type": "code",
   "execution_count": 2,
   "id": "bd6bba59-81bb-44bc-9b42-a7e648899163",
   "metadata": {},
   "outputs": [],
   "source": [
    "# Primero: Discretizo la chapa donde quiero resolver la ecuación. Me queda grilla de Nx*Ny\n",
    "\n",
    "# La recorro con índice \"k\" que va desde 1 a Nx*Ny (sería 0 a Nx*Ny-1)\n",
    "\n",
    "# tengo una ecuacion diferencial por cada k, es decir, tengo Nx*Ny.\n",
    "# La llevo a esa forma de la diapo 5.\n",
    "\n",
    "# una ecuacion por fila k, una incognita en la columna k (sería en la diagonal)"
   ]
  },
  {
   "cell_type": "code",
   "execution_count": 3,
   "id": "1342d684-b285-4cf6-a9fd-eaba3ee890b4",
   "metadata": {},
   "outputs": [],
   "source": [
    "# me armo vector columna T de Nx*Ny valores\n"
   ]
  },
  {
   "cell_type": "code",
   "execution_count": 4,
   "id": "3b1f3357-d2e8-4e7b-ba95-b53b8f0db442",
   "metadata": {},
   "outputs": [],
   "source": [
    "# La mtriz tendrá Nx*Ny*Nx*Ny\n",
    "\n",
    "# # Debido a que \"y[0]\", \"y[n-1]\", \"A[0,0]\" y \"A[n-1,n-1]\" tienen su valor correcto, deberá recorrerse desde \"i=1\" hasta \"i=n-2\"\n",
    "# para asignar los valores correctos al resto de componentes de \"A\" e \"y\".\n",
    "# for i in range(1,n-1):\n",
    "#    A[i,i-1]=h[i-1]\n",
    "#    A[i,i]=2*(h[i]+h[i-1])\n",
    "#    A[i,i+1]=h[i]\n",
    "#    y[i]=3*(((T[i+1]-T[i])/h[i])-((T[i]-T[i-1])/h[i-1]))"
   ]
  },
  {
   "cell_type": "code",
   "execution_count": 5,
   "id": "f1c7ce77-9c0e-4fb6-b0c4-6a30dc1d9e9f",
   "metadata": {},
   "outputs": [],
   "source": [
    "# Debo resolver sistema de ecuaciones \"MT=b\", siendo \"M\" de tamaño \"(nx*ny)*(nx*ny)\", "
   ]
  },
  {
   "cell_type": "code",
   "execution_count": 6,
   "id": "488d7970-9b3b-4e68-8485-c4adb5c43566",
   "metadata": {},
   "outputs": [],
   "source": [
    "# CONDICIÓN: En el borde sólo aparece coeficiente NO NULO en la columna \"k\", el resto de coeficientes vale 0. y Hago b_k =T_A"
   ]
  },
  {
   "cell_type": "code",
   "execution_count": 7,
   "id": "968a4db2-3ecc-4746-8b5f-39a245e2f15e",
   "metadata": {},
   "outputs": [],
   "source": [
    "# PRUEBA: Discretizo chapa como una grilla de tamaño \"nx*ny\".\n",
    "nx = 3\n",
    "ny = 3"
   ]
  },
  {
   "cell_type": "code",
   "execution_count": 8,
   "id": "9a7d7c95-2b17-42c1-b718-0d8a57e02b93",
   "metadata": {},
   "outputs": [],
   "source": [
    "# Defino \"beta = nx/ny\"\n",
    "beta = nx / ny"
   ]
  },
  {
   "cell_type": "code",
   "execution_count": 9,
   "id": "c467c80c-2332-41bc-b9bf-a87bb22c889a",
   "metadata": {},
   "outputs": [
    {
     "name": "stdout",
     "output_type": "stream",
     "text": [
      "[[1. 0. 0. 0. 0. 0. 0. 0. 0.]\n",
      " [0. 1. 0. 0. 0. 0. 0. 0. 0.]\n",
      " [0. 0. 1. 0. 0. 0. 0. 0. 0.]\n",
      " [0. 0. 0. 1. 0. 0. 0. 0. 0.]\n",
      " [0. 0. 0. 0. 1. 0. 0. 0. 0.]\n",
      " [0. 0. 0. 0. 0. 1. 0. 0. 0.]\n",
      " [0. 0. 0. 0. 0. 0. 1. 0. 0.]\n",
      " [0. 0. 0. 0. 0. 0. 0. 1. 0.]\n",
      " [0. 0. 0. 0. 0. 0. 0. 0. 1.]]\n"
     ]
    }
   ],
   "source": [
    "# Teniendo en cuenta que la matriz tendrá \"1\" en la diagonal y el resto \"0\" cuando corresponde a un \"k\" de borde, defino la\n",
    "# matriz \"M\" como sigue:\n",
    "M = np.identity(nx*ny)\n",
    "print(M)"
   ]
  },
  {
   "cell_type": "code",
   "execution_count": 10,
   "id": "d16a7c1a-7a0f-4065-bb3c-65a746a658b1",
   "metadata": {},
   "outputs": [],
   "source": [
    "# Para el vector \"b\", deberá ir el valor de Tborde cuando en la matriz \"M\" la diagonal valga \"1\".\n",
    "# b[0]=(Ta+Tb)/2, porque a ese punto le intersectan las caras que están a temperatura Ta y Tb\n",
    "# b[1]=Tb\n",
    "# b[2]=(Tc+Tb)/2, porque a ese punto le intersectan las caras que están a temperatura Tc y Tb\n",
    "# b[3]=Ta\n",
    "# b[4]=0 porque sigue la ecuación\n",
    "# b[5]=Tc\n",
    "# b[6]=(Ta+Td)/2, porque a ese punto le intersectan las caras que están a temperatura Ta y Td\n",
    "# b[7]=Td\n",
    "# b[8]=(Tc+Td)/2, porque a ese punto le intersectan las caras que están a temperatura Tc y Td"
   ]
  },
  {
   "cell_type": "code",
   "execution_count": 11,
   "id": "5a654d60-9aaa-40a3-aebb-a4acaf82f19a",
   "metadata": {},
   "outputs": [],
   "source": [
    "T_a,T_b,T_c,T_d = (75,0,50,100)"
   ]
  },
  {
   "cell_type": "code",
   "execution_count": 12,
   "id": "347b68b3-a759-4279-8054-e3ce9d45403f",
   "metadata": {},
   "outputs": [],
   "source": [
    "# Defino vector \"b\" como vector nulo, porque en un problema general la mayoría de las ecuaciones están igualadas a \"0\", salvo \n",
    "# cuando se impone alguna condición de borde.\n",
    "b = np.zeros((nx*ny,1))"
   ]
  },
  {
   "cell_type": "code",
   "execution_count": 13,
   "id": "f1629111-0180-4fc9-a98c-cc950279acb1",
   "metadata": {},
   "outputs": [],
   "source": [
    "# Defino la cantidad total de valores de \"k\" que deberán recorrerse, es decir, el número de filas \"nx*ny\".\n",
    "nk = nx*ny\n",
    "\n",
    "# Recorro la matriz desde abajo a la izquierda, hacia arriba a la derecha, moviéndome hacia la derecha.\n",
    "for k in range(nk):\n",
    "    # Primero pregunto si me encuentro en alguno de los 4 vértices\n",
    "    if k==0:\n",
    "        # Me encuentro en el vértice \"k=0\". El elemento en la diagonal de \"M\" se mantiene como \"1\" Asigno el valor de \"b\" como\n",
    "        # el promedio entre la T de cada uno de los lados que intersectan el vértice.\n",
    "        b[k] = (T_a + T_b)/2\n",
    "    elif k==nx-1:\n",
    "        # Me encuentro en el vértice \"k=nx-1\". El elemento en la diagonal de \"M\" se mantiene como \"1\" Asigno el valor de \"b\" como\n",
    "        # el promedio entre la T de cada uno de los lados que intersectan el vértice.\n",
    "        b[k] = (T_b + T_c)/2\n",
    "    elif k==nk-nx:\n",
    "        # Me encuentro en el vértice \"k=nx-1\". El elemento en la diagonal de \"M\" se mantiene como \"1\" Asigno el valor de \"b\" como\n",
    "        # el promedio entre la T de cada uno de los lados que intersectan el vértice.\n",
    "        b[k] = (T_a + T_d)/2\n",
    "    elif k==nk-1:\n",
    "        # Me encuentro en el vértice \"k=nx-1\". El elemento en la diagonal de \"M\" se mantiene como \"1\" Asigno el valor de \"b\" como\n",
    "        # el promedio entre la T de cada uno de los lados que intersectan el vértice.\n",
    "        b[k] = (T_c + T_d)/2\n",
    "    elif k<nx-1:\n",
    "        # Estoy recorriendo el vértice inferior. El elemento en la diagonal de \"M\" se mantiene como \"1\". Asigno el valor de \"b\" como\n",
    "        # la T de ese lado.\n",
    "        b[k] = T_b\n",
    "    elif k>nk-nx-1:\n",
    "        # Estoy recorriendo el vértice inferior. El elemento en la diagonal de \"M\" se mantiene como \"1\". Asigno el valor de \"b\" como\n",
    "        # la T de ese lado.\n",
    "        b[k] = T_d\n",
    "    elif k%nx==0:\n",
    "        b[k] = T_a\n",
    "    elif (k+1)%nx==0:\n",
    "        b[k] = T_c\n",
    "    else:\n",
    "        M[k,k]=-2*(1+beta**2)\n",
    "        M[k,k-1]=1\n",
    "        M[k,k+1]=1\n",
    "        M[k,k-nx]=beta**2\n",
    "        M[k,k+nx]=beta**2\n"
   ]
  },
  {
   "cell_type": "code",
   "execution_count": 14,
   "id": "89dee0cb-9053-43b4-a5d7-4f1d5ee56580",
   "metadata": {},
   "outputs": [
    {
     "data": {
      "text/plain": [
       "array([[ 1.,  0.,  0.,  0.,  0.,  0.,  0.,  0.,  0.],\n",
       "       [ 0.,  1.,  0.,  0.,  0.,  0.,  0.,  0.,  0.],\n",
       "       [ 0.,  0.,  1.,  0.,  0.,  0.,  0.,  0.,  0.],\n",
       "       [ 0.,  0.,  0.,  1.,  0.,  0.,  0.,  0.,  0.],\n",
       "       [ 0.,  1.,  0.,  1., -4.,  1.,  0.,  1.,  0.],\n",
       "       [ 0.,  0.,  0.,  0.,  0.,  1.,  0.,  0.,  0.],\n",
       "       [ 0.,  0.,  0.,  0.,  0.,  0.,  1.,  0.,  0.],\n",
       "       [ 0.,  0.,  0.,  0.,  0.,  0.,  0.,  1.,  0.],\n",
       "       [ 0.,  0.,  0.,  0.,  0.,  0.,  0.,  0.,  1.]])"
      ]
     },
     "execution_count": 14,
     "metadata": {},
     "output_type": "execute_result"
    }
   ],
   "source": [
    "M"
   ]
  },
  {
   "cell_type": "code",
   "execution_count": 15,
   "id": "639d8663-41f6-4523-86fe-1d303ccbe98d",
   "metadata": {},
   "outputs": [
    {
     "data": {
      "text/plain": [
       "<matplotlib.image.AxesImage at 0x2a92d742070>"
      ]
     },
     "execution_count": 15,
     "metadata": {},
     "output_type": "execute_result"
    },
    {
     "data": {
      "image/png": "[encoded data removed]",
      "text/plain": [
       "<Figure size 432x288 with 1 Axes>"
      ]
     },
     "metadata": {
      "needs_background": "light"
     },
     "output_type": "display_data"
    }
   ],
   "source": [
    "plt.imshow(M)"
   ]
  },
  {
   "cell_type": "markdown",
   "id": "1bc7d494-1499-4946-a8d6-cd83304ac0cb",
   "metadata": {},
   "source": [
    "# Solución"
   ]
  },
  {
   "cell_type": "code",
   "execution_count": 16,
   "id": "9efe1adf-6eb8-4190-86de-3acc66663782",
   "metadata": {},
   "outputs": [
    {
     "name": "stdout",
     "output_type": "stream",
     "text": [
      "[[ 37.5 ]\n",
      " [  0.  ]\n",
      " [ 25.  ]\n",
      " [ 75.  ]\n",
      " [ 56.25]\n",
      " [ 50.  ]\n",
      " [ 87.5 ]\n",
      " [100.  ]\n",
      " [ 75.  ]]\n"
     ]
    }
   ],
   "source": [
    "Temp = np.linalg.solve(M,b)\n",
    "print(Temp)"
   ]
  },
  {
   "cell_type": "code",
   "execution_count": 17,
   "id": "7755e148-ae5d-434e-a631-a9122d56ba00",
   "metadata": {},
   "outputs": [
    {
     "data": {
      "text/plain": [
       "array([[ 37.5 ,   0.  ,  25.  ],\n",
       "       [ 75.  ,  56.25,  50.  ],\n",
       "       [ 87.5 , 100.  ,  75.  ]])"
      ]
     },
     "execution_count": 17,
     "metadata": {},
     "output_type": "execute_result"
    }
   ],
   "source": [
    "Temp_plot = Temp.flatten().reshape(nx,ny)\n",
    "Temp_plot\n"
   ]
  },
  {
   "cell_type": "code",
   "execution_count": 18,
   "id": "c517d2ad-9510-49f0-b34b-bf9ea639976d",
   "metadata": {},
   "outputs": [
    {
     "data": {
      "text/plain": [
       "<matplotlib.image.AxesImage at 0x2a92dee14c0>"
      ]
     },
     "execution_count": 18,
     "metadata": {},
     "output_type": "execute_result"
    },
    {
     "data": {
      "image/png": "[encoded data removed]",
      "text/plain": [
       "<Figure size 432x288 with 1 Axes>"
      ]
     },
     "metadata": {
      "needs_background": "light"
     },
     "output_type": "display_data"
    }
   ],
   "source": [
    "plt.imshow(Temp_plot)"
   ]
  },
  {
   "cell_type": "code",
   "execution_count": null,
   "id": "55f40a42-1f78-46cb-b656-187f0594b618",
   "metadata": {},
   "outputs": [],
   "source": []
  }
 ],
 "metadata": {
  "kernelspec": {
   "display_name": "Python 3 (ipykernel)",
   "language": "python",
   "name": "python3"
  },
  "language_info": {
   "codemirror_mode": {
    "name": "ipython",
    "version": 3
   },
   "file_extension": ".py",
   "mimetype": "text/x-python",
   "name": "python",
   "nbconvert_exporter": "python",
   "pygments_lexer": "ipython3",
   "version": "3.9.10"
  }
 },
 "nbformat": 4,
 "nbformat_minor": 5
}
