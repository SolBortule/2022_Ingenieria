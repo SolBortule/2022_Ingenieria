{
 "cells": [
  {
   "cell_type": "code",
   "execution_count": 1,
   "id": "54678047-d5c3-4c8a-b6be-5fa8c3b9f0ea",
   "metadata": {},
   "outputs": [],
   "source": [
    "import numpy as np   # Importo paquete de álgebra lineal\n",
    "import matplotlib.pyplot as plt   # Importo paquete de gráficos\n",
    "import copy\n",
    "import mef\n",
    "plt.rc('figure', figsize=(15,8))   # Para gráficos\n",
    "plt.rc('font',size=22)             # Para gráficos"
   ]
  },
  {
   "cell_type": "markdown",
   "id": "13400e03-cfa5-4b77-81aa-a670c14e1f00",
   "metadata": {},
   "source": [
    "## Punto 3"
   ]
  },
  {
   "cell_type": "markdown",
   "id": "9fbf07e4-2ed0-4e63-b0ec-f16a63a9dd2a",
   "metadata": {},
   "source": [
    "Considere una barra con una carga axial aplicada de $T = -20 N/cm^2$, como se muestra en la figura. Determine el desplazamiento axial y la tensión. Tome $E = 210\\: GPa$, $A = 10\\: cm^2$ y $L = 1,50\\: m$. Use primero uno y luego dos elementos. Intente generalizarlo a $n$ elementos y compare sus resultados con la solución teórica:\n",
    "\n",
    "$$ \\large\n",
    "d(x)=\\frac{|T|}{6 AE}(x^{3}-L^{3}) \\hspace{0.5cm} ; \\hspace{0.5cm} \\sigma (x)= \\frac{|T|}{2A}x^{2}\n",
    "$$\n",
    "\n",
    "<center><img src=\"ImgProb03.png\"></center>"
   ]
  },
  {
   "cell_type": "code",
   "execution_count": 2,
   "id": "a9021987-5d5b-4113-a5c8-19eddbeb4c96",
   "metadata": {},
   "outputs": [],
   "source": [
    "# Defino los grados de libertad por nodo \"glxn\".\n",
    "glxn = 1   # Porque es una barra colgada, no debería moverse para ningún costado."
   ]
  },
  {
   "cell_type": "markdown",
   "id": "0d2dc244-0e4f-44a4-8d34-7ab07406cc0e",
   "metadata": {},
   "source": [
    "## Ejemplo de la Clase (para chequear que las funciones anden bien)"
   ]
  },
  {
   "cell_type": "code",
   "execution_count": 3,
   "id": "75a5220f-7383-4efe-b8d1-873cc0e203e9",
   "metadata": {},
   "outputs": [],
   "source": [
    "# Defino el módulo de elasticidad \"E\" de cada elemento.\n",
    "E = 30*1e6   # N/cm^2\n",
    "\n",
    "# Defino la sección \"A\" de cada elemento.\n",
    "A = 2   # cm^2\n",
    "\n",
    "# Defino la longitud \"L\" de la barra.\n",
    "L = 60   # cm\n",
    "\n",
    "# Defino valor de la carga axial \"C\" aplicada.\n",
    "C = -10   # N/cm^2"
   ]
  },
  {
   "cell_type": "markdown",
   "id": "65ad7b1f-2f32-4af8-81e6-6c991199e268",
   "metadata": {},
   "source": [
    "### $1$ elemento"
   ]
  },
  {
   "cell_type": "code",
   "execution_count": 4,
   "id": "e3823a54-c808-470b-9bdb-589c787c2f47",
   "metadata": {},
   "outputs": [],
   "source": [
    "# Defino el número de elementos \"Ne\" y el número de nodos por elemento \"Nnxe\".\n",
    "Ne = 1\n",
    "Nnxe = 2\n",
    "\n",
    "# Defino la longitud \"Le\" de cada elemento.\n",
    "Le = L/Ne\n",
    "\n",
    "# Defino el número de nodos \"Nn\".\n",
    "Nn = 2"
   ]
  },
  {
   "cell_type": "code",
   "execution_count": 5,
   "id": "0fe3d0e7-5a23-48ba-b5ed-f12a5dd84234",
   "metadata": {},
   "outputs": [],
   "source": [
    "# Defino la matriz elemental \"Ke0\" del elemento \"0\"\n",
    "Ke0 = (A*E/Le)*np.array([[1,-1],\n",
    "                        [-1,1]])"
   ]
  },
  {
   "cell_type": "code",
   "execution_count": 6,
   "id": "0559ae9b-9b7b-4533-a567-6a30256743bd",
   "metadata": {},
   "outputs": [],
   "source": [
    "# Obtengo la matriz global \"K\", ensamblando las matrices elementales. Como hay una sola, resulta:\n",
    "K = Ke0"
   ]
  },
  {
   "cell_type": "markdown",
   "id": "8c0f6029-be4b-4931-9731-892faf38c341",
   "metadata": {},
   "source": [
    "Debo resolver el sistema:\n",
    "$$\n",
    "\\scriptsize \\begin{pmatrix} F_0 \\\\ F_1 \\end{pmatrix} \\:\\:\\: = \\:\\:\\: \\left[K\\right] \\begin{pmatrix} x_0 \\\\ x_1 \\end{pmatrix}\n",
    "$$\n",
    ", donde $F_i = f_i + R_i$, siendo $F_i$ la fuerza sobre el nodo $i$, $f_i$ una fuerza aplicada al nodo (debida a la carga distribuida) y $R_i$ la reacción del vínculo sobre el nodo (si la hubiera). "
   ]
  },
  {
   "cell_type": "markdown",
   "id": "198fb7c2-5ad0-4354-8a53-5f8f734a29e9",
   "metadata": {},
   "source": [
    "La fuerza total $F_T$ actuante sobre el elemento se calcula como:\n",
    "$$\n",
    "F_T = \\int_0^L T(x) dx = \\int_0^L Cx dx = \\frac{1}{2} C L^2\n",
    "$$"
   ]
  },
  {
   "cell_type": "code",
   "execution_count": 7,
   "id": "b269201f-4ff2-4f79-ba14-0b82ac6576cd",
   "metadata": {},
   "outputs": [],
   "source": [
    "# Calculo la fuerza total \"FT\".\n",
    "FT = 0.5*C*(L**2)"
   ]
  },
  {
   "cell_type": "code",
   "execution_count": 8,
   "id": "26df60f6-d15f-4660-b00b-a949f0ccbfab",
   "metadata": {},
   "outputs": [],
   "source": [
    "# Distrubuyo la carga distribuida \"T(x)\" en los nodos \"0\" y \"1\".\n",
    "# - Al nodo \"0\" le corresponde \"f0 = FT/3\".\n",
    "f0 = FT/3\n",
    "# - Al nodo \"1\" le corresponde \"f1 = 2*FT/3\".\n",
    "f1 = 2*FT/3"
   ]
  },
  {
   "cell_type": "markdown",
   "id": "425da754-6bb9-4811-b6d1-416325ef4ed4",
   "metadata": {},
   "source": [
    "Condiciones de vínculo en DESPLAZAMIENTO\n",
    "- $x_1 = 0\\: cm$ (empotramiento)\n",
    "\n",
    "Condiciones de vínculo en FUERZA\n",
    "- $F_0 = f_0$ (debida a la carga distribuida)"
   ]
  },
  {
   "cell_type": "code",
   "execution_count": 9,
   "id": "f972272e-d37b-442f-a6f3-5dc848a11dcb",
   "metadata": {},
   "outputs": [],
   "source": [
    "# Defino vector \"s\" que contiene los nodos con condiciones de vínculo en desplazamiento.\n",
    "s = np.array([1])\n",
    "\n",
    "# Defino vector \"Us\" con los valores de las condiciones de vínculo.\n",
    "Us = [[0]]\n",
    "\n",
    "# Defino vector \"r\" que contiene los nodos con condiciones de vínculo en fuerza. Es el complemento de \"s\".\n",
    "r = np.array([i for i in range(Nn*glxn) if i not in s])\n",
    "\n",
    "# Defino vector \"Fr\" con los valores de las condiciones de vínculo.\n",
    "Fr = [[f0]]"
   ]
  },
  {
   "cell_type": "code",
   "execution_count": 10,
   "id": "1cbf4b44-f29f-45e6-b249-d6c542dd71f7",
   "metadata": {},
   "outputs": [],
   "source": [
    "# Llamo al paquete \"mef\", que contiene la función \"solve\" que calcula los vectores de fuerzas y torques \"F\", y de \n",
    "# desplazamientos y rotaciones \"U\", empleando MEF. \n",
    "F, U = mef.solve(K, r, Fr, s, Us)"
   ]
  },
  {
   "cell_type": "code",
   "execution_count": 11,
   "id": "3705c34c-0e87-4146-831a-8c02f9a22637",
   "metadata": {},
   "outputs": [
    {
     "name": "stdout",
     "output_type": "stream",
     "text": [
      "Nodo 0     U = -0.0060 cm     F = -6000.0000 N\n",
      "Nodo 1     U = 0.0000 cm     F = 6000.0000 N\n"
     ]
    }
   ],
   "source": [
    "for nodo in range(Ne+1):\n",
    "    print('Nodo %s     U = %2.4f cm     F = %7.4f N'%(nodo, U[nodo], F[nodo]))"
   ]
  },
  {
   "cell_type": "code",
   "execution_count": 12,
   "id": "c98782e3-cc1b-4031-bf2c-b4f776e577ff",
   "metadata": {},
   "outputs": [
    {
     "name": "stdout",
     "output_type": "stream",
     "text": [
      "La REACCIÓN del empotramiento sobre el Nodo 1 es R = 18000.0000 N\n"
     ]
    }
   ],
   "source": [
    "# Calculo la reacción \"R_emp\" del empotramiento sobre el último nodo \"i = -1\".\n",
    "R_emp = F[-1] - f1\n",
    "print('La REACCIÓN del empotramiento sobre el Nodo %s es R = %7.4f N'%(Ne, R_emp))"
   ]
  },
  {
   "cell_type": "markdown",
   "id": "e1218c92-fec6-4479-94b4-217d43584027",
   "metadata": {},
   "source": [
    "### $2$ elementos"
   ]
  },
  {
   "cell_type": "code",
   "execution_count": 13,
   "id": "38e21b14-83b1-4d70-99ca-35dab976b1ce",
   "metadata": {},
   "outputs": [],
   "source": [
    "# Defino el número de elementos \"Ne\" y el número de nodos por elemento \"Nnxe\".\n",
    "Ne = 2\n",
    "Nnxe = 2\n",
    "\n",
    "# Defino la longitud \"Le\" de cada elemento.\n",
    "Le = L/Ne\n",
    "\n",
    "# Defino el número de nodos \"Nn\".\n",
    "Nn = 3"
   ]
  },
  {
   "cell_type": "code",
   "execution_count": 14,
   "id": "155165aa-86eb-4908-b3d2-a32e02939441",
   "metadata": {},
   "outputs": [],
   "source": [
    "# Defino la matriz elemental \"Ke\" de los elementos \"0\" y \"1\".\n",
    "Ke = (A*E/Le)*np.array([[1,-1],\n",
    "                        [-1,1]])"
   ]
  },
  {
   "cell_type": "code",
   "execution_count": 15,
   "id": "e055c898-f4f7-4ba1-94c1-a42d60a88f00",
   "metadata": {},
   "outputs": [],
   "source": [
    "# Obtengo la matriz global \"K\", ensamblando las matrices elementales.\n",
    "Kg = np.zeros([glxn*Nn, glxn*Nn])\n",
    "\n",
    "Kg[np.ix_([0,1],[0,1])] = Ke\n",
    "Kg[np.ix_([1,2],[1,2])] += Ke"
   ]
  },
  {
   "cell_type": "markdown",
   "id": "ea78d64d-335d-4676-86c2-fe047b2e7046",
   "metadata": {},
   "source": [
    "Debo resolver el sistema:\n",
    "$$\n",
    "\\scriptsize \\begin{pmatrix} F_0 \\\\ F_1 \\\\ F_2 \\end{pmatrix} \\:\\:\\: = \\:\\:\\: \\left[K\\right] \\begin{pmatrix} x_0 \\\\ x_1 \\\\ x_2 \\end{pmatrix}\n",
    "$$\n",
    ", donde $F_i = f_i + R_i$, siendo $F_i$ la fuerza sobre el nodo $i$, $f_i$ una fuerza aplicada al nodo (debida a la carga distribuida) y $R_i$ la reacción del vínculo sobre el nodo (si la hubiera)."
   ]
  },
  {
   "cell_type": "markdown",
   "id": "8c4d38af-9e34-4079-a7aa-9cb322d8ca36",
   "metadata": {},
   "source": [
    "La fuerza total $F_{T}$ actuante sobre el elemento $0$ se calcula como:\n",
    "$$\n",
    "F_{T} = \\int_0^{L_e} T(x) dx = \\int_0^{L_e} Cx dx = \\frac{1}{2} C {L_e}^2\n",
    "$$"
   ]
  },
  {
   "cell_type": "code",
   "execution_count": 16,
   "id": "1fbaee3a-d4da-42f4-9dcf-98fead19f369",
   "metadata": {},
   "outputs": [],
   "source": [
    "# Calculo la fuerza total \"FT\" actuante sobre el elemento \"0\".\n",
    "FT = 0.5*C*(Le**2)"
   ]
  },
  {
   "cell_type": "code",
   "execution_count": 17,
   "id": "5896e507-6b4d-4bb8-a871-c733b3a1d069",
   "metadata": {},
   "outputs": [],
   "source": [
    "# Distrubuyo la carga distribuida \"T(x)\" en los nodos \"0\" y \"1\".\n",
    "# - Al nodo \"0\" le corresponde \"f0 = FT/3\".\n",
    "f0 = FT/3\n",
    "# - Al nodo \"1\" le corresponde \"f1 = 2*FT/3\".\n",
    "f1 = 2*FT/3"
   ]
  },
  {
   "cell_type": "code",
   "execution_count": 18,
   "id": "f2a54ade-d3a7-4edf-bef5-beb0cd8e0459",
   "metadata": {},
   "outputs": [],
   "source": [
    "# Para no perder \"f0\" y \"f1\" que me van a ser de utilidad, creo vector de fuerzas \"f\" que en su elemento \"i\" guarde la\n",
    "# fuerza asociada al nodo \"i\".\n",
    "f = np.zeros([Ne+1])\n",
    "f[0] = f0\n",
    "f[1] = f1"
   ]
  },
  {
   "cell_type": "markdown",
   "id": "e3572577-535d-4b73-bd36-2b336633f6f2",
   "metadata": {},
   "source": [
    "La fuerza total actuante sobre el elemento $1$ es igual a la suma de:\n",
    "- $F_{T}$, debida a carga no uniformemente distribuida (TRIÁNGULO).\n",
    "- $2 F_{T}$, debida a carga uniformemente distribuida (RECTÁNGULO)."
   ]
  },
  {
   "cell_type": "code",
   "execution_count": 19,
   "id": "7efeaa11-6041-416a-a5a3-7d5322ef348c",
   "metadata": {},
   "outputs": [],
   "source": [
    "# Distrubuyo la carga distribuida \"T(x)\" en los nodos \"1\" y \"2\".\n",
    "# - Al nodo \"1\" le corresponde \"FT/3\" (por el TRIÁNGULO) y \"FT\" (por el RECTÁNGULO), es decir, \"4*FT/3\".\n",
    "f[1] += f0 + FT\n",
    "# - Al nodo \"2\" le corresponde \"2*FT/3\" (por el TRIÁNGULO) y \"FT\" (por el RECTÁNGULO), es decir, \"5*FT/3\".\n",
    "f[2] = f1 + FT"
   ]
  },
  {
   "cell_type": "markdown",
   "id": "ca328912-67cb-4b0f-99c1-31649220bf97",
   "metadata": {},
   "source": [
    "Condiciones de vínculo en DESPLAZAMIENTO\n",
    "- $x_2 = 0\\: cm$ (empotramiento)\n",
    "\n",
    "Condiciones de vínculo en FUERZA\n",
    "- $F_0 = f_0$ (debida a la carga distribuida)\n",
    "- $F_1 = f_1$ (debida a la carga distribuida)"
   ]
  },
  {
   "cell_type": "code",
   "execution_count": 20,
   "id": "adb44115-b4ba-48ce-bdbd-003c5e370a2a",
   "metadata": {},
   "outputs": [],
   "source": [
    "# Defino vector \"s\" que contiene los nodos con condiciones de vínculo en desplazamiento.\n",
    "s = np.array([2])\n",
    "\n",
    "# Defino vector \"Us\" con los valores de las condiciones de vínculo.\n",
    "Us = [[0]]\n",
    "\n",
    "# Defino vector \"r\" que contiene los nodos con condiciones de vínculo en fuerza. Es el complemento de \"s\".\n",
    "r = np.array([i for i in range(Nn*glxn) if i not in s])\n",
    "\n",
    "# Defino vector \"Fr\" con los valores de las condiciones de vínculo.\n",
    "Fr = [[f[0]],[f[1]]]"
   ]
  },
  {
   "cell_type": "code",
   "execution_count": 21,
   "id": "26cea3f6-4f45-44d8-a5cc-d21556f596dd",
   "metadata": {},
   "outputs": [],
   "source": [
    "# Llamo al paquete \"mef\", que contiene la función \"solve\" que calcula los vectores de fuerzas y torques \"F\", y de \n",
    "# desplazamientos y rotaciones \"U\", empleando MEF. \n",
    "F, U = mef.solve(Kg, r, Fr, s, Us)"
   ]
  },
  {
   "cell_type": "code",
   "execution_count": 22,
   "id": "1fdf28ce-ebbd-4a64-944c-b41d85580c7d",
   "metadata": {},
   "outputs": [
    {
     "name": "stdout",
     "output_type": "stream",
     "text": [
      "Nodo 0     U = -0.0060 cm     F = -1500.0000 N\n",
      "Nodo 1     U = -0.0053 cm     F = -9000.0000 N\n",
      "Nodo 2     U = 0.0000 cm     F = 10500.0000 N\n"
     ]
    }
   ],
   "source": [
    "for nodo in range(Ne+1):\n",
    "    print('Nodo %s     U = %2.4f cm     F = %7.4f N'%(nodo, U[nodo], F[nodo]))"
   ]
  },
  {
   "cell_type": "code",
   "execution_count": 23,
   "id": "ad07435b-e849-43d0-bf9d-e0a3d6c07785",
   "metadata": {},
   "outputs": [
    {
     "name": "stdout",
     "output_type": "stream",
     "text": [
      "La REACCIÓN del empotramiento sobre el Nodo 2 es R = 18000.0000 N\n"
     ]
    }
   ],
   "source": [
    "# Calculo la reacción \"R_emp\" del empotramiento sobre el último nodo \"i = -1\".\n",
    "R_emp = F[-1] - f[-1]\n",
    "print('La REACCIÓN del empotramiento sobre el Nodo %s es R = %7.4f N'%(Ne, R_emp))"
   ]
  },
  {
   "cell_type": "markdown",
   "id": "06e656eb-4f76-4e41-bae1-9c1604113d07",
   "metadata": {},
   "source": [
    "### $n$ elementos"
   ]
  },
  {
   "cell_type": "code",
   "execution_count": 24,
   "id": "92a77ac8-aaf0-41f0-a9dc-4b6be275ee2c",
   "metadata": {},
   "outputs": [],
   "source": [
    "# Defino el número de elementos \"Ne\".\n",
    "Ne = 1"
   ]
  },
  {
   "cell_type": "code",
   "execution_count": 25,
   "id": "652cc252-004a-4971-882f-2efb49063e90",
   "metadata": {},
   "outputs": [],
   "source": [
    "# Llamo al paquete \"mef\", que contiene la función \"subdiv\", que particiona un elemento de longitud \"L\" en \"Ne\" elementos \n",
    "# de igual longitud.\n",
    "F, U, R_emp, sigma, f, K = mef.subdiv(E, A, L, C, Ne, glxn)"
   ]
  },
  {
   "cell_type": "code",
   "execution_count": 26,
   "id": "98ab2b02-e35d-42cb-889d-91e3f34a1bbb",
   "metadata": {},
   "outputs": [
    {
     "name": "stdout",
     "output_type": "stream",
     "text": [
      "Nodo 0     U = -0.0060 cm     F = -6000.0000 N\n",
      "Nodo 1     U = 0.0000 cm     F = 6000.0000 N\n"
     ]
    }
   ],
   "source": [
    "for nodo in range(Ne+1):\n",
    "    print('Nodo %s     U = %2.4f cm     F = %7.4f N'%(nodo, U[nodo], F[nodo]))"
   ]
  },
  {
   "cell_type": "code",
   "execution_count": 27,
   "id": "bf2caa0b-f293-4509-a2e9-8b53f84262c9",
   "metadata": {},
   "outputs": [
    {
     "name": "stdout",
     "output_type": "stream",
     "text": [
      "La REACCIÓN del empotramiento sobre el Nodo 1 es R = 18000.0000 N\n"
     ]
    }
   ],
   "source": [
    "print('La REACCIÓN del empotramiento sobre el Nodo %s es R = %7.4f N'%(Ne, R_emp))"
   ]
  },
  {
   "cell_type": "markdown",
   "id": "d4b07637-c572-4478-9210-7d856196c02c",
   "metadata": {},
   "source": [
    "## AHORA SÍ, resuelvo el Punto 3"
   ]
  },
  {
   "cell_type": "code",
   "execution_count": 28,
   "id": "8c8f0d66-01ba-4eb4-871d-0907d4427138",
   "metadata": {},
   "outputs": [],
   "source": [
    "# Defino el módulo de elasticidad \"E\" de cada elemento.\n",
    "E = 210*1e9   # Pa = N/m^2\n",
    "\n",
    "# Defino la sección \"A\" de cada elemento.\n",
    "A = 10*1e-4   # m^2\n",
    "\n",
    "# Defino la longitud \"L\" de la barra.\n",
    "L = 1.5   # m\n",
    "\n",
    "# Defino valor de la carga axial \"C\" aplicada.\n",
    "C = -20*(100**2)   # N/m^2"
   ]
  },
  {
   "cell_type": "code",
   "execution_count": 29,
   "id": "cb6f236c-ec41-4b69-8860-102b7b764010",
   "metadata": {},
   "outputs": [],
   "source": [
    "# Defino DESPLAZAMIENTOS teóricos.\n",
    "def d_x(x):\n",
    "    d = (abs(C)/(6*A*E))*(x**3 - L**3)\n",
    "    return d\n",
    "\n",
    "# Defino TENSIONES teóricas.\n",
    "def sig_x(x):\n",
    "    sig = (abs(C)/(2*A))*x**2\n",
    "    return sig\n"
   ]
  },
  {
   "cell_type": "code",
   "execution_count": 30,
   "id": "4bee6d7b-a709-49ff-b589-2a8d0117bb69",
   "metadata": {},
   "outputs": [
    {
     "data": {
      "image/png": "[encoded data removed]",
      "text/plain": [
       "<Figure size 720x576 with 1 Axes>"
      ]
     },
     "metadata": {
      "needs_background": "light"
     },
     "output_type": "display_data"
    }
   ],
   "source": [
    "# Gráfico.\n",
    "fig, ax = plt.subplots(figsize=(10,8))\n",
    "x_teo = np.linspace(0,L,500)\n",
    "plt.plot(x_teo,d_x(x_teo),label='d teórico')\n",
    "\n",
    "Nee = 2\n",
    "F, U, R_emp, sigma, f, K = mef.subdiv(E, A, L, C, Nee, glxn)\n",
    "x_exp = np.linspace(0,L,Nee+1)\n",
    "plt.plot(x_exp,U,label=f'd con elementos={Nee}')\n",
    "\n",
    "for Ne in range(1,11,2):\n",
    "    F, U, R_emp, sigma, f, K = mef.subdiv(E, A, L, C, Ne, glxn)\n",
    "    x_exp = np.linspace(0,L,Ne+1)\n",
    "    plt.plot(x_exp,U,label=f'd con elementos={Ne}')\n",
    "plt.ylabel('d [m]')\n",
    "plt.xlabel('x [m]')\n",
    "plt.legend()\n",
    "plt.grid('on')"
   ]
  },
  {
   "cell_type": "markdown",
   "id": "28a0440d-dc3d-453f-8dfc-9c5e736ca9fb",
   "metadata": {},
   "source": [
    "### $n$ elementos"
   ]
  },
  {
   "cell_type": "code",
   "execution_count": 31,
   "id": "faae69ea-1ae9-4b02-ab5a-b01b8db15257",
   "metadata": {},
   "outputs": [],
   "source": [
    "# Defino el número de elementos \"Ne\".\n",
    "Ne = 100"
   ]
  },
  {
   "cell_type": "code",
   "execution_count": 32,
   "id": "b73bfcc3-39cb-4e5b-9424-b425e3e4acd0",
   "metadata": {},
   "outputs": [],
   "source": [
    "# Llamo al paquete \"mef\", que contiene la función \"subdiv\", que particiona un elemento de longitud \"L\" en \"Ne\" elementos \n",
    "# de igual longitud.\n",
    "F, U, R_emp, sigma, f, K = mef.subdiv(E, A, L, C, Ne, glxn)"
   ]
  },
  {
   "cell_type": "code",
   "execution_count": 33,
   "id": "dca10351-850d-4db7-8927-f87ce3f55cc6",
   "metadata": {},
   "outputs": [
    {
     "name": "stdout",
     "output_type": "stream",
     "text": [
      "Nodo 0     U = -0.00054 m     F =    -7.5 N\n",
      "Nodo 1     U = -0.00054 m     F =   -45.0 N\n",
      "Nodo 2     U = -0.00054 m     F =   -90.0 N\n",
      "Nodo 3     U = -0.00054 m     F =  -135.0 N\n",
      "Nodo 4     U = -0.00054 m     F =  -180.0 N\n",
      "Nodo 5     U = -0.00054 m     F =  -225.0 N\n",
      "Nodo 6     U = -0.00054 m     F =  -270.0 N\n",
      "Nodo 7     U = -0.00054 m     F =  -315.0 N\n",
      "Nodo 8     U = -0.00054 m     F =  -360.0 N\n",
      "Nodo 9     U = -0.00054 m     F =  -405.0 N\n",
      "Nodo 10     U = -0.00054 m     F =  -450.0 N\n",
      "Nodo 11     U = -0.00054 m     F =  -495.0 N\n",
      "Nodo 12     U = -0.00053 m     F =  -540.0 N\n",
      "Nodo 13     U = -0.00053 m     F =  -585.0 N\n",
      "Nodo 14     U = -0.00053 m     F =  -630.0 N\n",
      "Nodo 15     U = -0.00053 m     F =  -675.0 N\n",
      "Nodo 16     U = -0.00053 m     F =  -720.0 N\n",
      "Nodo 17     U = -0.00053 m     F =  -765.0 N\n",
      "Nodo 18     U = -0.00053 m     F =  -810.0 N\n",
      "Nodo 19     U = -0.00053 m     F =  -855.0 N\n",
      "Nodo 20     U = -0.00053 m     F =  -900.0 N\n",
      "Nodo 21     U = -0.00053 m     F =  -945.0 N\n",
      "Nodo 22     U = -0.00053 m     F =  -990.0 N\n",
      "Nodo 23     U = -0.00053 m     F = -1035.0 N\n",
      "Nodo 24     U = -0.00053 m     F = -1080.0 N\n",
      "Nodo 25     U = -0.00053 m     F = -1125.0 N\n",
      "Nodo 26     U = -0.00053 m     F = -1170.0 N\n",
      "Nodo 27     U = -0.00053 m     F = -1215.0 N\n",
      "Nodo 28     U = -0.00052 m     F = -1260.0 N\n",
      "Nodo 29     U = -0.00052 m     F = -1305.0 N\n",
      "Nodo 30     U = -0.00052 m     F = -1350.0 N\n",
      "Nodo 31     U = -0.00052 m     F = -1395.0 N\n",
      "Nodo 32     U = -0.00052 m     F = -1440.0 N\n",
      "Nodo 33     U = -0.00052 m     F = -1485.0 N\n",
      "Nodo 34     U = -0.00051 m     F = -1530.0 N\n",
      "Nodo 35     U = -0.00051 m     F = -1575.0 N\n",
      "Nodo 36     U = -0.00051 m     F = -1620.0 N\n",
      "Nodo 37     U = -0.00051 m     F = -1665.0 N\n",
      "Nodo 38     U = -0.00051 m     F = -1710.0 N\n",
      "Nodo 39     U = -0.00050 m     F = -1755.0 N\n",
      "Nodo 40     U = -0.00050 m     F = -1800.0 N\n",
      "Nodo 41     U = -0.00050 m     F = -1845.0 N\n",
      "Nodo 42     U = -0.00050 m     F = -1890.0 N\n",
      "Nodo 43     U = -0.00049 m     F = -1935.0 N\n",
      "Nodo 44     U = -0.00049 m     F = -1980.0 N\n",
      "Nodo 45     U = -0.00049 m     F = -2025.0 N\n",
      "Nodo 46     U = -0.00048 m     F = -2070.0 N\n",
      "Nodo 47     U = -0.00048 m     F = -2115.0 N\n",
      "Nodo 48     U = -0.00048 m     F = -2160.0 N\n",
      "Nodo 49     U = -0.00047 m     F = -2205.0 N\n",
      "Nodo 50     U = -0.00047 m     F = -2250.0 N\n",
      "Nodo 51     U = -0.00046 m     F = -2295.0 N\n",
      "Nodo 52     U = -0.00046 m     F = -2340.0 N\n",
      "Nodo 53     U = -0.00046 m     F = -2385.0 N\n",
      "Nodo 54     U = -0.00045 m     F = -2430.0 N\n",
      "Nodo 55     U = -0.00045 m     F = -2475.0 N\n",
      "Nodo 56     U = -0.00044 m     F = -2520.0 N\n",
      "Nodo 57     U = -0.00044 m     F = -2565.0 N\n",
      "Nodo 58     U = -0.00043 m     F = -2610.0 N\n",
      "Nodo 59     U = -0.00043 m     F = -2655.0 N\n",
      "Nodo 60     U = -0.00042 m     F = -2700.0 N\n",
      "Nodo 61     U = -0.00041 m     F = -2745.0 N\n",
      "Nodo 62     U = -0.00041 m     F = -2790.0 N\n",
      "Nodo 63     U = -0.00040 m     F = -2835.0 N\n",
      "Nodo 64     U = -0.00040 m     F = -2880.0 N\n",
      "Nodo 65     U = -0.00039 m     F = -2925.0 N\n",
      "Nodo 66     U = -0.00038 m     F = -2970.0 N\n",
      "Nodo 67     U = -0.00037 m     F = -3015.0 N\n",
      "Nodo 68     U = -0.00037 m     F = -3060.0 N\n",
      "Nodo 69     U = -0.00036 m     F = -3105.0 N\n",
      "Nodo 70     U = -0.00035 m     F = -3150.0 N\n",
      "Nodo 71     U = -0.00034 m     F = -3195.0 N\n",
      "Nodo 72     U = -0.00034 m     F = -3240.0 N\n",
      "Nodo 73     U = -0.00033 m     F = -3285.0 N\n",
      "Nodo 74     U = -0.00032 m     F = -3330.0 N\n",
      "Nodo 75     U = -0.00031 m     F = -3375.0 N\n",
      "Nodo 76     U = -0.00030 m     F = -3420.0 N\n",
      "Nodo 77     U = -0.00029 m     F = -3465.0 N\n",
      "Nodo 78     U = -0.00028 m     F = -3510.0 N\n",
      "Nodo 79     U = -0.00027 m     F = -3555.0 N\n",
      "Nodo 80     U = -0.00026 m     F = -3600.0 N\n",
      "Nodo 81     U = -0.00025 m     F = -3645.0 N\n",
      "Nodo 82     U = -0.00024 m     F = -3690.0 N\n",
      "Nodo 83     U = -0.00023 m     F = -3735.0 N\n",
      "Nodo 84     U = -0.00022 m     F = -3780.0 N\n",
      "Nodo 85     U = -0.00021 m     F = -3825.0 N\n",
      "Nodo 86     U = -0.00019 m     F = -3870.0 N\n",
      "Nodo 87     U = -0.00018 m     F = -3915.0 N\n",
      "Nodo 88     U = -0.00017 m     F = -3960.0 N\n",
      "Nodo 89     U = -0.00016 m     F = -4005.0 N\n",
      "Nodo 90     U = -0.00015 m     F = -4050.0 N\n",
      "Nodo 91     U = -0.00013 m     F = -4095.0 N\n",
      "Nodo 92     U = -0.00012 m     F = -4140.0 N\n",
      "Nodo 93     U = -0.00010 m     F = -4185.0 N\n",
      "Nodo 94     U = -0.00009 m     F = -4230.0 N\n",
      "Nodo 95     U = -0.00008 m     F = -4275.0 N\n",
      "Nodo 96     U = -0.00006 m     F = -4320.0 N\n",
      "Nodo 97     U = -0.00005 m     F = -4365.0 N\n",
      "Nodo 98     U = -0.00003 m     F = -4410.0 N\n",
      "Nodo 99     U = -0.00002 m     F = -4455.0 N\n",
      "Nodo 100     U = 0.00000 m     F = 222757.5 N\n"
     ]
    }
   ],
   "source": [
    "for nodo in range(Ne+1):\n",
    "    print('Nodo %s     U = %2.5f m     F = %7.1f N'%(nodo, U[nodo], F[nodo]))"
   ]
  },
  {
   "cell_type": "code",
   "execution_count": 34,
   "id": "0ae3bbc5-6db9-4a1d-9dde-483a72f6d91a",
   "metadata": {},
   "outputs": [
    {
     "name": "stdout",
     "output_type": "stream",
     "text": [
      "La REACCIÓN del empotramiento sobre el Nodo 100 es R = 225000.0000 N\n"
     ]
    }
   ],
   "source": [
    "print('La REACCIÓN del empotramiento sobre el Nodo %s es R = %7.4f N'%(Ne, R_emp))"
   ]
  },
  {
   "cell_type": "code",
   "execution_count": 35,
   "id": "4f4f0a5f-d8e5-425e-9b0c-1bed0907ac1e",
   "metadata": {},
   "outputs": [
    {
     "name": "stdout",
     "output_type": "stream",
     "text": [
      "Elemento 0     Tensión = 7500.00000 MN/m^2\n",
      "Elemento 1     Tensión = 52500.00000 MN/m^2\n",
      "Elemento 2     Tensión = 142500.00000 MN/m^2\n",
      "Elemento 3     Tensión = 277500.00000 MN/m^2\n",
      "Elemento 4     Tensión = 457500.00000 MN/m^2\n",
      "Elemento 5     Tensión = 682500.00000 MN/m^2\n",
      "Elemento 6     Tensión = 952500.00000 MN/m^2\n",
      "Elemento 7     Tensión = 1267500.00000 MN/m^2\n",
      "Elemento 8     Tensión = 1627500.00000 MN/m^2\n",
      "Elemento 9     Tensión = 2032500.00000 MN/m^2\n",
      "Elemento 10     Tensión = 2482500.00000 MN/m^2\n",
      "Elemento 11     Tensión = 2977500.00000 MN/m^2\n",
      "Elemento 12     Tensión = 3517500.00000 MN/m^2\n",
      "Elemento 13     Tensión = 4102500.00000 MN/m^2\n",
      "Elemento 14     Tensión = 4732500.00000 MN/m^2\n",
      "Elemento 15     Tensión = 5407500.00000 MN/m^2\n",
      "Elemento 16     Tensión = 6127500.00000 MN/m^2\n",
      "Elemento 17     Tensión = 6892500.00000 MN/m^2\n",
      "Elemento 18     Tensión = 7702500.00000 MN/m^2\n",
      "Elemento 19     Tensión = 8557500.00000 MN/m^2\n",
      "Elemento 20     Tensión = 9457500.00000 MN/m^2\n",
      "Elemento 21     Tensión = 10402500.00000 MN/m^2\n",
      "Elemento 22     Tensión = 11392500.00000 MN/m^2\n",
      "Elemento 23     Tensión = 12427500.00000 MN/m^2\n",
      "Elemento 24     Tensión = 13507500.00000 MN/m^2\n",
      "Elemento 25     Tensión = 14632500.00000 MN/m^2\n",
      "Elemento 26     Tensión = 15802500.00000 MN/m^2\n",
      "Elemento 27     Tensión = 17017500.00000 MN/m^2\n",
      "Elemento 28     Tensión = 18277500.00000 MN/m^2\n",
      "Elemento 29     Tensión = 19582500.00000 MN/m^2\n",
      "Elemento 30     Tensión = 20932500.00000 MN/m^2\n",
      "Elemento 31     Tensión = 22327500.00000 MN/m^2\n",
      "Elemento 32     Tensión = 23767500.00000 MN/m^2\n",
      "Elemento 33     Tensión = 25252500.00000 MN/m^2\n",
      "Elemento 34     Tensión = 26782500.00000 MN/m^2\n",
      "Elemento 35     Tensión = 28357500.00000 MN/m^2\n",
      "Elemento 36     Tensión = 29977500.00000 MN/m^2\n",
      "Elemento 37     Tensión = 31642500.00000 MN/m^2\n",
      "Elemento 38     Tensión = 33352500.00000 MN/m^2\n",
      "Elemento 39     Tensión = 35107500.00000 MN/m^2\n",
      "Elemento 40     Tensión = 36907500.00000 MN/m^2\n",
      "Elemento 41     Tensión = 38752500.00000 MN/m^2\n",
      "Elemento 42     Tensión = 40642500.00000 MN/m^2\n",
      "Elemento 43     Tensión = 42577500.00000 MN/m^2\n",
      "Elemento 44     Tensión = 44557500.00000 MN/m^2\n",
      "Elemento 45     Tensión = 46582500.00000 MN/m^2\n",
      "Elemento 46     Tensión = 48652500.00000 MN/m^2\n",
      "Elemento 47     Tensión = 50767500.00000 MN/m^2\n",
      "Elemento 48     Tensión = 52927500.00000 MN/m^2\n",
      "Elemento 49     Tensión = 55132500.00000 MN/m^2\n",
      "Elemento 50     Tensión = 57382500.00000 MN/m^2\n",
      "Elemento 51     Tensión = 59677500.00000 MN/m^2\n",
      "Elemento 52     Tensión = 62017500.00000 MN/m^2\n",
      "Elemento 53     Tensión = 64402500.00000 MN/m^2\n",
      "Elemento 54     Tensión = 66832500.00000 MN/m^2\n",
      "Elemento 55     Tensión = 69307500.00000 MN/m^2\n",
      "Elemento 56     Tensión = 71827500.00000 MN/m^2\n",
      "Elemento 57     Tensión = 74392500.00000 MN/m^2\n",
      "Elemento 58     Tensión = 77002500.00000 MN/m^2\n",
      "Elemento 59     Tensión = 79657500.00000 MN/m^2\n",
      "Elemento 60     Tensión = 82357500.00000 MN/m^2\n",
      "Elemento 61     Tensión = 85102500.00000 MN/m^2\n",
      "Elemento 62     Tensión = 87892500.00000 MN/m^2\n",
      "Elemento 63     Tensión = 90727500.00000 MN/m^2\n",
      "Elemento 64     Tensión = 93607500.00000 MN/m^2\n",
      "Elemento 65     Tensión = 96532500.00000 MN/m^2\n",
      "Elemento 66     Tensión = 99502500.00000 MN/m^2\n",
      "Elemento 67     Tensión = 102517500.00000 MN/m^2\n",
      "Elemento 68     Tensión = 105577500.00000 MN/m^2\n",
      "Elemento 69     Tensión = 108682500.00000 MN/m^2\n",
      "Elemento 70     Tensión = 111832500.00000 MN/m^2\n",
      "Elemento 71     Tensión = 115027500.00000 MN/m^2\n",
      "Elemento 72     Tensión = 118267500.00000 MN/m^2\n",
      "Elemento 73     Tensión = 121552500.00000 MN/m^2\n",
      "Elemento 74     Tensión = 124882500.00000 MN/m^2\n",
      "Elemento 75     Tensión = 128257500.00000 MN/m^2\n",
      "Elemento 76     Tensión = 131677500.00000 MN/m^2\n",
      "Elemento 77     Tensión = 135142500.00000 MN/m^2\n",
      "Elemento 78     Tensión = 138652500.00000 MN/m^2\n",
      "Elemento 79     Tensión = 142207500.00000 MN/m^2\n",
      "Elemento 80     Tensión = 145807500.00000 MN/m^2\n",
      "Elemento 81     Tensión = 149452500.00000 MN/m^2\n",
      "Elemento 82     Tensión = 153142500.00000 MN/m^2\n",
      "Elemento 83     Tensión = 156877500.00000 MN/m^2\n",
      "Elemento 84     Tensión = 160657500.00000 MN/m^2\n",
      "Elemento 85     Tensión = 164482500.00000 MN/m^2\n",
      "Elemento 86     Tensión = 168352500.00000 MN/m^2\n",
      "Elemento 87     Tensión = 172267500.00000 MN/m^2\n",
      "Elemento 88     Tensión = 176227500.00000 MN/m^2\n",
      "Elemento 89     Tensión = 180232500.00000 MN/m^2\n",
      "Elemento 90     Tensión = 184282500.00000 MN/m^2\n",
      "Elemento 91     Tensión = 188377500.00000 MN/m^2\n",
      "Elemento 92     Tensión = 192517500.00000 MN/m^2\n",
      "Elemento 93     Tensión = 196702500.00000 MN/m^2\n",
      "Elemento 94     Tensión = 200932500.00000 MN/m^2\n",
      "Elemento 95     Tensión = 205207500.00000 MN/m^2\n",
      "Elemento 96     Tensión = 209527500.00000 MN/m^2\n",
      "Elemento 97     Tensión = 213892500.00000 MN/m^2\n",
      "Elemento 98     Tensión = 218302500.00000 MN/m^2\n",
      "Elemento 99     Tensión = 222757500.00000 MN/m^2\n"
     ]
    }
   ],
   "source": [
    "for nodo in range(Ne):\n",
    "    print('Elemento %s     Tensión = %2.5f MN/m^2'%(nodo, sigma[nodo]))"
   ]
  },
  {
   "cell_type": "code",
   "execution_count": 36,
   "id": "bee2c37b-0058-46de-b4cf-2a1a5244e009",
   "metadata": {},
   "outputs": [],
   "source": [
    "# Defino la matriz de nodos \"MN\", aprovechando que son todos colineales en el eje \"x\" y todas las barras miden lo mismo.\n",
    "MN = np.zeros([Ne+1]).reshape([-1,1])\n",
    "sum = 0\n",
    "for i in range(Ne+1):\n",
    "    MN[i] = sum\n",
    "    sum += L/Ne"
   ]
  },
  {
   "cell_type": "code",
   "execution_count": 37,
   "id": "dfa84067-a08a-4178-8755-34019164f5e0",
   "metadata": {},
   "outputs": [],
   "source": [
    "# Defino vector \"sig_elem\":\n",
    "# - Columna \"0\" almacena nodos, para poder representar los elementos.\n",
    "# - Columna \"1\" almacena tensiones, constantes en cada elemento.\n",
    "sig_elem = np.zeros([2*Ne, 2])\n",
    "for i in range(Ne):\n",
    "    sig_elem[i*2,0] = MN[i]\n",
    "    sig_elem[i*2 + 1,0] = MN[i+1]\n",
    "    sig_elem[i*2,1] = sigma[i]\n",
    "    sig_elem[i*2 + 1,1] = sigma[i]"
   ]
  },
  {
   "cell_type": "code",
   "execution_count": 38,
   "id": "1575dd6d-1e60-469d-b03e-f41abeb2d2aa",
   "metadata": {},
   "outputs": [
    {
     "data": {
      "image/png": "[encoded data removed]",
      "text/plain": [
       "<Figure size 720x576 with 1 Axes>"
      ]
     },
     "metadata": {
      "needs_background": "light"
     },
     "output_type": "display_data"
    }
   ],
   "source": [
    "# Gráfico de las tensiones, según cantidad de elementos.\n",
    "fig, ax = plt.subplots(figsize=(10,8))\n",
    "plt.plot(x_teo,sig_x(x_teo),label='Tensión teórica')\n",
    "plt.plot(sig_elem[:,0],sig_elem[:,1],label=f'Tensión en {Ne} elementos')\n",
    "\n",
    "plt.ylabel('$\\sigma$ [N/m^2]')\n",
    "plt.xlabel('x [m]')\n",
    "plt.legend()\n",
    "plt.grid('on')"
   ]
  },
  {
   "cell_type": "code",
   "execution_count": 39,
   "id": "e02350a3-99ec-4157-8938-17b371367d72",
   "metadata": {},
   "outputs": [],
   "source": [
    "# Las tensiones dan constantes en cada barra, por culpa de derivar las funciones de interpolación.\n",
    "# Puedo decir que para el centro de cada elemento, va a dar la tensión teórica a medida que más elementos uso."
   ]
  },
  {
   "cell_type": "code",
   "execution_count": null,
   "id": "e237ce27-41db-44e6-9e98-1f754bf83b94",
   "metadata": {},
   "outputs": [],
   "source": []
  }
 ],
 "metadata": {
  "kernelspec": {
   "display_name": "Python 3 (ipykernel)",
   "language": "python",
   "name": "python3"
  },
  "language_info": {
   "codemirror_mode": {
    "name": "ipython",
    "version": 3
   },
   "file_extension": ".py",
   "mimetype": "text/x-python",
   "name": "python",
   "nbconvert_exporter": "python",
   "pygments_lexer": "ipython3",
   "version": "3.9.10"
  }
 },
 "nbformat": 4,
 "nbformat_minor": 5
}
