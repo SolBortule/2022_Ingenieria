{
 "cells": [
  {
   "cell_type": "code",
   "execution_count": 1,
   "id": "8635ef2e-9a96-4900-98f9-758beaf37324",
   "metadata": {},
   "outputs": [],
   "source": [
    "import numpy as np   # Importo paquete de álgebra lineal\n",
    "import matplotlib.pyplot as plt   # Importo paquete de gráficos\n",
    "import copy\n",
    "import mef\n",
    "plt.rc('figure', figsize=(15,8))   # Para gráficos\n",
    "plt.rc('font',size=22)             # Para gráficos"
   ]
  },
  {
   "cell_type": "markdown",
   "id": "6e9b2627-1c39-4710-ae75-4353b478eeba",
   "metadata": {},
   "source": [
    "# Punto 5"
   ]
  },
  {
   "cell_type": "markdown",
   "id": "add47a0f-1abe-4713-968f-f0bdafe916dc",
   "metadata": {},
   "source": [
    "Determine los desplazamientos de los nodos y sus pendientes; las fuerzas en cada elemento y las reacciones. Tome $E = 29 x 10^{6}\\: psi$ (libras por pulgada cuadrada) e $I = 200\\: in^4$.\n",
    "<center><img src=\"ImgProb05.png\"></center>"
   ]
  },
  {
   "cell_type": "code",
   "execution_count": 2,
   "id": "7094daf1-ff40-454f-a87a-db3b829d9aaf",
   "metadata": {},
   "outputs": [],
   "source": [
    "# Defino los grados de libertad por nodo \"glxn\".\n",
    "glxn = 2"
   ]
  },
  {
   "cell_type": "code",
   "execution_count": 3,
   "id": "2ef24cea-82c8-4777-a83e-8b9d12447ba4",
   "metadata": {},
   "outputs": [],
   "source": [
    "# Defino el módulo de elasticidad \"E\" de la viga.\n",
    "E = 29e6   # psi=lb/in^2\n",
    "# Transformo 1 ft = 12 in.\n",
    "E = E*(12**2)   # lb/ft^2\n",
    "\n",
    "# Defino el momento de inercia \"I\" de la viga.\n",
    "I = 200   # in^4\n",
    "# Transformo 1 ft = 12 in.\n",
    "I = I/(12**4)   # ft^4\n",
    "\n",
    "# Defino la longitud \"L\" de la viga.\n",
    "L = 15   # ft\n",
    "\n",
    "# Defino el valor de la carga distribuida \"w\".\n",
    "w = 200   # lb/ft"
   ]
  },
  {
   "cell_type": "code",
   "execution_count": 4,
   "id": "6396b8cf-42a0-47ea-9b1f-403cf56074ea",
   "metadata": {},
   "outputs": [],
   "source": [
    "# Defino la matriz de nodos \"MN\".\n",
    "# - Columna 1 es la coordenada \"x\" del nodo.\n",
    "# - Columna 2 es la coordenada \"y\" del nodo.\n",
    "# - Columna 3 es la coordenada \"z\" del nodo.\n",
    "MN = np.array([[0,0,0],\n",
    "               [15,0,0],\n",
    "               [30,0,0]])\n",
    "\n",
    "# Su número de filas es el número de NODOS \"Nn\".\n",
    "Nn = MN.shape[0]"
   ]
  },
  {
   "cell_type": "code",
   "execution_count": 5,
   "id": "99b3868f-296b-4d97-bc65-9c8f6cb9b4b8",
   "metadata": {},
   "outputs": [],
   "source": [
    "# Defino la matriz de conectividad \"MC\".\n",
    "# Informa qué nodos componen a cada elemento.\n",
    "MC= np.array([[0,1],\n",
    "              [1,2]])\n",
    "\n",
    "# Su número de filas es el número de ELEMENTOS \"Ne\".\n",
    "# Su número de columnas es el número NODOS POR ELEMENTO \"Nnxe\".\n",
    "Ne, Nnxe = MC.shape"
   ]
  },
  {
   "cell_type": "code",
   "execution_count": 6,
   "id": "ecdf9f44-37f0-4b5a-b2a7-e30a61c1dfa9",
   "metadata": {},
   "outputs": [],
   "source": [
    "# Defino la longitud \"Le\" de cada elemento.\n",
    "Le = L/Ne"
   ]
  },
  {
   "cell_type": "markdown",
   "id": "e23c750b-0b9e-4498-9db6-392ee5e97adc",
   "metadata": {},
   "source": [
    "## Viga, $Ne = 1$ elemento, $Nn = 2$ nodos, con carga distribuida $w$"
   ]
  },
  {
   "cell_type": "markdown",
   "id": "f6e95024-b6a9-4b68-a6a4-c9ad48132326",
   "metadata": {},
   "source": [
    "La carga distribuida $w$ se traslada a los nodos $0$ y $1$ de la siguiente manera:\n",
    "$$\n",
    "f_0 = \\frac{-w{L_e}}{2} \\hspace{0.5cm} ; \\hspace{0.5cm} m_0 = \\frac{-w{L_e}^2}{12} \\hspace{0.5cm} ; \\hspace{0.5cm} f_1 = \\frac{-w{L_e}}{2} \\hspace{0.5cm} ; \\hspace{0.5cm} m_1 = \\frac{w{L_e}^2}{12}\n",
    "$$\n",
    "<center><img src=\"viga.png\"></center>"
   ]
  },
  {
   "cell_type": "markdown",
   "id": "caf913ea-0761-4569-afb4-fdcdc3287739",
   "metadata": {},
   "source": [
    "## Viga, $Ne = 2$ elementos, $Nn = 3$ nodos, con carga distribuida $w$"
   ]
  },
  {
   "cell_type": "markdown",
   "id": "69f900ab-1203-490c-bce1-aa279547026a",
   "metadata": {},
   "source": [
    "La carga distribuida $w$ se traslada a los nodos $0$, $1$ y $2$ de la siguiente manera:\n",
    "$$\n",
    "f_0 = \\frac{-w{L_e}}{2} \\hspace{0.5cm} ; \\hspace{0.5cm} m_0 = \\frac{-w{L_e}^2}{12} \\hspace{0.5cm} ; \\hspace{0.5cm} f_1 = -w{L_e} \\hspace{0.5cm} ; \\hspace{0.5cm} m_1 = 0 \\hspace{0.5cm} ; \\hspace{0.5cm} f_2 = \\frac{-w{L_e}}{2} \\hspace{0.5cm} ; \\hspace{0.5cm} m_2 = \\frac{w{L_e}^2}{12}\n",
    "$$"
   ]
  },
  {
   "cell_type": "code",
   "execution_count": 7,
   "id": "eda8c540-54e1-48ce-affc-340fc78c0bf8",
   "metadata": {},
   "outputs": [],
   "source": [
    "# Defino vector \"fm\" que almacena fuerzas y momentos trasladados a los nodos, en índices pares e impares respectivamente.\n",
    "fm = np.zeros([2*(Ne+1)])\n",
    "\n",
    "fm[0] = -w*Le/2\n",
    "fm[1] = -(w*Le**2)/12\n",
    "fm[2] = -w*Le\n",
    "fm[3] = 0\n",
    "fm[4] = -w*Le/2\n",
    "fm[5] = (w*Le**2)/12"
   ]
  },
  {
   "cell_type": "markdown",
   "id": "e74d60d3-1592-4cf4-b35e-f202647a1498",
   "metadata": {},
   "source": [
    "### Condiciones de vínculo en DESPLAZAMIENTO y ROTACIÓN\n",
    "- $d_0 = 0\\: m$ (empotramiento)\n",
    "- $\\phi_0 = 0$\n",
    "- $d_2 = 0\\: m$\n",
    "\n",
    "### Condiciones de vínculo en FUERZA y TORQUE\n",
    "- $F_1 = f_1$ (debida a la carga distribuida)\n",
    "- $M_1 = m_1$ (debida a la carga distribuida)\n",
    "- $M_2 = m_2$ (debida a la carga distribuida)"
   ]
  },
  {
   "cell_type": "code",
   "execution_count": 8,
   "id": "159b07bb-46d2-4e38-ba1d-62e2daabaaa0",
   "metadata": {},
   "outputs": [],
   "source": [
    "# Defino vector \"s\" que contiene los nodos con condiciones de vínculo en desplazamiento y ángulo.\n",
    "s = np.array([0,1,4])\n",
    "\n",
    "# Defino vector \"Us\" con los valores de las condiciones de vínculo.\n",
    "Us = [[0],[0],[0]]\n",
    "\n",
    "# Defino vector \"r\" que contiene los nodos con condiciones de vínculo en fuerza y torque. Es el complemento de \"s\".\n",
    "r = np.array([i for i in range(Nn*glxn) if i not in s])\n",
    "\n",
    "# Defino vector \"Fr\" con los valores de las condiciones de vínculo.\n",
    "Fr = np.array([[fm[i]] for i in r])"
   ]
  },
  {
   "cell_type": "markdown",
   "id": "3e5fdcf8-f5eb-435a-bc57-3041d7908147",
   "metadata": {},
   "source": [
    "## Resolución"
   ]
  },
  {
   "cell_type": "code",
   "execution_count": 9,
   "id": "65e0e742-9b6c-4f47-97bf-af7070079867",
   "metadata": {},
   "outputs": [],
   "source": [
    "archivo= 'Matrices_elementales.txt'\n",
    "with open(archivo,'w') as f:   # Creo archivo desde cero, por eso uso \"w\".\n",
    "    f.write('Matrices Elementales\\n ===============')\n",
    "archivo1= 'Matriz_global.txt'\n",
    "with open(archivo1,'w') as f:   # Creo archivo desde cero, por eso uso \"w\".\n",
    "    f.write('Matriz Global\\n ===============')"
   ]
  },
  {
   "cell_type": "code",
   "execution_count": 10,
   "id": "af3381c2-117b-453d-9054-ac367820a26c",
   "metadata": {},
   "outputs": [],
   "source": [
    "# Defino la matriz elemental \"Ke1\" de los elementos \"0\" y \"1\".\n",
    "Ke1 = (E*I/L**3)*np.array([[12,6*L,-12,6*L],\n",
    "                           [6*L,4*(L**2),-6*L,2*(L**2)],\n",
    "                           [-12,-6*L,12,-6*L],\n",
    "                           [6*L,2*(L**2),-6*L,4*(L**2)]])"
   ]
  },
  {
   "cell_type": "code",
   "execution_count": 11,
   "id": "16d2d310-df8c-4c9c-8913-f57cd9e40f9a",
   "metadata": {},
   "outputs": [],
   "source": [
    "# Defino matriz global \"Kg\".\n",
    "Kg = np.zeros([glxn*Nn, glxn*Nn])\n",
    "\n",
    "# Ensamblo las matrices elementales para obtener la matriz global \"Kg\".\n",
    "for e in range(Ne):\n",
    "    Ke = Ke1\n",
    "    fe = np.abs(Ke.max()) # Factor de escala, para que los números en \"Ke\" se lean mejor.\n",
    "    with open(archivo,'a') as f:   # Voy reescribiendo el archivo con nuevas \"Ke\", por eso uso \"a\".\n",
    "        f.write(f'\\nelemento {e}, fe = {fe:4e}\\n')\n",
    "        f.write(f'{Ke/fe}\\n')\n",
    "\n",
    "    for i in range(Nnxe):\n",
    "        rangoi = np.linspace(i*glxn, (i+1)*glxn-1, Nnxe).astype(int)\n",
    "        rangoni = np.linspace(MC[e, i]*glxn, (MC[e, i]+1)*glxn-1, Nnxe).astype(int)\n",
    "        for j in range(Nnxe):\n",
    "            rangoj = np.linspace(j*glxn, (j+1)*glxn-1, Nnxe).astype(int)\n",
    "            rangonj = np.linspace(MC[e, j]*glxn, (MC[e, j]+1)*glxn-1, Nnxe).astype(int)\n",
    "            Kg[np.ix_(rangoni, rangonj)] += Ke[np.ix_(rangoi, rangoj)]\n",
    "fe = np.abs(Kg.max())\n",
    "with open(archivo1,'a') as f:   # Reescribo el archivo con la matriz global \"Kg\" obtenida, por eso uso \"a\".\n",
    "    f.write(f'\\nMatriz Global, fe = {fe:4e}\\n')\n",
    "    f.write(f'{Kg/fe}\\n')"
   ]
  },
  {
   "cell_type": "code",
   "execution_count": 12,
   "id": "642593d5-04dd-4da0-be08-dcb81bf2ab8f",
   "metadata": {},
   "outputs": [],
   "source": [
    "# Llamo al paquete \"mef\", que contiene la función \"solve\" que calcula los vectores de fuerzas y torques \"F\", y de \n",
    "# desplazamientos y rotaciones \"U\", empleando MEF. \n",
    "F, U = mef.solve(Kg, r, Fr, s, Us)"
   ]
  },
  {
   "cell_type": "code",
   "execution_count": 13,
   "id": "6f3a21f9-e172-4445-974a-eb268f6dd54d",
   "metadata": {},
   "outputs": [
    {
     "name": "stdout",
     "output_type": "stream",
     "text": [
      "Las FUERZAS (en lb) y TORQUES (en lb.ft) son:\n",
      "[[ 1078.125]\n",
      " [ 8906.25 ]\n",
      " [-1500.   ]\n",
      " [    0.   ]\n",
      " [  421.875]\n",
      " [  937.5  ]]\n",
      "Los DESPLAZAMIENTOS (en ft) y ROTACIONES son:\n",
      "[[ 0.        ]\n",
      " [ 0.        ]\n",
      " [-0.0098195 ]\n",
      " [-0.0003055 ]\n",
      " [ 0.        ]\n",
      " [ 0.00122198]]\n"
     ]
    }
   ],
   "source": [
    "print('Las FUERZAS (en lb) y TORQUES (en lb.ft) son:')\n",
    "print(F)\n",
    "print('Los DESPLAZAMIENTOS (en ft) y ROTACIONES son:')\n",
    "print(U)"
   ]
  },
  {
   "cell_type": "code",
   "execution_count": 14,
   "id": "102343ed-919f-4606-a534-d9c0365f7fb1",
   "metadata": {},
   "outputs": [
    {
     "name": "stdout",
     "output_type": "stream",
     "text": [
      "Nodo 1     d =   0.0000 ft     Phi =  0.0000     F =   1078.1250 lb     M_Phi =   8906.2500 lb.ft\n",
      "Nodo 2     d =  -9.8195 ft     Phi = -0.3055     F =  -1500.0000 lb     M_Phi =      0.0000 lb.ft\n",
      "Nodo 3     d =   0.0000 ft     Phi =  1.2220     F =    421.8750 lb     M_Phi =    937.5000 lb.ft\n"
     ]
    }
   ],
   "source": [
    "# FORMA MÁS LINDA DE PRESENTAR LOS DATOS:\n",
    "# - \"%s\" significa que te pone número entero.\n",
    "# - \"%.4f\" significa que te pone número con 4 cifras decimales.\n",
    "# - \"%2.4f\" y \"%7.4f\" sólo varían en que con \"7\" te pone los números alineados respecto del \"=\" y queda más lindo si \n",
    "# llega  a haber uno con signo \"-\".\n",
    "for nodo in range(Nn):\n",
    "    print('Nodo %s     d = %8.4f ft     Phi = %7.4f     F = %11.4f lb     M_Phi = %11.4f lb.ft'%(nodo+1, U[2*nodo]*1000, U[2*nodo+1]*1000, F[2*nodo], F[2*nodo+1]))"
   ]
  },
  {
   "cell_type": "code",
   "execution_count": 15,
   "id": "e1014c85-b0f0-4218-ae7f-06cbbdab0364",
   "metadata": {},
   "outputs": [],
   "source": [
    "# Calculo las fuerzas de reacción \"R\" como \"R = F - fm\".\n",
    "fm = fm.reshape([-1,1])\n",
    "R = F - fm"
   ]
  },
  {
   "cell_type": "code",
   "execution_count": 16,
   "id": "00ffeba6-35d8-4330-94dd-6da9bc54edb0",
   "metadata": {},
   "outputs": [
    {
     "name": "stdout",
     "output_type": "stream",
     "text": [
      "Las REACCIONES de FUERZA (en lb) y TORQUE (en lb.ft) son:\n",
      "[[1828.125]\n",
      " [9843.75 ]\n",
      " [   0.   ]\n",
      " [   0.   ]\n",
      " [1171.875]\n",
      " [   0.   ]]\n"
     ]
    }
   ],
   "source": [
    "print('Las REACCIONES de FUERZA (en lb) y TORQUE (en lb.ft) son:')\n",
    "print(R)"
   ]
  },
  {
   "cell_type": "code",
   "execution_count": null,
   "id": "179f0d11-3e8d-41ba-83c8-39260943fbc4",
   "metadata": {},
   "outputs": [],
   "source": []
  }
 ],
 "metadata": {
  "kernelspec": {
   "display_name": "Python 3 (ipykernel)",
   "language": "python",
   "name": "python3"
  },
  "language_info": {
   "codemirror_mode": {
    "name": "ipython",
    "version": 3
   },
   "file_extension": ".py",
   "mimetype": "text/x-python",
   "name": "python",
   "nbconvert_exporter": "python",
   "pygments_lexer": "ipython3",
   "version": "3.9.10"
  }
 },
 "nbformat": 4,
 "nbformat_minor": 5
}
