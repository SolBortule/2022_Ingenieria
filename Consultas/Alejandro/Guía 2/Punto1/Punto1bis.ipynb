{
 "cells": [
  {
   "cell_type": "code",
   "execution_count": 1,
   "id": "508428c4-7e3e-4e09-b3d5-ab37a83c75c5",
   "metadata": {},
   "outputs": [],
   "source": [
    "import numpy as np   # Importo paquete de álgebra lineal\n",
    "import matplotlib.pyplot as plt   # Importo paquete de gráficos\n",
    "import copy\n",
    "import mef\n",
    "plt.rc('figure', figsize=(15,8))   # Para gráficos\n",
    "plt.rc('font',size=22)             # Para gráficos"
   ]
  },
  {
   "cell_type": "markdown",
   "id": "fc5d3279-4a27-4945-ae7c-bcfc8d14b37f",
   "metadata": {},
   "source": [
    "## Punto 1"
   ]
  },
  {
   "cell_type": "markdown",
   "id": "8ca986ee-730e-4d85-9b8f-7088bfe4fea4",
   "metadata": {},
   "source": [
    "Se desplaza el punto final del sistema de resortes mostrado en la figura, hasta unirlo a la pared. Todos los resortes tienen constantes $k = 200\\:\\frac{kN}{m}$, siendo el desplazamiento final de $\\delta = 20\\:mm$. Determine los desplazamientos de cada uno de los nodos, las fuerzas en cada elemento y las fuerzas globales (reacción de la pared y $F$).\n",
    "<center><img src=\"ImgProb01.png\"></center>"
   ]
  },
  {
   "cell_type": "code",
   "execution_count": 2,
   "id": "bfa13900-b0f9-4d1e-815c-55d59e8cfe3c",
   "metadata": {},
   "outputs": [],
   "source": [
    "# Defino constante \"k\" de los \"Ne\" resortes.\n",
    "k = 200   # kN/m\n",
    "\n",
    "# Defino desplazamiento final.\n",
    "desp = 0.020   # m\n",
    "\n",
    "# Defino la cantidad de nodos \"N\".\n",
    "N = 4"
   ]
  },
  {
   "cell_type": "markdown",
   "id": "0d70c5e3-5769-408a-8f6d-6fb0461058e0",
   "metadata": {},
   "source": [
    "Se tienen $Ne = 3$ resortes con constante $k_1 = k_2 = k_3 = k = 200\\:\\frac{kN}{m}$. El número de nodos es $N = 4$.\n",
    "\n",
    "A cada fuerza $f_i$ le corresponde un desplazamiento $u_i$. Planteando el diagrama de cuerpo libre, se obtienen las siguientes relaciones:\n",
    "$$\n",
    "\\scriptsize \\begin{pmatrix} F_1 \\\\ F_2 \\\\ F_3 \\\\ F_4 \\end{pmatrix} \\:\\:\\: = \\:\\:\\: \\begin{pmatrix} k_1 & -k_1 & 0 & 0 \\\\ -k_1 & k_1+k_2 & -k_2 & 0 \\\\ 0 & -k_2 & k_2+k_3 & -k_3 \\\\ 0 & 0 & -k_3 & k_3 \\end{pmatrix} \\begin{pmatrix} x_1 \\\\ x_2 \\\\ x_3 \\\\ x_4 \\end{pmatrix} \\:\\:\\: = \\:\\:\\: \\begin{pmatrix} k & -k & 0 & 0 \\\\ -k & 2k & -k & 0 \\\\ 0 & -k & 2k & -k \\\\ 0 & 0 & -k & k \\end{pmatrix} \\begin{pmatrix} x_1 \\\\ x_2 \\\\ x_3 \\\\ x_4 \\end{pmatrix}\n",
    "$$\n",
    "El vector de fuerzas $F$ se acopla con el vector de desplazamientos $U$ a través de la matriz global $K$."
   ]
  },
  {
   "cell_type": "code",
   "execution_count": 3,
   "id": "f1823d53-49e5-46b3-be3f-7ea2f8bf1866",
   "metadata": {},
   "outputs": [],
   "source": [
    "# Defino la matriz global \"K\", que acopla \"F\" con \"U\".\n",
    "K = np.array([[k,-k,0,0],\n",
    "              [-k,k+k,-k,0],\n",
    "              [0,-k,k+k,-k],\n",
    "              [0,0,-k,k]])"
   ]
  },
  {
   "cell_type": "markdown",
   "id": "2ec94784-86b8-41a0-b20b-250a38c35f9c",
   "metadata": {},
   "source": [
    "### Condiciones de vínculo en DESPLAZAMIENTO\n",
    "- $x_1 = 0$ (empotramiento)\n",
    "- $x_4 = \\delta$\n",
    "\n",
    "### Condiciones de vínculo en FUERZA\n",
    "- $F_2 = 0$\n",
    "- $F_3 = 0$"
   ]
  },
  {
   "cell_type": "code",
   "execution_count": 4,
   "id": "d4ee85ec-f152-4cca-b473-51cf0acfc2cb",
   "metadata": {},
   "outputs": [],
   "source": [
    "# Defino vector \"s\" que contiene los nodos con condiciones de vínculo en desplazamiento.\n",
    "s = np.array([0,3])\n",
    "\n",
    "# Defino vector \"Us\" con los valores de las condiciones de vínculo.\n",
    "Us = [[0],[desp]]\n",
    "\n",
    "# Defino vector \"r\" que contiene los nodos con condiciones de vínculo en fuerza. EN EL FUTURO, LO ARMAREMOS COMO EL \n",
    "# COMPLEMENTO DE \"s\".\n",
    "r = np.array([1,2])\n",
    "\n",
    "# Defino vector \"Fr\" con los valores de las condiciones de vínculo.\n",
    "Fr = [[0],[0]]"
   ]
  },
  {
   "cell_type": "markdown",
   "id": "ac8f0dbb-9380-4d14-8daf-c9f0f43bf212",
   "metadata": {},
   "source": [
    "## Resolución"
   ]
  },
  {
   "cell_type": "code",
   "execution_count": 5,
   "id": "e21bc683-489e-4d9d-ac40-7c0de1beb5dd",
   "metadata": {},
   "outputs": [],
   "source": [
    "# Llamo al paquete \"mef\", que contiene la función \"solve\" que calcula los vectores de fuerzas \"F\" y de desplazamientos \n",
    "# \"U\", empleando MEF. \n",
    "F, U = mef.solve(K, r, Fr, s, Us)"
   ]
  },
  {
   "cell_type": "code",
   "execution_count": 6,
   "id": "dafce661-ca6e-4a43-b8ed-4bd42b69208c",
   "metadata": {},
   "outputs": [
    {
     "name": "stdout",
     "output_type": "stream",
     "text": [
      "Las FUERZAS (en kN) son:\n",
      "[[-1.33333333]\n",
      " [ 0.        ]\n",
      " [ 0.        ]\n",
      " [ 1.33333333]]\n",
      "Los DESLAZAMIENTOS (en m) son:\n",
      "[[0.        ]\n",
      " [0.00666667]\n",
      " [0.01333333]\n",
      " [0.02      ]]\n"
     ]
    }
   ],
   "source": [
    "print('Las FUERZAS (en kN) son:')\n",
    "print(F)\n",
    "print('Los DESLAZAMIENTOS (en m) son:')\n",
    "print(U)"
   ]
  },
  {
   "cell_type": "code",
   "execution_count": 7,
   "id": "f3609d02-6c40-4876-aa6e-ea6816589a49",
   "metadata": {},
   "outputs": [
    {
     "name": "stdout",
     "output_type": "stream",
     "text": [
      "Nodo 1     U = 0.0000 m     F = -1.3333 kN\n",
      "Nodo 2     U = 0.0067 m     F =  0.0000 kN\n",
      "Nodo 3     U = 0.0133 m     F =  0.0000 kN\n",
      "Nodo 4     U = 0.0200 m     F =  1.3333 kN\n"
     ]
    }
   ],
   "source": [
    "# FORMA MÁS LINDA DE PRESENTAR LOS DATOS:\n",
    "# - \"%s\" significa que te pone número entero.\n",
    "# - \"%.4f\" significa que te pone número con 4 cifras decimales.\n",
    "# - \"%2.4f\" y \"%7.4f\" sólo varían en que con \"7\" te pone los números alineados respecto del \"=\" y queda más lindo si \n",
    "# llega  a haber uno con signo \"-\".\n",
    "for nodo in range(N):\n",
    "    print('Nodo %s     U = %2.4f m     F = %7.4f kN'%(nodo+1, U[nodo], F[nodo]))"
   ]
  },
  {
   "cell_type": "code",
   "execution_count": null,
   "id": "b354be98-a967-43d8-ad59-2759d2ce314d",
   "metadata": {},
   "outputs": [],
   "source": []
  }
 ],
 "metadata": {
  "kernelspec": {
   "display_name": "Python 3 (ipykernel)",
   "language": "python",
   "name": "python3"
  },
  "language_info": {
   "codemirror_mode": {
    "name": "ipython",
    "version": 3
   },
   "file_extension": ".py",
   "mimetype": "text/x-python",
   "name": "python",
   "nbconvert_exporter": "python",
   "pygments_lexer": "ipython3",
   "version": "3.9.10"
  }
 },
 "nbformat": 4,
 "nbformat_minor": 5
}
