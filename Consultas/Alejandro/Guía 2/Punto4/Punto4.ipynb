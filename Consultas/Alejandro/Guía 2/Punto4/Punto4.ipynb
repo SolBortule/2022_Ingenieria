{
 "cells": [
  {
   "cell_type": "code",
   "execution_count": 1,
   "id": "d7c2b662-4f07-4acc-a721-ac130de5847a",
   "metadata": {},
   "outputs": [],
   "source": [
    "import numpy as np   # Importo paquete de álgebra lineal\n",
    "import matplotlib.pyplot as plt   # Importo paquete de gráficos\n",
    "import copy\n",
    "import mef\n",
    "plt.rc('figure', figsize=(15,8))   # Para gráficos\n",
    "plt.rc('font',size=22)             # Para gráficos"
   ]
  },
  {
   "cell_type": "markdown",
   "id": "a04e93c1-20fc-4028-9242-f9537440dd3d",
   "metadata": {},
   "source": [
    "# Punto 4"
   ]
  },
  {
   "cell_type": "markdown",
   "id": "e5cb5e45-200c-48e5-95ee-e9fb60b38e5d",
   "metadata": {},
   "source": [
    "Determine los desplazamientos y rotaciones y fuerzas y torques de vínculos para el sistema de la figura. Tome $E = 210\\: GPa$ e $I = 2 x 10^{–4}\\: m^4$.\n",
    "<center><img src=\"ImgProb04.png\"></center>"
   ]
  },
  {
   "cell_type": "code",
   "execution_count": 2,
   "id": "0320fb6d-4aa6-4da8-9cbe-44d117902893",
   "metadata": {},
   "outputs": [],
   "source": [
    "# Defino la matriz de nodos \"MN\".\n",
    "# - Columna 1 es la coordenada \"x\" del nodo.\n",
    "# - Columna 2 es la coordenada \"y\" del nodo.\n",
    "# - Columna 3 es la coordenada \"z\" del nodo.\n",
    "MN = np.array([[0,0,0],\n",
    "               [3,0,0],\n",
    "               [6,0,0],\n",
    "               [6,-1,0]])   # Resorte, le puse \"-1\" porque va para abajo, , pero NO IMPORTA porque ya tengo la constante \"k\" del resorte.\n",
    "\n",
    "# Su número de filas es el número de NODOS \"Nn\".\n",
    "Nn = MN.shape[0]"
   ]
  },
  {
   "cell_type": "code",
   "execution_count": 3,
   "id": "198a24f5-f82e-441d-b698-f3735ed8a4e3",
   "metadata": {},
   "outputs": [],
   "source": [
    "# Defino la matriz de conectividad \"MC\".\n",
    "# Informa qué nodos componen a cada elemento.\n",
    "MC= np.array([[0,1],\n",
    "              [1,2],\n",
    "              [2,3]])\n",
    "\n",
    "# Su número de filas es el número de ELEMENTOS \"Ne\".\n",
    "# Su número de columnas es el número NODOS POR ELEMENTO \"Nnxe\".\n",
    "Ne, Nnxe = MC.shape"
   ]
  },
  {
   "cell_type": "code",
   "execution_count": 4,
   "id": "0cc9679b-0acc-4d63-ae53-5fe009da4ec0",
   "metadata": {},
   "outputs": [],
   "source": [
    "# Defino los grados de libertad por nodo \"glxn\".\n",
    "glxn = 2"
   ]
  },
  {
   "cell_type": "code",
   "execution_count": 5,
   "id": "cb183a35-470b-4e03-b4ad-209d11513d3c",
   "metadata": {},
   "outputs": [],
   "source": [
    "# Defino el módulo de elasticidad \"E\". Aplica para los elementos \"0\" y \"1\" (barras).\n",
    "E = 210e9   # Pa\n",
    "\n",
    "# Defino el momento de inercia \"I\". Aplica para los elementos \"0\" y \"1\".\n",
    "I = 2e-4   # m^4\n",
    "\n",
    "# Defino la longitud \"L\" de los elementos \"0\" y \"1\".\n",
    "L = 3   # m\n",
    "\n",
    "# Defino la constante \"k\" del elemento \"2\" (resorte).\n",
    "k = 200e3 # N/m"
   ]
  },
  {
   "cell_type": "markdown",
   "id": "7ad1c496-b522-4da6-873c-90c6f198e411",
   "metadata": {},
   "source": [
    "### Condiciones de vínculo en DESPLAZAMIENTO y ROTACIÓN\n",
    "- $y_0 = 0\\: m$ (empotramiento)\n",
    "- $\\phi_0 = 0$\n",
    "- $y_1 = 0\\: m$\n",
    "- $y_3 = 0\\: m$ (empotramiento)\n",
    "- $\\phi_3 = 0$ (el resorte no puede rotar)\n",
    "\n",
    "### Condiciones de vínculo en FUERZA y TORQUE\n",
    "- $M_1 = 0\\: kN$\n",
    "- $F_2 = -50\\: kN$\n",
    "- $M_2 = 0\\: kN$"
   ]
  },
  {
   "cell_type": "code",
   "execution_count": 6,
   "id": "eb28089d-7545-4e34-90e5-70acc7513d48",
   "metadata": {},
   "outputs": [],
   "source": [
    "# Defino vector \"s\" que contiene los nodos con condiciones de vínculo en desplazamiento.\n",
    "s = np.array([0,1,2,6,7])\n",
    "\n",
    "# Defino vector \"Us\" con los valores de las condiciones de vínculo.\n",
    "Us = [[0],[0],[0],[0],[0]]\n",
    "\n",
    "# Defino vector \"r\" que contiene los nodos con condiciones de vínculo en fuerza. Es el complemento de \"s\".\n",
    "r = np.array([i for i in range(Nn*glxn) if i not in s])\n",
    "\n",
    "# Defino vector \"Fr\" con los valores de las condiciones de vínculo.\n",
    "Fr = [[0],[-50000],[0]]"
   ]
  },
  {
   "cell_type": "markdown",
   "id": "28cffa0a-2d5d-496c-9f6d-fc55eb3bf81f",
   "metadata": {},
   "source": [
    "## Resolución"
   ]
  },
  {
   "cell_type": "code",
   "execution_count": 7,
   "id": "39f4fa7a-5cbc-4ef2-91ad-cbe2f835dadb",
   "metadata": {},
   "outputs": [],
   "source": [
    "archivo= 'Matrices_elementales.txt'\n",
    "with open(archivo,'w') as f:   # Creo archivo desde cero, por eso uso \"w\".\n",
    "    f.write('Matrices Elementales\\n ===============')\n",
    "archivo1= 'Matriz_global.txt'\n",
    "with open(archivo1,'w') as f:   # Creo archivo desde cero, por eso uso \"w\".\n",
    "    f.write('Matriz Global\\n ===============')"
   ]
  },
  {
   "cell_type": "code",
   "execution_count": 8,
   "id": "d0802681-c80f-4075-a24d-761302b350b9",
   "metadata": {},
   "outputs": [],
   "source": [
    "# Defino la matriz elemental \"Ke1\" de los elementos \"0\" y \"1\".\n",
    "Ke1 = (E*I/L**3)*np.array([[12,6*L,-12,6*L],\n",
    "                           [6*L,4*(L**2),-6*L,2*(L**2)],\n",
    "                           [-12,-6*L,12,-6*L],\n",
    "                           [6*L,2*(L**2),-6*L,4*(L**2)]])"
   ]
  },
  {
   "cell_type": "code",
   "execution_count": 9,
   "id": "c9ddcc7b-a84a-4826-873b-58c83343ab36",
   "metadata": {},
   "outputs": [],
   "source": [
    "# Defino la matriz elemental \"Ke2\" del elemento \"2\". Al ser un resorte, debería ser de [k -k; -k k]. Sin embargo, ahora\n",
    "# quiero que tenga tamaño \"4*4\" con desplazamientos \"y\" y ángulos \"phi\".\n",
    "# - Las filas y columnas que tengan \"phi\" deben ser nulas, porque el resorte no se torsiona.\n",
    "# - Las filas y columnas que tengan \"y\" deben corresponder a [k -k; -k k].\n",
    "Ke2 = (k)*np.array([[1,0,-1,0],\n",
    "                    [0,0,0,0],\n",
    "                    [-1,0,1,0],\n",
    "                    [0,0,0,0]])"
   ]
  },
  {
   "cell_type": "code",
   "execution_count": 10,
   "id": "2fcafbee-4535-48f6-bd07-c4b195724b45",
   "metadata": {},
   "outputs": [],
   "source": [
    "# Defino matriz global \"Kg\".\n",
    "Kg = np.zeros([glxn*Nn, glxn*Nn])\n",
    "\n",
    "# Ensamblo las matrices elementales para obtener la matriz global \"Kg\".\n",
    "for e in range(Ne):\n",
    "    if e==0 or e==1:\n",
    "        # El elemento es una barra.\n",
    "        Ke = Ke1\n",
    "    else:\n",
    "        # El elemento es un resorte.\n",
    "        Ke = Ke2\n",
    "    fe = np.abs(Ke.max()) # Factor de escala, para que los números en \"Ke\" se lean mejor.\n",
    "    with open(archivo,'a') as f:   # Voy reescribiendo el archivo con nuevas \"Ke\", por eso uso \"a\".\n",
    "        f.write(f'\\nelemento {e}, fe = {fe:4e}\\n')\n",
    "        f.write(f'{Ke/fe}\\n')\n",
    "\n",
    "    for i in range(Nnxe):\n",
    "        rangoi = np.linspace(i*glxn, (i+1)*glxn-1, Nnxe).astype(int)\n",
    "        rangoni = np.linspace(MC[e, i]*glxn, (MC[e, i]+1)*glxn-1, Nnxe).astype(int)\n",
    "        for j in range(Nnxe):\n",
    "            rangoj = np.linspace(j*glxn, (j+1)*glxn-1, Nnxe).astype(int)\n",
    "            rangonj = np.linspace(MC[e, j]*glxn, (MC[e, j]+1)*glxn-1, Nnxe).astype(int)\n",
    "            Kg[np.ix_(rangoni, rangonj)] += Ke[np.ix_(rangoi, rangoj)]\n",
    "fe = np.abs(Kg.max())\n",
    "with open(archivo1,'a') as f:   # Reescribo el archivo con la matriz global \"Kg\" obtenida, por eso uso \"a\".\n",
    "    f.write(f'\\nMatriz Global, fe = {fe:4e}\\n')\n",
    "    f.write(f'{Kg/fe}\\n')"
   ]
  },
  {
   "cell_type": "code",
   "execution_count": 11,
   "id": "68e32664-624a-4c1b-97da-901610e9f1e1",
   "metadata": {},
   "outputs": [],
   "source": [
    "# Llamo al paquete \"mef\", que contiene la función \"solve\" que calcula los vectores de fuerzas y torques \"F\", y de \n",
    "# desplazamientos y rotaciones \"U\", empleando MEF. \n",
    "F, U = mef.solve(Kg, r, Fr, s, Us)"
   ]
  },
  {
   "cell_type": "code",
   "execution_count": 12,
   "id": "271aa3f1-5b8b-4469-9f95-9fe7d6971e32",
   "metadata": {},
   "outputs": [
    {
     "name": "stdout",
     "output_type": "stream",
     "text": [
      "Las FUERZAS (en N) y TORQUES (en N.m) son:\n",
      "[[-69767.44186047]\n",
      " [-69767.44186047]\n",
      " [116279.06976744]\n",
      " [     0.        ]\n",
      " [-50000.        ]\n",
      " [     0.        ]\n",
      " [  3488.37209302]\n",
      " [     0.        ]]\n",
      "Los DESPLAZAMIENTOS (en m) y ROTACIONES son:\n",
      "[[ 0.        ]\n",
      " [ 0.        ]\n",
      " [ 0.        ]\n",
      " [-0.00249169]\n",
      " [-0.01744186]\n",
      " [-0.00747508]\n",
      " [ 0.        ]\n",
      " [ 0.        ]]\n"
     ]
    }
   ],
   "source": [
    "print('Las FUERZAS (en N) y TORQUES (en N.m) son:')\n",
    "print(F)\n",
    "print('Los DESPLAZAMIENTOS (en m) y ROTACIONES son:')\n",
    "print(U)"
   ]
  },
  {
   "cell_type": "code",
   "execution_count": 13,
   "id": "d10ace65-bc99-4f61-9995-0c05c720db9c",
   "metadata": {},
   "outputs": [
    {
     "name": "stdout",
     "output_type": "stream",
     "text": [
      "Nodo 1     Uy =   0.0000 mm     Phi =  0.0000     Fy = -69767.4419 N     M_Phi = -69767.4419 N.m\n",
      "Nodo 2     Uy =   0.0000 mm     Phi = -2.4917     Fy = 116279.0698 N     M_Phi =      0.0000 N.m\n",
      "Nodo 3     Uy = -17.4419 mm     Phi = -7.4751     Fy = -50000.0000 N     M_Phi =      0.0000 N.m\n",
      "Nodo 4     Uy =   0.0000 mm     Phi =  0.0000     Fy =   3488.3721 N     M_Phi =      0.0000 N.m\n"
     ]
    }
   ],
   "source": [
    "# FORMA MÁS LINDA DE PRESENTAR LOS DATOS:\n",
    "# - \"%s\" significa que te pone número entero.\n",
    "# - \"%.4f\" significa que te pone número con 4 cifras decimales.\n",
    "# - \"%2.4f\" y \"%7.4f\" sólo varían en que con \"7\" te pone los números alineados respecto del \"=\" y queda más lindo si \n",
    "# llega  a haber uno con signo \"-\".\n",
    "for nodo in range(Nn):\n",
    "    print('Nodo %s     Uy = %8.4f mm     Phi = %7.4f     Fy = %11.4f N     M_Phi = %11.4f N.m'%(nodo+1, U[2*nodo]*1000, U[2*nodo+1]*1000, F[2*nodo], F[2*nodo+1]))"
   ]
  },
  {
   "cell_type": "code",
   "execution_count": null,
   "id": "4511451d-5563-47ea-997c-0eda47171b57",
   "metadata": {},
   "outputs": [],
   "source": []
  }
 ],
 "metadata": {
  "kernelspec": {
   "display_name": "Python 3 (ipykernel)",
   "language": "python",
   "name": "python3"
  },
  "language_info": {
   "codemirror_mode": {
    "name": "ipython",
    "version": 3
   },
   "file_extension": ".py",
   "mimetype": "text/x-python",
   "name": "python",
   "nbconvert_exporter": "python",
   "pygments_lexer": "ipython3",
   "version": "3.9.10"
  }
 },
 "nbformat": 4,
 "nbformat_minor": 5
}
