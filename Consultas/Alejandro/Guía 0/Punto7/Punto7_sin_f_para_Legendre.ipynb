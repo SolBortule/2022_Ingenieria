{
 "cells": [
  {
   "cell_type": "code",
   "execution_count": 1,
   "id": "d0a8fe9c-58c2-4656-81c6-d1495249d2f5",
   "metadata": {},
   "outputs": [],
   "source": [
    "import numpy as np   # Importo paquete de álgebra lineal\n",
    "import matplotlib.pyplot as plt   # Importo paquete de gráficos\n",
    "import math   # Importo paquete de funciones matemáticas\n",
    "import random   # Importo paquete para generar números pseudoaleatorios\n",
    "import pandas as pd # Importo paquete para crear tablas."
   ]
  },
  {
   "cell_type": "markdown",
   "id": "91d63c72-e56f-4a1a-bc85-9726ce2bf3c2",
   "metadata": {},
   "source": [
    "## Problema 7"
   ]
  },
  {
   "cell_type": "markdown",
   "id": "c79d8a73-4bf7-47c6-921b-b67d03c32303",
   "metadata": {
    "tags": []
   },
   "source": [
    "La fuerza efectiva que realiza el viento sobre el mástil de un bote de velas puede aproximarse por la siguiente expresión:\n",
    "\\begin{equation}\n",
    "F = \\int_0^{30} 200 \\left(\\frac{z}{5+z}\\right) e^{-2z/30} dz\n",
    "\\end{equation}\n",
    "\n",
    ", donde F está dada en lbs y las distancias en pies. Estime, utilizando los métodos de trapecios, de Simpson 1/3 y cuadraturas de Gauss, cuánto vale la fuerza total y dónde será el punto de acción efectiva de esta fuerza.\n",
    "\\begin{equation}\n",
    "d = \\int_0^{30} z f(z) dz\n",
    "\\end{equation}\n",
    "Utilice varios tamaños de paso de integración, entre 5 y 0,05 pies, y estudie la convergencia de cada método."
   ]
  },
  {
   "cell_type": "code",
   "execution_count": 2,
   "id": "5dfeae1d-9d83-4846-9cd3-cd4c44160000",
   "metadata": {},
   "outputs": [],
   "source": [
    "# Defino el integrando de F.\n",
    "def intF(z):\n",
    "    F = 200*(z/(5+z))*np.exp(-2*z/30)\n",
    "    \n",
    "    return F"
   ]
  },
  {
   "cell_type": "code",
   "execution_count": 3,
   "id": "8cc0b334-e675-4760-886e-ce79da625b86",
   "metadata": {},
   "outputs": [],
   "source": [
    "# Defino el integrando de d.\n",
    "# def intd(z):\n",
    "#     d = z*intF(z)\n",
    "#     \n",
    "#     return d"
   ]
  },
  {
   "cell_type": "code",
   "execution_count": 4,
   "id": "a0c28e92-7a36-4b59-84c6-e557fbeedffd",
   "metadata": {
    "tags": []
   },
   "outputs": [],
   "source": [
    "# Defino límite inferior \"li\" del intervalo de integración.\n",
    "li = 0\n",
    "\n",
    "# Defino límite superior \"ls\" del intervalo de integración.\n",
    "ls = 30"
   ]
  },
  {
   "cell_type": "code",
   "execution_count": 5,
   "id": "bc72acad-d140-40a4-b8aa-1c7bd670fa73",
   "metadata": {},
   "outputs": [],
   "source": [
    "# Defino la cantidad de subintervalos en los que se dividirá el intervalo de integración.\n",
    "p = 200"
   ]
  },
  {
   "cell_type": "markdown",
   "id": "fa789389-51b1-42ee-87da-7bdffea7bc6d",
   "metadata": {
    "tags": []
   },
   "source": [
    "## Método de TRAPECIOS"
   ]
  },
  {
   "cell_type": "markdown",
   "id": "d85d4821-30a9-4bf1-9db1-c4a65a1b3d23",
   "metadata": {},
   "source": [
    "### Cálculo de fuerza efectiva, F"
   ]
  },
  {
   "cell_type": "code",
   "execution_count": 6,
   "id": "87df91f1-3dc8-4133-8abc-39e279cb84ad",
   "metadata": {},
   "outputs": [],
   "source": [
    "# Defino función \"trapeciosF\", que integra por método de TRAPECIOS y calcula la fuerza efectiva \"IT\".\n",
    "def trapeciosF(p,li,ls,intF):\n",
    "    # Defino el integrando de F.\n",
    "    # def intF(z):\n",
    "    #     F = 200*(z/(5+z))*np.exp(-2*z/30)\n",
    "    # \n",
    "    #     return F\n",
    "    \n",
    "    # Divido el intervalo [li,ls] en \"p\" subintervalos.\n",
    "    x = np.linspace(li,ls, p+1)\n",
    "    \n",
    "    # Calculo la separación \"h\" entre intervalos.\n",
    "    h = (ls-li)/p\n",
    "    \n",
    "    # Calculo \"f(li)\".\n",
    "    f_0 = intF(li)\n",
    "    \n",
    "    # Calculo \"f(ls)\".\n",
    "    f_n = intF(ls)\n",
    "    \n",
    "    # Calculo la sumatoria de \"f(x)\" evaluada entre [li+1,ls-1].\n",
    "    f = 0   # Variable para ir sumando términos.\n",
    "    sum = []   # Vector que irá actualizando las sumas a medida que se realizan.\n",
    "    \n",
    "    # El último elemento de \"sum\" tendrá el valor final de la sumatoria, este es \"sum[-1]\".\n",
    "    for i, xi in enumerate(x[1:-1]):\n",
    "        # Evalúo \"f(x)\" en el siguiente valor \"x=xi\", y sumo lo obtenido a lo que ya había obtenido antes.\n",
    "        f += intF(xi)\n",
    "        # Almaceno el valor actualizado de la sumatoria en \"sum\".\n",
    "        sum.append(f)\n",
    "    \n",
    "    # Calculo la integral \"IT\".\n",
    "    IT = (h/2)*(f_0 + 2*sum[-1] + f_n)\n",
    "    return IT"
   ]
  },
  {
   "cell_type": "code",
   "execution_count": 7,
   "id": "f7bcd026-d2f6-4048-ac96-5de825e79f36",
   "metadata": {},
   "outputs": [
    {
     "name": "stdout",
     "output_type": "stream",
     "text": [
      "1480.490796563459\n"
     ]
    }
   ],
   "source": [
    "FT = trapeciosF(p,li,ls,intF)\n",
    "print(FT)"
   ]
  },
  {
   "cell_type": "markdown",
   "id": "64c83756-320e-44eb-9141-9d561a81301a",
   "metadata": {},
   "source": [
    "## Método de SIMPSON 1/3"
   ]
  },
  {
   "cell_type": "markdown",
   "id": "237d35ac-4d1a-44c0-9bfc-f5eff14a3270",
   "metadata": {},
   "source": [
    "### Cálculo de fuerza efectiva, F"
   ]
  },
  {
   "cell_type": "code",
   "execution_count": 8,
   "id": "b9935806-2cad-403d-a9e6-819eb2558db1",
   "metadata": {},
   "outputs": [],
   "source": [
    "# Defino función \"simpsonF\", que integra por método de SIMPSON 1/3 y calcula la fuerza efectiva \"IS\".\n",
    "# IMPORTANTE: p debe ser PAR!!!\n",
    "def simpsonF(p,li,ls,intF):\n",
    "    # Defino el integrando de F.\n",
    "    # def intF(z):\n",
    "    #     F = 200*(z/(5+z))*np.exp(-2*z/30)\n",
    "    # \n",
    "    #     return F\n",
    "    \n",
    "    # Divido el intervalo [li,ls] en \"p\" subintervalos.\n",
    "    x = np.linspace(li,ls, p+1)\n",
    "    \n",
    "    # Calculo la separación \"h\" entre intervalos.\n",
    "    h = (ls-li)/p\n",
    "    \n",
    "    # Calculo \"f(li)\".\n",
    "    f_0 = intF(li)\n",
    "    \n",
    "    # Calculo \"f(ls)\".\n",
    "    f_n = intF(ls)\n",
    "    \n",
    "    # Las siguientes sumatorias son evaluadas en valores que deben estar en el intervalo [li+1,ls-1].\n",
    "    fpar = 0   # Variable para ir sumando términos pares.\n",
    "    sumpar = []   # Vector que irá actualizando las sumas pares a medida que se realizan.\n",
    "    fimpar = 0   # Variable para ir sumando términos impares.\n",
    "    sumimpar = []   # Vector que irá actualizando las sumas impares a medida que se realizan.\n",
    "    \n",
    "    for i, xi in enumerate(x[1:-1]):\n",
    "        # Corrijo el valor de \"i\", que en la primer iteración debería arrancar en 1 (para tener \"f_1\") pero lo hace en 0 (y no\n",
    "        # debe ser así, ya que a \"f_0\" ya la tenemos).\n",
    "        j = i+1\n",
    "        \n",
    "        if j % 2 == 0:\n",
    "            # Corresponde a los PARES.\n",
    "            # Evalúo \"f(x)\" en el siguiente valor \"x=xi\", y sumo lo obtenido a lo que ya había obtenido antes.\n",
    "            fpar += intF(xi)\n",
    "            # Almaceno el valor actualizado de la sumatoria en \"sumpar\".\n",
    "            sumpar.append(fpar)\n",
    "            # El último elemento de \"sumpar\" tendrá el valor final de la sumatoria, este es \"sumpar[-1]\".\n",
    "        elif j % 2 == 1:\n",
    "            # Corresponde a los IMPARES.\n",
    "            # Evalúo \"f(x)\" en el siguiente valor \"x=xi\", y sumo lo obtenido a lo que ya había obtenido antes.\n",
    "            fimpar += intF(xi)\n",
    "            # Almaceno el valor actualizado de la sumatoria en \"sumimpar\".\n",
    "            sumimpar.append(fimpar)\n",
    "            # El último elemento de \"sumimpar\" tendrá el valor final de la sumatoria, este es \"sumimpar[-1]\".\n",
    "    \n",
    "    # Calculo la integral \"IS\".\n",
    "    IS = (h/3)*(f_0 + 2*sumpar[-1] + 4*sumimpar[-1] + f_n)\n",
    "    return IS"
   ]
  },
  {
   "cell_type": "code",
   "execution_count": 9,
   "id": "32497d79-9322-4aac-95c4-8a75460ac8bd",
   "metadata": {},
   "outputs": [
    {
     "name": "stdout",
     "output_type": "stream",
     "text": [
      "1480.5684426562134\n"
     ]
    }
   ],
   "source": [
    "FS = simpsonF(p,li,ls,intF)\n",
    "print(FS)"
   ]
  },
  {
   "cell_type": "markdown",
   "id": "7f02a559-050b-43dc-97d4-957d9df61167",
   "metadata": {},
   "source": [
    "## Método de CUADRATURA DE GAUSS"
   ]
  },
  {
   "cell_type": "markdown",
   "id": "e06429b2-f3c1-44c1-9f5b-2d404e388b30",
   "metadata": {},
   "source": [
    "### Cálculo de fuerza efectiva, F"
   ]
  },
  {
   "cell_type": "code",
   "execution_count": 10,
   "id": "52c38bdd-2b7c-4db0-9014-7aa0ffe99d90",
   "metadata": {},
   "outputs": [],
   "source": [
    "# Defino función \"cuadgaussF\", que integra por método de CUADRATURA DE GAUSS y calcula la fuerza efectiva \"IG\".\n",
    "def cuadgaussF(li,ls,intF,p=2):\n",
    "    # Defino el integrando de F.\n",
    "    # def intF(z):\n",
    "    #     F = 200*(z/(5+z))*np.exp(-2*z/30)\n",
    "    #     \n",
    "        # ME DA RE MAL, es por la función F que estoy usando, PRUEBO CON EL EJEMPLO DE Wikipedia.\n",
    "        # F = z**3 + 2*(z**2)\n",
    "    \n",
    "    #     return F\n",
    "    \n",
    "    # Debido a los cambios de variable \"x = m*t +c\" y \"dx = m*dt\", defino \"m\" y \"c\".\n",
    "    m = (ls-li)/2\n",
    "    c = (ls+li)/2\n",
    "    \n",
    "    # POR DEFECTO, definí que el número de puntos sea \"p=2\". Se puede GENERALIZAR a futuro.\n",
    "    # https://es.wikipedia.org/wiki/Cuadratura_de_Gauss#F%C3%B3rmula_para_calcular_%7F'%22%60UNIQ--postMath-00000004-QINU%60%22'%7F\n",
    "    \n",
    "    # Evalúo cómo seguir, según sea el número de puntos \"p\".\n",
    "    # IMPORTANTE: Sólo admite hasta \"p=4\".\n",
    "    if p==1:\n",
    "        # Por lo tanto, las raíces de los polinomios de Legendre son los elementos de \"t\".\n",
    "        t = [0]\n",
    "        # Los pesos asociados a los elementos de \"t\" son los elementos de \"w\".\n",
    "        w = [2]\n",
    "    elif p==2:\n",
    "        # Por lo tanto, las raíces de los polinomios de Legendre son los elementos de \"t\".\n",
    "        t = [-1/(3**(1/2)), 1/(3**(1/2))]\n",
    "        # Los pesos asociados a los elementos de \"t\" son los elementos de \"w\".\n",
    "        w = [1,1]\n",
    "    elif p==3:\n",
    "        # Por lo tanto, las raíces de los polinomios de Legendre son los elementos de \"t\".\n",
    "        t = [0,-((3/5)**(1/2)), ((3/5)**(1/2))]\n",
    "        # Los pesos asociados a los elementos de \"t\" son los elementos de \"w\".\n",
    "        w = [8/9,5/9,5/9]\n",
    "    elif p==4:\n",
    "        # Por lo tanto, las raíces de los polinomios de Legendre son los elementos de \"t\".\n",
    "        t = [((3 - 2*(6/5)**(1/2))/7)**(1/2),-(((3 - 2*(6/5)**(1/2))/7)**(1/2)),((3 + 2*(6/5)**(1/2))/7)**(1/2), -(((3 + 2*(6/5)**(1/2))/7)**(1/2))]\n",
    "        # Los pesos asociados a los elementos de \"t\" son los elementos de \"w\".\n",
    "        w = [(18 + (30)**(1/2))/36,(18 + (30)**(1/2))/36,(18 - (30)**(1/2))/36,(18 - (30)**(1/2))/36]\n",
    "\n",
    "    # Defino vector \"x\", lo completaré en la sumatoria.\n",
    "    x = []\n",
    "    \n",
    "    # Calculamos la sumatoria \"sum\".\n",
    "    sum = 0\n",
    "    \n",
    "    for i, ti in enumerate(t):\n",
    "        # Completo \"x\" tal que \"x[i] = m*t[i] + c\".\n",
    "        x.append(m*ti + c)\n",
    "        sum += w[i]*intF(x[i])\n",
    "    \n",
    "    # Calculo la integral \"IG\".\n",
    "    IG = m*sum\n",
    "    return(IG)"
   ]
  },
  {
   "cell_type": "code",
   "execution_count": 11,
   "id": "7d5b3fce-ddf9-445a-a010-7149c4bff09f",
   "metadata": {},
   "outputs": [
    {
     "name": "stdout",
     "output_type": "stream",
     "text": [
      "1610.5722652945797\n",
      "1510.3329289542537\n",
      "1486.8214610631935\n"
     ]
    }
   ],
   "source": [
    "FG2 = cuadgaussF(li,ls,intF,2)\n",
    "print(FG2)\n",
    "\n",
    "# Mejoro la precisión un poco, haciendo \"p=3\".\n",
    "FG3 = cuadgaussF(li,ls,intF,3)\n",
    "print(FG3)\n",
    "\n",
    "# Mejoro la precisión un poco, haciendo \"p=4\".\n",
    "FG4 = cuadgaussF(li,ls,intF,4)\n",
    "print(FG4)\n",
    "\n",
    "# 1610.5722652945797\n",
    "# Acá, con el ejemplo de Wikipedia, me da la solución exacta. ME QUEDO TRANQUILO DE QUE ANDA BIEN.\n",
    "# FG2 = cuadgaussF(1,5)\n",
    "# print(FG2)"
   ]
  },
  {
   "cell_type": "markdown",
   "id": "2690e570-32ac-44ac-aaab-5303dbee62d9",
   "metadata": {},
   "source": [
    "## Teórico"
   ]
  },
  {
   "cell_type": "markdown",
   "id": "3bb40b9c-7064-4e57-a473-1919f2f0afe5",
   "metadata": {},
   "source": [
    "1480.568480085906"
   ]
  },
  {
   "cell_type": "markdown",
   "id": "6edd511b-a655-4b81-b681-6955302574ca",
   "metadata": {},
   "source": [
    "## Estudio de CONVERGENCIA de cada método"
   ]
  },
  {
   "cell_type": "code",
   "execution_count": 12,
   "id": "945d9698-1ac2-4393-8967-1a7c7f659617",
   "metadata": {},
   "outputs": [
    {
     "name": "stdout",
     "output_type": "stream",
     "text": [
      "[  10   12   14   17   21   26   31   38   46   56   68   82  100  121\n",
      "  146  177  215  261  316  383  464  562  681  825 1000]\n"
     ]
    }
   ],
   "source": [
    "# Suponer que \"I_N\" es el valor de la integral cuando se emplearon N intervalos, \"I_{N-1}\" es el valor de la integral cuando se\n",
    "# emplearon N-1 intervalos, y (I_N - I_{N-1})/I_N es el cambio relativo del valor de la integral por haber considerado un\n",
    "# intervalo más (es decir, por haber reducido el paso de integración; refinamiento del cálculo).\n",
    "\n",
    "# Para estudiar la CONVERGENCIA DE UNA INTEGRAL, se debe realizar un gráfico de (I_N - I_{N-1})/I_N vs. Número de intervalos\n",
    "# considerados. Para que la integral converja, debe observarse que a medida que se toma mayor número de intervalos, el valor\n",
    "# (I_N - I_{N-1})/I_N se estanca o queda por debajo de una tolerancia relativa.\n",
    "\n",
    "# Defino un vector \"nint\" con espaciado logarítmico, tal que \"nint[0] = 10^a\", \"nint[-1] = 10^b\" y que tenga \"c\" componentes.\n",
    "# Sus componentes contienen la cantidad de intervalos en los que dividiré mi intervalo de integración.\n",
    "a = 1\n",
    "b = 3\n",
    "c = 25\n",
    "nint = np.logspace(a,b,c).astype(int)\n",
    "print(nint)"
   ]
  },
  {
   "cell_type": "code",
   "execution_count": 13,
   "id": "805b9566-da90-4a2c-8679-cb57564cc6bb",
   "metadata": {},
   "outputs": [
    {
     "name": "stdout",
     "output_type": "stream",
     "text": [
      "[  10   12   14   18   22   26   32   38   46   56   68   82  100  122\n",
      "  146  178  216  262  316  384  464  562  682  826 1000]\n"
     ]
    }
   ],
   "source": [
    "# Debido a que el método de SIMPSON 1/3 requiere \"p\" par, haremos que todos los elementos de \"nint\" sean pares.\n",
    "for i, xi in enumerate(nint):\n",
    "    if nint[i] % 2 == 1:\n",
    "        # Es impar, así que debo convertirlo en par. Lo haré sumándole 1.\n",
    "        nint[i] += 1\n",
    "print(nint)"
   ]
  },
  {
   "cell_type": "code",
   "execution_count": 14,
   "id": "401c0659-2d2f-4d66-833a-090e5f1eb14c",
   "metadata": {},
   "outputs": [
    {
     "name": "stdout",
     "output_type": "stream",
     "text": [
      "[0.0060591233072057335, 0.00370882367468783, 0.004104856133079175, 0.0021005598375330487, 0.0012153080586760378, 0.0010452258328897742, 0.0005923582478855131, 0.00045953196590479755, 0.00032163684055861136, 0.00021493298938444116, 0.00014156624728239018, 0.00010216449136000925, 6.883036884432581e-05, 4.253410229550462e-05, 3.22126486234072e-05, 2.1254632188474164e-05, 1.4408748679406971e-05, 9.556860585087457e-06, 6.785066537132888e-06, 4.485186531780736e-06, 3.1035886547005995e-06, 2.132867426000157e-06, 1.4362880473362158e-06, 9.774588219739532e-07]\n"
     ]
    }
   ],
   "source": [
    "# Resuelvo la integral mediante el método de TRAPECIOS, empleando diferentes intervalos de integración \"tp\" almacenados en\n",
    "# \"nint\".\n",
    "IT = [trapeciosF(tp,li,ls,intF) for tp in nint]\n",
    "\n",
    "# Calculo el valor absoluto del cambio relativo del valor de la integral como consecuencia de ir incrementando el número de\n",
    "# intervalos considerados. Los almaceno en un vector \"eT\", donde \"eT[i] = |(IT[i+1]-IT[i])/IT[i+1]|\". Por su definición, se\n",
    "# ve que \"eL\" tiene tamaño \"len(IT)-1\".\n",
    "eT = []\n",
    "\n",
    "for i in range(len(IT)-1):\n",
    "    eT.append(np.abs((IT[i+1]-IT[i])/IT[i+1]))\n",
    "print(eT)"
   ]
  },
  {
   "cell_type": "code",
   "execution_count": 15,
   "id": "1e363356-d9ca-4304-ae66-605a384339d6",
   "metadata": {},
   "outputs": [
    {
     "name": "stdout",
     "output_type": "stream",
     "text": [
      "[0.0011220333766321804, 0.0005489513282999035, 0.00046011281114759765, 0.00016439963761884146, 6.975064880978045e-05, 4.356264542202331e-05, 1.7425476476028134e-05, 9.680503146844828e-06, 4.695728228662295e-06, 2.152243889101167e-06, 9.763469166084003e-07, 4.834280718788604e-07, 2.1999155726217553e-07, 9.307594317914921e-08, 4.858514353053836e-08, 2.168252712871516e-08, 9.995754993347185e-09, 4.5301428489251895e-09, 2.1985813249053156e-09, 9.890424882324905e-10, 4.679333454019607e-10, 2.18897662910183e-10, 1.0026676912225458e-10, 4.653719199513716e-11]\n"
     ]
    }
   ],
   "source": [
    "# Resuelvo la integral mediante el método de SIMPSON 1/3, empleando diferentes intervalos de integración \"sp\" almacenados en\n",
    "# \"nint\".\n",
    "IS = [simpsonF(sp,li,ls,intF) for sp in nint]\n",
    "\n",
    "# Calculo el valor absoluto del cambio relativo del valor de la integral como consecuencia de ir incrementando el número de\n",
    "# intervalos considerados. Los almaceno en un vector \"eS\", donde \"eS[i] = |(IS[i+1]-IS[i])/IS[i+1]|\". Por su definición, se\n",
    "# ve que \"eS\" tiene tamaño \"len(IS)-1\".\n",
    "eS = []\n",
    "\n",
    "for i in range(len(IS)-1):\n",
    "    eS.append(np.abs((IS[i+1]-IS[i])/IS[i+1]))\n",
    "print(eS)"
   ]
  },
  {
   "cell_type": "code",
   "execution_count": 16,
   "id": "48f221a2-8692-4d20-8fc9-c29d5a0d76bf",
   "metadata": {},
   "outputs": [],
   "source": [
    "# Resuelvo la integral mediante el método de CUADRATURA DE GAUSS, empleando diferentes intervalos de integración \"gp\" \n",
    "# almacenados en \"nint\".\n",
    "#IG = [cug.cuadgauss(gp) for gp in nint]\n",
    "\n",
    "# Calculo el valor absoluto del cambio relativo del valor de la integral como consecuencia de ir incrementando el número de\n",
    "# intervalos considerados. Los almaceno en un vector \"eG\", donde \"eG[i] = |(IG[i+1]-IG[i])/IG[i+1]|\". Por su definición, se\n",
    "# ve que \"eG\" tiene tamaño \"len(IG)-1\".\n",
    "#eG = []\n",
    "\n",
    "#for i in range(len(IG)-1):\n",
    "#    eG.append(np.abs((IG[i+1]-IG[i])/IG[i+1]))"
   ]
  },
  {
   "cell_type": "code",
   "execution_count": 17,
   "id": "3dc715ed-68c3-482e-a0ea-97eea5d7a435",
   "metadata": {},
   "outputs": [
    {
     "data": {
      "text/plain": [
       "<matplotlib.legend.Legend at 0x2428d9577f0>"
      ]
     },
     "execution_count": 17,
     "metadata": {},
     "output_type": "execute_result"
    },
    {
     "data": {
      "image/png": "[encoded data removed]",
      "text/plain": [
       "<Figure size 432x288 with 1 Axes>"
      ]
     },
     "metadata": {
      "needs_background": "light"
     },
     "output_type": "display_data"
    }
   ],
   "source": [
    "# Grafico \"e vs nint\", para los tres métodos. No grafico el último valor de \"nint\", porque \"e\" tiene un valor menos.\n",
    "plt.loglog(nint[:-1], eT,'ok', label='Trapecios')\n",
    "plt.loglog(nint[:-1], eS,'or', label='Simpson 1/3')\n",
    "#plt.loglog(nint[:-1], eG,'ok', label='Cuadratura de Gauss')\n",
    "plt.xlabel('N° de intervalos considerados')\n",
    "plt.ylabel('Cambio relativo del valor de la integral')\n",
    "plt.title('Estudio de convergencia de métodos de integración')\n",
    "plt.legend()"
   ]
  },
  {
   "cell_type": "code",
   "execution_count": null,
   "id": "a9efd3c1-a1e0-42fd-a00e-99c68c01a85b",
   "metadata": {},
   "outputs": [],
   "source": []
  }
 ],
 "metadata": {
  "kernelspec": {
   "display_name": "Python 3 (ipykernel)",
   "language": "python",
   "name": "python3"
  },
  "language_info": {
   "codemirror_mode": {
    "name": "ipython",
    "version": 3
   },
   "file_extension": ".py",
   "mimetype": "text/x-python",
   "name": "python",
   "nbconvert_exporter": "python",
   "pygments_lexer": "ipython3",
   "version": "3.9.10"
  }
 },
 "nbformat": 4,
 "nbformat_minor": 5
}
