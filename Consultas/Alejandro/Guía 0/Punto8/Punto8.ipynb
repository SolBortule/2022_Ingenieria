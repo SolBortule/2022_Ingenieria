{
 "cells": [
  {
   "cell_type": "code",
   "execution_count": 1,
   "id": "d038939a-162b-4d5a-9ba7-7e572178d94f",
   "metadata": {},
   "outputs": [],
   "source": [
    "import numpy as np   # Importo paquete de álgebra lineal\n",
    "import matplotlib.pyplot as plt   # Importo paquete de gráficos\n",
    "import math   # Importo paquete de funciones matemáticas\n",
    "import random   # Importo paquete para generar números pseudoaleatorios"
   ]
  },
  {
   "cell_type": "markdown",
   "id": "c778e8c4-dd73-4e6f-a60e-18546c032e64",
   "metadata": {},
   "source": [
    "## Problema 8"
   ]
  },
  {
   "cell_type": "markdown",
   "id": "4e0915d2-5cbf-4363-a9ae-798ebe4846ea",
   "metadata": {},
   "source": [
    "Evalúe, utilizando los métodos de Euler, de Heun y de Runge Kutta de cuarto orden, la ecuación diferencial:\n",
    "\\begin{equation}\n",
    "\\frac{dy}{dx} = 4 e^{0,8 x} - 0,5 y\n",
    "\\end{equation}\n",
    ", con la condición de contorno $y(0) = 2$, desde $x = 0$ hasta $x = 4$, con varios tamaños de paso.\n",
    "\n",
    "- Compare la exactitud de los diferentes métodos con el resultado exacto en $x = 4$.\n",
    "- Grafique este error en función del esfuerzo de cálculo realizado (cantidad de veces que tuvo que evaluar la función).\n",
    "- Compare las soluciones numéricas obtenidas, $y(x)$, con la solución teórica.\n",
    "\n",
    "\\begin{equation}\n",
    "y(x) = \\frac{4}{1,3} \\left(e^{0,8 x} - e^{-0,5 x}\\right) + 2 e^{-0,5 x}\n",
    "\\end{equation}"
   ]
  },
  {
   "cell_type": "code",
   "execution_count": 2,
   "id": "6ad6f4cf-719b-4b94-97d8-d82aa451697f",
   "metadata": {},
   "outputs": [],
   "source": [
    "# Defino la ecuación diferencial a resolver.\n",
    "def F(x,y):\n",
    "    ecdif = 4*np.exp(0.8*x) - 0.5*y\n",
    "    \n",
    "    return ecdif"
   ]
  },
  {
   "cell_type": "code",
   "execution_count": 3,
   "id": "5395ed75-9348-4d28-aba8-d5b0b07856d8",
   "metadata": {},
   "outputs": [],
   "source": [
    "# Defino solución teórica de la ecuación diferencial a resolver.\n",
    "def teo(x):\n",
    "    TEO = (4/1.3)*(np.exp(0.8*x) - np.exp(-0.5*x)) + 2*np.exp(-0.5*x)\n",
    "    \n",
    "    return TEO"
   ]
  },
  {
   "cell_type": "code",
   "execution_count": 4,
   "id": "a3ee0551-2042-4d20-bea1-25295c07dfe7",
   "metadata": {},
   "outputs": [],
   "source": [
    "# Defino solución de un paso por el método de EULER.\n",
    "def paso_EU(h,xo,yo,ED):\n",
    "    \"\"\"\n",
    "    Parámetros:\n",
    "    ===========\n",
    "    h = Tamaño de paso\n",
    "    xo = Posición inicial\n",
    "    yo = Condición inicial\n",
    "    ED = Función característica de la ecuación diferencial\n",
    "    \n",
    "    Retorna:\n",
    "    ========\n",
    "    Valor de la solución en x+h\n",
    "    \"\"\"\n",
    "    \n",
    "    return yo + h*ED(xo, yo)"
   ]
  },
  {
   "cell_type": "code",
   "execution_count": 5,
   "id": "69c62d17-a80e-49a6-875a-4784e4a4f98f",
   "metadata": {},
   "outputs": [],
   "source": [
    "# Defino solución de un paso por el método de HEUN.\n",
    "def paso_HE(h,xo,yo,ED):\n",
    "    \"\"\"\n",
    "    Parámetros:\n",
    "    ===========\n",
    "    h = Tamaño de paso\n",
    "    xo = Posición inicial\n",
    "    yo = Condición inicial\n",
    "    ED = Función característica de la ecuación diferencial\n",
    "    \n",
    "    Retorna:\n",
    "    ========\n",
    "    Valor de la solución en x+h\n",
    "    \"\"\"\n",
    "    y_1_2 = yo + h*ED(xo, yo)/2\n",
    "    \n",
    "    return yo + h*ED(xo + h/2, y_1_2)"
   ]
  },
  {
   "cell_type": "code",
   "execution_count": 6,
   "id": "69ffed41-e540-4854-88f7-9a1020d2cee5",
   "metadata": {},
   "outputs": [],
   "source": [
    "# Defino solución de un paso por el método de RUNGE-KUTTA ORDEN 4.\n",
    "def paso_RK(h,xo,yo,ED):\n",
    "    \"\"\"\n",
    "    Parámetros:\n",
    "    ===========\n",
    "    h = Tamaño de paso\n",
    "    xo = Posición inicial\n",
    "    yo = Condición inicial\n",
    "    ED = Función característica de la ecuación diferencial\n",
    "    \n",
    "    Retorna:\n",
    "    ========\n",
    "    Valor de la solución en x+h\n",
    "    \"\"\"\n",
    "    K1 = ED(xo, yo)\n",
    "    K2 = ED(xo + 0.5*h, yo + 0.5*K1*h)\n",
    "    K3 = ED(xo + 0.5*h, yo + 0.5*K2*h)\n",
    "    K4 = ED(xo + h, yo + K3*h)\n",
    "    \n",
    "    return yo + h*(K1 + 2*K2 + 2*K3 + K4)/6"
   ]
  },
  {
   "cell_type": "code",
   "execution_count": 7,
   "id": "57f39665-0011-4c7f-aebf-1f7846623587",
   "metadata": {},
   "outputs": [],
   "source": [
    "# Defino motor de solución para la ecuación diferencial \"func\" en el intervalo \"[xo,xf]\".\n",
    "def dfsolve(N,xo=0,xf=4,yo=2,func=F,method=paso_EU):\n",
    "    \"\"\"\n",
    "    Parámetros:\n",
    "    ===========\n",
    "    N = Número de subintervalos en los que se dividirá el intervalo [xo,xf]\n",
    "    xo = Límite inferior del intervalo (se definió =0 por defecto)\n",
    "    xf = Límite superior del intervalo (se definió =4 por defecto)\n",
    "    yo = Condición inicial (se definió =2 por defecto)\n",
    "    func = Función característica de la ecuación diferencial\n",
    "    method = Método de resolución de la ecuación diferencial (se definió el método de resolución de EULER por defecto)\n",
    "    \n",
    "    Retorna:\n",
    "    ========\n",
    "    X = Vector de las posiciones donde se resolvió la ecuación\n",
    "    SOL = Valores de Y con la solución encontrada\n",
    "    \"\"\"\n",
    "    # Divido el intervalo \"[xo,xf]\" en \"N\" subintervalos.\n",
    "    X = np.linspace(xo,xf,N+1)\n",
    "    \n",
    "    # Calculo el tamaño de paso \"h\".\n",
    "    h = (xf-xo)/N\n",
    "    \n",
    "    # Defino el vector \"SOL\", comenzando por la solución asociada a \"xo\", que es \"yo\".\n",
    "    SOL = [yo]\n",
    "    \n",
    "    # Completo el vector \"SOL\". Recorro hasta el penúltimo elemento de \"X\", porque como en \"method\" llamo a la resolución del\n",
    "    # paso de algún método de resolución, ya me considera el valor de \"X\" posterior.\n",
    "    for i, x in enumerate(X[:-1]):\n",
    "        SOL.append(\n",
    "        method(h, x, SOL[-1], func)\n",
    "        )\n",
    "    \n",
    "    return X, SOL"
   ]
  },
  {
   "cell_type": "code",
   "execution_count": 8,
   "id": "e5ee93f7-8196-4f72-b5d5-90dacf6d7d9f",
   "metadata": {},
   "outputs": [],
   "source": [
    "# Defino función que calcula error relativo.\n",
    "def error(valteo,valaprox):\n",
    "    \n",
    "    return np.abs((valteo-valaprox)/valteo)"
   ]
  },
  {
   "cell_type": "markdown",
   "id": "2ead18b7-5344-49fb-843f-53ba6dd07e3d",
   "metadata": {},
   "source": [
    "## Comparación entre métodos, con N fijo"
   ]
  },
  {
   "cell_type": "code",
   "execution_count": 9,
   "id": "501d1bd0-0d5a-4347-97ca-c46700699da3",
   "metadata": {},
   "outputs": [],
   "source": [
    "# Defino límite inferior del intervalo.\n",
    "xo = 0\n",
    "\n",
    "# Defino límite superior del intervalo.\n",
    "xf = 4\n",
    "\n",
    "# Defino condición inicial.\n",
    "yo = 2\n",
    "\n",
    "# Defino número de subintervalos en los que se dividirá el intervalo \"[xo,xf]\".\n",
    "N = 4"
   ]
  },
  {
   "cell_type": "code",
   "execution_count": 10,
   "id": "64194638-89c1-49d3-8ecf-4c3124713fa5",
   "metadata": {},
   "outputs": [],
   "source": [
    "# Defino número de subintervalos en los que se dividirá el intervalo \"[xo,xf]\".\n",
    "# N = 5\n",
    "\n",
    "# Calculo el tamaño de paso \"h\".\n",
    "# h = (xf-xo)/N\n",
    "\n",
    "# Pruebo EULER a ver si anda el paso.\n",
    "# pruebaEU = paso_EU(h, xo, yo, F)\n",
    "# print(pruebaEU)\n",
    "\n",
    "# Pruebo RK a ver si anda el paso.\n",
    "# pruebaRK = paso_RK(h, xo, yo, F)\n",
    "# print(pruebaRK)"
   ]
  },
  {
   "cell_type": "code",
   "execution_count": 11,
   "id": "76b49d11-b715-4c63-99b2-59258d15a4cf",
   "metadata": {},
   "outputs": [],
   "source": [
    "# Resuelvo por método de EULER.\n",
    "xeu, yeu = dfsolve(N, xo, xf, yo, F, paso_EU)"
   ]
  },
  {
   "cell_type": "code",
   "execution_count": 12,
   "id": "c426be07-e455-45ff-9317-16b49bfb7d5c",
   "metadata": {},
   "outputs": [],
   "source": [
    "# Resuelvo por método de HEUN.\n",
    "xhe, yhe = dfsolve(N, xo, xf, yo, F, paso_HE)"
   ]
  },
  {
   "cell_type": "code",
   "execution_count": 13,
   "id": "f280b075-8460-467e-b142-12193af55b38",
   "metadata": {},
   "outputs": [],
   "source": [
    "# Resuelvo por método de RK.\n",
    "xrk, yrk = dfsolve(N, xo, xf, yo, F, paso_RK)"
   ]
  },
  {
   "cell_type": "code",
   "execution_count": 14,
   "id": "13f6ac00-6dfb-4986-a547-d4f903983d32",
   "metadata": {},
   "outputs": [
    {
     "data": {
      "text/plain": [
       "Text(0.5, 1.0, 'Comparación entre métodos')"
      ]
     },
     "execution_count": 14,
     "metadata": {},
     "output_type": "execute_result"
    },
    {
     "data": {
      "image/png": "[encoded data removed]",
      "text/plain": [
       "<Figure size 648x432 with 1 Axes>"
      ]
     },
     "metadata": {
      "needs_background": "light"
     },
     "output_type": "display_data"
    }
   ],
   "source": [
    "# Grafico\n",
    "plt.figure(figsize=(9,6))\n",
    "plt.plot(xeu,teo(xeu),'--k',label='Teórica')\n",
    "plt.plot(xeu,yeu,'s',label='Euler')\n",
    "plt.plot(xhe,yhe,'ob',label='Heun')\n",
    "plt.plot(xrk,yrk,'dr',label='Runge Kutta 4')\n",
    "plt.legend(loc='upper left')\n",
    "plt.xlabel('x')\n",
    "plt.ylabel('y')\n",
    "plt.title('Comparación entre métodos')"
   ]
  },
  {
   "cell_type": "markdown",
   "id": "61287f61-b8ab-49ff-8bb6-3bbb87a431c0",
   "metadata": {},
   "source": [
    "## Encuentro el mejor intervalo"
   ]
  },
  {
   "cell_type": "code",
   "execution_count": 15,
   "id": "7e090fe9-cb56-4e22-91aa-ee1b3838c6e8",
   "metadata": {},
   "outputs": [
    {
     "name": "stdout",
     "output_type": "stream",
     "text": [
      "[     4      8     14     23     39     67    113    190    321    541\n",
      "    911   1536   2589   4364   7355  12396  20891  35208  59336 100000]\n"
     ]
    }
   ],
   "source": [
    "# Defino diferentes valores \"N\" en los que dividiré el subintervalo \"[xo,xf]\".\n",
    "N = np.logspace(np.log(2),5,20,dtype=int)\n",
    "print(N)"
   ]
  },
  {
   "cell_type": "code",
   "execution_count": 16,
   "id": "55841ac9-704b-4207-9027-6c771365c3e1",
   "metadata": {},
   "outputs": [],
   "source": [
    "# Defino función que analiza el error relativo de un método de resolución en particular.\n",
    "# IMPORTANTE: Si \"N\" tuviera sólo un elemento, \"thisn\" sería \"N\". Si \"N\" tiene más de un elemento, \"thisn\" sería CADA UNO de \n",
    "# los valores dentro de \"N\" (los que llamo \"then\" en esta función).\n",
    "def analyze_method(thisn,thismethod):\n",
    "    X, Y = dfsolve(then, xo, xf, yo, F, thismethod)\n",
    "    err = error(teo(X[-1]), Y[-1])\n",
    "    \n",
    "    return {then: {'X':X, 'Y':Y, 'err':err}}"
   ]
  },
  {
   "cell_type": "code",
   "execution_count": 17,
   "id": "1bf81020-75ed-42dc-b916-e17fa115db57",
   "metadata": {},
   "outputs": [],
   "source": [
    "solutions = {'RK':{}, 'HE':{}, 'EU':{}}\n",
    "for then in N:\n",
    "    solutions['RK'].update(analyze_method(then,paso_RK))\n",
    "    solutions['HE'].update(analyze_method(then,paso_HE))\n",
    "    solutions['EU'].update(analyze_method(then,paso_EU))"
   ]
  },
  {
   "cell_type": "code",
   "execution_count": 18,
   "id": "8d9513ee-1ded-42db-9fdf-aae85c3d4a26",
   "metadata": {},
   "outputs": [],
   "source": [
    "# Recolectamos todos los errores que medimos para RK.\n",
    "errors_RK = [thesol['err'] for then, thesol in solutions['RK'].items()]"
   ]
  },
  {
   "cell_type": "code",
   "execution_count": 19,
   "id": "866b4ad2-bc45-4685-be04-3a2d90bc6ad4",
   "metadata": {},
   "outputs": [],
   "source": [
    "# Recolectamos todos los errores que medimos para HE.\n",
    "errors_HE = [thesol['err'] for then, thesol in solutions['HE'].items()]"
   ]
  },
  {
   "cell_type": "code",
   "execution_count": 20,
   "id": "c31df64e-17dc-48e8-9d4c-f11140bfe133",
   "metadata": {},
   "outputs": [],
   "source": [
    "# Recolectamos todos los errores que medimos para EU.\n",
    "errors_EU = [thesol['err'] for then, thesol in solutions['EU'].items()]"
   ]
  },
  {
   "cell_type": "code",
   "execution_count": 21,
   "id": "efc6af4c-caa8-41b3-8bbc-d8aeb0664868",
   "metadata": {},
   "outputs": [
    {
     "data": {
      "text/plain": [
       "<matplotlib.legend.Legend at 0x26cba991d30>"
      ]
     },
     "execution_count": 21,
     "metadata": {},
     "output_type": "execute_result"
    },
    {
     "data": {
      "image/png": "[encoded data removed]",
      "text/plain": [
       "<Figure size 648x432 with 1 Axes>"
      ]
     },
     "metadata": {
      "needs_background": "light"
     },
     "output_type": "display_data"
    }
   ],
   "source": [
    "# Grafico los errores relativos en función del número de subintervalos considerados.\n",
    "\n",
    "# Se grafica en escala \"loglog\" para expandir toda la información, así los valores de error correspondientes a cantidades\n",
    "# pequeñas de subintervalos no se superponen.\n",
    "\n",
    "# Se grafica error de cálculo en función de esfuerzo de cálculo (cantidad de veces que debo evaluar la función para llegar a\n",
    "# la solución):\n",
    "    # - RK hace 4*N\n",
    "    # - HE hace 2*N\n",
    "    # - EU hace 1*N\n",
    "# Vemos que a igual esfuerzo de cálculo, RK da menor error, luego HE y luego EU.\n",
    "\n",
    "plt.figure(figsize=(9,6))\n",
    "plt.loglog(4*N, errors_RK, '-o', label='Runge Kutta 4')\n",
    "plt.loglog(2*N, errors_HE, '-o', label='Heun')\n",
    "plt.loglog(N, errors_EU, '-o', label='Euler')\n",
    "plt.xlabel('Número de subintervalos')\n",
    "plt.ylabel('Error relativo')\n",
    "plt.legend()"
   ]
  },
  {
   "cell_type": "code",
   "execution_count": null,
   "id": "8a9b9a29-696e-4c90-8b7d-c25d140478f3",
   "metadata": {},
   "outputs": [],
   "source": []
  }
 ],
 "metadata": {
  "kernelspec": {
   "display_name": "Python 3 (ipykernel)",
   "language": "python",
   "name": "python3"
  },
  "language_info": {
   "codemirror_mode": {
    "name": "ipython",
    "version": 3
   },
   "file_extension": ".py",
   "mimetype": "text/x-python",
   "name": "python",
   "nbconvert_exporter": "python",
   "pygments_lexer": "ipython3",
   "version": "3.9.10"
  }
 },
 "nbformat": 4,
 "nbformat_minor": 5
}
