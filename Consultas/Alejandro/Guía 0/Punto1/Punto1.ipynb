{
 "cells": [
  {
   "cell_type": "code",
   "execution_count": 1,
   "id": "967c861c-a7b2-4ce8-a63f-9308932a0ea3",
   "metadata": {
    "tags": []
   },
   "outputs": [],
   "source": [
    "import numpy as np   # Importo paquete de álgebra lineal\n",
    "import matplotlib.pyplot as plt   # Importo paquete de gráficos\n",
    "import math   # Importo paquete de funciones matemáticas\n",
    "import random   # Importo paquete para generar números pseudoaleatorios"
   ]
  },
  {
   "cell_type": "markdown",
   "id": "407e34e0-d7d7-4100-9fb3-1687c03803ea",
   "metadata": {},
   "source": [
    "## Problema 1"
   ]
  },
  {
   "cell_type": "markdown",
   "id": "35234a0e-53cb-4c7b-b541-033988ebcf4a",
   "metadata": {},
   "source": [
    "Haga un programa que lea una serie de datos en un vector, que los ordene en forma ascendente y que tanto muestre el vector ordenado en pantalla como lo grabe en un archivo."
   ]
  },
  {
   "cell_type": "code",
   "execution_count": 2,
   "id": "2e471853-b71c-46f6-87c6-9aa9b308c2e3",
   "metadata": {},
   "outputs": [],
   "source": [
    "# Defino vector \"v\" vacío\n",
    "v=[]"
   ]
  },
  {
   "cell_type": "code",
   "execution_count": 3,
   "id": "2f2551f2-87a6-4d88-af51-c9899a9f7c00",
   "metadata": {},
   "outputs": [],
   "source": [
    "# Defino el número de componentes \"n\" del \"v\"\n",
    "n=5"
   ]
  },
  {
   "cell_type": "code",
   "execution_count": 4,
   "id": "c66ec3c9-083d-4346-97bc-52b4e1befd6a",
   "metadata": {},
   "outputs": [
    {
     "name": "stdout",
     "output_type": "stream",
     "text": [
      "El vector de entrada es:\n",
      "[5.810571722407694, 7.683535956751947, 0.7524878286499392, 6.843433635875815, 0.8031053663791998]\n"
     ]
    }
   ],
   "source": [
    "# Completo \"v\" empleando for, append (agrega una nueva componente a \"v\", por cada iteración) y random (entrega número en el\n",
    "# rango [0,0 ; 1,0)\n",
    "for i in range(n):\n",
    "    v.append(random.random()*10)\n",
    "print('El vector de entrada es:')\n",
    "print(v)"
   ]
  },
  {
   "cell_type": "code",
   "execution_count": 5,
   "id": "b5035b5c-e02c-41af-ad9f-1c400ec683f0",
   "metadata": {},
   "outputs": [],
   "source": [
    "# Se ordenará \"v\" en forma ascendente, empleando método de BURBUJEO. Consiste en comparar cada par de elementos adyacentes \n",
    "# (v[j] con v[j+1]), comenzando desde el inicio del vector (\"v[0]\"). Si ambos no están ordenados (el segundo es menor que el \n",
    "# primero), se intercambian sus posiciones. En cada iteración, un elemento menos necesita ser evaluado (el último), ya que no \n",
    "# hay más elementos a su derecha que necesiten ser comparados, puesto que ya están ordenados."
   ]
  },
  {
   "cell_type": "code",
   "execution_count": 6,
   "id": "3a28589a-4820-444f-8a5b-6a972e642a9d",
   "metadata": {},
   "outputs": [
    {
     "name": "stdout",
     "output_type": "stream",
     "text": [
      "El vector odenado de forma ascendente resulta:\n",
      "[0.7524878286499392, 0.8031053663791998, 5.810571722407694, 6.843433635875815, 7.683535956751947]\n"
     ]
    }
   ],
   "source": [
    "# Recorro \"v\" desde el inicio \"i=0\" hasta la penúltima componente (que es \"i=len(v)-2\" pero como python no toma límite\n",
    "# superior entonces debo colocar \"i=len(v)-1\").\n",
    "for i in range(0,len(v)-1):\n",
    "    # Recorro \"v\" desde el inicio \"j=0\" hasta la penúltima componente \"j=len(v)-2\" menos \"i\", porque así voy evaluando un \n",
    "    # elemento menos por cada iteración, ya que el último fue ordenado en la iteración anterior.\n",
    "    for j in range (0,len(v)-1-i):\n",
    "        # Verifico si los elementos \"v[j]\" y \"v[j+1]\" están ordenados de manera ascendente, sino, intercambio.\n",
    "        if v[j]>v[j+1]:\n",
    "            # Guardo en \"v[j]\" en variable auxiliar \"aux\"\n",
    "            aux=v[j]\n",
    "            v[j]=v[j+1]\n",
    "            v[j+1]=aux\n",
    "print('El vector odenado de forma ascendente resulta:')\n",
    "print(v)"
   ]
  },
  {
   "cell_type": "code",
   "execution_count": 7,
   "id": "38cedeaa-d05a-4b47-b7ba-cfb400463bef",
   "metadata": {},
   "outputs": [],
   "source": [
    "# Grabo \"v\" en un archivo .txt\n",
    "np.savetxt('Vector ordenado del Punto1',v)"
   ]
  },
  {
   "cell_type": "code",
   "execution_count": null,
   "id": "f950b8fa-c027-4d53-b955-1254f2eae121",
   "metadata": {},
   "outputs": [],
   "source": []
  }
 ],
 "metadata": {
  "kernelspec": {
   "display_name": "Python 3 (ipykernel)",
   "language": "python",
   "name": "python3"
  },
  "language_info": {
   "codemirror_mode": {
    "name": "ipython",
    "version": 3
   },
   "file_extension": ".py",
   "mimetype": "text/x-python",
   "name": "python",
   "nbconvert_exporter": "python",
   "pygments_lexer": "ipython3",
   "version": "3.9.10"
  }
 },
 "nbformat": 4,
 "nbformat_minor": 5
}
