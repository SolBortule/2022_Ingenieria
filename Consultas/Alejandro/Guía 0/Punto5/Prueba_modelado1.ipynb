{
 "cells": [
  {
   "cell_type": "code",
   "execution_count": 1,
   "id": "0abf0526-632c-4967-ad67-d8a98554b77d",
   "metadata": {},
   "outputs": [],
   "source": [
    "import numpy as np   # Importo paquete de álgebra lineal\n",
    "import matplotlib.pyplot as plt   # Importo paquete de gráficos\n",
    "import math   # Importo paquete de funciones matemáticas\n",
    "import random   # Importo paquete para generar números pseudoaleatorios\n",
    "import pandas as pd # Importo paquete para crear tablas."
   ]
  },
  {
   "cell_type": "code",
   "execution_count": 2,
   "id": "d56d5c2e-dcac-4554-896b-e6b92a2c9516",
   "metadata": {},
   "outputs": [],
   "source": [
    "import spline3 as sp3"
   ]
  },
  {
   "cell_type": "code",
   "execution_count": 3,
   "id": "5b36fa36-998f-47bd-98f7-0c2791ff9a14",
   "metadata": {},
   "outputs": [],
   "source": [
    "X = np.array([-3,-2,1,4])\n",
    "Y = np.array([2,0,3,1])"
   ]
  },
  {
   "cell_type": "code",
   "execution_count": 4,
   "id": "8eb39478-48f9-483c-8271-b8df8262e24a",
   "metadata": {
    "tags": []
   },
   "outputs": [
    {
     "name": "stdout",
     "output_type": "stream",
     "text": [
      "[[ 1.4516129  -2.4516129  -1.          2.        ]\n",
      " [-0.35125448  1.90322581 -1.5483871   0.        ]\n",
      " [ 0.30227001 -1.25806452  0.38709677  3.        ]]\n"
     ]
    }
   ],
   "source": [
    "tipoconds1=2\n",
    "cond1 = np.array([-1,1])\n",
    "coeftes1=sp3.spline3(X,Y,tipoconds1,cond1)\n",
    "print(coeftes1)"
   ]
  },
  {
   "cell_type": "code",
   "execution_count": 5,
   "id": "b6a2bd99-0892-4cad-95af-666b94dcc2fd",
   "metadata": {},
   "outputs": [
    {
     "name": "stdout",
     "output_type": "stream",
     "text": [
      "[[ 0.47126437  0.         -2.47126437  2.        ]\n",
      " [-0.24265645  1.4137931  -1.05747126  0.        ]\n",
      " [ 0.08556833 -0.77011494  0.87356322  3.        ]]\n"
     ]
    }
   ],
   "source": [
    "tipoconds2=1\n",
    "cond2 = np.array([0,0])\n",
    "coeftes2=sp3.spline3(X,Y,tipoconds2,cond2)\n",
    "print(coeftes2)"
   ]
  },
  {
   "cell_type": "code",
   "execution_count": 6,
   "id": "77563de9-699e-4120-a7aa-3c9e2d492df3",
   "metadata": {},
   "outputs": [
    {
     "name": "stdout",
     "output_type": "stream",
     "text": [
      "[[ 0.91954023 -1.         -1.91954023  2.        ]\n",
      " [-0.34610473  1.75862069 -1.16091954  0.        ]\n",
      " [ 0.37292465 -1.35632184  0.04597701  3.        ]]\n"
     ]
    }
   ],
   "source": [
    "tipoconds3=1\n",
    "cond3 = np.array([-1,2])\n",
    "coeftes3=sp3.spline3(X,Y,tipoconds3,cond3)\n",
    "print(coeftes3)"
   ]
  },
  {
   "cell_type": "code",
   "execution_count": null,
   "id": "6d0178b5-4113-4341-8732-7a5feeceb588",
   "metadata": {},
   "outputs": [],
   "source": []
  }
 ],
 "metadata": {
  "kernelspec": {
   "display_name": "Python 3 (ipykernel)",
   "language": "python",
   "name": "python3"
  },
  "language_info": {
   "codemirror_mode": {
    "name": "ipython",
    "version": 3
   },
   "file_extension": ".py",
   "mimetype": "text/x-python",
   "name": "python",
   "nbconvert_exporter": "python",
   "pygments_lexer": "ipython3",
   "version": "3.9.10"
  }
 },
 "nbformat": 4,
 "nbformat_minor": 5
}
