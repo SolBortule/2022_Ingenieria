{
 "cells": [
  {
   "cell_type": "code",
   "execution_count": 1,
   "id": "f8f32dbe-84f6-4e08-954e-208f86b14729",
   "metadata": {},
   "outputs": [],
   "source": [
    "import numpy as np   # Importo paquete de álgebra lineal\n",
    "import matplotlib.pyplot as plt   # Importo paquete de gráficos\n",
    "import math   # Importo paquete de funciones matemáticas\n",
    "import random   # Importo paquete para generar números pseudoaleatorios"
   ]
  },
  {
   "cell_type": "markdown",
   "id": "94fcceca-28a5-498f-90d1-68d714280cfd",
   "metadata": {},
   "source": [
    "## Problema 2"
   ]
  },
  {
   "cell_type": "markdown",
   "id": "5ba3d569-9e54-420c-b4a8-5a38c8076bc3",
   "metadata": {},
   "source": [
    "La función exponencial se puede calcular como la serie:\n",
    "\\begin{equation}\n",
    "e^x = 1 + x + \\frac{x^2}{2} + \\frac{x^3}{3!} + \\frac{x^4}{4!} + \\cdot \\cdot \\cdot + \\frac{x^n}{n!} + \\cdot \\cdot \\cdot\n",
    "\\end{equation}\n",
    "\n",
    "- Evalúe la serie para calcular $e^{0,5}$, agregando sucesivos términos hasta asegurarse al menos 3 cifras significativas correctas. Comparar con el valor 1,64872127…\n",
    "- Analice los resultados."
   ]
  },
  {
   "cell_type": "code",
   "execution_count": 2,
   "id": "0b64d341-c24a-47e0-b53c-ad1d860f870a",
   "metadata": {},
   "outputs": [],
   "source": [
    "# Defino valor en el que evaluaré \"e^x\".\n",
    "x=0.5"
   ]
  },
  {
   "cell_type": "code",
   "execution_count": 3,
   "id": "cd065aa3-91e9-4727-8201-7ea56fe65570",
   "metadata": {},
   "outputs": [],
   "source": [
    "# Defino la cantidad de cifras significativas correctas, \"cs\".\n",
    "# Si el valor de referencia es 1,2345 y \"cs=3\", debería obtener 1,233X.\n",
    "cs=3"
   ]
  },
  {
   "cell_type": "code",
   "execution_count": 4,
   "id": "1c1f68a0-75b2-42ae-a2e3-1209472708ed",
   "metadata": {
    "tags": []
   },
   "outputs": [],
   "source": [
    "# Importo función \"expy\", que evalúa el desarrollo de Taylor de \"e^x\" en el valor de entrada \"x\", obteniéndose un resultado con\n",
    "# al menos \"cs\" cifras significativas correctas.\n",
    "import expy as ex"
   ]
  },
  {
   "cell_type": "code",
   "execution_count": 5,
   "id": "b3104f31-82ad-4b18-a40f-2d9fc7ff1ef3",
   "metadata": {},
   "outputs": [
    {
     "name": "stdout",
     "output_type": "stream",
     "text": [
      "Resultado\n",
      "1.6458333333333333\n"
     ]
    }
   ],
   "source": [
    "vf=ex.expy(x,cs)\n",
    "print('Resultado')\n",
    "print(vf)"
   ]
  },
  {
   "cell_type": "code",
   "execution_count": null,
   "id": "b3d81ebe-f9dc-44b9-bbb5-bbc9686f30a1",
   "metadata": {},
   "outputs": [],
   "source": []
  }
 ],
 "metadata": {
  "kernelspec": {
   "display_name": "Python 3 (ipykernel)",
   "language": "python",
   "name": "python3"
  },
  "language_info": {
   "codemirror_mode": {
    "name": "ipython",
    "version": 3
   },
   "file_extension": ".py",
   "mimetype": "text/x-python",
   "name": "python",
   "nbconvert_exporter": "python",
   "pygments_lexer": "ipython3",
   "version": "3.9.10"
  }
 },
 "nbformat": 4,
 "nbformat_minor": 5
}
