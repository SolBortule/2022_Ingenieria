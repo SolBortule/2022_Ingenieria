{
 "cells": [
  {
   "cell_type": "code",
   "execution_count": 1,
   "id": "25f67755-6b34-453e-a75d-831365d472c2",
   "metadata": {},
   "outputs": [],
   "source": [
    "import numpy as np   # Importo paquete de álgebra lineal\n",
    "import matplotlib.pyplot as plt   # Importo paquete de gráficos\n",
    "import math   # Importo paquete de funciones matemáticas\n",
    "import random   # Importo paquete para generar números pseudoaleatorios"
   ]
  },
  {
   "cell_type": "markdown",
   "id": "74dbb41c-f18b-476d-877e-c326d3b5688b",
   "metadata": {},
   "source": [
    "## Problema 4"
   ]
  },
  {
   "cell_type": "markdown",
   "id": "49c5588b-3b36-4fe5-abf3-f68d4d3d47e2",
   "metadata": {},
   "source": [
    "Encuentre la solución al sistema [A] {x} = {b} correspondiente al siguiente sistema de ecuaciones:\n",
    "\\begin{align*}\n",
    "    \\left\\lbrace\n",
    "    \\begin{array}{ccc}\n",
    "    x - 3y - 2z &=& 6 \\\\\n",
    "    2x - 4y - 3z &=& 8 \\\\\n",
    "    -3x + 6y + 8z &=& -5 \\\\\n",
    "    \\end{array}\n",
    "    \\right. \\\\\n",
    "\\end{align*}"
   ]
  },
  {
   "cell_type": "code",
   "execution_count": 2,
   "id": "2f39cdc2-fc98-468f-8458-a5d735be2190",
   "metadata": {},
   "outputs": [],
   "source": [
    "# Defino la matriz de coeficientes \"A\".\n",
    "A = np.array([[1,-3,-2],[2,-4,-3],[-3,6,8]])\n",
    "\n",
    "# Otra manera de hacerlo hubiese sido:\n",
    "# A = np.array(\n",
    "#    [\n",
    "#        [1,-3,-2],\n",
    "#        [2,-4,-3],\n",
    "#        [-3,6,8]\n",
    "#    ]\n",
    "#)"
   ]
  },
  {
   "cell_type": "code",
   "execution_count": 3,
   "id": "da1c293a-2014-4778-8f9c-d432f3cfb07e",
   "metadata": {},
   "outputs": [
    {
     "name": "stdout",
     "output_type": "stream",
     "text": [
      "[[ 1 -3 -2]\n",
      " [ 2 -4 -3]\n",
      " [-3  6  8]]\n"
     ]
    }
   ],
   "source": [
    "print(A)"
   ]
  },
  {
   "cell_type": "code",
   "execution_count": 4,
   "id": "e25d5c28-a3fd-45f3-8f5a-e77ed7a2be14",
   "metadata": {},
   "outputs": [],
   "source": [
    "# Defino el vector de términos independientes \"b\".\n",
    "b = np.array([[6],[8],[-5]])\n",
    "\n",
    "# Otra manera de hacerlo hubiese sido:\n",
    "# b = np.array(\n",
    "#    [\n",
    "#        [6],\n",
    "#        [8],\n",
    "#        [-5]\n",
    "#    ]\n",
    "#)"
   ]
  },
  {
   "cell_type": "code",
   "execution_count": 5,
   "id": "d7a7aef9-e111-43dd-8afa-5a256bdfa863",
   "metadata": {},
   "outputs": [
    {
     "name": "stdout",
     "output_type": "stream",
     "text": [
      "[[ 6]\n",
      " [ 8]\n",
      " [-5]]\n"
     ]
    }
   ],
   "source": [
    "print(b)"
   ]
  },
  {
   "cell_type": "code",
   "execution_count": 6,
   "id": "7f80cd49-098c-459c-bea3-b0d87aa0973a",
   "metadata": {},
   "outputs": [],
   "source": [
    "# Resuelvo el sistema de ecuaciones lineales, obteniendo el vector solución \"x\".\n",
    "x = np.linalg.solve(A,b)"
   ]
  },
  {
   "cell_type": "code",
   "execution_count": 7,
   "id": "62cf99b3-da9a-42b1-97e1-2f2ac5b64716",
   "metadata": {},
   "outputs": [
    {
     "name": "stdout",
     "output_type": "stream",
     "text": [
      "[[ 1.]\n",
      " [-3.]\n",
      " [ 2.]]\n"
     ]
    }
   ],
   "source": [
    "print(x)"
   ]
  },
  {
   "cell_type": "code",
   "execution_count": 8,
   "id": "99f81ace-78ba-46b7-a2f9-99e8b76a0664",
   "metadata": {},
   "outputs": [
    {
     "data": {
      "text/plain": [
       "array([[ 6.],\n",
       "       [ 8.],\n",
       "       [-5.]])"
      ]
     },
     "execution_count": 8,
     "metadata": {},
     "output_type": "execute_result"
    }
   ],
   "source": [
    "# Verifico que \"x\" sea correcto, haciendo el producto entre \"A\" y \"x\" y buscando obtener \"b\".\n",
    "A.dot(x)"
   ]
  },
  {
   "cell_type": "code",
   "execution_count": 9,
   "id": "f0f99f61-91ec-441e-8848-21b74b167e89",
   "metadata": {},
   "outputs": [
    {
     "data": {
      "text/plain": [
       "array([[ 1.77635684e-15],\n",
       "       [-8.88178420e-16],\n",
       "       [ 0.00000000e+00]])"
      ]
     },
     "execution_count": 9,
     "metadata": {},
     "output_type": "execute_result"
    }
   ],
   "source": [
    "# Verifico que \"x\" sea correcto, haciendo el producto entre \"A\" y \"x\", restando \"b\" y buscando obtener [[0],[0],[0]].\n",
    "A.dot(x)-b"
   ]
  },
  {
   "cell_type": "code",
   "execution_count": null,
   "id": "4259108c-4059-4740-be2c-1d7694d2a606",
   "metadata": {},
   "outputs": [],
   "source": []
  }
 ],
 "metadata": {
  "kernelspec": {
   "display_name": "Python 3 (ipykernel)",
   "language": "python",
   "name": "python3"
  },
  "language_info": {
   "codemirror_mode": {
    "name": "ipython",
    "version": 3
   },
   "file_extension": ".py",
   "mimetype": "text/x-python",
   "name": "python",
   "nbconvert_exporter": "python",
   "pygments_lexer": "ipython3",
   "version": "3.9.10"
  }
 },
 "nbformat": 4,
 "nbformat_minor": 5
}
