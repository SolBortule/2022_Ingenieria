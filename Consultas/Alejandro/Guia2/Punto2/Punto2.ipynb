{
 "cells": [
  {
   "cell_type": "code",
   "execution_count": 1,
   "id": "1e0c7f93",
   "metadata": {},
   "outputs": [],
   "source": [
    "import numpy as np   # Importo paquete de álgebra lineal\n",
    "import matplotlib.pyplot as plt   # Importo paquete de gráficos\n",
    "import copy\n",
    "import mef\n",
    "plt.rc('figure', figsize=(15,8))   # Para gráficos\n",
    "plt.rc('font',size=22)             # Para gráficos"
   ]
  },
  {
   "cell_type": "markdown",
   "id": "bc1b3389",
   "metadata": {},
   "source": [
    "## Punto 2"
   ]
  },
  {
   "cell_type": "markdown",
   "id": "ab731618",
   "metadata": {},
   "source": [
    "Considere el entramado mostrado en la figura, con una fuerza aplicada de $20\\:kN$. Calcule los desplazamientos de cada uno de los nodos y las tensiones que sufre cada elemento. Todos los elementos tienen $E = 210\\:GPa$ y una sección de $10\\:cm^2$, excepto el elemento 3, que tiene una sección de $20\\:cm^2$. Los elementos 2 y 5 tienen una longitud de $8\\:m$ y el elemento 3 de $4\\:m$.\n",
    "<center><img src=\"ImgProb02.png\"></center>"
   ]
  },
  {
   "cell_type": "code",
   "execution_count": 2,
   "id": "f8dcb550",
   "metadata": {},
   "outputs": [],
   "source": [
    "# Defino la matriz de nodos \"MN\".\n",
    "# - Columna 1 es la coordenada \"x\" del nodo.\n",
    "# - Columna 2 es la coordenada \"y\" del nodo.\n",
    "# - Columna 3 es la coordenada \"z\" del nodo.\n",
    "MN = np.array([[0,0,0],\n",
    "               [8,0,0],\n",
    "               [16,0,0],\n",
    "               [8,4,0]])\n",
    "\n",
    "# Su número de filas es el número de NODOS \"Nn\".\n",
    "Nn = MN.shape[0]"
   ]
  },
  {
   "cell_type": "code",
   "execution_count": 3,
   "id": "06752e40",
   "metadata": {},
   "outputs": [],
   "source": [
    "# Defino la matriz de conectividad \"MC\".\n",
    "# Informa qué nodos componen a cada elemento.\n",
    "MC= np.array([[0,3],\n",
    "              [0,1],\n",
    "              [1,3],\n",
    "              [2,3],\n",
    "              [1,2]])\n",
    "\n",
    "# Su número de filas es el número de ELEMENTOS \"Ne\".\n",
    "# Su número de columnas es el número NODOS POR ELEMENTO \"Nnxe\".\n",
    "Ne, Nnxe = MC.shape"
   ]
  },
  {
   "cell_type": "code",
   "execution_count": 4,
   "id": "6cd0e1e0",
   "metadata": {},
   "outputs": [],
   "source": [
    "# Defino los grados de libertad por nodo \"glxn\".\n",
    "glxn = 2"
   ]
  },
  {
   "cell_type": "code",
   "execution_count": 5,
   "id": "d796a2f8",
   "metadata": {},
   "outputs": [],
   "source": [
    "# Defino el módulo de elasticidad \"E\" de cada elemento.\n",
    "E = np.array([210,210,210,210,210])*1e9   # Pa\n",
    "\n",
    "# Defino la sección \"A\" de cada elemento.\n",
    "A = np.array([10,10,20,10,10])*1e-4   # m^2\n",
    "\n",
    "# Defino la longitud \"L\" de cada elemento.\n",
    "L = np.array([8,8,4,8,8])*1e9   # m"
   ]
  },
  {
   "cell_type": "markdown",
   "id": "6f4c4959",
   "metadata": {},
   "source": [
    "### Condiciones de vínculo en DESPLAZAMIENTO\n",
    "- $x_0 = 0\\: m$\n",
    "- $y_0 = 0\\: m$\n",
    "- $y_2 = 0\\: m$\n",
    "\n",
    "### Condiciones de vínculo en FUERZA\n",
    "- $F_{1x} = 0\\: kN$\n",
    "- $F_{1y} = -20\\: kN$\n",
    "- $F_{2x} = 0\\: kN$\n",
    "- $F_{3x} = 0\\: kN$\n",
    "- $F_{3y} = 0\\: kN$"
   ]
  },
  {
   "cell_type": "code",
   "execution_count": 6,
   "id": "abc3c6ce",
   "metadata": {},
   "outputs": [],
   "source": [
    "# Defino vector \"s\" que contiene los nodos con condiciones de vínculo en desplazamiento.\n",
    "s = np.array([0,1,5])\n",
    "\n",
    "# Defino vector \"Us\" con los valores de las condiciones de vínculo.\n",
    "Us = [[0],[0],[0]]\n",
    "\n",
    "# Defino vector \"r\" que contiene los nodos con condiciones de vínculo en fuerza. Es el complemento de \"s\".\n",
    "r = np.array([i for i in range(Nn*glxn) if i not in s])\n",
    "\n",
    "# Defino vector \"Fr\" con los valores de las condiciones de vínculo.\n",
    "Fr = [[0],[-20000],[0],[0],[0]]"
   ]
  },
  {
   "cell_type": "markdown",
   "id": "2de3cb3a",
   "metadata": {
    "tags": []
   },
   "source": [
    "## Resolución"
   ]
  },
  {
   "cell_type": "code",
   "execution_count": 7,
   "id": "9b5b1182",
   "metadata": {},
   "outputs": [],
   "source": [
    "# Llamo al paquete \"mef\", que contiene la función \"Kglobal\" que calcula la matriz global \"K\".\n",
    "K = mef.Kglobal(MN, MC, E, A, glxn)"
   ]
  },
  {
   "cell_type": "code",
   "execution_count": 8,
   "id": "8a063508",
   "metadata": {},
   "outputs": [],
   "source": [
    "# Llamo al paquete \"mef\", que contiene la función \"solve\" que calcula los vectores de fuerzas \"F\" y de desplazamientos \n",
    "# \"U\", empleando MEF. \n",
    "F, U = mef.solve(K, r, Fr, s, Us)"
   ]
  },
  {
   "cell_type": "code",
   "execution_count": 9,
   "id": "7ad5fc88",
   "metadata": {},
   "outputs": [
    {
     "name": "stdout",
     "output_type": "stream",
     "text": [
      "Las FUERZAS (en N) son:\n",
      "[[ 7.27595761e-12]\n",
      " [ 1.00000000e+04]\n",
      " [ 0.00000000e+00]\n",
      " [-2.00000000e+04]\n",
      " [ 0.00000000e+00]\n",
      " [ 1.00000000e+04]\n",
      " [ 0.00000000e+00]\n",
      " [ 0.00000000e+00]]\n",
      "Los DESPLAZAMIENTOS (en m) son:\n",
      "[[ 0.        ]\n",
      " [ 0.        ]\n",
      " [ 0.0007619 ]\n",
      " [-0.00384387]\n",
      " [ 0.00152381]\n",
      " [ 0.        ]\n",
      " [ 0.0007619 ]\n",
      " [-0.0036534 ]]\n"
     ]
    }
   ],
   "source": [
    "print('Las FUERZAS (en N) son:')\n",
    "print(F)\n",
    "print('Los DESPLAZAMIENTOS (en m) son:')\n",
    "print(U)"
   ]
  },
  {
   "cell_type": "code",
   "execution_count": 10,
   "id": "0ecc2e31",
   "metadata": {},
   "outputs": [
    {
     "name": "stdout",
     "output_type": "stream",
     "text": [
      "Nodo 1     Ux = 0.0000 mm     Uy =  0.0000 mm     Fx = 0.0000 N     Fy = 10000.0000 N\n",
      "Nodo 2     Ux = 0.7619 mm     Uy = -3.8439 mm     Fx = 0.0000 N     Fy = -20000.0000 N\n",
      "Nodo 3     Ux = 1.5238 mm     Uy =  0.0000 mm     Fx = 0.0000 N     Fy = 10000.0000 N\n",
      "Nodo 4     Ux = 0.7619 mm     Uy = -3.6534 mm     Fx = 0.0000 N     Fy =  0.0000 N\n"
     ]
    }
   ],
   "source": [
    "# FORMA MÁS LINDA DE PRESENTAR LOS DATOS:\n",
    "# - \"%s\" significa que te pone número entero.\n",
    "# - \"%.4f\" significa que te pone número con 4 cifras decimales.\n",
    "# - \"%2.4f\" y \"%7.4f\" sólo varían en que con \"7\" te pone los números alineados respecto del \"=\" y queda más lindo si \n",
    "# llega  a haber uno con signo \"-\".\n",
    "for nodo in range(Nn):\n",
    "    print('Nodo %s     Ux = %2.4f mm     Uy = %7.4f mm     Fx = %2.4f N     Fy = %7.4f N'%(nodo+1, U[2*nodo]*1000, U[2*nodo+1]*1000, F[2*nodo], F[2*nodo+1]))"
   ]
  },
  {
   "cell_type": "markdown",
   "id": "7fd854b7",
   "metadata": {},
   "source": [
    "### Problema\n",
    "\n",
    "Me di cuenta que tenía hecho el ejercicio hasta la línea anterior, pero hoy leí mejor el enunciado y **pedía tensiones de cada elemento también**."
   ]
  },
  {
   "cell_type": "markdown",
   "id": "5746949d",
   "metadata": {},
   "source": [
    "Intenté calcularlas tal y como lo habíamos hecho en el ejercicio 3, es decir, en multiplicando el módulo de elasticidad por la deformación del elemento, calculada como el cociente entre la diferencia de desplazamientos y la longitud del elemento:"
   ]
  },
  {
   "cell_type": "raw",
   "id": "dec1aea7",
   "metadata": {},
   "source": [
    "eps = np.zeros([Ne,1])    # Vector con deformaciones\n",
    "sigma = np.zeros([Ne,1])  # Vector con tensiones\n",
    "for i in range(Ne):\n",
    "    eps[i] = (U[i+2]-U[i])/(L)\n",
    "    sigma[i] = eps[i]*E"
   ]
  },
  {
   "cell_type": "markdown",
   "id": "1be43673",
   "metadata": {},
   "source": [
    "Luego me di cuenta que acá no tenemos todos los elementos alineados en el mismo eje, así que no iba a servir. Mi duda es si debo obtener:\n",
    "- Una única tensión por elemento, que vendría de calcular la deformación en el eje del elemento (proyectando manualmente los desplazamientos de los nodos correspondientes a ese elemento; esta parte me genera dudas si es correcta) y multiplicando por el módulo de elasticidad.\n",
    "- Dos tensiones por elemento, es decir, una tensión en \"X\" y otra en \"Y\" (me da más dudas esta opción pero se me ocurre), para lo cual ya poseería los desplazamientos en \"X\" y en \"Y\" (calculados con MEF) pero me faltaría conocer la longitud del elemento proyectada en \"X\" y en \"Y\".\n",
    "\n",
    "Es decir, ambas opciones serían difíciles de generalizar, debería calcular medio a mano las tensiones, todo por el hecho de que no tengo todos los elementos alineados a lo largo de un mismo eje (tengo dos elementos puramente en \"X\", un elemento puramente en \"Y\" y dos elementos en ambos ejes). ¿Voy bien encaminado con la forma de encarar el cálculo de las tensiones? ¿O me estoy rebuscando mucho con las dos opciones que planteé? Tal vez hay alguna manera más fácil de hacerlo."
   ]
  },
  {
   "cell_type": "markdown",
   "id": "0988e1bd",
   "metadata": {},
   "source": [
    "<div style=\"background:#999900\"> una tension x y una tensión y no tiene mucho sentido. Sin embargo, podes calcular el $\\Delta L$ del elemento tomando las coordenadas luego de la deformación </div>"
   ]
  },
  {
   "cell_type": "markdown",
   "id": "f24ec791",
   "metadata": {},
   "source": [
    "<div style=\"background:#999900\">\n",
    "$$\n",
    "MN' = MN + U^{2D}\n",
    "$$\n",
    "</div>"
   ]
  },
  {
   "cell_type": "markdown",
   "id": "abbd4e3b",
   "metadata": {},
   "source": [
    "<div style=\"background:#999900\">\n",
    "donde $U^{2D}$ son las deformaciones reexpresadas en 2D,\n",
    "</div>"
   ]
  },
  {
   "cell_type": "markdown",
   "id": "9f4ff417",
   "metadata": {},
   "source": [
    "<div style=\"background:#999900\">\n",
    "    $U^{2D} = U.reshape(NNODOS, 3)$\n",
    "</div>"
   ]
  },
  {
   "cell_type": "markdown",
   "id": "1be9a876",
   "metadata": {},
   "source": [
    "<div style=\"background:#999900\">\n",
    "de manera que la nueva matriz de nodos $MN'$  son las nuevas posiciones de los nodos. Luego, podes calcular las luevas longitudes de los elementos, py por último  las $\\Delta L$\n",
    " </div>"
   ]
  },
  {
   "cell_type": "code",
   "execution_count": null,
   "id": "d0faa5ea",
   "metadata": {},
   "outputs": [],
   "source": []
  }
 ],
 "metadata": {
  "kernelspec": {
   "display_name": "Python 3 (ipykernel)",
   "language": "python",
   "name": "python3"
  },
  "language_info": {
   "codemirror_mode": {
    "name": "ipython",
    "version": 3
   },
   "file_extension": ".py",
   "mimetype": "text/x-python",
   "name": "python",
   "nbconvert_exporter": "python",
   "pygments_lexer": "ipython3",
   "version": "3.9.12"
  }
 },
 "nbformat": 4,
 "nbformat_minor": 5
}
