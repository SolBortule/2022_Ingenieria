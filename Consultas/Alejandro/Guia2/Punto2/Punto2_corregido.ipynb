{
 "cells": [
  {
   "cell_type": "code",
   "execution_count": 1,
   "id": "1e0c7f93",
   "metadata": {},
   "outputs": [],
   "source": [
    "import numpy as np   # Importo paquete de álgebra lineal\n",
    "import matplotlib.pyplot as plt   # Importo paquete de gráficos\n",
    "import copy\n",
    "import mef\n",
    "plt.rc('figure', figsize=(15,8))   # Para gráficos\n",
    "plt.rc('font',size=22)             # Para gráficos"
   ]
  },
  {
   "cell_type": "markdown",
   "id": "bc1b3389",
   "metadata": {},
   "source": [
    "## Punto 2"
   ]
  },
  {
   "cell_type": "markdown",
   "id": "ab731618",
   "metadata": {},
   "source": [
    "Considere el entramado mostrado en la figura, con una fuerza aplicada de $20\\:kN$. Calcule los desplazamientos de cada uno de los nodos y las tensiones que sufre cada elemento. Todos los elementos tienen $E = 210\\:GPa$ y una sección de $10\\:cm^2$, excepto el elemento 3, que tiene una sección de $20\\:cm^2$. Los elementos 2 y 5 tienen una longitud de $8\\:m$ y el elemento 3 de $4\\:m$.\n",
    "<center><img src=\"ImgProb02.png\"></center>"
   ]
  },
  {
   "cell_type": "code",
   "execution_count": 2,
   "id": "f8dcb550",
   "metadata": {},
   "outputs": [],
   "source": [
    "# Defino la matriz de nodos \"MN\".\n",
    "# - Columna 1 es la coordenada \"x\" del nodo.\n",
    "# - Columna 2 es la coordenada \"y\" del nodo.\n",
    "# - Columna 3 es la coordenada \"z\" del nodo.\n",
    "MN = np.array([[0,0,0],\n",
    "               [8,0,0],\n",
    "               [16,0,0],\n",
    "               [8,4,0]])\n",
    "\n",
    "# Su número de filas es el número de NODOS \"Nn\".\n",
    "Nn = MN.shape[0]"
   ]
  },
  {
   "cell_type": "code",
   "execution_count": 3,
   "id": "06752e40",
   "metadata": {},
   "outputs": [],
   "source": [
    "# Defino la matriz de conectividad \"MC\".\n",
    "# Informa qué nodos componen a cada elemento.\n",
    "MC= np.array([[0,3],\n",
    "              [0,1],\n",
    "              [1,3],\n",
    "              [2,3],\n",
    "              [1,2]])\n",
    "\n",
    "# Su número de filas es el número de ELEMENTOS \"Ne\".\n",
    "# Su número de columnas es el número NODOS POR ELEMENTO \"Nnxe\".\n",
    "Ne, Nnxe = MC.shape"
   ]
  },
  {
   "cell_type": "code",
   "execution_count": 4,
   "id": "6cd0e1e0",
   "metadata": {},
   "outputs": [],
   "source": [
    "# Defino los grados de libertad por nodo \"glxn\".\n",
    "glxn = 2"
   ]
  },
  {
   "cell_type": "code",
   "execution_count": 5,
   "id": "d796a2f8",
   "metadata": {},
   "outputs": [],
   "source": [
    "# Defino el módulo de elasticidad \"E\" de cada elemento.\n",
    "E = np.array([210,210,210,210,210])*1e9   # Pa\n",
    "\n",
    "# Defino la sección \"A\" de cada elemento.\n",
    "A = np.array([10,10,20,10,10])*1e-4   # m^2"
   ]
  },
  {
   "cell_type": "code",
   "execution_count": 6,
   "id": "e81ba8c5-3019-475e-b3d9-d2db9cfc750e",
   "metadata": {},
   "outputs": [],
   "source": [
    "# Defino la longitud \"L\" de cada elemento.\n",
    "L = np.array([8,8,4,8,8])   # m"
   ]
  },
  {
   "cell_type": "markdown",
   "id": "6f4c4959",
   "metadata": {},
   "source": [
    "### Condiciones de vínculo en DESPLAZAMIENTO\n",
    "- $x_0 = 0\\: m$\n",
    "- $y_0 = 0\\: m$\n",
    "- $y_2 = 0\\: m$\n",
    "\n",
    "### Condiciones de vínculo en FUERZA\n",
    "- $F_{1x} = 0\\: kN$\n",
    "- $F_{1y} = -20\\: kN$\n",
    "- $F_{2x} = 0\\: kN$\n",
    "- $F_{3x} = 0\\: kN$\n",
    "- $F_{3y} = 0\\: kN$"
   ]
  },
  {
   "cell_type": "code",
   "execution_count": 7,
   "id": "abc3c6ce",
   "metadata": {},
   "outputs": [],
   "source": [
    "# Defino vector \"s\" que contiene los nodos con condiciones de vínculo en desplazamiento.\n",
    "s = np.array([0,1,5])\n",
    "\n",
    "# Defino vector \"Us\" con los valores de las condiciones de vínculo.\n",
    "Us = [[0],[0],[0]]\n",
    "\n",
    "# Defino vector \"r\" que contiene los nodos con condiciones de vínculo en fuerza. Es el complemento de \"s\".\n",
    "r = np.array([i for i in range(Nn*glxn) if i not in s])\n",
    "\n",
    "# Defino vector \"Fr\" con los valores de las condiciones de vínculo.\n",
    "Fr = [[0],[-20000],[0],[0],[0]]"
   ]
  },
  {
   "cell_type": "markdown",
   "id": "2de3cb3a",
   "metadata": {
    "tags": []
   },
   "source": [
    "## Resolución"
   ]
  },
  {
   "cell_type": "code",
   "execution_count": 8,
   "id": "9b5b1182",
   "metadata": {},
   "outputs": [],
   "source": [
    "# Llamo al paquete \"mef\", que contiene la función \"Kglobal\" que calcula la matriz global \"K\".\n",
    "K = mef.Kglobal(MN, MC, E, A, glxn)"
   ]
  },
  {
   "cell_type": "code",
   "execution_count": 9,
   "id": "8a063508",
   "metadata": {},
   "outputs": [],
   "source": [
    "# Llamo al paquete \"mef\", que contiene la función \"solve\" que calcula los vectores de fuerzas \"F\" y de desplazamientos \n",
    "# \"U\", empleando MEF. \n",
    "F, U = mef.solve(K, r, Fr, s, Us)"
   ]
  },
  {
   "cell_type": "code",
   "execution_count": 10,
   "id": "7ad5fc88",
   "metadata": {},
   "outputs": [
    {
     "name": "stdout",
     "output_type": "stream",
     "text": [
      "Las FUERZAS (en N) son:\n",
      "[[ 7.27595761e-12]\n",
      " [ 1.00000000e+04]\n",
      " [ 0.00000000e+00]\n",
      " [-2.00000000e+04]\n",
      " [ 0.00000000e+00]\n",
      " [ 1.00000000e+04]\n",
      " [ 0.00000000e+00]\n",
      " [ 0.00000000e+00]]\n",
      "Los DESPLAZAMIENTOS (en m) son:\n",
      "[[ 0.        ]\n",
      " [ 0.        ]\n",
      " [ 0.0007619 ]\n",
      " [-0.00384387]\n",
      " [ 0.00152381]\n",
      " [ 0.        ]\n",
      " [ 0.0007619 ]\n",
      " [-0.0036534 ]]\n"
     ]
    }
   ],
   "source": [
    "print('Las FUERZAS (en N) son:')\n",
    "print(F)\n",
    "print('Los DESPLAZAMIENTOS (en m) son:')\n",
    "print(U)"
   ]
  },
  {
   "cell_type": "code",
   "execution_count": 11,
   "id": "0ecc2e31",
   "metadata": {},
   "outputs": [
    {
     "name": "stdout",
     "output_type": "stream",
     "text": [
      "Nodo 1     Ux = 0.0000 mm     Uy =  0.0000 mm     Fx = 0.0000 N     Fy = 10000.0000 N\n",
      "Nodo 2     Ux = 0.7619 mm     Uy = -3.8439 mm     Fx = 0.0000 N     Fy = -20000.0000 N\n",
      "Nodo 3     Ux = 1.5238 mm     Uy =  0.0000 mm     Fx = 0.0000 N     Fy = 10000.0000 N\n",
      "Nodo 4     Ux = 0.7619 mm     Uy = -3.6534 mm     Fx = 0.0000 N     Fy =  0.0000 N\n"
     ]
    }
   ],
   "source": [
    "# FORMA MÁS LINDA DE PRESENTAR LOS DATOS:\n",
    "# - \"%s\" significa que te pone número entero.\n",
    "# - \"%.4f\" significa que te pone número con 4 cifras decimales.\n",
    "# - \"%2.4f\" y \"%7.4f\" sólo varían en que con \"7\" te pone los números alineados respecto del \"=\" y queda más lindo si \n",
    "# llega  a haber uno con signo \"-\".\n",
    "for nodo in range(Nn):\n",
    "    print('Nodo %s     Ux = %2.4f mm     Uy = %7.4f mm     Fx = %2.4f N     Fy = %7.4f N'%(nodo+1, U[2*nodo]*1000, U[2*nodo+1]*1000, F[2*nodo], F[2*nodo+1]))"
   ]
  },
  {
   "cell_type": "markdown",
   "id": "5bd106e7-527d-49cf-a9af-f7c778d6c679",
   "metadata": {},
   "source": [
    "### Cálculo de TENSIÓN sufrida por cada elemento"
   ]
  },
  {
   "cell_type": "markdown",
   "id": "1386feee-ded6-4d71-845c-657ebbd690ea",
   "metadata": {},
   "source": [
    "Sea un elemento de longitud inicial $L$. Una vez sometido a las fuerzas correspondientes al ejercicio, su longitud variará una cantidad $\\Delta L$, por lo que sufrirá una deformación:\n",
    "\n",
    "$$\n",
    "\\varepsilon = \\frac{\\Delta L}{L}\n",
    "$$\n",
    "\n",
    "Sea $E$ el módulo de elasticidad del elemento, entonces la **tensión** que sufrirá el elemento será:\n",
    "\n",
    "$$\n",
    "\\sigma = E \\varepsilon\n",
    "$$"
   ]
  },
  {
   "cell_type": "markdown",
   "id": "0df54a2b-a9a9-4543-8a2f-b11354368e37",
   "metadata": {},
   "source": [
    "**¿Cómo obtengo $\\Delta L$ de cada elemento?**\n",
    "- Sé que $L$ está asociada a las posiciones inciales de los nodos, almacenadas en la matriz de nodos $MN$.\n",
    "- Sé que luego de aplicadas las fuerzas, los elementos tendrán nuevas longitudes $L_F$ que estarán asociadas a las posiciones finales de los nodos, que sería una nueva matriz de nodos ${MN}'$.\n",
    "\n",
    "$$\n",
    "L_F = L + \\Delta L \\hspace{1cm} ; \\hspace{1cm} {MN}' = MN + U^{2D}\n",
    "$$\n",
    "\n",
    ", donde $U^{2D}$ son los desplazmientos reexpresados en 2D."
   ]
  },
  {
   "cell_type": "code",
   "execution_count": 12,
   "id": "b72bb95c-7683-43fc-905d-5994abb3adfe",
   "metadata": {},
   "outputs": [],
   "source": [
    "# Convierto el vector de desplazamientos \"U\" de tamaño \"(2*Nn)*1\", en un vector \"U_2D\" de tamaño \"Nn*2\".\n",
    "# - Columna \"0\" contiene desplazamientos en \"x\".\n",
    "# - Columna \"1\" contiene desplazamientos en \"y\".\n",
    "U_2D = U.reshape(Nn,2)\n",
    "\n",
    "# Agrego columna \"2\" con los desplazamientos en \"z\", que son nulos.\n",
    "new_column = np.zeros(Nn).reshape(-1,1)\n",
    "U_2D = np.append(U_2D, new_column, axis=1)"
   ]
  },
  {
   "cell_type": "code",
   "execution_count": 13,
   "id": "5cc4a3e2-5afe-4f83-b78a-01e120096f78",
   "metadata": {},
   "outputs": [],
   "source": [
    "# Calculo las posiciones finales de los nodos, matriz \"MN'\".\n",
    "MN_final = MN + U_2D"
   ]
  },
  {
   "cell_type": "code",
   "execution_count": 14,
   "id": "1f27f1e3-5c53-4516-9945-1b25e233390e",
   "metadata": {},
   "outputs": [],
   "source": [
    "# Defino vector \"LF\" que contendrá la longitud final de cada elemento.\n",
    "LF = []\n",
    "\n",
    "for e in range(Ne):\n",
    "    nodo1 = MC[e, 0]   # Primer nodo que conforma al elemento \"e\".\n",
    "    nodo2 = MC[e, 1]   # Segundo nodo que conforma al elemento \"e\".\n",
    "    Lx = MN_final[nodo2, 0] - MN_final[nodo1, 0]   # Longitud en eje \"x\".\n",
    "    Ly = MN_final[nodo2, 1] - MN_final[nodo1, 1]   # Longitud en eje \"y\".\n",
    "    Le = np.sqrt(Lx**2+Ly**2)         # Longitud del elemento \"e\" (calculé la norma).\n",
    "    LF.append(Le)"
   ]
  },
  {
   "cell_type": "code",
   "execution_count": 15,
   "id": "ba9a695a-0b63-4e09-89ae-a00cfcfc8182",
   "metadata": {},
   "outputs": [],
   "source": [
    "# Calculo \"deltaL\" de cada elemento.\n",
    "deltaL = LF - L"
   ]
  },
  {
   "cell_type": "code",
   "execution_count": 16,
   "id": "29f9e9cb-206f-4610-a7c4-926a76b4e630",
   "metadata": {},
   "outputs": [],
   "source": [
    "eps = np.zeros([Ne,1])    # \"eps\" almacena deformación de cada elemento.\n",
    "sigma = np.zeros([Ne,1])  # \"sigma\" almacena tensión de cada elemento.\n",
    "for i in range(Ne):\n",
    "    eps[i] = (deltaL[i])/(L[i])\n",
    "    sigma[i] = eps[i]*E[i]"
   ]
  },
  {
   "cell_type": "code",
   "execution_count": 17,
   "id": "3823f149-5c72-4dca-9a39-f78b36e7c720",
   "metadata": {},
   "outputs": [
    {
     "name": "stdout",
     "output_type": "stream",
     "text": [
      "Las TENSIONES (en Pa) son:\n",
      "[[2.47621567e+10]\n",
      " [2.00242385e+07]\n",
      " [1.00000000e+07]\n",
      " [2.47621567e+10]\n",
      " [2.00242385e+07]]\n"
     ]
    }
   ],
   "source": [
    "print('Las TENSIONES (en Pa) son:')\n",
    "print(sigma)"
   ]
  },
  {
   "cell_type": "code",
   "execution_count": 18,
   "id": "58fc434c-d33a-4341-a8ba-a462751e2566",
   "metadata": {},
   "outputs": [
    {
     "name": "stdout",
     "output_type": "stream",
     "text": [
      "Elemento 1     Tensión = 24762.1567 MPa\n",
      "Elemento 2     Tensión = 20.0242 MPa\n",
      "Elemento 3     Tensión = 10.0000 MPa\n",
      "Elemento 4     Tensión = 24762.1567 MPa\n",
      "Elemento 5     Tensión = 20.0242 MPa\n"
     ]
    }
   ],
   "source": [
    "for e in range(Ne):\n",
    "    print('Elemento %s     Tensión = %2.4f MPa'%(e+1, sigma[e]/(1e6)))"
   ]
  }
 ],
 "metadata": {
  "kernelspec": {
   "display_name": "Python 3 (ipykernel)",
   "language": "python",
   "name": "python3"
  },
  "language_info": {
   "codemirror_mode": {
    "name": "ipython",
    "version": 3
   },
   "file_extension": ".py",
   "mimetype": "text/x-python",
   "name": "python",
   "nbconvert_exporter": "python",
   "pygments_lexer": "ipython3",
   "version": "3.9.10"
  }
 },
 "nbformat": 4,
 "nbformat_minor": 5
}
