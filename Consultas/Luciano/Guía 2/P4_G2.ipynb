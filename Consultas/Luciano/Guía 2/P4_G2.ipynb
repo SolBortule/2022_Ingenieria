{
 "cells": [
  {
   "cell_type": "markdown",
   "id": "63d82d1f-dd65-42ad-8652-d5944dfc3324",
   "metadata": {},
   "source": [
    "$$\\LARGE\n",
    "\\underline\n",
    "{\n",
    "\\textbf\n",
    "    {Problema 4}\n",
    "}\n",
    "$$"
   ]
  },
  {
   "cell_type": "markdown",
   "id": "e01df5a1-af41-4fb9-807e-29e46cc37697",
   "metadata": {},
   "source": [
    "Determine los desplazamientos y rotaciones y fuerzas y torques de vínculos para el sistema de la\n",
    "figura. Tome $E = 210\\ GPa$ e $I = 2 x 10^{–4} m^{4}$."
   ]
  },
  {
   "cell_type": "markdown",
   "id": "2054032f-8684-427a-a73f-179ccdfaeffb",
   "metadata": {},
   "source": [
    "<center><img src=\"ImgProb04G02.png\"></center>"
   ]
  },
  {
   "cell_type": "code",
   "execution_count": 1,
   "id": "e31dd177-24fd-4082-9238-1491aac11a1a",
   "metadata": {},
   "outputs": [],
   "source": [
    "import numpy as np\n",
    "import matplotlib.pyplot as plt\n",
    "import MEF as mef"
   ]
  },
  {
   "cell_type": "code",
   "execution_count": 2,
   "id": "1e2213dd-2056-4cdb-bfa0-5839c80f37aa",
   "metadata": {},
   "outputs": [],
   "source": [
    "E = 210e9\n",
    "I = 2e-4  # m4\n",
    "L_barra = 6  # m\n",
    "k = 200e3  # N/m\n",
    "P = -50e3  # N"
   ]
  },
  {
   "cell_type": "markdown",
   "id": "e59ab5e8-621c-4e79-b206-0bb00001f8c9",
   "metadata": {},
   "source": [
    "$ \\large\n",
    "\\underline\n",
    "{\\textbf{Condiciones de contorno}}\n",
    "$"
   ]
  },
  {
   "cell_type": "markdown",
   "id": "9c4ef433-85a9-472c-bf3a-0a455d5afda0",
   "metadata": {},
   "source": [
    "$\\large\n",
    "Nodo\\ 0\\ \\rightarrow d_{0y}(0)=\\phi_{0}(1)=0\n",
    "$"
   ]
  },
  {
   "cell_type": "markdown",
   "id": "2a2dedd7-28b3-4420-9caa-0fc8a67a0039",
   "metadata": {},
   "source": [
    "$\\large\n",
    "Nodo\\ 1\\ \\rightarrow d_{1y}(2)=0\n",
    "$"
   ]
  },
  {
   "cell_type": "markdown",
   "id": "3b255576-1244-4067-b790-a09c8d5db90d",
   "metadata": {},
   "source": [
    "$\\large\n",
    "Nodo\\ 3\\ (final\\ del\\ resorte) \\rightarrow d_{3y}(6)=\\phi_{3}(7)=0\n",
    "$"
   ]
  },
  {
   "cell_type": "code",
   "execution_count": 3,
   "id": "fd05cfc2-f400-4afe-ac49-d2dfed03b38f",
   "metadata": {},
   "outputs": [],
   "source": [
    "MN = np.array([[0,0],[3,0],[6,0]])\n",
    "MC = np.array([[0,1],[1,2]])"
   ]
  },
  {
   "cell_type": "code",
   "execution_count": 4,
   "id": "a8ddbd43-0a05-4fe6-bcdd-59dc0c89718d",
   "metadata": {},
   "outputs": [],
   "source": [
    "Nn, glxn = MN.shape  # cantidad de nodos, grados de lib x nodo\n",
    "Ne, Nnxe = MC.shape  # cantidad de elementos, numero de nodos x elemento"
   ]
  },
  {
   "cell_type": "code",
   "execution_count": 5,
   "id": "ee8ebd4a-ec37-4387-9b25-b1df7f8ef0d3",
   "metadata": {},
   "outputs": [],
   "source": [
    "s = np.array([0,1,2,6,7])\n",
    "r = mef.vector_complemento(s, MN, glxn)"
   ]
  },
  {
   "cell_type": "code",
   "execution_count": 6,
   "id": "a6531809-2397-439e-bd72-c5f3baf31173",
   "metadata": {},
   "outputs": [],
   "source": [
    "Us = np.array([0,0,0,0,0]).reshape([-1,1])\n",
    "Fr = np.array([0,P,0]).reshape([-1,1])"
   ]
  },
  {
   "cell_type": "code",
   "execution_count": 7,
   "id": "fe8cf13d-359d-4e84-a768-0f930f532d6e",
   "metadata": {},
   "outputs": [],
   "source": [
    "L = L_barra/Ne  # Longitud de cada elemento"
   ]
  },
  {
   "cell_type": "code",
   "execution_count": 8,
   "id": "13ba4e32-6081-4c47-a3bc-222cec057021",
   "metadata": {},
   "outputs": [],
   "source": [
    "MR_elem = np.array([[12,6*L,-12,6*L],[6*L,4*L**2,-6*L,2*L**2],[-12,-6*L,12,-6*L],[6*L,2*L**2,-6*L,4*L**2]])\n",
    "MR_elem = (E*I/L**3)*MR_elem"
   ]
  },
  {
   "cell_type": "code",
   "execution_count": 9,
   "id": "00af618d-e8f6-4aad-8556-6314f1165736",
   "metadata": {},
   "outputs": [],
   "source": [
    "Ke = {}  # diccionario para acumular todas las K_elementales\n",
    "MR = np.zeros([glxn*Nn,glxn*Nn])\n",
    "archivo = 'Matrices.txt'  # Creo archivo para guardar todas las matrices elementales\n",
    "with open(archivo,'w') as f:  # la f es como un alias apra el archivo que acabo de abrir\n",
    "    f.write('Matrices Elementales\\n ===============')\n",
    "    \n",
    "for e in range(Ne):\n",
    "    Ke[e] = MR_elem\n",
    "    fe = np.abs(Ke[e].max())\n",
    "    with open('Matrices.txt','a') as f:  # 'a' de agregar\n",
    "        f.write(f'\\nelemento {e}, fe ={fe:4e}\\n')\n",
    "        f.write(f'{Ke[e]/fe}\\n')\n",
    "\n",
    "    for i in range(Nnxe):\n",
    "        rangoi = np.linspace(i*glxn,(i+1)*glxn-1,glxn).astype(int)\n",
    "        rangoni = np.linspace(MC[e,i]*glxn,(MC[e, i]+1)*glxn-1,glxn).astype(int)\n",
    "        for j in range(Nnxe):\n",
    "            rangoj = np.linspace(j*glxn,(j+1)*glxn-1,glxn).astype(int)\n",
    "            rangonj = np.linspace(MC[e,j]*glxn,(MC[e, j]+1)*glxn-1,glxn).astype(int)\n",
    "            MR[np.ix_(rangoni,rangonj)] += Ke[e][np.ix_(rangoi,rangoj)]\n",
    "\n",
    "MR = np.append(MR,np.zeros([glxn*Nn,2]),1)\n",
    "MR = np.append(MR,np.zeros([2,glxn*Nn+2]),0)\n",
    "K_resorte = np.array([[1,-1],[-1,1]])*k\n",
    "pos = np.array([4,6])\n",
    "MR[np.ix_(pos,pos)] += K_resorte\n",
    "fe = np.abs(MR.max())\n",
    "with open('Matrices.txt','a') as f:  # 'a' de agregar\n",
    "    f.write(f'\\nMatriz Global, fe ={fe:4e}\\n')\n",
    "    f.write(f'{MR/fe}\\n')"
   ]
  },
  {
   "cell_type": "code",
   "execution_count": 10,
   "id": "f5f213d8-40d5-4c73-afef-3a11b846142f",
   "metadata": {},
   "outputs": [],
   "source": [
    "F, U = mef.solve1D(MR, r, s, Us, Fr)"
   ]
  },
  {
   "cell_type": "code",
   "execution_count": 12,
   "id": "65f98530-baeb-452d-a17c-e6b41f6668be",
   "metadata": {},
   "outputs": [
    {
     "name": "stdout",
     "output_type": "stream",
     "text": [
      "\u001b[4mMatriz global\u001b[0m[N/m 10-6]:\n",
      "\u001b[93mU =\n",
      " [[1.87 2.80 -1.87 2.80 0.00 0.00 0.00 0.00]\n",
      " [2.80 5.60 -2.80 2.80 0.00 0.00 0.00 0.00]\n",
      " [-1.87 -2.80 3.73 0.00 -1.87 2.80 0.00 0.00]\n",
      " [2.80 2.80 0.00 11.20 -2.80 2.80 0.00 0.00]\n",
      " [0.00 0.00 -1.87 -2.80 1.89 -2.80 -0.02 0.00]\n",
      " [0.00 0.00 2.80 2.80 -2.80 5.60 0.00 0.00]\n",
      " [0.00 0.00 0.00 0.00 -0.02 0.00 0.02 0.00]\n",
      " [0.00 0.00 0.00 0.00 0.00 0.00 0.00 0.00]] \n",
      "\u001b[0m\n",
      "\u001b[4m\n",
      "Vector fuerzas y momentos\u001b[0m[N] y [N m]:\n",
      "\u001b[93mF = \n",
      "[[-69767.44]\n",
      " [-69767.44]\n",
      " [116279.07]\n",
      " [0.00]\n",
      " [-50000.00]\n",
      " [0.00]\n",
      " [3488.37]\n",
      " [0.00]]\n",
      "\u001b[0m\n",
      "\u001b[4mVector desplazamientos y angulos\u001b[0m[mm]:\n",
      "\u001b[93mU =\n",
      " [[0.00]\n",
      " [0.00]\n",
      " [0.00]\n",
      " [-2.49]\n",
      " [-17.44]\n",
      " [-7.48]\n",
      " [0.00]\n",
      " [0.00]] \n",
      "\n"
     ]
    }
   ],
   "source": [
    "np.set_printoptions(formatter={\"float\": lambda x: \"%0.2f\"% (x)})\n",
    "print('\\033[4m'+f'Matriz global'+'\\033[0m'+'[N/m 10-6]:\\n\\033[93m'+ f'U =\\n {MR/(10e6)} \\n'+'\\033[0m')\n",
    "print('\\033[4m'+f'\\nVector fuerzas y momentos' +'\\033[0m'+'[N] y [N m]:\\n\\033[93m'+f'F = \\n{F}\\n'+'\\033[0m')\n",
    "print('\\033[4m'+f'Vector desplazamientos y angulos'+'\\033[0m'+'[mm]:\\n\\033[93m'+ f'U =\\n {U*1000} \\n')"
   ]
  },
  {
   "cell_type": "code",
   "execution_count": null,
   "id": "6ab1e79b-f101-4ce6-bef1-2944491b3349",
   "metadata": {},
   "outputs": [],
   "source": []
  }
 ],
 "metadata": {
  "kernelspec": {
   "display_name": "Python 3 (ipykernel)",
   "language": "python",
   "name": "python3"
  },
  "language_info": {
   "codemirror_mode": {
    "name": "ipython",
    "version": 3
   },
   "file_extension": ".py",
   "mimetype": "text/x-python",
   "name": "python",
   "nbconvert_exporter": "python",
   "pygments_lexer": "ipython3",
   "version": "3.9.10"
  }
 },
 "nbformat": 4,
 "nbformat_minor": 5
}
