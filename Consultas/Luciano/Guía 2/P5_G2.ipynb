{
 "cells": [
  {
   "cell_type": "markdown",
   "id": "63d82d1f-dd65-42ad-8652-d5944dfc3324",
   "metadata": {},
   "source": [
    "$$\\LARGE\n",
    "\\underline\n",
    "{\n",
    "\\textbf\n",
    "    {Problema 5}\n",
    "}\n",
    "$$"
   ]
  },
  {
   "cell_type": "markdown",
   "id": "68189d54-b572-44cb-8fe2-b41caec43f50",
   "metadata": {},
   "source": [
    "Determine los desplazamientos de los nodos y sus pendientes; las fuerzas en cada elemento y las\n",
    "reacciones. Tome $E = 29x106\\ psi$ (libras por pulgada cuadrada) e $I = 200\\ pulgada^{4}$."
   ]
  },
  {
   "cell_type": "markdown",
   "id": "2054032f-8684-427a-a73f-179ccdfaeffb",
   "metadata": {},
   "source": [
    "<center><img src=\"ImgProb05G02.png\"></center>"
   ]
  },
  {
   "cell_type": "code",
   "execution_count": 1,
   "id": "1e2213dd-2056-4cdb-bfa0-5839c80f37aa",
   "metadata": {},
   "outputs": [],
   "source": [
    "import numpy as np\n",
    "import matplotlib.pyplot as plt\n",
    "import MEF as mef"
   ]
  },
  {
   "cell_type": "code",
   "execution_count": 2,
   "id": "fe662a8e-ec0e-4e48-958e-726cd1080a77",
   "metadata": {},
   "outputs": [],
   "source": [
    "E = 29e6  # psi\n",
    "I = 200  # in4\n",
    "L_barra = 30  # ft\n",
    "w = 200  # lb/ft"
   ]
  },
  {
   "cell_type": "code",
   "execution_count": 3,
   "id": "97fe515a-c32c-4784-97ec-013966ef3d08",
   "metadata": {},
   "outputs": [],
   "source": [
    "MN = np.array([[0,0],[15,0],[30,0]])\n",
    "MC = np.array([[0,1],[1,2]])"
   ]
  },
  {
   "cell_type": "code",
   "execution_count": 4,
   "id": "20ff7ab6-db60-4fe7-a551-4ed69b4c2244",
   "metadata": {},
   "outputs": [],
   "source": [
    "Nn, glxn = MN.shape  # cantidad de nodos, grados de lib x nodo\n",
    "Ne, Nnxe = MC.shape  # cantidad de elementos, numero de nodos x elemento"
   ]
  },
  {
   "cell_type": "code",
   "execution_count": 5,
   "id": "87ced73f-834e-4cce-a925-57a42038c07a",
   "metadata": {},
   "outputs": [],
   "source": [
    "L = L_barra/Ne  # Longitud de cada elemento"
   ]
  },
  {
   "cell_type": "code",
   "execution_count": 6,
   "id": "67f52d8a-d5c9-419e-8f37-b27263cf7a76",
   "metadata": {},
   "outputs": [],
   "source": [
    "s = np.array([0,1,4])  # d y phi conocidos\n",
    "r = mef.vector_complemento(s,MN,glxn)"
   ]
  },
  {
   "cell_type": "code",
   "execution_count": 7,
   "id": "57c510e4-8074-4680-8131-990fc22ad61e",
   "metadata": {},
   "outputs": [],
   "source": [
    "MR_elem = np.array([[12,6*L,-12,6*L],[6*L,4*L**2,-6*L,2*L**2],[-12,-6*L,12,-6*L],[6*L,2*L**2,-6*L,4*L**2]])\n",
    "MR_elem = (E*I/L**3)*MR_elem"
   ]
  },
  {
   "cell_type": "code",
   "execution_count": 8,
   "id": "a8917cbe-951f-43b1-a9df-5e82806a5e5b",
   "metadata": {},
   "outputs": [],
   "source": [
    "Ke = {}  # diccionario para acumular todas las K_elementales\n",
    "MR = np.zeros([glxn*Nn,glxn*Nn])\n",
    "archivo = 'Matrices.txt'  # Creo archivo para guardar todas las matrices elementales\n",
    "with open(archivo,'w') as f:  # la f es como un alias apra el archivo que acabo de abrir\n",
    "    f.write('Matrices Elementales\\n ===============')\n",
    "    \n",
    "for e in range(Ne):\n",
    "    Ke[e] = MR_elem\n",
    "    fe = np.abs(Ke[e].max())\n",
    "    with open('Matrices.txt','a') as f:  # 'a' de agregar\n",
    "        f.write(f'\\nelemento {e}, fe ={fe:4e}\\n')\n",
    "        f.write(f'{Ke[e]/fe}\\n')\n",
    "\n",
    "    for i in range(Nnxe):\n",
    "        rangoi = np.linspace(i*glxn,(i+1)*glxn-1,glxn).astype(int)\n",
    "        rangoni = np.linspace(MC[e,i]*glxn,(MC[e, i]+1)*glxn-1,glxn).astype(int)\n",
    "        for j in range(Nnxe):\n",
    "            rangoj = np.linspace(j*glxn,(j+1)*glxn-1,glxn).astype(int)\n",
    "            rangonj = np.linspace(MC[e,j]*glxn,(MC[e, j]+1)*glxn-1,glxn).astype(int)\n",
    "            MR[np.ix_(rangoni,rangonj)] += Ke[e][np.ix_(rangoi,rangoj)]\n",
    "\n",
    "fe = np.abs(MR.max())\n",
    "with open('Matrices.txt','a') as f:  # 'a' de agregar\n",
    "    f.write(f'\\nMatriz Global, fe ={fe:4e}\\n')\n",
    "    f.write(f'{MR/fe}\\n')"
   ]
  },
  {
   "cell_type": "markdown",
   "id": "2d412614-2408-49dc-9c7b-6b878c02f94a",
   "metadata": {},
   "source": [
    "$$\n",
    "$$"
   ]
  },
  {
   "cell_type": "markdown",
   "id": "36b8a836-dc48-4af3-adee-eb12bcb10206",
   "metadata": {},
   "source": [
    "$ \\Large \\underline\n",
    "{\\textbf{Viga con carga uniformemente distribuida en 2 nodos}}:\n",
    "$"
   ]
  },
  {
   "cell_type": "markdown",
   "id": "1b292e49-b484-4308-a5dd-f7e3f754735b",
   "metadata": {},
   "source": [
    "$ \\Large\n",
    "\\begin{matrix}\n",
    "f_{1y}&m_{1}&f_{2y}&m_{2}\\\\\n",
    "\\frac{-wL}{2}&\\frac{-wL^2}{12}&\\frac{-wL}{2}&\\frac{wL^2}{12}\n",
    "\\end{matrix}\n",
    "$"
   ]
  },
  {
   "cell_type": "code",
   "execution_count": 29,
   "id": "41b71433-e7d2-4293-9bee-ba32f38f8bc4",
   "metadata": {},
   "outputs": [],
   "source": [
    "f = np.array([-w*L/2,-w*L**2/12,-w*L/2,0,-w*L/2,w*L**2/12]).reshape([-1,1])  # fuerzas y momentos externos\n",
    "# el momento en el nodo del medio lo considero nulo, se cancela porque cada partición genera un momento opuesto\n",
    "d = np.zeros(Nn*glxn).reshape([-1,1])  # vector que serán los desplazamientos y angulos"
   ]
  },
  {
   "cell_type": "code",
   "execution_count": 10,
   "id": "1263a871-5f17-48bc-8a3b-7c914a5d4bae",
   "metadata": {},
   "outputs": [],
   "source": [
    "d[r] = np.linalg.solve(MR[np.ix_(r,r)],f[r])  # saco los desplazamientos y angulos que eran incognitos"
   ]
  },
  {
   "cell_type": "code",
   "execution_count": 27,
   "id": "cc76693b-2e07-4b19-bc15-80a514c8c87f",
   "metadata": {},
   "outputs": [],
   "source": [
    "Ft = MR.dot(d)  # Fuerzas totales"
   ]
  },
  {
   "cell_type": "code",
   "execution_count": 28,
   "id": "3d61f79d-d6f7-425d-b3cc-8861ec94cb8e",
   "metadata": {},
   "outputs": [],
   "source": [
    "Fr = Ft - f  # Fuerzas de reacción"
   ]
  },
  {
   "cell_type": "code",
   "execution_count": 25,
   "id": "cf813b3c-1306-40ab-a219-b671c96d6532",
   "metadata": {},
   "outputs": [
    {
     "name": "stdout",
     "output_type": "stream",
     "text": [
      "\u001b[4mMatriz global\u001b[0m:\n",
      "\u001b[93mU =\n",
      " [[0.01 0.05 -0.01 0.05 0.00 0.00]\n",
      " [0.05 0.50 -0.05 0.25 0.00 0.00]\n",
      " [-0.01 -0.05 0.01 0.00 -0.01 0.05]\n",
      " [0.05 0.25 0.00 1.00 -0.05 0.25]\n",
      " [0.00 0.00 -0.01 -0.05 0.01 -0.05]\n",
      " [0.00 0.00 0.05 0.25 -0.05 0.50]] \n",
      "\u001b[0m\n",
      "\u001b[4m\n",
      "Vector fuerzas y momentos\u001b[0m:\n",
      "\u001b[93mF = \n",
      "[[2718.75]\n",
      " [14062.50]\n",
      " [-0.00]\n",
      " [0.00]\n",
      " [1781.25]\n",
      " [0.00]]\n",
      "\u001b[0m\n",
      "\u001b[4mVector desplazamientos y angulos\u001b[0m:\n",
      "\u001b[93mU =\n",
      " [[0.00]\n",
      " [0.00]\n",
      " [-81.83]\n",
      " [-3.03]\n",
      " [0.00]\n",
      " [12.12]] \n",
      "\n"
     ]
    }
   ],
   "source": [
    "np.set_printoptions(formatter={\"float\": lambda x: \"%0.2f\"% (x)})\n",
    "print('\\033[4m'+f'Matriz global'+'\\033[0m'+':\\n\\033[93m'+ f'U =\\n {MR/MR.max()} \\n'+'\\033[0m')\n",
    "print('\\033[4m'+f'\\nVector fuerzas y momentos' +'\\033[0m'+':\\n\\033[93m'+f'F = \\n{Fr}\\n'+'\\033[0m')\n",
    "print('\\033[4m'+f'Vector desplazamientos y angulos'+'\\033[0m'+':\\n\\033[93m'+ f'U =\\n {d*1e6} \\n')"
   ]
  },
  {
   "cell_type": "code",
   "execution_count": null,
   "id": "7d1bcc44-19a9-4679-a0e3-098f6c3a899e",
   "metadata": {},
   "outputs": [],
   "source": []
  }
 ],
 "metadata": {
  "kernelspec": {
   "display_name": "Python 3 (ipykernel)",
   "language": "python",
   "name": "python3"
  },
  "language_info": {
   "codemirror_mode": {
    "name": "ipython",
    "version": 3
   },
   "file_extension": ".py",
   "mimetype": "text/x-python",
   "name": "python",
   "nbconvert_exporter": "python",
   "pygments_lexer": "ipython3",
   "version": "3.9.10"
  }
 },
 "nbformat": 4,
 "nbformat_minor": 5
}
