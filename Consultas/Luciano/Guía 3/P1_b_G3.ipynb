{
 "cells": [
  {
   "cell_type": "markdown",
   "id": "42f7fb10-7b2c-47ca-8357-5845af90681a",
   "metadata": {},
   "source": [
    "$$ \\Large \\underline\n",
    "{\\textbf{Problema 1}}\n",
    "$$"
   ]
  },
  {
   "cell_type": "markdown",
   "id": "86fd12eb-e106-4393-837c-c2806389ff0b",
   "metadata": {},
   "source": [
    "Determine los desplazamientos de los bordes libres y los esfuerzos en función de la posición para la\n",
    "placa empotrada mostrada en la figura. Tome las dos particiones en elementos mostradas debajo y\n",
    "compare los resultados. Asuma que E = 30 x 10e6\n",
    " psi y n = 0.30."
   ]
  },
  {
   "cell_type": "markdown",
   "id": "d773af3e-45d4-4260-9c4b-af62a66f9f80",
   "metadata": {},
   "source": [
    "<center><img src=\"ImgProb01bG03.png\"></center>"
   ]
  },
  {
   "cell_type": "code",
   "execution_count": 1,
   "id": "26353a3e-8bd1-4624-ad33-7458a46d9136",
   "metadata": {},
   "outputs": [],
   "source": [
    "import gmsh\n",
    "import numpy as np\n",
    "import matplotlib.pyplot as plt\n",
    "import MEF as mef"
   ]
  },
  {
   "cell_type": "code",
   "execution_count": 2,
   "id": "ed0ffc4b-38cd-47be-be1d-69080cff1c83",
   "metadata": {},
   "outputs": [],
   "source": [
    "gmsh.initialize()"
   ]
  },
  {
   "cell_type": "code",
   "execution_count": 3,
   "id": "048d6b40-4445-456f-b2b9-1a5d8997495c",
   "metadata": {},
   "outputs": [],
   "source": [
    "gmsh.model.add('test_01')"
   ]
  },
  {
   "cell_type": "code",
   "execution_count": 4,
   "id": "96bad59e-ddda-48c8-8283-f9946fe48c88",
   "metadata": {},
   "outputs": [],
   "source": [
    "L = 20  # in\n",
    "lc = L\n",
    "h = 10  # in\n",
    "v = 0.3  # coef Poisson\n",
    "E = np.array([30e6,30e6,30e6,30e6])  # psi\n",
    "t = 1  # in"
   ]
  },
  {
   "cell_type": "code",
   "execution_count": 5,
   "id": "6a4520f8-b800-4a22-9ef6-ffa13a4f9aca",
   "metadata": {},
   "outputs": [],
   "source": [
    "p1 = gmsh.model.geo.addPoint(0,0,0,2*lc)\n",
    "p2 = gmsh.model.geo.addPoint(L,0,0,2*lc)\n",
    "p3 = gmsh.model.geo.addPoint(L,h,0,2*lc)\n",
    "p4 = gmsh.model.geo.addPoint(0,h,0,2*lc)"
   ]
  },
  {
   "cell_type": "code",
   "execution_count": 6,
   "id": "4bdfbb3e-d083-4577-8bb7-7d4809016241",
   "metadata": {},
   "outputs": [],
   "source": [
    "l1 = gmsh.model.geo.addLine(p1,p2)\n",
    "l2 = gmsh.model.geo.addLine(p2,p3)\n",
    "l3 = gmsh.model.geo.addLine(p3,p4)\n",
    "l4 = gmsh.model.geo.addLine(p4,p1)"
   ]
  },
  {
   "cell_type": "code",
   "execution_count": 7,
   "id": "727ba0fd-5d75-4ae2-b1fc-3f860bc3c89c",
   "metadata": {},
   "outputs": [],
   "source": [
    "C1 = gmsh.model.geo.addCurveLoop([l1,l2,l3,l4])"
   ]
  },
  {
   "cell_type": "code",
   "execution_count": 8,
   "id": "b84c4022-de46-4037-8a4a-9c8f73d2db17",
   "metadata": {},
   "outputs": [],
   "source": [
    "S1 = gmsh.model.geo.addPlaneSurface([C1])"
   ]
  },
  {
   "cell_type": "code",
   "execution_count": 9,
   "id": "e3f0d23c-d86b-487e-ad2c-b429b324dadd",
   "metadata": {},
   "outputs": [],
   "source": [
    "gmsh.model.geo.synchronize()"
   ]
  },
  {
   "cell_type": "markdown",
   "id": "d6de0d80-0bc5-4830-807c-2bdfe1e235e9",
   "metadata": {},
   "source": [
    "Ya están todos los elementos geométricos. "
   ]
  },
  {
   "cell_type": "code",
   "execution_count": 10,
   "id": "3a6bebac-1f21-4dee-a18b-aee987128191",
   "metadata": {},
   "outputs": [],
   "source": [
    "Empotrado = gmsh.model.addPhysicalGroup(1, [l4])\n",
    "gmsh.model.setPhysicalName(1,Empotrado,'Empotrado')"
   ]
  },
  {
   "cell_type": "code",
   "execution_count": 11,
   "id": "88351c69-7072-4205-bb6e-25661561f1fa",
   "metadata": {},
   "outputs": [],
   "source": [
    "Traccionado = gmsh.model.addPhysicalGroup(1,[l2])\n",
    "gmsh.model.setPhysicalName(1,Traccionado,'Traccionado')"
   ]
  },
  {
   "cell_type": "code",
   "execution_count": 12,
   "id": "6cf01522-e90e-4891-a083-d34f34021f32",
   "metadata": {},
   "outputs": [],
   "source": [
    "Superficie = gmsh.model.addPhysicalGroup(2,[S1])\n",
    "gmsh.model.setPhysicalName(2,Superficie,'Superficie')"
   ]
  },
  {
   "cell_type": "markdown",
   "id": "0a929205-b01e-4626-8396-f203c158f89d",
   "metadata": {},
   "source": [
    "Realizo el mallado"
   ]
  },
  {
   "cell_type": "code",
   "execution_count": 13,
   "id": "32857931-3c11-483e-b6b1-eb6cb56cb157",
   "metadata": {},
   "outputs": [],
   "source": [
    "gmsh.model.mesh.generate(2)  # Se genera el mallado con dimension 2. Mallado por Volronoi"
   ]
  },
  {
   "cell_type": "code",
   "execution_count": 14,
   "id": "e1651190-6a9d-4c3b-b4b0-8920de7323a2",
   "metadata": {},
   "outputs": [],
   "source": [
    "gmsh.model.geo.synchronize()\n",
    "gmsh.fltk.run()"
   ]
  },
  {
   "cell_type": "markdown",
   "id": "4d08cec9-abea-4eed-86e9-9041a80cd7c4",
   "metadata": {},
   "source": [
    "Obtenemos la matriz de nodos"
   ]
  },
  {
   "cell_type": "code",
   "execution_count": 15,
   "id": "55a2de9d-28e3-4cfc-84e5-31805343a797",
   "metadata": {},
   "outputs": [],
   "source": [
    "NodeInfo = gmsh.model.mesh.get_nodes()"
   ]
  },
  {
   "cell_type": "code",
   "execution_count": 16,
   "id": "2e683cb1-4368-40ad-a958-823a9a342423",
   "metadata": {},
   "outputs": [
    {
     "data": {
      "text/plain": [
       "(array([1, 2, 3, 4, 5], dtype=uint64),\n",
       " array([ 0.,  0.,  0., 20.,  0.,  0., 20., 10.,  0.,  0., 10.,  0., 10.,\n",
       "         5.,  0.]),\n",
       " array([], dtype=float64))"
      ]
     },
     "execution_count": 16,
     "metadata": {},
     "output_type": "execute_result"
    }
   ],
   "source": [
    "NodeInfo"
   ]
  },
  {
   "cell_type": "markdown",
   "id": "f6a8a837-8558-4450-bd21-3dc4d275ac07",
   "metadata": {},
   "source": [
    "Se tienen varios arrays. El primero tiene los numeros asignados a cada nodo, desde 1 hasta 5. La asignación está en el shape [0]"
   ]
  },
  {
   "cell_type": "markdown",
   "id": "6cdf395c-b55e-49a3-a3e0-fc97a0f5e864",
   "metadata": {},
   "source": [
    "El segundo array tiene las posiciones x y z de cada uno de los nodos, pero indicados unidimensionalmente, así que habrá que hacer un reshape para formar una matriz de filas y columnas. Es una fila sola actualmente, habrá que modificarla."
   ]
  },
  {
   "cell_type": "code",
   "execution_count": 17,
   "id": "72e1b6d4-2ec2-442f-9400-7b283d989996",
   "metadata": {},
   "outputs": [],
   "source": [
    "NumeroNodos = NodeInfo[0].shape[0]"
   ]
  },
  {
   "cell_type": "code",
   "execution_count": 18,
   "id": "b8ed6260-9160-4ef0-bb42-57de234c50b7",
   "metadata": {},
   "outputs": [],
   "source": [
    "MN = NodeInfo[1].reshape(NumeroNodos,3)"
   ]
  },
  {
   "cell_type": "code",
   "execution_count": 19,
   "id": "de7b965b-f1b2-4513-8ec7-1e6aec5e56c8",
   "metadata": {},
   "outputs": [],
   "source": [
    "ElementInfo = gmsh.model.mesh.get_elements()"
   ]
  },
  {
   "cell_type": "code",
   "execution_count": 20,
   "id": "5146cbc0-8724-47d2-88b2-4d27250ebccd",
   "metadata": {},
   "outputs": [
    {
     "data": {
      "text/plain": [
       "(array([ 1,  2, 15]),\n",
       " [array([11,  1, 12,  2], dtype=uint64),\n",
       "  array([3, 4, 5, 6], dtype=uint64),\n",
       "  array([ 7,  8,  9, 10], dtype=uint64)],\n",
       " [array([1, 2, 2, 3, 3, 4, 4, 1], dtype=uint64),\n",
       "  array([4, 1, 5, 2, 3, 5, 1, 2, 5, 3, 4, 5], dtype=uint64),\n",
       "  array([1, 2, 3, 4], dtype=uint64)])"
      ]
     },
     "execution_count": 20,
     "metadata": {},
     "output_type": "execute_result"
    }
   ],
   "source": [
    "ElementInfo"
   ]
  },
  {
   "cell_type": "markdown",
   "id": "69cde75b-ddb4-4c39-b9bf-ac9a9343290e",
   "metadata": {},
   "source": [
    "Los tipos de elementos (lineas, triangulos, y puntos):"
   ]
  },
  {
   "cell_type": "code",
   "execution_count": 21,
   "id": "4730f4f3-d9b1-4107-ad12-4fe31dfe3181",
   "metadata": {},
   "outputs": [
    {
     "data": {
      "text/plain": [
       "array([ 1,  2, 15])"
      ]
     },
     "execution_count": 21,
     "metadata": {},
     "output_type": "execute_result"
    }
   ],
   "source": [
    "ElementInfo[0]"
   ]
  },
  {
   "cell_type": "markdown",
   "id": "d14b2e24-e41a-4e77-80a5-214ee83e8d92",
   "metadata": {},
   "source": [
    "Etiquetas de los triangulos:"
   ]
  },
  {
   "cell_type": "code",
   "execution_count": 22,
   "id": "bee796f8-50c8-43f7-bdd1-938434d97bff",
   "metadata": {},
   "outputs": [
    {
     "data": {
      "text/plain": [
       "array([3, 4, 5, 6], dtype=uint64)"
      ]
     },
     "execution_count": 22,
     "metadata": {},
     "output_type": "execute_result"
    }
   ],
   "source": [
    "ElementInfo[1][1]"
   ]
  },
  {
   "cell_type": "markdown",
   "id": "076aa64e-0225-42b1-b138-9b69241b6fc6",
   "metadata": {},
   "source": [
    "Matriz de conectividad de los triangulos"
   ]
  },
  {
   "cell_type": "code",
   "execution_count": 23,
   "id": "222286c2-1b14-4e0b-9484-cad87422fcb3",
   "metadata": {},
   "outputs": [
    {
     "data": {
      "text/plain": [
       "array([4, 1, 5, 2, 3, 5, 1, 2, 5, 3, 4, 5], dtype=uint64)"
      ]
     },
     "execution_count": 23,
     "metadata": {},
     "output_type": "execute_result"
    }
   ],
   "source": [
    "ElementInfo[2][1]"
   ]
  },
  {
   "cell_type": "markdown",
   "id": "05145b6d-bb00-42fe-928e-32b1ea23b525",
   "metadata": {},
   "source": [
    "Una manera más simple:"
   ]
  },
  {
   "cell_type": "code",
   "execution_count": 24,
   "id": "2c4636aa-86f5-4171-ad1a-b10e1d17766c",
   "metadata": {},
   "outputs": [],
   "source": [
    "ETAGS, ELEMENTS = gmsh.model.mesh.get_elements_by_type(2)"
   ]
  },
  {
   "cell_type": "code",
   "execution_count": 25,
   "id": "936b64b7-14eb-4717-baee-fc3e313bba30",
   "metadata": {},
   "outputs": [
    {
     "data": {
      "text/plain": [
       "array([3, 4, 5, 6], dtype=uint64)"
      ]
     },
     "execution_count": 25,
     "metadata": {},
     "output_type": "execute_result"
    }
   ],
   "source": [
    "ETAGS"
   ]
  },
  {
   "cell_type": "code",
   "execution_count": 26,
   "id": "c7c9bfd8-ee19-4317-9686-08ebd34db81a",
   "metadata": {},
   "outputs": [
    {
     "data": {
      "text/plain": [
       "array([4, 1, 5, 2, 3, 5, 1, 2, 5, 3, 4, 5], dtype=uint64)"
      ]
     },
     "execution_count": 26,
     "metadata": {},
     "output_type": "execute_result"
    }
   ],
   "source": [
    "ELEMENTS"
   ]
  },
  {
   "cell_type": "markdown",
   "id": "ee2e4c83-06ad-42e0-a912-3b80c78a0cbd",
   "metadata": {},
   "source": [
    "Como era unidimencional, hago el reshape de MC"
   ]
  },
  {
   "cell_type": "code",
   "execution_count": 27,
   "id": "5b950772-9e86-499f-9c56-27af977eed0a",
   "metadata": {},
   "outputs": [],
   "source": [
    "MC = ELEMENTS.reshape(ETAGS.shape[0],3)"
   ]
  },
  {
   "cell_type": "code",
   "execution_count": 28,
   "id": "23525601-801f-4210-b3b1-fd31b59271af",
   "metadata": {},
   "outputs": [
    {
     "data": {
      "text/plain": [
       "array([[4, 1, 5],\n",
       "       [2, 3, 5],\n",
       "       [1, 2, 5],\n",
       "       [3, 4, 5]], dtype=uint64)"
      ]
     },
     "execution_count": 28,
     "metadata": {},
     "output_type": "execute_result"
    }
   ],
   "source": [
    "MC"
   ]
  },
  {
   "cell_type": "code",
   "execution_count": 29,
   "id": "7dcd5c13-7e45-4552-86f1-bc11353b9540",
   "metadata": {},
   "outputs": [
    {
     "data": {
      "text/plain": [
       "array([[ 0.,  0.,  0.],\n",
       "       [20.,  0.,  0.],\n",
       "       [20., 10.,  0.],\n",
       "       [ 0., 10.,  0.],\n",
       "       [10.,  5.,  0.]])"
      ]
     },
     "execution_count": 29,
     "metadata": {},
     "output_type": "execute_result"
    }
   ],
   "source": [
    "MN"
   ]
  },
  {
   "cell_type": "code",
   "execution_count": 30,
   "id": "3f2278bd-67ac-4899-8748-55dd80b6f039",
   "metadata": {},
   "outputs": [],
   "source": [
    "gmsh.option.setNumber(\"Mesh.MshFileVersion\",2.2)\n",
    "gmsh.write('test.msh')"
   ]
  },
  {
   "cell_type": "code",
   "execution_count": 31,
   "id": "0ea6a48a-7ea8-401b-a75c-9463844b674f",
   "metadata": {},
   "outputs": [],
   "source": [
    "glxn = 2\n",
    "dimension_elementos = 2"
   ]
  },
  {
   "cell_type": "code",
   "execution_count": 32,
   "id": "62065bd5-f0df-425a-b83e-cde06fc9e308",
   "metadata": {},
   "outputs": [],
   "source": [
    "Ne, Nnxe = MC.shape\n",
    "Nn = MN.shape[0]"
   ]
  },
  {
   "cell_type": "code",
   "execution_count": 33,
   "id": "7939aa7b-d874-495c-9ab0-127caa808e24",
   "metadata": {},
   "outputs": [],
   "source": [
    "MC = MC - np.ones([Ne,Nnxe])  # resto 1 para acomodar a lenguaje python"
   ]
  },
  {
   "cell_type": "code",
   "execution_count": 34,
   "id": "14ff9747-b32a-45bc-960a-e605ca07b10a",
   "metadata": {},
   "outputs": [],
   "source": [
    "K, Ke, D, B = mef.Kglobal_barra(MN, MC, E, glxn, dimension_elementos, v,t) "
   ]
  },
  {
   "cell_type": "code",
   "execution_count": 35,
   "id": "c78ff76b-a229-4466-9aef-46f43130420a",
   "metadata": {},
   "outputs": [],
   "source": [
    "s = np.array([0,1,6,7])\n",
    "r = mef.vector_complemento(s, MN, glxn)"
   ]
  },
  {
   "cell_type": "code",
   "execution_count": 36,
   "id": "e6ee1cc9-7ff6-487d-9988-757b0af9b7a9",
   "metadata": {},
   "outputs": [
    {
     "data": {
      "text/plain": [
       "array([0, 1, 6, 7])"
      ]
     },
     "execution_count": 36,
     "metadata": {},
     "output_type": "execute_result"
    }
   ],
   "source": [
    "s"
   ]
  },
  {
   "cell_type": "code",
   "execution_count": 37,
   "id": "681a20dd-17b0-4acc-b175-65c9a9c6482a",
   "metadata": {},
   "outputs": [
    {
     "data": {
      "text/plain": [
       "array([2, 3, 4, 5, 8, 9])"
      ]
     },
     "execution_count": 37,
     "metadata": {},
     "output_type": "execute_result"
    }
   ],
   "source": [
    "r"
   ]
  },
  {
   "cell_type": "code",
   "execution_count": 38,
   "id": "07d1f79e-0eaf-456a-b7ed-94dddc48f061",
   "metadata": {},
   "outputs": [],
   "source": [
    "Us = np.array([0,0,0,0]).reshape([-1,1])\n",
    "Fr = np.array([5000,0,5000,0,0,0]).reshape([-1,1])  # lb"
   ]
  },
  {
   "cell_type": "code",
   "execution_count": 39,
   "id": "6244fecf-8065-41a5-b082-b3e75b997ef4",
   "metadata": {},
   "outputs": [],
   "source": [
    "F, U = mef.solve(K, r, s, Us, Fr)"
   ]
  },
  {
   "cell_type": "code",
   "execution_count": 40,
   "id": "4c5dfc65-a981-404a-8bdb-c1f86e244aef",
   "metadata": {},
   "outputs": [],
   "source": [
    "sig = {}\n",
    "d = {}\n",
    "for e in range(Ne):\n",
    "    nodo = MC[e,:].astype(int)\n",
    "    d[e] = np.array([U[nodo[0]*glxn],U[nodo[0]*glxn+1],\n",
    "                     U[nodo[1]*glxn],U[nodo[1]*glxn+1],\n",
    "                     U[nodo[2]*glxn],U[nodo[2]*glxn+1]]).reshape([-1,1])\n",
    "    sig[e] = D[e].dot(B[e].dot(d[e]))"
   ]
  },
  {
   "cell_type": "code",
   "execution_count": 41,
   "id": "7901c366-46c4-4a2f-a7cb-93a6bc7fc836",
   "metadata": {},
   "outputs": [
    {
     "name": "stdout",
     "output_type": "stream",
     "text": [
      "\u001b[4m\n",
      "Tensiones en x, y, xy de cada barra\u001b[0m [psi]:\n",
      "\u001b[93mElemento 1:\n",
      " [[1006.40683]\n",
      " [301.92205]\n",
      " [-0.00000]]\u001b[0m\n",
      "\u001b[93mElemento 2:\n",
      " [[993.59317]\n",
      " [-101.70849]\n",
      " [-0.00000]]\u001b[0m\n",
      "\u001b[93mElemento 3:\n",
      " [[1000.00000]\n",
      " [100.10678]\n",
      " [-3.20342]]\u001b[0m\n",
      "\u001b[93mElemento 4:\n",
      " [[1000.00000]\n",
      " [100.10678]\n",
      " [3.20342]]\u001b[0m\n"
     ]
    }
   ],
   "source": [
    "np.set_printoptions(formatter={\"float\": lambda x: \"%0.5f\"% (x)})\n",
    "print('\\033[4m'+f'\\nTensiones en x, y, xy de cada barra'+'\\033[0m'+' [psi]:')\n",
    "for e in range(Ne):\n",
    "    print('\\033[93m'+f'Elemento {e+1}:\\n {sig[e]}'+'\\033[0m')"
   ]
  },
  {
   "cell_type": "code",
   "execution_count": 42,
   "id": "6a399e98-a8dc-4d72-9316-d2e8cb5fc0b6",
   "metadata": {},
   "outputs": [
    {
     "name": "stdout",
     "output_type": "stream",
     "text": [
      "\n",
      "\u001b[4mDesplazamientos x, y, e z de cada nodo\u001b[0m [in x 10^6]:\n",
      "\u001b[93mNodo 1: [0.00000 0.00000 0.00000]\u001b[0m\n",
      "\u001b[93mNodo 2: [646.64531 66.63107 0.00000]\u001b[0m\n",
      "\u001b[93mNodo 3: [646.64531 -66.63107 0.00000]\u001b[0m\n",
      "\u001b[93mNodo 4: [0.00000 0.00000 0.00000]\u001b[0m\n",
      "\u001b[93mNodo 5: [305.27674 -0.00000 0.00000]\u001b[0m\n"
     ]
    }
   ],
   "source": [
    "U2D = U.reshape(Nn,glxn)\n",
    "U3D = np.append(U2D,np.zeros(U2D.shape[0]).reshape([-1,1]),1)\n",
    "print('\\n\\033[4m'+f'Desplazamientos x, y, e z de cada nodo'+'\\033[0m'+' [in x 10^6]:')\n",
    "for n in range(Nn):\n",
    "    print('\\033[93m'+f'Nodo {n+1}: {U3D[n]*1e6}'+'\\033[0m')"
   ]
  },
  {
   "cell_type": "code",
   "execution_count": 43,
   "id": "d761803f-5c81-496e-b7e9-f0b2bba3a01b",
   "metadata": {},
   "outputs": [],
   "source": [
    "MNdef = MN + U3D*1e4"
   ]
  },
  {
   "cell_type": "code",
   "execution_count": 44,
   "id": "c84e245f-63c4-4be9-90ce-0f0e16173b7d",
   "metadata": {},
   "outputs": [
    {
     "data": {
      "text/plain": [
       "Text(0.5, 0, 'desplazamiento en x')"
      ]
     },
     "execution_count": 44,
     "metadata": {},
     "output_type": "execute_result"
    },
    {
     "data": {
      "image/png": "[encoded data removed]",
      "text/plain": [
       "<Figure size 720x288 with 1 Axes>"
      ]
     },
     "metadata": {
      "needs_background": "light"
     },
     "output_type": "display_data"
    }
   ],
   "source": [
    "fig, ax = plt.subplots(figsize=(10,4))\n",
    "plt.triplot(MN[:,0], MN[:,1], MC, label='orig')\n",
    "plt.triplot(MNdef[:,0], MNdef[:,1], MC, label='orig')\n",
    "plt.legend()\n",
    "plt.ylabel('desplazamiento en y')\n",
    "plt.xlabel('desplazamiento en x')"
   ]
  },
  {
   "cell_type": "code",
   "execution_count": null,
   "id": "46b8f382-b37b-49d8-bea0-f37456c205e2",
   "metadata": {},
   "outputs": [],
   "source": []
  }
 ],
 "metadata": {
  "kernelspec": {
   "display_name": "Python 3 (ipykernel)",
   "language": "python",
   "name": "python3"
  },
  "language_info": {
   "codemirror_mode": {
    "name": "ipython",
    "version": 3
   },
   "file_extension": ".py",
   "mimetype": "text/x-python",
   "name": "python",
   "nbconvert_exporter": "python",
   "pygments_lexer": "ipython3",
   "version": "3.9.10"
  }
 },
 "nbformat": 4,
 "nbformat_minor": 5
}
