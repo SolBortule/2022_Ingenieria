import numpy as np
import matplotlib.pyplot as plt
import time


class Chapa:
    def __init__(self, nx, ny=None):
        self.nx = nx
        if ny is None:
            self.ny = nx
        else:
            self.ny = ny
        self.nk = self.nx * self.ny
        # Muestro la posición de cada borde
        self.bordeA = np.linspace(0, self.nk-self.nx, self.ny).astype(int)
        self.bordeB = np.linspace(0, self.nx-1, self.nx).astype(int)
        self.bordeC = np.linspace(self.nx, self.nk-1, self.ny).astype(int)
        self.bordeD = np.linspace(self.nk-self.nx, self.nk-1, self.nx).astype(int)

    # entonces tendrías un método de definir la matriz
    def makematriz(self, TC, tipocontorno={'A': 'temp', 'B': 'temp', 'C': 'temp', 'D': 'temp'}):

        # TA es la temp de la izquierda, TB de abajo, TC derecha, TD arriba
        # Se establece que el tipo de contorno es de todas temperaturas fijas

        self.TC = TC
        self.tipocontorno = tipocontorno
        beta = self.nx/self.ny
        b = np.zeros([self.nx*self.ny, 1])  # Conviene que sea de ceros
        M = np.eye(self.nx*self.ny)

        for k in range(self.nk):

            # Vertice 1 (abajo a la izquierda)
            if k == 0:
                if self.tipocontorno['A'] == 'temp' and self.tipocontorno['B'] == 'flujo':
                    b[k] = TC['A']
                elif self.tipocontorno['B'] == 'temp' and self.tipocontorno['A'] == 'flujo':
                    b[k] = TC['B']
                else:
                    b[k] = (TC['A']+TC['B'])/2

            # Vertice 2 (abajo a la derecha)
            elif k == (self.nx-1):
                if self.tipocontorno['C'] == 'temp' and self.tipocontorno['B'] == 'flujo':
                    b[k] = TC['C']
                elif self.tipocontorno['B'] == 'temp' and self.tipocontorno['C'] == 'flujo':
                    b[k] = TC['B']
                else:
                    b[k] = (TC['C']+TC['B'])/2

            # Vertice 3 (arriba a la derecha)
            elif k == self.nx*self.ny-self.nx:
                if self.tipocontorno['A'] == 'temp' and self.tipocontorno['D'] == 'flujo':
                    b[k] = TC['A']
                elif self.tipocontorno['D'] == 'temp' and self.tipocontorno['A'] == 'flujo':
                    b[k] = TC['D']
                else:
                    b[k] = (TC['A']+TC['D'])/2

            # Vertice 4 (arriba a la izquierda)
            elif k == self.nx*self.ny-1:
                if self.tipocontorno['C'] == 'temp' and self.tipocontorno['D'] == 'flujo':
                    b[k] = TC['C']
                elif self.tipocontorno['D'] == 'temp' and self.tipocontorno['C'] == 'flujo':
                    b[k] = TC['D']
                else:
                    b[k] = (TC['C']+TC['D'])/2

            # Borde inferior
            elif k in self.bordeB:
                b[k] = TC['B']
                if self.tipocontorno['B'] == 'flujo':
                    M[k, k] = -2*(1+beta**2)
                    M[k, k-1] = 1
                    M[k, k+1] = 1
                    M[k, k+self.nx] = 2*beta**2
                    M[k, k-self.nx] = 0

            # Borde superior
            elif k in self.bordeD:
                b[k] = TC['D']
                if self.tipocontorno['D'] == 'flujo':
                    M[k, k] = -2*(1+beta**2)
                    M[k, k-1] = 1
                    M[k, k+1] = 1
                    M[k, k+self.nx] = 0
                    M[k, k-self.nx] = 2*beta**2

            # Borde izquierdo
            elif k in self.bordeA:
                b[k] = TC['A']
                if self.tipocontorno['A'] == 'flujo':
                    M[k, k] = -2*(1+beta**2)
                    M[k, k+1] = 2
                    M[k, k-self.nx] = beta**2
                    M[k, k+self.nx] = beta**2

            # Borde derecho
            elif k in self.bordeC:
                b[k] = TC['C']
                if self.tipocontorno['C'] == 'flujo':
                    M[k, k] = -2*(1+beta**2)
                    M[k, k-1] = 2
                    M[k, k-self.nx] = beta**2
                    M[k, k+self.nx] = beta**2

            # Fuera de los contornos (interior de la chapa)
            else:
                M[k, k] = -2*(1+beta**2)
                M[k, k-1] = 1
                M[k, k+1] = 1
                M[k, k-self.nx] = beta**2
                M[k, k+self.nx] = beta**2

        self.M = M  # Hacemos que sean propiedades del objeto chapa
        self.b = b

        return M, b

    def solve(self, M, b):
        T = np.linalg.solve(M, b)
        self.T = T
        T_matriz = T.reshape(self.nx, self.ny)
        T_matriz = T_matriz[::-1]
        self.T_matriz = T_matriz
        return self.T_matriz, self.T

    def plot_temp(self, T_matriz):
        plt.rc('figure', figsize=(16, 8))
        plt.rc('font', size=22)
        mapable = plt.imshow(T_matriz, cmap='hot')
        cbar = plt.colorbar(mapable)
        cbar.set_label('T(ºC)')
        plt.xlabel(' i ')
        plt.ylabel(' j ')
        return mapable

    def plot_flujocara(self, T_matriz):
        T_matriz = T_matriz[::-1]
        fig, ax = plt.subplots(figsize=(15, 11))
        mappable = ax.contourf(T_matriz, cmap = 'hot')
        levels = ax.contour(T_matriz, colors='k', linewidths=5)
        cbar = plt.colorbar(mappable)
        cbar.set_label('T[°C]')
        ax.clabel(levels,)
        ax.set_xlabel('i')
        ax.set_ylabel('j')
        return mappable

    # Diagrama de flujo
    def getflujo(self, T):
        dx = 1/(self.nx-1)
        dy = 1/(self.ny-1)
        N = len(T)
        Qx = np.zeros_like(T)
        Qy = np.zeros_like(T)

        for k in range(N):
            # Borde izquierdo
            if k in self.bordeA:
                Qx[k] = (T[k+1]-T[k])/dx
            # Borde derecho
            elif k in self.bordeC:
                Qx[k] = (T[k]-T[k-1])/dx
            # Fuera de los contornos (interior de la chapa)
            else:
                Qx[k] = (T[k+1]-T[k-1])/(2*dx)

        for k in range(N):
            # Derivadas
            # Borde inferior
            if k in self.bordeB:
                Qy[k] = (T[k+self.nx]-T[k])/dy
            # Borde superior
            elif k in self.bordeD:
                Qy[k] = (T[k]-T[k-self.nx])/dy
            # Fuera de los contornos (interior de la chapa)
            else:
                Qy[k] = (T[k+self.nx]-T[k-self.nx])/(2*dy)

        return Qx, Qy

    def plot_flujo(self, Qx, Qy):
        x = np.linspace(0, 1, lachapa.nx)
        y = np.linspace(0, 1, lachapa.ny)
        X, Y = np.meshgrid(x, y)
        Qx_matriz = Qx.reshape(lachapa.nx, lachapa.ny)
        Qy_matriz = Qy.reshape(lachapa.nx, lachapa.ny)
        fig, ax = plt.subplots(figsize=(15, 11))
        mapppable = plt.contourf(X, Y, self.T_matriz[::-1], cmap='hot')
        cbar = plt.colorbar(mapppable)
        cbar.set_label('T[°C]')
        ax.set_xlabel('i')
        ax.set_ylabel('j')
        plt.streamplot(X, Y, -Qx_matriz, -Qy_matriz, color='k', density=0.5)
        return mapppable


TC = {'A': 75, 'B': 0, 'C': 50, 'D': 100}
lachapa = Chapa(5)


M, b = lachapa.makematriz(TC)


T_matriz, T = lachapa.solve(M, b)
lachapa.plot_temp(T_matriz)


ns = np.logspace(1, 2, 10).astype(int)


dts = []
for ni in ns:
    thischapa = Chapa(ni)
    M, b = thischapa.makematriz(TC)
    t1 = time.time()
    thischapa.solve(M, b)
    t2 = time.time()
    dts.append(t2-t1)


dts


model = np.polyfit(np.log10(ns[2:]), np.log10(dts[2:]), 1)


model


function = np.poly1d(model)


function


plt.plot(np.log10(ns[2:]), np.log10(dts[2:]), 'o', label='Measurements')  # 
plt.plot(np.log10(ns[2:]), function(np.log10(ns[2:])), '--k', label=f'polyfit, p={model[0]:3.2f}')
plt.xlabel(r'$log_{10} (N_x) $, resolución')
plt.ylabel(r'$log_{10} (tiempo) $ [s]')
plt.title('tiempo vs resolución')
plt.grid('on')
plt.legend()


TC = {'A': 75, 'B': 0, 'C': 50, 'D': 100}
tipocontorno = {'A': 'temp', 'B': 'flujo', 'C': 'temp', 'D': 'temp'}
lachapa = Chapa(50)
M, b = lachapa.makematriz(TC, tipocontorno)


plt.rc('figure', figsize=(4, 4))
plt.rc('font', size=5)


T_matriz, T = lachapa.solve(M, b)
lachapa.plot_temp(T_matriz)


lachapa.plot_flujocara(T_matriz)


Qx, Qy = lachapa.getflujo(T)
lachapa.plot_flujo(Qx, Qy)



