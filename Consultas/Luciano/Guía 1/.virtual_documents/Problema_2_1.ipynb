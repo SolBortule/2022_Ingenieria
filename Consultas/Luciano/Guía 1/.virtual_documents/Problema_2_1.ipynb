import numpy as np
import matplotlib.pyplot as plt
import copy  # este paquete sirve si vamos a inicializar un vector igual a otro


plt.rc('figure', figsize=(15, 10))
plt.rc('font', size=10)


N = 6
long = 10
k = 0.835  # cm^2/s
dx = long/(N-1)  # cm
T_izq = 100
T_der = 50

print('dx = ', dx)


T = np.zeros([N, 1])
T[0] = T_izq
T[-1] = T_der
x = np.linspace(0, long, N)


b = T[0]
m = (T[-1]-T[0])/long
Tm = m*round(N/2)*dx+b  # Tm es la temperatura respecto a la que calculo el error relativo
Tm = float(Tm)
pm = round(N/2)  # pos de la temperatura a comparar con Tm en el vector de temperaturas


dt = 0.1  # s
lam = k*dt/dx**2


M = np.eye(N)

for k in range(1, N-1):
    M[k, k] = 1-2*lam
    M[k, k-1] = lam
    M[k, k+1] = lam


er = 1
it = 0
Ta = copy.copy(T)
Temps = copy.copy(Ta)
plt.plot(x, Temps)  # grafico la condicion inicial

while er > 0.01:  # corto el while cuando el error r entre la temperatura en el medio de la barra enquilibrio y la calculada sea 0.02
    Ta = M.dot(Ta)
    er = (abs(Ta[pm]-Tm))/Tm
    it += 1
    plt.plot(x, Ta)
    Temps = np.append(Temps, Ta, axis=1)


def plot_temps(it, dt, TT):

    frac_tiempo = [0, 1/20, 1/10, 1/5, 1/3, 1]  # Fracciones del tiempo total para plotear
    pos_temps = []
    lab = []

    for n in frac_tiempo:
        if n == 0:
            pos_temps.append(0)  # posición de la columna a una fracción del tiempo total
            lab.append('0 segundos')
        else:
            pos_temps.append(round((n)*np.shape(TT)[1])-1)  # posición de la columna a una fracción del tiempo total
            lab.append(str(round(n*it*dt))+' segundos')
    for i, temps in enumerate(pos_temps):
        plt.plot(x, TT[:, temps], label=lab[i])

    plt.legend()
    plt.grid('on')
    plt.xlabel('t [s]')
    plt.ylabel('T [°C]')
    plt.title('Curvas de temperatura a determinado tiempo')
    plt.plot()


plot_temps(it, dt, Temps)


dtb = 5  # s
lamb = k*dtb/dx**2


A = np.eye(N)
B = np.eye(N)

for k in range(1, N-1):
    A[k, k] = 2*(1+lamb)
    A[k, k-1] = -lamb
    A[k, k+1] = -lamb

for k in range(1, N-1):
    B[k, k] = 2*(1-lamb)
    B[k, k-1] = lamb
    B[k, k+1] = lamb

Ainv = np.linalg.inv(A)
AinvB = Ainv.dot(B)


erb = 1
itb = 0
Tb = copy.copy(T)
Tempsb = copy.copy(Tb)
plt.plot(x, Tempsb)  # grafico la condicion inicial

while erb > 0.02:  # corto el while cuando el error r entre la temperatura en el medio de la barra enquilibrio y la calculada sea 0.02
    Tb = AinvB.dot(Tb)
    erb = (abs(Tb[pm]-Tm))/Tm
    itb += 1
    plt.plot(x, Tb)
    Tempsb = np.append(Tempsb, Tb, axis=1)


plot_temps(itb, dtb, Tempsb)



