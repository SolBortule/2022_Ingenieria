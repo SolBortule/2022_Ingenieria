{
 "cells": [
  {
   "cell_type": "markdown",
   "id": "e30c8b21-8daa-4dc6-af63-c15db4264924",
   "metadata": {},
   "source": [
    "$$ \\Large \\textbf\n",
    "{\n",
    "Problema 2\n",
    "}\n",
    "$$"
   ]
  },
  {
   "cell_type": "markdown",
   "id": "bcfbf93b-312d-43eb-b45e-a16b964d59ed",
   "metadata": {},
   "source": [
    "La función exponencial se puede calcular como la serie: "
   ]
  },
  {
   "cell_type": "markdown",
   "id": "ef8efb01-e12a-4c80-a5f2-ea9961f333d1",
   "metadata": {},
   "source": [
    "$$\n",
    "e^{x}=1+x+\\frac{x^2}{2}+\\frac{x^3}{4!}+...+\\frac{x^n}{n!}+...\n",
    "$$"
   ]
  },
  {
   "cell_type": "markdown",
   "id": "91ddc0b1-056b-4ced-8c69-49f98dc56100",
   "metadata": {},
   "source": [
    "Evaluar la serie para e 0.5, agregando sucesivos términos hasta asegurarse al menos 3 cifras significativas correctas. Comparar con el valor 1,64872127..."
   ]
  },
  {
   "cell_type": "code",
   "execution_count": 1,
   "id": "2e63da24-dc33-4c39-a19b-dc3047eec842",
   "metadata": {},
   "outputs": [],
   "source": [
    "from math import factorial"
   ]
  },
  {
   "cell_type": "code",
   "execution_count": 2,
   "id": "16bf6a87-4fbd-4073-af82-a6f7c875be4b",
   "metadata": {},
   "outputs": [],
   "source": [
    "x = 0.5\n",
    "sum = 0\n",
    "n = 0\n",
    "comparocon = '1.648'\n",
    "iteraciones = 0\n",
    "\n",
    "while str(sum)[0:5] != comparocon:\n",
    "    sum = sum + (x**n)/factorial(n)\n",
    "    n += 1\n",
    "    iteraciones += 1"
   ]
  }
 ],
 "metadata": {
  "kernelspec": {
   "display_name": "Python 3 (ipykernel)",
   "language": "python",
   "name": "python3"
  },
  "language_info": {
   "codemirror_mode": {
    "name": "ipython",
    "version": 3
   },
   "file_extension": ".py",
   "mimetype": "text/x-python",
   "name": "python",
   "nbconvert_exporter": "python",
   "pygments_lexer": "ipython3",
   "version": "3.9.10"
  }
 },
 "nbformat": 4,
 "nbformat_minor": 5
}
