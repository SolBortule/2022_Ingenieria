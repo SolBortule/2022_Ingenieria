{
 "cells": [
  {
   "cell_type": "markdown",
   "id": "b4c33b10-be3b-4db2-9569-5d7d2e1588b6",
   "metadata": {},
   "source": [
    "$$\n",
    "\\Large \\textbf{Problema 4}\n",
    "$$"
   ]
  },
  {
   "cell_type": "markdown",
   "id": "c6d09840-0675-4266-92cc-97936b591da4",
   "metadata": {},
   "source": [
    "$$\\textbf{Resolver [A]{x}={b}}\n",
    "$$"
   ]
  },
  {
   "cell_type": "markdown",
   "id": "5ae4f2d7-7ed1-4be5-b791-ea04aaa74d1a",
   "metadata": {},
   "source": [
    "$$ \n",
    "A=\n",
    "\\begin{equation}\n",
    "\\begin{pmatrix}\n",
    "1 & -3 & -2\\\\\n",
    "2 & -4 & -3\\\\\n",
    "-3 & 6 & 8\n",
    "\\end{pmatrix}\n",
    "\\end{equation}\\ \n",
    "$$ $$ $$ $$ \n",
    "b=\n",
    "\\begin{equation}\n",
    "\\begin{pmatrix}\n",
    "6\\\\\n",
    "8\\\\\n",
    "-5\n",
    "\\end{pmatrix}\n",
    "\\end{equation} \n",
    "$$"
   ]
  },
  {
   "cell_type": "code",
   "execution_count": 1,
   "id": "e56f743f-1bcd-454d-af75-4fce273f090b",
   "metadata": {},
   "outputs": [],
   "source": [
    "import numpy as np"
   ]
  },
  {
   "cell_type": "code",
   "execution_count": 2,
   "id": "2472ea69-9ec7-486a-92fe-8a301439480b",
   "metadata": {},
   "outputs": [],
   "source": [
    "A = np.array(\n",
    "    [\n",
    "        [1, -3, -2],\n",
    "        [2, -4, -3],\n",
    "        [-3, 6, 8]\n",
    "    ]\n",
    ")"
   ]
  },
  {
   "cell_type": "code",
   "execution_count": 3,
   "id": "5d0cc599-fd80-45ff-8305-c6428fbcffd1",
   "metadata": {},
   "outputs": [],
   "source": [
    "b = np.array(\n",
    "    [[6],[8],[-5]]\n",
    ")"
   ]
  },
  {
   "cell_type": "code",
   "execution_count": 4,
   "id": "8c1bf916-7d52-4978-bfb3-15692f95bee8",
   "metadata": {},
   "outputs": [],
   "source": [
    "x = np.linalg.solve(A,b)"
   ]
  },
  {
   "cell_type": "code",
   "execution_count": 5,
   "id": "b3217cbb-3cd4-43df-ae40-8c25f310a340",
   "metadata": {},
   "outputs": [
    {
     "name": "stdout",
     "output_type": "stream",
     "text": [
      "[[ 1.]\n",
      " [-3.]\n",
      " [ 2.]]\n"
     ]
    }
   ],
   "source": [
    "print(x)"
   ]
  },
  {
   "cell_type": "markdown",
   "id": "7f2acb70-0bbc-4b11-89f8-2e5037d8d7d5",
   "metadata": {},
   "source": [
    "$ Chequeo\\ que\\ el\\ resultado\\ es\\ correcto:$"
   ]
  },
  {
   "cell_type": "code",
   "execution_count": 7,
   "id": "44185200-bba8-48a7-8acd-46c660ad6fae",
   "metadata": {},
   "outputs": [
    {
     "data": {
      "text/plain": [
       "array([[0.],\n",
       "       [0.],\n",
       "       [0.]])"
      ]
     },
     "execution_count": 7,
     "metadata": {},
     "output_type": "execute_result"
    }
   ],
   "source": [
    "A.dot(x) - b"
   ]
  }
 ],
 "metadata": {
  "kernelspec": {
   "display_name": "Python 3 (ipykernel)",
   "language": "python",
   "name": "python3"
  },
  "language_info": {
   "codemirror_mode": {
    "name": "ipython",
    "version": 3
   },
   "file_extension": ".py",
   "mimetype": "text/x-python",
   "name": "python",
   "nbconvert_exporter": "python",
   "pygments_lexer": "ipython3",
   "version": "3.9.10"
  }
 },
 "nbformat": 4,
 "nbformat_minor": 5
}
