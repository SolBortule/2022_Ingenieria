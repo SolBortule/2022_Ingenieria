{
 "cells": [
  {
   "cell_type": "markdown",
   "id": "42615298-06fb-4328-8a48-4dc5dbd829b3",
   "metadata": {},
   "source": [
    "$$\n",
    "\\Large \\textbf{Problema 1}\n",
    "$$"
   ]
  },
  {
   "cell_type": "markdown",
   "id": "abe25909-591d-4881-a834-58585966179d",
   "metadata": {},
   "source": [
    "Hacer un programa que lea una serie de datos en un vector, que los ordene en forma ascendente y que tanto muestre el vector ordenado en pantalla como lo grabe en un archivo\n"
   ]
  },
  {
   "cell_type": "code",
   "execution_count": 1,
   "id": "0bc5c314-92de-4e68-a64e-ecf2a3ae73f3",
   "metadata": {},
   "outputs": [],
   "source": [
    "import numpy as np"
   ]
  },
  {
   "cell_type": "code",
   "execution_count": 2,
   "id": "41815a86-d51d-48b1-a8ea-8330d6f9b828",
   "metadata": {},
   "outputs": [],
   "source": [
    "v = [8, 3, 10, 2, 8, 6]"
   ]
  },
  {
   "cell_type": "markdown",
   "id": "01d37a7b-edf7-4256-be12-8d20d384f6c0",
   "metadata": {},
   "source": [
    "Defino función que ordena vectores"
   ]
  },
  {
   "cell_type": "code",
   "execution_count": 3,
   "id": "30525d62-ace8-40bd-9ce9-0744a40a5681",
   "metadata": {},
   "outputs": [],
   "source": [
    "def ordenovec(V):\n",
    "    for vuelta in range(1, len(V)-1):\n",
    "        for pos in range(len(V)-vuelta):\n",
    "            if V[pos] >= V[pos+1]:\n",
    "                memory = V[pos]\n",
    "                V[pos] = V[pos+1]\n",
    "                V[pos+1] = memory\n",
    "    return V"
   ]
  },
  {
   "cell_type": "code",
   "execution_count": 4,
   "id": "b299fb26-4865-4ae2-b24f-045a56985dd7",
   "metadata": {},
   "outputs": [
    {
     "name": "stdout",
     "output_type": "stream",
     "text": [
      "[2, 3, 6, 8, 8, 10]\n"
     ]
    }
   ],
   "source": [
    "v_ordenado = ordenovec(v)\n",
    "print(v_ordenado)"
   ]
  },
  {
   "cell_type": "markdown",
   "id": "8c27bb62-ab1a-4bb0-b595-7994af8345f0",
   "metadata": {},
   "source": [
    "Creo archivo con el vector ordenado"
   ]
  },
  {
   "cell_type": "code",
   "execution_count": 5,
   "id": "4ef17634-5947-4c82-b2bf-2d4db7a21307",
   "metadata": {},
   "outputs": [],
   "source": [
    "np.savetxt('v_ordenado.txt', v_ordenado)"
   ]
  },
  {
   "cell_type": "code",
   "execution_count": 6,
   "id": "53c79b96-51b4-4f02-b9b9-3ef49177ab39",
   "metadata": {},
   "outputs": [
    {
     "name": "stdout",
     "output_type": "stream",
     "text": [
      "2.000000000000000000e+00\n",
      "3.000000000000000000e+00\n",
      "6.000000000000000000e+00\n",
      "8.000000000000000000e+00\n",
      "8.000000000000000000e+00\n",
      "1.000000000000000000e+01\n",
      "\n"
     ]
    }
   ],
   "source": [
    "print(open('v_ordenado.txt').read())"
   ]
  },
  {
   "cell_type": "code",
   "execution_count": null,
   "id": "92c967f6-ff4c-4a7c-a33a-1503fc6898b4",
   "metadata": {},
   "outputs": [],
   "source": [
    "for i in range("
   ]
  }
 ],
 "metadata": {
  "kernelspec": {
   "display_name": "Python 3 (ipykernel)",
   "language": "python",
   "name": "python3"
  },
  "language_info": {
   "codemirror_mode": {
    "name": "ipython",
    "version": 3
   },
   "file_extension": ".py",
   "mimetype": "text/x-python",
   "name": "python",
   "nbconvert_exporter": "python",
   "pygments_lexer": "ipython3",
   "version": "3.9.10"
  }
 },
 "nbformat": 4,
 "nbformat_minor": 5
}
