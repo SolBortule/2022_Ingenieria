{
 "cells": [
  {
   "cell_type": "markdown",
   "id": "581018a3-63ae-46ce-b908-cccc3b3a571d",
   "metadata": {},
   "source": [
    "$$ \n",
    "\\Large \\underline{\\textbf{Problema 5}}\n",
    "$$"
   ]
  },
  {
   "cell_type": "markdown",
   "id": "75320cae-cd27-4b49-b96c-ffad50cbe8c3",
   "metadata": {},
   "source": [
    "El agua de un lago de zonas templadas, al igual que el líquido en un reactor de procesos químicos, está térmicamente estratificada. Cerca de la superficie el agua es tibia y liviana (epilimnion) y en el fondo más fría y densa (hipolimnion). Ambas capas estan separadas, aproximadamente, por un plano conocido por thermocline, donde la derivada segunda de la temperatura respecto de la profundidad se hace cero (o la derivada primera tiene su máximo). A esa profundidad el flujo de calor de la superficie al fondo de la capa se puede calcular con la ley de Fourier,"
   ]
  },
  {
   "cell_type": "markdown",
   "id": "07f5c63e-7ab1-4fb3-a6f3-471fb009f548",
   "metadata": {},
   "source": [
    "$$ \\large\n",
    "J=-k\\frac{dT}{dz}\n",
    "$$"
   ]
  },
  {
   "cell_type": "markdown",
   "id": "64b0267d-7332-4f8d-b506-0d5e1fefd3c2",
   "metadata": {},
   "source": [
    "Dados los datos de la tabla siguiente, correspondientes a la temperatura del líquido de un reactor en función de la profundidad usando el método de splines. Encuentre la posición aproximada de la thermocline y calcule el flujo de calor a través de la interfaz (tome $\\text{k = 0.01 cal/(s cm °C)}$)"
   ]
  },
  {
   "cell_type": "markdown",
   "id": "5a2dc064-a4fd-4120-a464-e4796e77f41a",
   "metadata": {},
   "source": [
    "$$ \n",
    "\\begin{equation}\n",
    "\\begin{matrix}\n",
    "z(m) & 0 & 0.5 & 1.0 & 1.5 & 2.0 & 2.5 & 3.0\\\\\n",
    "T(°C) & 70 & 68 & 55 & 22 & 13 & 11 & 10\n",
    "\\end{matrix}\n",
    "\\end{equation}\\ \n",
    "$$"
   ]
  },
  {
   "cell_type": "code",
   "execution_count": 1,
   "id": "4d7b3af1-fc2f-4ee1-b618-141e29e21609",
   "metadata": {},
   "outputs": [],
   "source": [
    "import Tools as tl\n",
    "import numpy as np\n",
    "import matplotlib.pyplot as plt"
   ]
  },
  {
   "cell_type": "code",
   "execution_count": 2,
   "id": "136b52ee-1a04-46e6-839b-4a53a71c4647",
   "metadata": {},
   "outputs": [],
   "source": [
    "S = np.transpose(np.loadtxt('Datos_P5.txt', unpack=True))\n",
    "# se forman dos vectores fila con los datos correspondientes a ese archivo"
   ]
  },
  {
   "cell_type": "code",
   "execution_count": 3,
   "id": "c0a3bde2-43fa-43d2-8ede-2d7bf7df0327",
   "metadata": {},
   "outputs": [
    {
     "data": {
      "text/plain": [
       "Text(0.5, 1.0, 'Mediciones')"
      ]
     },
     "execution_count": 3,
     "metadata": {},
     "output_type": "execute_result"
    },
    {
     "data": {
      "image/png": "[encoded data removed]",
      "text/plain": [
       "<Figure size 432x288 with 1 Axes>"
      ]
     },
     "metadata": {
      "needs_background": "light"
     },
     "output_type": "display_data"
    }
   ],
   "source": [
    "plt.plot(S[:, 0], S[:, 1], 'ok')\n",
    "plt.xlabel('z [m]')\n",
    "plt.ylabel('T [°C]')\n",
    "plt.title('Mediciones')"
   ]
  },
  {
   "cell_type": "markdown",
   "id": "49560694-a48c-4a3c-8b6b-032edeefa413",
   "metadata": {},
   "source": [
    "Elijo r0 y rn = 0 como las 2 condiciones restantes para poder resolver la spline cúbica\n",
    "z = 1 para indicar que las condiciones corresponden a los valores de las derivadas primeras en los extremos\n",
    "'p' nos da la cantidad de puntos que se generan para cada una de las curvas (mayor 'p' mayor precisión)"
   ]
  },
  {
   "cell_type": "code",
   "execution_count": 4,
   "id": "989587e9-d963-4cc2-8079-951b6e0180a4",
   "metadata": {},
   "outputs": [
    {
     "data": {
      "image/png": "[encoded data removed]",
      "text/plain": [
       "<Figure size 432x288 with 1 Axes>"
      ]
     },
     "metadata": {
      "needs_background": "light"
     },
     "output_type": "display_data"
    }
   ],
   "source": [
    "r0 = 0\n",
    "rn = 0\n",
    "z = 1\n",
    "coef = np.array(tl.spline3(S, z, r0, rn))\n",
    "plt.title('Interpolación de las mediciones')\n",
    "plt.xlabel('z [m]')\n",
    "plt.ylabel('T [°C]')\n",
    "xd, fd, ploteo = tl.grspline3(S, coef, 70, 1)"
   ]
  },
  {
   "cell_type": "markdown",
   "id": "f48e6930-1eb2-450a-89a1-9ab95c6518a8",
   "metadata": {},
   "source": [
    "Grafico todas las curvas correspondientes con la función que cree llamada grspline3"
   ]
  },
  {
   "cell_type": "markdown",
   "id": "2bf41ef3-2a12-4ef9-9db2-9f5f6be9f563",
   "metadata": {},
   "source": [
    "Cómo fd es una lista de listas, pasamos a armar un hcat, donde todos los elementos pasan a ser parte de una única lista"
   ]
  },
  {
   "cell_type": "code",
   "execution_count": 5,
   "id": "e246f816-d3af-4c88-ba47-bc45fd18df62",
   "metadata": {},
   "outputs": [],
   "source": [
    "posmin = fd.argmin()  # Pos del mínimo de la función derivada"
   ]
  },
  {
   "cell_type": "code",
   "execution_count": 6,
   "id": "97bae71b-cd8b-4f17-96c5-aa4e6c39fbed",
   "metadata": {},
   "outputs": [
    {
     "name": "stdout",
     "output_type": "stream",
     "text": [
      "172\n"
     ]
    }
   ],
   "source": [
    "print(posmin)"
   ]
  },
  {
   "cell_type": "code",
   "execution_count": 7,
   "id": "421899fe-fc47-4f22-b84d-05f00c84661c",
   "metadata": {},
   "outputs": [],
   "source": [
    "magmin = np.hstack(fd)[172]\n",
    "xmin = np.hstack(xd)[172]"
   ]
  },
  {
   "cell_type": "code",
   "execution_count": 8,
   "id": "229c8bc9-4088-4c6a-beab-acd35fb83d63",
   "metadata": {},
   "outputs": [
    {
     "name": "stdout",
     "output_type": "stream",
     "text": [
      "-73.3269158063109 1.2318840579710144\n"
     ]
    }
   ],
   "source": [
    "print(magmin, xmin)"
   ]
  },
  {
   "cell_type": "markdown",
   "id": "b970719e-e1e8-4815-9002-daf1a81f170c",
   "metadata": {},
   "source": [
    "$\n",
    "$"
   ]
  },
  {
   "cell_type": "markdown",
   "id": "d0c02429-1b4e-4be3-8d8a-aa770bb204a1",
   "metadata": {},
   "source": [
    "$\n",
    "\\LARGE \\textbf\n",
    "{\n",
    "Otra manera de graficar sin usar grspline3 y encontrar el mínimo\n",
    "}\n",
    "$"
   ]
  },
  {
   "cell_type": "code",
   "execution_count": 9,
   "id": "03eced2b-39f9-4be6-8df6-4015d2edcb75",
   "metadata": {},
   "outputs": [],
   "source": [
    "h = np.diff(S[:, 0])  # np.diff calcula la diferencia entre cada elemento"
   ]
  },
  {
   "cell_type": "code",
   "execution_count": 10,
   "id": "21202628-8902-4043-95be-d0ff9233b6c5",
   "metadata": {},
   "outputs": [],
   "source": [
    "X = [np.linspace(xi, xi+9*hi/10, 9) for xi, hi in zip(S[:-1, 0], h)]"
   ]
  },
  {
   "cell_type": "code",
   "execution_count": 11,
   "id": "27a1e73c-7952-425e-a2b3-5c9fdd5a7dc7",
   "metadata": {},
   "outputs": [],
   "source": [
    "feval = [np.polyval(coefi, XI-Si) for coefi, XI, Si in zip(coef.transpose(), X, S[:-1, 0])]"
   ]
  },
  {
   "cell_type": "markdown",
   "id": "39b78540-267b-4b7c-9344-04a0857ba280",
   "metadata": {},
   "source": [
    "np.polyval se encarga de evaluar polinomios de valores específicos. Los coef se deben colocar en orden decreciente de potencias."
   ]
  },
  {
   "cell_type": "code",
   "execution_count": 12,
   "id": "9c902665-377c-4f86-9d40-bed1ffec9eb7",
   "metadata": {},
   "outputs": [
    {
     "data": {
      "text/plain": [
       "[[<matplotlib.lines.Line2D at 0x20047c6f760>],\n",
       " [<matplotlib.lines.Line2D at 0x20047c6fa60>],\n",
       " [<matplotlib.lines.Line2D at 0x20047c6fd30>],\n",
       " [<matplotlib.lines.Line2D at 0x20047c7e040>],\n",
       " [<matplotlib.lines.Line2D at 0x20047c7e340>],\n",
       " [<matplotlib.lines.Line2D at 0x20047c7e610>]]"
      ]
     },
     "execution_count": 12,
     "metadata": {},
     "output_type": "execute_result"
    },
    {
     "data": {
      "image/png": "[encoded data removed]",
      "text/plain": [
       "<Figure size 432x288 with 1 Axes>"
      ]
     },
     "metadata": {
      "needs_background": "light"
     },
     "output_type": "display_data"
    }
   ],
   "source": [
    "[plt.plot(Xi, fevali) for Xi, fevali in zip(X, feval)]"
   ]
  },
  {
   "cell_type": "code",
   "execution_count": 13,
   "id": "adabd39a-aa84-4d96-a04e-c3035b892b3a",
   "metadata": {},
   "outputs": [],
   "source": [
    "feval = np.hstack(feval)\n",
    "X = np.hstack(X)"
   ]
  },
  {
   "cell_type": "code",
   "execution_count": 14,
   "id": "6a2361cb-8442-407c-a8f7-19ead760d960",
   "metadata": {},
   "outputs": [],
   "source": [
    "fderiv = np.gradient(feval, X)"
   ]
  },
  {
   "cell_type": "code",
   "execution_count": 15,
   "id": "360c34d9-60b4-49eb-a354-b6acddc0b050",
   "metadata": {},
   "outputs": [
    {
     "data": {
      "text/plain": [
       "[<matplotlib.lines.Line2D at 0x20047cec700>]"
      ]
     },
     "execution_count": 15,
     "metadata": {},
     "output_type": "execute_result"
    },
    {
     "data": {
      "image/png": "[encoded data removed]",
      "text/plain": [
       "<Figure size 432x288 with 1 Axes>"
      ]
     },
     "metadata": {
      "needs_background": "light"
     },
     "output_type": "display_data"
    }
   ],
   "source": [
    "plt.plot(X, feval)\n",
    "plt.plot(X, fderiv)"
   ]
  },
  {
   "cell_type": "code",
   "execution_count": 16,
   "id": "ea044cc6-d862-408e-b45e-c7aaed9b11d3",
   "metadata": {},
   "outputs": [
    {
     "data": {
      "text/plain": [
       "-72.94441346153843"
      ]
     },
     "execution_count": 16,
     "metadata": {},
     "output_type": "execute_result"
    }
   ],
   "source": [
    "np.min(fderiv)"
   ]
  }
 ],
 "metadata": {
  "kernelspec": {
   "display_name": "Python 3 (ipykernel)",
   "language": "python",
   "name": "python3"
  },
  "language_info": {
   "codemirror_mode": {
    "name": "ipython",
    "version": 3
   },
   "file_extension": ".py",
   "mimetype": "text/x-python",
   "name": "python",
   "nbconvert_exporter": "python",
   "pygments_lexer": "ipython3",
   "version": "3.9.10"
  }
 },
 "nbformat": 4,
 "nbformat_minor": 5
}
