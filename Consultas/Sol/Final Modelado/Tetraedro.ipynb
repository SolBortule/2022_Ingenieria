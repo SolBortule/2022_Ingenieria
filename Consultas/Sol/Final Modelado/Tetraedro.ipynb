{
 "cells": [
  {
   "cell_type": "code",
   "execution_count": 3,
   "id": "75288d95",
   "metadata": {},
   "outputs": [
    {
     "name": "stdout",
     "output_type": "stream",
     "text": [
      "D\n",
      "[[0.7 0.3 0.3 0.  0.  0. ]\n",
      " [0.3 0.7 0.3 0.  0.  0. ]\n",
      " [0.3 0.3 0.7 0.  0.  0. ]\n",
      " [0.  0.  0.  0.2 0.  0. ]\n",
      " [0.  0.  0.  0.  0.2 0. ]\n",
      " [0.  0.  0.  0.  0.  0.2]]\n",
      "B1\n",
      "[[-0.   0.   0. ]\n",
      " [ 0.   0.   0. ]\n",
      " [ 0.   0.   0.5]\n",
      " [ 0.  -0.   0. ]\n",
      " [ 0.   0.5  0. ]\n",
      " [ 0.5  0.  -0. ]]\n",
      "B2\n",
      "[[-0.25   0.     0.   ]\n",
      " [ 0.    -0.5    0.   ]\n",
      " [ 0.     0.    -0.125]\n",
      " [-0.5   -0.25   0.   ]\n",
      " [ 0.    -0.125 -0.5  ]\n",
      " [-0.125  0.    -0.25 ]]\n",
      "B3\n",
      "[[-0.25   0.     0.   ]\n",
      " [ 0.     0.5    0.   ]\n",
      " [ 0.     0.    -0.125]\n",
      " [ 0.5   -0.25   0.   ]\n",
      " [ 0.    -0.125  0.5  ]\n",
      " [-0.125  0.    -0.25 ]]\n",
      "B4\n",
      "[[ 0.5   0.    0.  ]\n",
      " [ 0.   -0.    0.  ]\n",
      " [ 0.    0.   -0.25]\n",
      " [-0.    0.5   0.  ]\n",
      " [ 0.   -0.25 -0.  ]\n",
      " [-0.25  0.    0.5 ]]\n",
      "[[-0.     0.     0.    -0.25   0.     0.    -0.25   0.     0.     0.5\n",
      "   0.     0.   ]\n",
      " [ 0.     0.     0.     0.    -0.5    0.     0.     0.5    0.     0.\n",
      "  -0.     0.   ]\n",
      " [ 0.     0.     0.5    0.     0.    -0.125  0.     0.    -0.125  0.\n",
      "   0.    -0.25 ]\n",
      " [ 0.    -0.     0.    -0.5   -0.25   0.     0.5   -0.25   0.    -0.\n",
      "   0.5    0.   ]\n",
      " [ 0.     0.5    0.     0.    -0.125 -0.5    0.    -0.125  0.5    0.\n",
      "  -0.25  -0.   ]\n",
      " [ 0.5    0.    -0.    -0.125  0.    -0.25  -0.125  0.    -0.25  -0.25\n",
      "   0.     0.5  ]]\n"
     ]
    }
   ],
   "source": [
    "import FuncionesMEF3D as M3D\n",
    "import numpy as np\n",
    "\n",
    "nu = 0.3\n",
    "E = 0\n",
    "elemento = 0\n",
    "MN = np.array([[1, 1, 2],\n",
    "               [0, 0, 0],\n",
    "               [0, 2, 0],\n",
    "               [2, 1, 0]])\n",
    "\n",
    "MC = np.array([[0, 1, 2, 3]])\n",
    "\n",
    "Kel,D,B = M3D.k_elemental_3D(MN, MC, nu, E, elemento)\n",
    "print(B)\n"
   ]
  },
  {
   "cell_type": "code",
   "execution_count": null,
   "id": "2d5fa6dd-defe-4bcf-a2aa-c208cdf24ba0",
   "metadata": {},
   "outputs": [],
   "source": []
  }
 ],
 "metadata": {
  "kernelspec": {
   "display_name": "Python 3 (ipykernel)",
   "language": "python",
   "name": "python3"
  },
  "language_info": {
   "codemirror_mode": {
    "name": "ipython",
    "version": 3
   },
   "file_extension": ".py",
   "mimetype": "text/x-python",
   "name": "python",
   "nbconvert_exporter": "python",
   "pygments_lexer": "ipython3",
   "version": "3.9.10"
  }
 },
 "nbformat": 4,
 "nbformat_minor": 5
}
