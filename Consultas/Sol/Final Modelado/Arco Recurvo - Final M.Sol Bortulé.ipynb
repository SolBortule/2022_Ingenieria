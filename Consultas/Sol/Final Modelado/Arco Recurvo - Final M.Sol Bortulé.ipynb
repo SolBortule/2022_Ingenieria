{
 "cells": [
  {
   "cell_type": "code",
   "execution_count": 1,
   "id": "a4db3b5c-1ff4-4f42-9c21-a503b9cc9790",
   "metadata": {},
   "outputs": [],
   "source": [
    "import numpy as np\n",
    "#import matplotlib.pyplot as plt\n",
    "import gmsh\n",
    "import FuncionesMEF3D as M3D"
   ]
  },
  {
   "cell_type": "markdown",
   "id": "ef1385be-3a0b-4684-bab9-3c582caa5c34",
   "metadata": {},
   "source": [
    "<center><img src=\"Diseño Arco Recurvo.jpeg\"></center>"
   ]
  },
  {
   "cell_type": "code",
   "execution_count": 2,
   "id": "e63e6576-0cd2-417a-b862-40de099d243a",
   "metadata": {},
   "outputs": [],
   "source": [
    "gmsh.initialize()"
   ]
  },
  {
   "cell_type": "code",
   "execution_count": 3,
   "id": "1141c5c6-4930-489d-9e86-66dbc74b868d",
   "metadata": {},
   "outputs": [],
   "source": [
    "gmsh.model.add('Medio Arco Recurvo')"
   ]
  },
  {
   "cell_type": "code",
   "execution_count": 4,
   "id": "bfe48f44-528f-4104-9fcc-d5cb0b21d740",
   "metadata": {},
   "outputs": [],
   "source": [
    "lc = 10\n",
    "E = 32e6 #Pa???????\n",
    "nu=0.3\n",
    "#Defino los puntos iniciales del modelo\n",
    "# p1 = gmsh.model.geo.addPoint(0, 0, 0, lc) \n",
    "p2 = gmsh.model.geo.addPoint(16, 0, 0, lc) \n",
    "p3 = gmsh.model.geo.addPoint(14, 10, 0, lc) \n",
    "p4 = gmsh.model.geo.addPoint(0, 78, 0, lc) \n",
    "p5 = gmsh.model.geo.addPoint(0, 80, 0, lc)\n",
    "p6 = gmsh.model.geo.addPoint(2, 80, 0, lc)\n",
    "p7 = gmsh.model.geo.addPoint(2, 78, 0, lc) \n",
    "p8 = gmsh.model.geo.addPoint(16, 10, 0, lc)\n",
    "p9 = gmsh.model.geo.addPoint(18, 0, 0, lc) # optimizar estos puntos para optimizar \n",
    "p10 = gmsh.model.geo.addPoint(17, 5, 0, lc)\n",
    "p11 = gmsh.model.geo.addPoint(19, 5, 0, lc)\n",
    "#Defino las curvas que conformarán el contorno:\n",
    "l1 = gmsh.model.geo.add_spline([p2,p10,p3])\n",
    "l2 = gmsh.model.geo.addLine(p3, p4)\n",
    "l3 = gmsh.model.geo.addLine(p4, p5)\n",
    "l4 = gmsh.model.geo.addLine(p5, p6)\n",
    "l5 = gmsh.model.geo.addLine(p6, p7)\n",
    "l6 = gmsh.model.geo.addLine(p7, p8)\n",
    "l7 = gmsh.model.geo.add_spline([p9,p11,p8])\n",
    "l8 = gmsh.model.geo.addLine(p9, p2)\n",
    "l9 = gmsh.model.geo.addLine(p3, p8)\n",
    "l10 = gmsh.model.geo.addLine(p3, p8)\n",
    "l11 = gmsh.model.geo.addLine(p4, p7) \n",
    "#Defino los contornos:\n",
    "C_Traccionado= gmsh.model.geo.addCurveLoop([l3,l4,l5,l11],reorient=True)\n",
    "C_Pala= gmsh.model.geo.addCurveLoop([l2,l11,l6,l10],reorient=True)\n",
    "C_Grap= gmsh.model.geo.addCurveLoop([l1,l9,l7,l8],reorient=True)\n",
    "#Defino las superficies:\n",
    "S_Traccionado = gmsh.model.geo.addPlaneSurface([C_Traccionado])\n",
    "S_Pala = gmsh.model.geo.addPlaneSurface([C_Pala])\n",
    "S_Grap = gmsh.model.geo.addPlaneSurface([C_Grap])\n",
    "gmsh.model.geo.synchronize()\n",
    "#Extrudo el Volumen,para eso debo definir el PG y la Entitie de la superficie:\n",
    "#gmsh.fltk.run()\n",
    "V_Traccionado = gmsh.model.geo.extrude([(2,S_Traccionado)],0,0,3)\n",
    "V_Pala = gmsh.model.geo.extrude([(2,S_Pala)],0,0,3)\n",
    "V_Grap = gmsh.model.geo.extrude([(2,S_Grap)],0,0,3)\n",
    "gmsh.model.geo.removeAllDuplicates()\n",
    "gmsh.model.geo.synchronize()\n",
    "#gmsh.option.setNumber(\"Mesh.MeshSizeMin\", 1.2)\n",
    "gmsh.model.mesh.generate(dim=3)\n",
    "#gmsh.fltk.run()"
   ]
  },
  {
   "cell_type": "code",
   "execution_count": 5,
   "id": "8d290d57-8560-4efe-9aa8-801f39b58275",
   "metadata": {},
   "outputs": [],
   "source": [
    "NodeInfo = gmsh.model.mesh.get_nodes() #saco un objeto con todos los nodos. array uno etiquetas que asigna a los nodos, empieza con 1 y no con 0.\n",
    "NN = NodeInfo[0].shape[0] #numero de nodos es la cantidad de elementos uqe tengo en el primer array\n",
    "NN_Tags = NodeInfo[0]-1 #Los Tags de los nodos los pongo en numeración python.\n",
    "MN = NodeInfo[1].reshape(NN,3)\n",
    "GLXN=3\n",
    "E_Tags, MC_Flatten = gmsh.model.mesh.get_elements_by_type(4) #dame los tags (numero de elementos) del tipo 4 (tetrahedros) la MC flatten.\n",
    "NNXE=4\n",
    "NE=E_Tags.shape[0]\n",
    "MC=MC_Flatten.reshape(NE,4)\n",
    "MC=MC-np.ones(MC.shape)#Lo dejo en numeración python"
   ]
  },
  {
   "cell_type": "code",
   "execution_count": 6,
   "id": "25a8d703-fde5-4ef0-977b-6287a03a45f8",
   "metadata": {},
   "outputs": [],
   "source": [
    "for e in range(NE):\n",
    "    Kel, D, B = M3D.k_elemental_3D(MN, MC, nu, E, e)\n",
    "    K = M3D.Ensamblado_Matriz_Global(MN, MC, Kel, GLXN)"
   ]
  },
  {
   "cell_type": "code",
   "execution_count": 7,
   "id": "618525ea-0474-42d9-b69e-f9d86eb5460b",
   "metadata": {},
   "outputs": [],
   "source": [
    "#Busco los tags de la superficie traccionada y del volumen del grap para armar las s.\n",
    "Tag_S_Traccionada = [20] #la busque en el gmsh\n",
    "Tag_V_Grap = [tag[1] for tag in V_Grap if tag[0]==3] #me agarro eltag ed dimension 3\n",
    "#Armo los Physical Groups\n",
    "Traccionado_PG = gmsh.model.addPhysicalGroup(2, Tag_S_Traccionada) #Tracciono la superficie interna, donde estaría sujetada la cuerda.\n",
    "Grap_PG = gmsh.model.addPhysicalGroup(3, Tag_V_Grap)\n",
    "gmsh.model.geo.synchronize()"
   ]
  },
  {
   "cell_type": "code",
   "execution_count": 8,
   "id": "fa441d0b-d184-472e-8956-598b2e3b1c0a",
   "metadata": {},
   "outputs": [],
   "source": [
    "Traccionado_E=gmsh.model.getEntitiesForPhysicalGroup(2,Traccionado_PG)\n",
    "ETypesTraccionado, ETagsTraccionado, NodeTagsTraccionado = gmsh.model.mesh.getElements(2,Traccionado_E[0]) \n",
    "NElementosTraccionados=len(ETagsTraccionado[0])\n",
    "MC_T=NodeTagsTraccionado[0].reshape(NElementosTraccionados,GLXN)-1"
   ]
  },
  {
   "cell_type": "code",
   "execution_count": 9,
   "id": "6426420a-0e01-4cc3-b5ab-ee4d433f82fb",
   "metadata": {},
   "outputs": [],
   "source": [
    "#Busco los tags del Grap, armo el s y el Us. El grap no se puede mover en ninguna de las 3 direcciones\n",
    "Tags_Nodos_Grap, CoordFlatten_Nodos_Grap = gmsh.model.mesh.getNodesForPhysicalGroup(3, Grap_PG)\n",
    "Tags_Nodos_Grap = Tags_Nodos_Grap-1\n",
    "s=np.array([Tags_Nodos_Grap*GLXN,Tags_Nodos_Grap*GLXN+1,Tags_Nodos_Grap*GLXN+2]).flatten()\n",
    "Us=np.zeros_like(s)\n",
    "r=np.array([i for i in range(NN*GLXN) if i not in s]).astype(int)\n",
    "Fr=np.zeros_like(r).astype(np.float64)\n",
    "Fx=97.27\n",
    "Fy=90.7"
   ]
  },
  {
   "cell_type": "code",
   "execution_count": 10,
   "id": "78269f47-0bb4-4db5-a51f-043bf4724331",
   "metadata": {},
   "outputs": [],
   "source": [
    "#poner esquema arco, mostrando angulo, para mi apertura, mi arco es de 30 lbs tensado bla bla bla explicar porque elijo."
   ]
  },
  {
   "cell_type": "code",
   "execution_count": 11,
   "id": "09c2327d-9dcf-4ba4-8abd-482a9494518a",
   "metadata": {},
   "outputs": [],
   "source": [
    "for eT in range(NElementosTraccionados):\n",
    "    n1=MC_T[eT,0].astype(int)\n",
    "    n2=MC_T[eT,1].astype(int)\n",
    "    n3=MC_T[eT,2].astype(int)\n",
    "\n",
    "    A= (1/2)*np.abs(np.linalg.det(np.array([ [MN[n1,1] ,MN[n1,2], 1], \n",
    "                                             [MN[n2,1] ,MN[n2,2], 1], \n",
    "                                             [MN[n3,1] ,MN[n3,2], 1]])))\n",
    "    Fr[r==n1*GLXN] += (Fx * A / 3).astype(np.float64)\n",
    "    Fr[r==n2*GLXN] += (Fx * A / 3).astype(np.float64)\n",
    "    Fr[r==n3*GLXN] += (Fx * A / 3).astype(np.float64)\n",
    "    Fr[r==n1*GLXN+1] += (Fy * A / 3).astype(np.float64)\n",
    "    Fr[r==n2*GLXN+1] += (Fy * A / 3).astype(np.float64)\n",
    "    Fr[r==n3*GLXN+1] += (Fy * A / 3).astype(np.float64)"
   ]
  },
  {
   "cell_type": "code",
   "execution_count": 12,
   "id": "200fdd79-02f8-43ca-a443-722f932b1834",
   "metadata": {},
   "outputs": [
    {
     "ename": "LinAlgError",
     "evalue": "Singular matrix",
     "output_type": "error",
     "traceback": [
      "\u001b[1;31m---------------------------------------------------------------------------\u001b[0m",
      "\u001b[1;31mLinAlgError\u001b[0m                               Traceback (most recent call last)",
      "\u001b[1;32m~\\AppData\\Local\\Temp\\ipykernel_720\\944041859.py\u001b[0m in \u001b[0;36m<module>\u001b[1;34m\u001b[0m\n\u001b[1;32m----> 1\u001b[1;33m \u001b[0mU\u001b[0m\u001b[1;33m,\u001b[0m\u001b[0mF\u001b[0m \u001b[1;33m=\u001b[0m \u001b[0mM3D\u001b[0m\u001b[1;33m.\u001b[0m\u001b[0msolve\u001b[0m\u001b[1;33m(\u001b[0m\u001b[0mK\u001b[0m\u001b[1;33m,\u001b[0m \u001b[0ms\u001b[0m\u001b[1;33m,\u001b[0m\u001b[0mr\u001b[0m\u001b[1;33m,\u001b[0m \u001b[0mUs\u001b[0m\u001b[1;33m,\u001b[0m \u001b[0mFr\u001b[0m\u001b[1;33m)\u001b[0m\u001b[1;33m\u001b[0m\u001b[1;33m\u001b[0m\u001b[0m\n\u001b[0m",
      "\u001b[1;32m~\\Desktop\\Final Modelado\\FuncionesMEF3D.py\u001b[0m in \u001b[0;36msolve\u001b[1;34m(KGlobal, s, r, Us, Fr)\u001b[0m\n\u001b[0;32m     32\u001b[0m     \u001b[0mKred\u001b[0m \u001b[1;33m=\u001b[0m \u001b[0mKGlobal\u001b[0m\u001b[1;33m[\u001b[0m\u001b[0mnp\u001b[0m\u001b[1;33m.\u001b[0m\u001b[0mix_\u001b[0m\u001b[1;33m(\u001b[0m\u001b[0mr\u001b[0m\u001b[1;33m,\u001b[0m\u001b[0mr\u001b[0m\u001b[1;33m)\u001b[0m\u001b[1;33m]\u001b[0m\u001b[1;33m\u001b[0m\u001b[1;33m\u001b[0m\u001b[0m\n\u001b[0;32m     33\u001b[0m     \u001b[0mKvin\u001b[0m \u001b[1;33m=\u001b[0m \u001b[0mKGlobal\u001b[0m\u001b[1;33m[\u001b[0m\u001b[0mnp\u001b[0m\u001b[1;33m.\u001b[0m\u001b[0mix_\u001b[0m\u001b[1;33m(\u001b[0m\u001b[0mr\u001b[0m\u001b[1;33m,\u001b[0m\u001b[0ms\u001b[0m\u001b[1;33m)\u001b[0m\u001b[1;33m]\u001b[0m\u001b[1;33m\u001b[0m\u001b[1;33m\u001b[0m\u001b[0m\n\u001b[1;32m---> 34\u001b[1;33m     \u001b[0mU\u001b[0m\u001b[1;33m[\u001b[0m\u001b[0mr\u001b[0m\u001b[1;33m]\u001b[0m \u001b[1;33m=\u001b[0m \u001b[0mnp\u001b[0m\u001b[1;33m.\u001b[0m\u001b[0mlinalg\u001b[0m\u001b[1;33m.\u001b[0m\u001b[0msolve\u001b[0m\u001b[1;33m(\u001b[0m\u001b[0mKred\u001b[0m\u001b[1;33m,\u001b[0m \u001b[0mF\u001b[0m\u001b[1;33m[\u001b[0m\u001b[0mr\u001b[0m\u001b[1;33m]\u001b[0m\u001b[1;33m-\u001b[0m\u001b[0mKvin\u001b[0m\u001b[1;33m.\u001b[0m\u001b[0mdot\u001b[0m\u001b[1;33m(\u001b[0m\u001b[0mU\u001b[0m\u001b[1;33m[\u001b[0m\u001b[0ms\u001b[0m\u001b[1;33m]\u001b[0m\u001b[1;33m)\u001b[0m\u001b[1;33m)\u001b[0m\u001b[1;33m\u001b[0m\u001b[1;33m\u001b[0m\u001b[0m\n\u001b[0m\u001b[0;32m     35\u001b[0m     \u001b[0mF\u001b[0m\u001b[1;33m[\u001b[0m\u001b[0ms\u001b[0m\u001b[1;33m]\u001b[0m \u001b[1;33m=\u001b[0m \u001b[0mKGlobal\u001b[0m\u001b[1;33m[\u001b[0m\u001b[0ms\u001b[0m\u001b[1;33m,\u001b[0m\u001b[1;33m:\u001b[0m\u001b[1;33m]\u001b[0m\u001b[1;33m.\u001b[0m\u001b[0mdot\u001b[0m\u001b[1;33m(\u001b[0m\u001b[0mU\u001b[0m\u001b[1;33m)\u001b[0m\u001b[1;33m\u001b[0m\u001b[1;33m\u001b[0m\u001b[0m\n\u001b[0;32m     36\u001b[0m     \u001b[1;32mreturn\u001b[0m \u001b[0mU\u001b[0m\u001b[1;33m,\u001b[0m\u001b[0mF\u001b[0m\u001b[1;33m\u001b[0m\u001b[1;33m\u001b[0m\u001b[0m\n",
      "\u001b[1;32m<__array_function__ internals>\u001b[0m in \u001b[0;36msolve\u001b[1;34m(*args, **kwargs)\u001b[0m\n",
      "\u001b[1;32mC:\\WPy64-39100\\python-3.9.10.amd64\\lib\\site-packages\\numpy\\linalg\\linalg.py\u001b[0m in \u001b[0;36msolve\u001b[1;34m(a, b)\u001b[0m\n\u001b[0;32m    391\u001b[0m     \u001b[0msignature\u001b[0m \u001b[1;33m=\u001b[0m \u001b[1;34m'DD->D'\u001b[0m \u001b[1;32mif\u001b[0m \u001b[0misComplexType\u001b[0m\u001b[1;33m(\u001b[0m\u001b[0mt\u001b[0m\u001b[1;33m)\u001b[0m \u001b[1;32melse\u001b[0m \u001b[1;34m'dd->d'\u001b[0m\u001b[1;33m\u001b[0m\u001b[1;33m\u001b[0m\u001b[0m\n\u001b[0;32m    392\u001b[0m     \u001b[0mextobj\u001b[0m \u001b[1;33m=\u001b[0m \u001b[0mget_linalg_error_extobj\u001b[0m\u001b[1;33m(\u001b[0m\u001b[0m_raise_linalgerror_singular\u001b[0m\u001b[1;33m)\u001b[0m\u001b[1;33m\u001b[0m\u001b[1;33m\u001b[0m\u001b[0m\n\u001b[1;32m--> 393\u001b[1;33m     \u001b[0mr\u001b[0m \u001b[1;33m=\u001b[0m \u001b[0mgufunc\u001b[0m\u001b[1;33m(\u001b[0m\u001b[0ma\u001b[0m\u001b[1;33m,\u001b[0m \u001b[0mb\u001b[0m\u001b[1;33m,\u001b[0m \u001b[0msignature\u001b[0m\u001b[1;33m=\u001b[0m\u001b[0msignature\u001b[0m\u001b[1;33m,\u001b[0m \u001b[0mextobj\u001b[0m\u001b[1;33m=\u001b[0m\u001b[0mextobj\u001b[0m\u001b[1;33m)\u001b[0m\u001b[1;33m\u001b[0m\u001b[1;33m\u001b[0m\u001b[0m\n\u001b[0m\u001b[0;32m    394\u001b[0m \u001b[1;33m\u001b[0m\u001b[0m\n\u001b[0;32m    395\u001b[0m     \u001b[1;32mreturn\u001b[0m \u001b[0mwrap\u001b[0m\u001b[1;33m(\u001b[0m\u001b[0mr\u001b[0m\u001b[1;33m.\u001b[0m\u001b[0mastype\u001b[0m\u001b[1;33m(\u001b[0m\u001b[0mresult_t\u001b[0m\u001b[1;33m,\u001b[0m \u001b[0mcopy\u001b[0m\u001b[1;33m=\u001b[0m\u001b[1;32mFalse\u001b[0m\u001b[1;33m)\u001b[0m\u001b[1;33m)\u001b[0m\u001b[1;33m\u001b[0m\u001b[1;33m\u001b[0m\u001b[0m\n",
      "\u001b[1;32mC:\\WPy64-39100\\python-3.9.10.amd64\\lib\\site-packages\\numpy\\linalg\\linalg.py\u001b[0m in \u001b[0;36m_raise_linalgerror_singular\u001b[1;34m(err, flag)\u001b[0m\n\u001b[0;32m     86\u001b[0m \u001b[1;33m\u001b[0m\u001b[0m\n\u001b[0;32m     87\u001b[0m \u001b[1;32mdef\u001b[0m \u001b[0m_raise_linalgerror_singular\u001b[0m\u001b[1;33m(\u001b[0m\u001b[0merr\u001b[0m\u001b[1;33m,\u001b[0m \u001b[0mflag\u001b[0m\u001b[1;33m)\u001b[0m\u001b[1;33m:\u001b[0m\u001b[1;33m\u001b[0m\u001b[1;33m\u001b[0m\u001b[0m\n\u001b[1;32m---> 88\u001b[1;33m     \u001b[1;32mraise\u001b[0m \u001b[0mLinAlgError\u001b[0m\u001b[1;33m(\u001b[0m\u001b[1;34m\"Singular matrix\"\u001b[0m\u001b[1;33m)\u001b[0m\u001b[1;33m\u001b[0m\u001b[1;33m\u001b[0m\u001b[0m\n\u001b[0m\u001b[0;32m     89\u001b[0m \u001b[1;33m\u001b[0m\u001b[0m\n\u001b[0;32m     90\u001b[0m \u001b[1;32mdef\u001b[0m \u001b[0m_raise_linalgerror_nonposdef\u001b[0m\u001b[1;33m(\u001b[0m\u001b[0merr\u001b[0m\u001b[1;33m,\u001b[0m \u001b[0mflag\u001b[0m\u001b[1;33m)\u001b[0m\u001b[1;33m:\u001b[0m\u001b[1;33m\u001b[0m\u001b[1;33m\u001b[0m\u001b[0m\n",
      "\u001b[1;31mLinAlgError\u001b[0m: Singular matrix"
     ]
    }
   ],
   "source": [
    "U,F = M3D.solve(K, s,r, Us, Fr)"
   ]
  },
  {
   "cell_type": "code",
   "execution_count": null,
   "id": "acaa49c4-75fb-4989-9dea-d9b6abf57d14",
   "metadata": {},
   "outputs": [],
   "source": [
    "U3D = U.reshape(NN,GLXN)"
   ]
  },
  {
   "cell_type": "markdown",
   "id": "0a6a372c-e1f2-4814-b849-0c7dd623bd3c",
   "metadata": {},
   "source": [
    "deformaciones = gmsh.view.add(\"Desplazamientos\")\n",
    "# por algun motivo le faltaba sumar 1 a nodeinfo\n",
    "deformaciones_model_data = gmsh.view.addModelData(deformaciones, 0, 'Medio Arco Recurvo', 'NodeData', NodeInfo[0], U3D, numComponents=3)\n",
    "gmsh.option.setNumber(f'View[{deformaciones}].VectorType',5)\n",
    "\n",
    "F3D = F.reshape(NN,GLXN)\n",
    "\n",
    "fuerzas = gmsh.view.add('forces')\n",
    "# por algun motivo le faltaba sumar 1 a nodeinfo\n",
    "fuerzas_model_data = gmsh.view.addModelData(fuerzas, 0, 'Medio Arco Recurvo','NodeData',NodeInfo[0], F3D, numComponents=3)\n",
    "gmsh.option.setNumber(f'View[{fuerzas}].VectorType',4)\n",
    "gmsh.option.setNumber(f'View[{fuerzas}].GlyphLocation',2)\n",
    "# gmsh.fltk.run()\n",
    "\n",
    "gmsh.fltk.run()"
   ]
  }
 ],
 "metadata": {
  "kernelspec": {
   "display_name": "Python 3 (ipykernel)",
   "language": "python",
   "name": "python3"
  },
  "language_info": {
   "codemirror_mode": {
    "name": "ipython",
    "version": 3
   },
   "file_extension": ".py",
   "mimetype": "text/x-python",
   "name": "python",
   "nbconvert_exporter": "python",
   "pygments_lexer": "ipython3",
   "version": "3.9.10"
  }
 },
 "nbformat": 4,
 "nbformat_minor": 5
}
