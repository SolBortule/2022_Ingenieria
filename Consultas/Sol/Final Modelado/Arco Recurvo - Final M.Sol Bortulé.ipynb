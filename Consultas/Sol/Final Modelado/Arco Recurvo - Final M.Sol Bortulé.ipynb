{
 "cells": [
  {
   "cell_type": "code",
   "execution_count": 1,
   "id": "c8d0588e",
   "metadata": {},
   "outputs": [],
   "source": [
    "import numpy as np\n",
    "#import matplotlib.pyplot as plt\n",
    "import gmsh\n",
    "import FuncionesMEF3D as M3D"
   ]
  },
  {
   "cell_type": "markdown",
   "id": "209ee52f",
   "metadata": {},
   "source": [
    "<center><img src=\"Diseño Arco Recurvo.jpeg\"></center>"
   ]
  },
  {
   "cell_type": "code",
   "execution_count": 2,
   "id": "7a61b3de",
   "metadata": {},
   "outputs": [],
   "source": [
    "gmsh.initialize()"
   ]
  },
  {
   "cell_type": "code",
   "execution_count": 3,
   "id": "350a7235",
   "metadata": {},
   "outputs": [],
   "source": [
    "gmsh.model.add('Medio Arco Recurvo')"
   ]
  },
  {
   "cell_type": "code",
   "execution_count": 4,
   "id": "8fa26869",
   "metadata": {},
   "outputs": [],
   "source": [
    "lc = 10\n",
    "E = 32e6 #Pa???????\n",
    "nu=0.3\n",
    "#Defino los puntos iniciales del modelo\n",
    "# p1 = gmsh.model.geo.addPoint(0, 0, 0, lc) \n",
    "p2 = gmsh.model.geo.addPoint(16, 0, 0, lc) \n",
    "p3 = gmsh.model.geo.addPoint(14, 10, 0, lc) \n",
    "p4 = gmsh.model.geo.addPoint(0, 78, 0, lc) \n",
    "p5 = gmsh.model.geo.addPoint(0, 80, 0, lc)\n",
    "p6 = gmsh.model.geo.addPoint(2, 80, 0, lc)\n",
    "p7 = gmsh.model.geo.addPoint(2, 78, 0, lc) \n",
    "p8 = gmsh.model.geo.addPoint(16, 10, 0, lc)\n",
    "p9 = gmsh.model.geo.addPoint(18, 0, 0, lc) # optimizar estos puntos para optimizar \n",
    "p10 = gmsh.model.geo.addPoint(17, 5, 0, lc)\n",
    "p11 = gmsh.model.geo.addPoint(19, 5, 0, lc)\n",
    "#Defino las curvas que conformarán el contorno:\n",
    "l1 = gmsh.model.geo.add_spline([p2,p10,p3])\n",
    "l2 = gmsh.model.geo.addLine(p3, p4)\n",
    "l3 = gmsh.model.geo.addLine(p4, p5)\n",
    "l4 = gmsh.model.geo.addLine(p5, p6)\n",
    "l5 = gmsh.model.geo.addLine(p6, p7)\n",
    "l6 = gmsh.model.geo.addLine(p7, p8)\n",
    "l7 = gmsh.model.geo.add_spline([p9,p11,p8])\n",
    "l8 = gmsh.model.geo.addLine(p9, p2)\n",
    "l9 = gmsh.model.geo.addLine(p3, p8)\n",
    "l10 = gmsh.model.geo.addLine(p3, p8)\n",
    "l11 = gmsh.model.geo.addLine(p4, p7) \n",
    "#Defino los contornos:\n",
    "C_Traccionado= gmsh.model.geo.addCurveLoop([l3,l4,l5,l11],reorient=True)\n",
    "C_Pala= gmsh.model.geo.addCurveLoop([l2,l11,l6,l10],reorient=True)\n",
    "C_Grap= gmsh.model.geo.addCurveLoop([l1,l9,l7,l8],reorient=True)"
   ]
  },
  {
   "cell_type": "code",
   "execution_count": 5,
   "id": "4e728a8d",
   "metadata": {},
   "outputs": [
    {
     "name": "stdout",
     "output_type": "stream",
     "text": [
      "-------------------------------------------------------\n",
      "Version       : 4.10.5\n",
      "License       : GNU General Public License\n",
      "Build OS      : Linux64-sdk\n",
      "Build date    : 20220701\n",
      "Build host    : gmsh.info\n",
      "Build options : 64Bit ALGLIB[contrib] ANN[contrib] Bamg Blas[petsc] Blossom Cgns DIntegration Dlopen DomHex Eigen[contrib] Fltk Gmm[contrib] Hxt Jpeg Kbipack Lapack[petsc] LinuxJoystick MathEx[contrib] Med Mesh Metis[contrib] Mmg Mpeg Netgen ONELAB ONELABMetamodel OpenCASCADE OpenCASCADE-CAF OpenGL OpenMP OptHom PETSc Parser Plugins Png Post QuadMeshingTools QuadTri Solver TetGen/BR Voro++[contrib] WinslowUntangler Zlib\n",
      "FLTK version  : 1.4.0\n",
      "PETSc version : 3.14.4 (real arithmtic)\n",
      "OCC version   : 7.6.1\n",
      "MED version   : 4.1.0\n",
      "Packaged by   : geuzaine\n",
      "Web site      : https://gmsh.info\n",
      "Issue tracker : https://gitlab.onelab.info/gmsh/gmsh/issues\n",
      "-------------------------------------------------------\n"
     ]
    }
   ],
   "source": [
    "gmsh.model.geo.synchronize()\n",
    "gmsh.fltk.run()"
   ]
  },
  {
   "cell_type": "code",
   "execution_count": 6,
   "id": "59246943",
   "metadata": {},
   "outputs": [],
   "source": [
    "#Defino las superficies:\n",
    "S_Traccionado = gmsh.model.geo.addPlaneSurface([C_Traccionado])\n",
    "S_Pala = gmsh.model.geo.addPlaneSurface([C_Pala])\n",
    "S_Grap = gmsh.model.geo.addPlaneSurface([C_Grap])\n",
    "gmsh.model.geo.synchronize()\n",
    "#Extrudo el Volumen,para eso debo definir el PG y la Entitie de la superficie:\n",
    "#gmsh.fltk.run()\n",
    "V_Traccionado = gmsh.model.geo.extrude([(2,S_Traccionado)],0,0,3)\n",
    "V_Pala = gmsh.model.geo.extrude([(2,S_Pala)],0,0,3)\n",
    "V_Grap = gmsh.model.geo.extrude([(2,S_Grap)],0,0,3)\n",
    "gmsh.model.geo.removeAllDuplicates()\n",
    "gmsh.model.geo.synchronize()"
   ]
  },
  {
   "cell_type": "markdown",
   "id": "ab6929f3",
   "metadata": {},
   "source": [
    "<div style=\"background:#999900\">Una vez que tenes los volumenes, podes tener los PhysicalGroups para despues</div>"
   ]
  },
  {
   "cell_type": "code",
   "execution_count": 7,
   "id": "edce1044",
   "metadata": {},
   "outputs": [],
   "source": [
    "S_traccionada_PG = gmsh.model.addPhysicalGroup(2, [S_Traccionado], name=\"SuperficieTraccionada\")"
   ]
  },
  {
   "cell_type": "markdown",
   "id": "d9a4941d",
   "metadata": {},
   "source": [
    "<div style=\"background:#999900\">aunque en realidad lo que queres traccionar es la superficie de la punta o incluso el borde, podes filtrarlo de un PG hecho con el volumen</div>"
   ]
  },
  {
   "cell_type": "code",
   "execution_count": 8,
   "id": "83cbef60",
   "metadata": {},
   "outputs": [],
   "source": [
    "actual_v_traccionado = [tag for dim, tag in V_Traccionado if dim == 3]"
   ]
  },
  {
   "cell_type": "code",
   "execution_count": 9,
   "id": "75d56e5c",
   "metadata": {},
   "outputs": [],
   "source": [
    "V_Traccionado_PG = gmsh.model.addPhysicalGroup(3, actual_v_traccionado, name='volumen traccionado' )"
   ]
  },
  {
   "cell_type": "code",
   "execution_count": 10,
   "id": "9f47d851",
   "metadata": {},
   "outputs": [],
   "source": [
    "actual_v_pala = [tag for dim, tag in V_Pala if dim == 3]"
   ]
  },
  {
   "cell_type": "code",
   "execution_count": 11,
   "id": "83db1287",
   "metadata": {},
   "outputs": [],
   "source": [
    "V_Pala_PG = gmsh.model.addPhysicalGroup(3, actual_v_pala, name='volumen de la pala' )"
   ]
  },
  {
   "cell_type": "code",
   "execution_count": 12,
   "id": "f202760c",
   "metadata": {},
   "outputs": [],
   "source": [
    "actual_v_grip = [tag for dim, tag in V_Grap if dim == 3]"
   ]
  },
  {
   "cell_type": "code",
   "execution_count": 13,
   "id": "9ca4a36e",
   "metadata": {},
   "outputs": [],
   "source": [
    "V_Grip_PG = gmsh.model.addPhysicalGroup(3, actual_v_grip, name='volumen del agarre' )"
   ]
  },
  {
   "cell_type": "code",
   "execution_count": 14,
   "id": "fe27d5a5",
   "metadata": {},
   "outputs": [
    {
     "name": "stdout",
     "output_type": "stream",
     "text": [
      "-------------------------------------------------------\n",
      "Version       : 4.10.5\n",
      "License       : GNU General Public License\n",
      "Build OS      : Linux64-sdk\n",
      "Build date    : 20220701\n",
      "Build host    : gmsh.info\n",
      "Build options : 64Bit ALGLIB[contrib] ANN[contrib] Bamg Blas[petsc] Blossom Cgns DIntegration Dlopen DomHex Eigen[contrib] Fltk Gmm[contrib] Hxt Jpeg Kbipack Lapack[petsc] LinuxJoystick MathEx[contrib] Med Mesh Metis[contrib] Mmg Mpeg Netgen ONELAB ONELABMetamodel OpenCASCADE OpenCASCADE-CAF OpenGL OpenMP OptHom PETSc Parser Plugins Png Post QuadMeshingTools QuadTri Solver TetGen/BR Voro++[contrib] WinslowUntangler Zlib\n",
      "FLTK version  : 1.4.0\n",
      "PETSc version : 3.14.4 (real arithmtic)\n",
      "OCC version   : 7.6.1\n",
      "MED version   : 4.1.0\n",
      "Packaged by   : geuzaine\n",
      "Web site      : https://gmsh.info\n",
      "Issue tracker : https://gitlab.onelab.info/gmsh/gmsh/issues\n",
      "-------------------------------------------------------\n"
     ]
    }
   ],
   "source": [
    "gmsh.model.geo.synchronize()\n",
    "gmsh.fltk.run()"
   ]
  },
  {
   "cell_type": "code",
   "execution_count": 15,
   "id": "541567a9",
   "metadata": {},
   "outputs": [
    {
     "name": "stdout",
     "output_type": "stream",
     "text": [
      "Info    : Meshing 1D...\n",
      "Info    : [  0%] Meshing curve 1 (Nurb)\n",
      "Info    : [ 10%] Meshing curve 2 (Line)\n",
      "Info    : [ 10%] Meshing curve 3 (Line)\n",
      "Info    : [ 20%] Meshing curve 4 (Line)\n",
      "Info    : [ 20%] Meshing curve 5 (Line)\n",
      "Info    : [ 20%] Meshing curve 6 (Line)\n",
      "Info    : [ 30%] Meshing curve 7 (Nurb)\n",
      "Info    : [ 30%] Meshing curve 8 (Line)\n",
      "Info    : [ 30%] Meshing curve 9 (Line)\n",
      "Info    : [ 40%] Meshing curve 11 (Line)\n",
      "Info    : [ 40%] Meshing curve 13 (Line)\n",
      "Info    : [ 40%] Meshing curve 14 (Line)\n",
      "Info    : [ 50%] Meshing curve 15 (Line)\n",
      "Info    : [ 50%] Meshing curve 16 (Line)\n",
      "Info    : [ 50%] Meshing curve 18 (Line)\n",
      "Info    : [ 60%] Meshing curve 19 (Line)\n",
      "Info    : [ 60%] Meshing curve 23 (Line)\n",
      "Info    : [ 70%] Meshing curve 27 (Line)\n",
      "Info    : [ 70%] Meshing curve 35 (Line)\n",
      "Info    : [ 70%] Meshing curve 37 (Line)\n",
      "Info    : [ 80%] Meshing curve 38 (Line)\n",
      "Info    : [ 80%] Meshing curve 40 (Line)\n",
      "Info    : [ 80%] Meshing curve 49 (Line)\n",
      "Info    : [ 90%] Meshing curve 57 (Nurb)\n",
      "Info    : [ 90%] Meshing curve 59 (Nurb)\n",
      "Info    : [ 90%] Meshing curve 60 (Line)\n",
      "Info    : [100%] Meshing curve 62 (Line)\n",
      "Info    : [100%] Meshing curve 71 (Line)\n",
      "Info    : Done meshing 1D (Wall 0.00274375s, CPU 0.001984s)\n",
      "Info    : Meshing 2D...\n",
      "Info    : [  0%] Meshing surface 1 (Plane, Frontal-Delaunay)\n",
      "Info    : [ 10%] Meshing surface 2 (Plane, Frontal-Delaunay)\n",
      "Info    : [ 20%] Meshing surface 3 (Plane, Frontal-Delaunay)\n",
      "Info    : [ 20%] Meshing surface 20 (Surface, Frontal-Delaunay)\n",
      "Info    : [ 30%] Meshing surface 24 (Surface, Frontal-Delaunay)\n",
      "Info    : [ 40%] Meshing surface 28 (Surface, Frontal-Delaunay)\n",
      "Info    : [ 40%] Meshing surface 32 (Surface, Frontal-Delaunay)\n",
      "Info    : [ 50%] Meshing surface 33 (Plane, Frontal-Delaunay)\n",
      "Info    : [ 50%] Meshing surface 42 (Surface, Frontal-Delaunay)\n",
      "Info    : [ 60%] Meshing surface 50 (Surface, Frontal-Delaunay)\n",
      "Info    : [ 70%] Meshing surface 54 (Surface, Frontal-Delaunay)\n",
      "Info    : [ 70%] Meshing surface 55 (Plane, Frontal-Delaunay)\n",
      "Info    : [ 80%] Meshing surface 64 (Surface, Frontal-Delaunay)\n",
      "Info    : [ 90%] Meshing surface 72 (Surface, Frontal-Delaunay)\n",
      "Info    : [ 90%] Meshing surface 76 (Surface, Frontal-Delaunay)\n",
      "Info    : [100%] Meshing surface 77 (Plane, Frontal-Delaunay)\n",
      "Info    : Done meshing 2D (Wall 0.00156559s, CPU 0.001673s)\n",
      "Info    : Meshing 3D...\n",
      "Info    : 3D Meshing 3 volumes with 1 connected component\n",
      "Info    : Tetrahedrizing 56 nodes...\n",
      "Info    : Done tetrahedrizing 64 nodes (Wall 0.000314025s, CPU 0.000342s)\n",
      "Info    : Reconstructing mesh...\n",
      "Info    :  - Creating surface mesh\n",
      "Info    :  - Identifying boundary edges\n",
      "Info    :  - Recovering boundary\n",
      "Info    : Done reconstructing mesh (Wall 0.000783563s, CPU 0.000846s)\n",
      "Info    : Found volume 1\n",
      "Info    : Found volume 3\n",
      "Info    : Found volume 2\n",
      "Info    : It. 0 - 0 nodes created - worst tet radius 0.725018 (nodes removed 0 0)\n",
      "Info    : 3D refinement terminated (56 nodes total):\n",
      "Info    :  - 0 Delaunay cavities modified for star shapeness\n",
      "Info    :  - 0 nodes could not be inserted\n",
      "Info    :  - 102 tetrahedra created in 1.2419e-05 sec. (8213221 tets/s)\n",
      "Info    : Done meshing 3D (Wall 0.00637673s, CPU 0.006672s)\n",
      "Info    : Optimizing mesh...\n",
      "Info    : Optimizing volume 1\n",
      "Info    : Optimization starts (volume = 12) with worst = 0.483545 / average = 0.819499:\n",
      "Info    : 0.00 < quality < 0.10 :         0 elements\n",
      "Info    : 0.10 < quality < 0.20 :         0 elements\n",
      "Info    : 0.20 < quality < 0.30 :         0 elements\n",
      "Info    : 0.30 < quality < 0.40 :         0 elements\n",
      "Info    : 0.40 < quality < 0.50 :         4 elements\n",
      "Info    : 0.50 < quality < 0.60 :         0 elements\n",
      "Info    : 0.60 < quality < 0.70 :         0 elements\n",
      "Info    : 0.70 < quality < 0.80 :         0 elements\n",
      "Info    : 0.80 < quality < 0.90 :        12 elements\n",
      "Info    : 0.90 < quality < 1.00 :         8 elements\n",
      "Info    : No ill-shaped tets in the mesh :-)\n",
      "Info    : 0.00 < quality < 0.10 :         0 elements\n",
      "Info    : 0.10 < quality < 0.20 :         0 elements\n",
      "Info    : 0.20 < quality < 0.30 :         0 elements\n",
      "Info    : 0.30 < quality < 0.40 :         0 elements\n",
      "Info    : 0.40 < quality < 0.50 :         4 elements\n",
      "Info    : 0.50 < quality < 0.60 :         0 elements\n",
      "Info    : 0.60 < quality < 0.70 :         0 elements\n",
      "Info    : 0.70 < quality < 0.80 :         0 elements\n",
      "Info    : 0.80 < quality < 0.90 :        12 elements\n",
      "Info    : 0.90 < quality < 1.00 :         8 elements\n",
      "Info    : Optimizing volume 2\n",
      "Info    : Optimization starts (volume = 408) with worst = 0.17037 / average = 0.328895:\n",
      "Info    : 0.00 < quality < 0.10 :         0 elements\n",
      "Info    : 0.10 < quality < 0.20 :         4 elements\n",
      "Info    : 0.20 < quality < 0.30 :         6 elements\n",
      "Info    : 0.30 < quality < 0.40 :        38 elements\n",
      "Info    : 0.40 < quality < 0.50 :         0 elements\n",
      "Info    : 0.50 < quality < 0.60 :         0 elements\n",
      "Info    : 0.60 < quality < 0.70 :         0 elements\n",
      "Info    : 0.70 < quality < 0.80 :         0 elements\n",
      "Info    : 0.80 < quality < 0.90 :         0 elements\n",
      "Info    : 0.90 < quality < 1.00 :         0 elements\n",
      "Info    : 2 edge swaps, 0 node relocations (volume = 408): worst = 0.17037 / average = 0.335178 (Wall 7.6065e-05s, CPU 8.7e-05s)\n",
      "Info    : No ill-shaped tets in the mesh :-)\n",
      "Info    : 0.00 < quality < 0.10 :         0 elements\n",
      "Info    : 0.10 < quality < 0.20 :         2 elements\n",
      "Info    : 0.20 < quality < 0.30 :         7 elements\n",
      "Info    : 0.30 < quality < 0.40 :        38 elements\n",
      "Info    : 0.40 < quality < 0.50 :         0 elements\n",
      "Info    : 0.50 < quality < 0.60 :         0 elements\n",
      "Info    : 0.60 < quality < 0.70 :         0 elements\n",
      "Info    : 0.70 < quality < 0.80 :         0 elements\n",
      "Info    : 0.80 < quality < 0.90 :         0 elements\n",
      "Info    : 0.90 < quality < 1.00 :         0 elements\n",
      "Info    : Optimizing volume 3\n",
      "Info    : Optimization starts (volume = 60) with worst = 0.390322 / average = 0.597479:\n",
      "Info    : 0.00 < quality < 0.10 :         0 elements\n",
      "Info    : 0.10 < quality < 0.20 :         0 elements\n",
      "Info    : 0.20 < quality < 0.30 :         0 elements\n",
      "Info    : 0.30 < quality < 0.40 :         2 elements\n",
      "Info    : 0.40 < quality < 0.50 :         9 elements\n",
      "Info    : 0.50 < quality < 0.60 :         7 elements\n",
      "Info    : 0.60 < quality < 0.70 :         2 elements\n",
      "Info    : 0.70 < quality < 0.80 :         6 elements\n",
      "Info    : 0.80 < quality < 0.90 :         4 elements\n",
      "Info    : 0.90 < quality < 1.00 :         0 elements\n",
      "Info    : No ill-shaped tets in the mesh :-)\n",
      "Info    : 0.00 < quality < 0.10 :         0 elements\n",
      "Info    : 0.10 < quality < 0.20 :         0 elements\n",
      "Info    : 0.20 < quality < 0.30 :         0 elements\n",
      "Info    : 0.30 < quality < 0.40 :         2 elements\n",
      "Info    : 0.40 < quality < 0.50 :         9 elements\n",
      "Info    : 0.50 < quality < 0.60 :         7 elements\n",
      "Info    : 0.60 < quality < 0.70 :         2 elements\n",
      "Info    : 0.70 < quality < 0.80 :         6 elements\n",
      "Info    : 0.80 < quality < 0.90 :         4 elements\n",
      "Info    : 0.90 < quality < 1.00 :         0 elements\n",
      "Info    : Done optimizing mesh (Wall 0.000242444s, CPU 0.000285s)\n",
      "Info    : 60 nodes 289 elements\n"
     ]
    }
   ],
   "source": [
    "#gmsh.option.setNumber(\"Mesh.MeshSizeMin\", 1.2)\n",
    "gmsh.model.mesh.generate(dim=3)\n",
    "#gmsh.fltk.run()"
   ]
  },
  {
   "cell_type": "code",
   "execution_count": 16,
   "id": "0266997a",
   "metadata": {},
   "outputs": [
    {
     "name": "stdout",
     "output_type": "stream",
     "text": [
      "-------------------------------------------------------\n",
      "Version       : 4.10.5\n",
      "License       : GNU General Public License\n",
      "Build OS      : Linux64-sdk\n",
      "Build date    : 20220701\n",
      "Build host    : gmsh.info\n",
      "Build options : 64Bit ALGLIB[contrib] ANN[contrib] Bamg Blas[petsc] Blossom Cgns DIntegration Dlopen DomHex Eigen[contrib] Fltk Gmm[contrib] Hxt Jpeg Kbipack Lapack[petsc] LinuxJoystick MathEx[contrib] Med Mesh Metis[contrib] Mmg Mpeg Netgen ONELAB ONELABMetamodel OpenCASCADE OpenCASCADE-CAF OpenGL OpenMP OptHom PETSc Parser Plugins Png Post QuadMeshingTools QuadTri Solver TetGen/BR Voro++[contrib] WinslowUntangler Zlib\n",
      "FLTK version  : 1.4.0\n",
      "PETSc version : 3.14.4 (real arithmtic)\n",
      "OCC version   : 7.6.1\n",
      "MED version   : 4.1.0\n",
      "Packaged by   : geuzaine\n",
      "Web site      : https://gmsh.info\n",
      "Issue tracker : https://gitlab.onelab.info/gmsh/gmsh/issues\n",
      "-------------------------------------------------------\n"
     ]
    }
   ],
   "source": [
    "gmsh.fltk.run()"
   ]
  },
  {
   "cell_type": "code",
   "execution_count": 10,
   "id": "ef1e5102",
   "metadata": {},
   "outputs": [],
   "source": [
    "NodeInfo = gmsh.model.mesh.get_nodes() #saco un objeto con todos los nodos. array uno etiquetas que asigna a los nodos, empieza con 1 y no con 0.\n",
    "NN = NodeInfo[0].shape[0] #numero de nodos es la cantidad de elementos uqe tengo en el primer array\n",
    "NN_Tags = NodeInfo[0]-1 #Los Tags de los nodos los pongo en numeración python.\n",
    "MN = NodeInfo[1].reshape(NN,3)\n",
    "GLXN=3\n",
    "E_Tags, MC_Flatten = gmsh.model.mesh.get_elements_by_type(4) #dame los tags (numero de elementos) del tipo 4 (tetrahedros) la MC flatten.\n",
    "NNXE=4\n",
    "NE=E_Tags.shape[0]\n",
    "MC=MC_Flatten.reshape(NE,4)\n",
    "MC=MC-np.ones(MC.shape)#Lo dejo en numeración python"
   ]
  },
  {
   "cell_type": "code",
   "execution_count": 11,
   "id": "292e0ded",
   "metadata": {},
   "outputs": [],
   "source": [
    "for e in range(NE):\n",
    "    Kel, D, B = M3D.k_elemental_3D(MN, MC, nu, E, e)\n",
    "    K = M3D.Ensamblado_Matriz_Global(MN, MC, Kel, GLXN)"
   ]
  },
  {
   "cell_type": "code",
   "execution_count": 13,
   "id": "89620ba5",
   "metadata": {},
   "outputs": [],
   "source": [
    "#Busco los tags de la superficie traccionada y del volumen del grap para armar las s.\n",
    "Tag_S_Traccionada = [20] #la busque en el gmsh"
   ]
  },
  {
   "cell_type": "markdown",
   "id": "ee8aadd5",
   "metadata": {},
   "source": [
    "<div style=\"background:#999900\"> huy pero de nuevo es muy peligroso ! en este caso tenes la definicion del PG!</div>"
   ]
  },
  {
   "cell_type": "markdown",
   "id": "9c2564f8",
   "metadata": {},
   "source": [
    "<div style=\"background:#999900\">con lo que armaste arriva podes definir un poco mejor,\n",
    "tendría que terminar de verlo.\n",
    "</div>"
   ]
  },
  {
   "cell_type": "code",
   "execution_count": 7,
   "id": "3997317c",
   "metadata": {},
   "outputs": [],
   "source": [
    "Tag_V_Grap = [tag[1] for tag in V_Grap if tag[0]==3] #me agarro eltag ed dimension 3\n",
    "#Armo los Physical Groups\n",
    "Traccionado_PG = gmsh.model.addPhysicalGroup(2, Tag_S_Traccionada) #Tracciono la superficie interna, donde estaría sujetada la cuerda.\n",
    "Grap_PG = gmsh.model.addPhysicalGroup(3, Tag_V_Grap)\n",
    "gmsh.model.geo.synchronize()"
   ]
  },
  {
   "cell_type": "code",
   "execution_count": 8,
   "id": "58e7835c",
   "metadata": {},
   "outputs": [],
   "source": [
    "#Traccionado_E=gmsh.model.getEntitiesForPhysicalGroup(2,Traccionado_PG)\n",
    "ETypesTraccionado, ETagsTraccionado, NodeTagsTraccionado = gmsh.model.mesh.getElements(2,Traccionado_E[0]) \n",
    "NElementosTraccionados=len(ETagsTraccionado[0])\n",
    "MC_T=NodeTagsTraccionado[0].reshape(NElementosTraccionados,GLXN)-1"
   ]
  },
  {
   "cell_type": "code",
   "execution_count": 9,
   "id": "e96d173f",
   "metadata": {},
   "outputs": [],
   "source": [
    "#Busco los tags del Grap, armo el s y el Us. El grap no se puede mover en ninguna de las 3 direcciones\n",
    "Tags_Nodos_Grap, CoordFlatten_Nodos_Grap = gmsh.model.mesh.getNodesForPhysicalGroup(3, Grap_PG)\n",
    "Tags_Nodos_Grap = Tags_Nodos_Grap-1\n",
    "s=np.array([Tags_Nodos_Grap*GLXN,Tags_Nodos_Grap*GLXN+1,Tags_Nodos_Grap*GLXN+2]).flatten()\n",
    "Us=np.zeros_like(s)\n",
    "r=np.array([i for i in range(NN*GLXN) if i not in s]).astype(int)\n",
    "Fr=np.zeros_like(r).astype(np.float64)\n",
    "Fx=97.27\n",
    "Fy=90.7"
   ]
  },
  {
   "cell_type": "code",
   "execution_count": 10,
   "id": "02c7678e",
   "metadata": {},
   "outputs": [],
   "source": [
    "#poner esquema arco, mostrando angulo, para mi apertura, mi arco es de 30 lbs tensado bla bla bla explicar porque elijo."
   ]
  },
  {
   "cell_type": "code",
   "execution_count": 11,
   "id": "dcbf6816",
   "metadata": {},
   "outputs": [],
   "source": [
    "for eT in range(NElementosTraccionados):\n",
    "    n1=MC_T[eT,0].astype(int)\n",
    "    n2=MC_T[eT,1].astype(int)\n",
    "    n3=MC_T[eT,2].astype(int)\n",
    "\n",
    "    A= (1/2)*np.abs(np.linalg.det(np.array([ [MN[n1,1] ,MN[n1,2], 1], \n",
    "                                             [MN[n2,1] ,MN[n2,2], 1], \n",
    "                                             [MN[n3,1] ,MN[n3,2], 1]])))\n",
    "    Fr[r==n1*GLXN] += (Fx * A / 3).astype(np.float64)\n",
    "    Fr[r==n2*GLXN] += (Fx * A / 3).astype(np.float64)\n",
    "    Fr[r==n3*GLXN] += (Fx * A / 3).astype(np.float64)\n",
    "    Fr[r==n1*GLXN+1] += (Fy * A / 3).astype(np.float64)\n",
    "    Fr[r==n2*GLXN+1] += (Fy * A / 3).astype(np.float64)\n",
    "    Fr[r==n3*GLXN+1] += (Fy * A / 3).astype(np.float64)"
   ]
  },
  {
   "cell_type": "code",
   "execution_count": 12,
   "id": "18fa0e3e",
   "metadata": {},
   "outputs": [
    {
     "ename": "LinAlgError",
     "evalue": "Singular matrix",
     "output_type": "error",
     "traceback": [
      "\u001b[0;31m---------------------------------------------------------------------------\u001b[0m",
      "\u001b[0;31mLinAlgError\u001b[0m                               Traceback (most recent call last)",
      "Input \u001b[0;32mIn [12]\u001b[0m, in \u001b[0;36m<cell line: 1>\u001b[0;34m()\u001b[0m\n\u001b[0;32m----> 1\u001b[0m U,F \u001b[38;5;241m=\u001b[39m \u001b[43mM3D\u001b[49m\u001b[38;5;241;43m.\u001b[39;49m\u001b[43msolve\u001b[49m\u001b[43m(\u001b[49m\u001b[43mK\u001b[49m\u001b[43m,\u001b[49m\u001b[43m \u001b[49m\u001b[43ms\u001b[49m\u001b[43m,\u001b[49m\u001b[43mr\u001b[49m\u001b[43m,\u001b[49m\u001b[43m \u001b[49m\u001b[43mUs\u001b[49m\u001b[43m,\u001b[49m\u001b[43m \u001b[49m\u001b[43mFr\u001b[49m\u001b[43m)\u001b[49m\n",
      "File \u001b[0;32m~/modelizacion/2022_Ingenieria/Consultas/Sol/Final Modelado/FuncionesMEF3D.py:34\u001b[0m, in \u001b[0;36msolve\u001b[0;34m(KGlobal, s, r, Us, Fr)\u001b[0m\n\u001b[1;32m     32\u001b[0m Kred \u001b[38;5;241m=\u001b[39m KGlobal[np\u001b[38;5;241m.\u001b[39mix_(r,r)]\n\u001b[1;32m     33\u001b[0m Kvin \u001b[38;5;241m=\u001b[39m KGlobal[np\u001b[38;5;241m.\u001b[39mix_(r,s)]\n\u001b[0;32m---> 34\u001b[0m U[r] \u001b[38;5;241m=\u001b[39m \u001b[43mnp\u001b[49m\u001b[38;5;241;43m.\u001b[39;49m\u001b[43mlinalg\u001b[49m\u001b[38;5;241;43m.\u001b[39;49m\u001b[43msolve\u001b[49m\u001b[43m(\u001b[49m\u001b[43mKred\u001b[49m\u001b[43m,\u001b[49m\u001b[43m \u001b[49m\u001b[43mF\u001b[49m\u001b[43m[\u001b[49m\u001b[43mr\u001b[49m\u001b[43m]\u001b[49m\u001b[38;5;241;43m-\u001b[39;49m\u001b[43mKvin\u001b[49m\u001b[38;5;241;43m.\u001b[39;49m\u001b[43mdot\u001b[49m\u001b[43m(\u001b[49m\u001b[43mU\u001b[49m\u001b[43m[\u001b[49m\u001b[43ms\u001b[49m\u001b[43m]\u001b[49m\u001b[43m)\u001b[49m\u001b[43m)\u001b[49m\n\u001b[1;32m     35\u001b[0m F[s] \u001b[38;5;241m=\u001b[39m KGlobal[s,:]\u001b[38;5;241m.\u001b[39mdot(U)\n\u001b[1;32m     36\u001b[0m \u001b[38;5;28;01mreturn\u001b[39;00m U,F\n",
      "File \u001b[0;32m<__array_function__ internals>:180\u001b[0m, in \u001b[0;36msolve\u001b[0;34m(*args, **kwargs)\u001b[0m\n",
      "File \u001b[0;32m/data/Anaconda/JupyterLab/lib/python3.9/site-packages/numpy/linalg/linalg.py:400\u001b[0m, in \u001b[0;36msolve\u001b[0;34m(a, b)\u001b[0m\n\u001b[1;32m    398\u001b[0m signature \u001b[38;5;241m=\u001b[39m \u001b[38;5;124m'\u001b[39m\u001b[38;5;124mDD->D\u001b[39m\u001b[38;5;124m'\u001b[39m \u001b[38;5;28;01mif\u001b[39;00m isComplexType(t) \u001b[38;5;28;01melse\u001b[39;00m \u001b[38;5;124m'\u001b[39m\u001b[38;5;124mdd->d\u001b[39m\u001b[38;5;124m'\u001b[39m\n\u001b[1;32m    399\u001b[0m extobj \u001b[38;5;241m=\u001b[39m get_linalg_error_extobj(_raise_linalgerror_singular)\n\u001b[0;32m--> 400\u001b[0m r \u001b[38;5;241m=\u001b[39m \u001b[43mgufunc\u001b[49m\u001b[43m(\u001b[49m\u001b[43ma\u001b[49m\u001b[43m,\u001b[49m\u001b[43m \u001b[49m\u001b[43mb\u001b[49m\u001b[43m,\u001b[49m\u001b[43m \u001b[49m\u001b[43msignature\u001b[49m\u001b[38;5;241;43m=\u001b[39;49m\u001b[43msignature\u001b[49m\u001b[43m,\u001b[49m\u001b[43m \u001b[49m\u001b[43mextobj\u001b[49m\u001b[38;5;241;43m=\u001b[39;49m\u001b[43mextobj\u001b[49m\u001b[43m)\u001b[49m\n\u001b[1;32m    402\u001b[0m \u001b[38;5;28;01mreturn\u001b[39;00m wrap(r\u001b[38;5;241m.\u001b[39mastype(result_t, copy\u001b[38;5;241m=\u001b[39m\u001b[38;5;28;01mFalse\u001b[39;00m))\n",
      "File \u001b[0;32m/data/Anaconda/JupyterLab/lib/python3.9/site-packages/numpy/linalg/linalg.py:89\u001b[0m, in \u001b[0;36m_raise_linalgerror_singular\u001b[0;34m(err, flag)\u001b[0m\n\u001b[1;32m     88\u001b[0m \u001b[38;5;28;01mdef\u001b[39;00m \u001b[38;5;21m_raise_linalgerror_singular\u001b[39m(err, flag):\n\u001b[0;32m---> 89\u001b[0m     \u001b[38;5;28;01mraise\u001b[39;00m LinAlgError(\u001b[38;5;124m\"\u001b[39m\u001b[38;5;124mSingular matrix\u001b[39m\u001b[38;5;124m\"\u001b[39m)\n",
      "\u001b[0;31mLinAlgError\u001b[0m: Singular matrix"
     ]
    }
   ],
   "source": [
    "U,F = M3D.solve(K, s,r, Us, Fr)"
   ]
  },
  {
   "cell_type": "code",
   "execution_count": null,
   "id": "d8db9d61",
   "metadata": {},
   "outputs": [],
   "source": [
    "U3D = U.reshape(NN,GLXN)"
   ]
  },
  {
   "cell_type": "code",
   "execution_count": null,
   "id": "881f5c19",
   "metadata": {},
   "outputs": [],
   "source": [
    "deformaciones = gmsh.view.add(\"Desplazamientos\")\n",
    "# por algun motivo le faltaba sumar 1 a nodeinfo\n",
    "deformaciones_model_data = gmsh.view.addModelData(deformaciones, 0, 'Medio Arco Recurvo', 'NodeData', NodeInfo[0], U3D, numComponents=3)\n",
    "gmsh.option.setNumber(f'View[{deformaciones}].VectorType',5)\n",
    "\n",
    "F3D = F.reshape(NN,GLXN)\n",
    "\n",
    "fuerzas = gmsh.view.add('forces')\n",
    "# por algun motivo le faltaba sumar 1 a nodeinfo\n",
    "fuerzas_model_data = gmsh.view.addModelData(fuerzas, 0, 'Medio Arco Recurvo','NodeData',NodeInfo[0], F3D, numComponents=3)\n",
    "gmsh.option.setNumber(f'View[{fuerzas}].VectorType',4)\n",
    "gmsh.option.setNumber(f'View[{fuerzas}].GlyphLocation',2)\n",
    "# gmsh.fltk.run()\n",
    "\n",
    "gmsh.fltk.run()"
   ]
  }
 ],
 "metadata": {
  "kernelspec": {
   "display_name": "Python 3 (ipykernel)",
   "language": "python",
   "name": "python3"
  },
  "language_info": {
   "codemirror_mode": {
    "name": "ipython",
    "version": 3
   },
   "file_extension": ".py",
   "mimetype": "text/x-python",
   "name": "python",
   "nbconvert_exporter": "python",
   "pygments_lexer": "ipython3",
   "version": "3.9.12"
  }
 },
 "nbformat": 4,
 "nbformat_minor": 5
}
