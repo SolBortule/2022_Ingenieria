{
 "cells": [
  {
   "cell_type": "code",
   "execution_count": 1,
   "id": "0a477f06",
   "metadata": {
    "pycharm": {
     "name": "#%%\n"
    }
   },
   "outputs": [],
   "source": [
    "import gmsh\n",
    "import numpy as np\n",
    "import FuncionesMEF3D as M3D"
   ]
  },
  {
   "cell_type": "code",
   "execution_count": 2,
   "id": "41ec5f82",
   "metadata": {
    "pycharm": {
     "name": "#%%\n"
    }
   },
   "outputs": [],
   "source": [
    "gmsh.initialize()"
   ]
  },
  {
   "cell_type": "code",
   "execution_count": 3,
   "id": "8de8c507",
   "metadata": {
    "collapsed": false,
    "jupyter": {
     "outputs_hidden": false
    },
    "pycharm": {
     "name": "#%%\n"
    }
   },
   "outputs": [
    {
     "data": {
      "text/plain": [
       "['']"
      ]
     },
     "execution_count": 3,
     "metadata": {},
     "output_type": "execute_result"
    }
   ],
   "source": [
    "gmsh.model.list()"
   ]
  },
  {
   "cell_type": "code",
   "execution_count": 4,
   "id": "65cde245",
   "metadata": {
    "collapsed": false,
    "jupyter": {
     "outputs_hidden": false
    },
    "pycharm": {
     "name": "#%%\n"
    }
   },
   "outputs": [],
   "source": [
    "gmsh.model.add('Cubo Prueba')"
   ]
  },
  {
   "cell_type": "code",
   "execution_count": 5,
   "id": "0a36340d",
   "metadata": {
    "pycharm": {
     "name": "#%%\n"
    },
    "tags": []
   },
   "outputs": [
    {
     "name": "stdout",
     "output_type": "stream",
     "text": [
      "Info    : Meshing 1D...\n",
      "Info    : [  0%] Meshing curve 1 (Line)\n",
      "Info    : [ 10%] Meshing curve 2 (Line)\n",
      "Info    : [ 20%] Meshing curve 3 (Line)\n",
      "Info    : [ 30%] Meshing curve 4 (Line)\n",
      "Info    : [ 40%] Meshing curve 6 (Line)\n",
      "Info    : [ 50%] Meshing curve 7 (Line)\n",
      "Info    : [ 50%] Meshing curve 8 (Line)\n",
      "Info    : [ 60%] Meshing curve 9 (Line)\n",
      "Info    : [ 70%] Meshing curve 11 (Line)\n",
      "Info    : [ 80%] Meshing curve 12 (Line)\n",
      "Info    : [ 90%] Meshing curve 16 (Line)\n",
      "Info    : [100%] Meshing curve 20 (Line)\n",
      "Info    : Done meshing 1D (Wall 0.000636143s, CPU 0s)\n",
      "Info    : Meshing 2D...\n",
      "Info    : [  0%] Meshing surface 1 (Plane, Frontal-Delaunay)\n",
      "Info    : [ 20%] Meshing surface 13 (Surface, Frontal-Delaunay)\n",
      "Info    : [ 40%] Meshing surface 17 (Surface, Frontal-Delaunay)\n",
      "Info    : [ 50%] Meshing surface 21 (Surface, Frontal-Delaunay)\n",
      "Info    : [ 70%] Meshing surface 25 (Surface, Frontal-Delaunay)\n",
      "Info    : [ 90%] Meshing surface 26 (Plane, Frontal-Delaunay)\n",
      "Info    : Done meshing 2D (Wall 0.000472798s, CPU 0s)\n",
      "Info    : Meshing 3D...\n",
      "Info    : 3D Meshing 1 volume with 1 connected component\n",
      "Info    : Tetrahedrizing 14 nodes...\n",
      "Info    : Done tetrahedrizing 22 nodes (Wall 0.000117069s, CPU 0s)\n",
      "Info    : Reconstructing mesh...\n",
      "Info    :  - Creating surface mesh\n",
      "Info    :  - Identifying boundary edges\n",
      "Info    :  - Recovering boundary\n",
      "Info    : Done reconstructing mesh (Wall 0.000298365s, CPU 0s)\n",
      "Info    : Found volume 1\n",
      "Info    : It. 0 - 0 nodes created - worst tet radius 0.707107 (nodes removed 0 0)\n",
      "Info    : 3D refinement terminated (14 nodes total):\n",
      "Info    :  - 0 Delaunay cavities modified for star shapeness\n",
      "Info    :  - 0 nodes could not be inserted\n",
      "Info    :  - 24 tetrahedra created in 1.1121e-05 sec. (2158079 tets/s)\n",
      "Info    : Done meshing 3D (Wall 0.00596983s, CPU 0.011588s)\n",
      "Info    : Optimizing mesh...\n",
      "Info    : Optimizing volume 1\n",
      "Info    : Optimization starts (volume = 1) with worst = 0.803848 / average = 0.869232:\n",
      "Info    : 0.00 < quality < 0.10 :         0 elements\n",
      "Info    : 0.10 < quality < 0.20 :         0 elements\n",
      "Info    : 0.20 < quality < 0.30 :         0 elements\n",
      "Info    : 0.30 < quality < 0.40 :         0 elements\n",
      "Info    : 0.40 < quality < 0.50 :         0 elements\n",
      "Info    : 0.50 < quality < 0.60 :         0 elements\n",
      "Info    : 0.60 < quality < 0.70 :         0 elements\n",
      "Info    : 0.70 < quality < 0.80 :         0 elements\n",
      "Info    : 0.80 < quality < 0.90 :        16 elements\n",
      "Info    : 0.90 < quality < 1.00 :         0 elements\n",
      "Info    : No ill-shaped tets in the mesh :-)\n",
      "Info    : 0.00 < quality < 0.10 :         0 elements\n",
      "Info    : 0.10 < quality < 0.20 :         0 elements\n",
      "Info    : 0.20 < quality < 0.30 :         0 elements\n",
      "Info    : 0.30 < quality < 0.40 :         0 elements\n",
      "Info    : 0.40 < quality < 0.50 :         0 elements\n",
      "Info    : 0.50 < quality < 0.60 :         0 elements\n",
      "Info    : 0.60 < quality < 0.70 :         0 elements\n",
      "Info    : 0.70 < quality < 0.80 :         0 elements\n",
      "Info    : 0.80 < quality < 0.90 :        16 elements\n",
      "Info    : 0.90 < quality < 1.00 :         0 elements\n",
      "Info    : Done optimizing mesh (Wall 6.0703e-05s, CPU 4.8e-05s)\n",
      "Info    : 14 nodes 68 elements\n"
     ]
    }
   ],
   "source": [
    "L=1 #m\n",
    "lc=L\n",
    "nu=0.3\n",
    "E=210e9 #Pa\n",
    "\n",
    "p1 = gmsh.model.geo.addPoint(0, 0, 0, lc)\n",
    "p2 = gmsh.model.geo.addPoint(L, 0, 0, lc)\n",
    "p3 = gmsh.model.geo.addPoint(L, L, 0, lc)\n",
    "p4 = gmsh.model.geo.addPoint(0, L, 0, lc)\n",
    "\n",
    "l1 = gmsh.model.geo.addLine(p1, p2)\n",
    "l2 = gmsh.model.geo.addLine(p2, p3)\n",
    "l3 = gmsh.model.geo.addLine(p3, p4)\n",
    "l4 = gmsh.model.geo.addLine(p4, p1)\n",
    "\n",
    "C = gmsh.model.geo.addCurveLoop([l1,l2,l3,l4])\n",
    "\n",
    "S = gmsh.model.geo.addPlaneSurface([C])\n",
    "\n",
    "V_cubo = gmsh.model.geo.extrude([(2,S)],0,0,L)\n",
    "\n",
    "gmsh.model.geo.synchronize()\n",
    "\n",
    "output = gmsh.model.mesh.generate(dim=3)\n",
    "gmsh.model.geo.synchronize()\n",
    "# gmsh.fltk.run()"
   ]
  },
  {
   "cell_type": "code",
   "execution_count": 6,
   "id": "f8d30835",
   "metadata": {},
   "outputs": [],
   "source": [
    "filename = 'test.msh'"
   ]
  },
  {
   "cell_type": "code",
   "execution_count": 7,
   "id": "94f4d460",
   "metadata": {
    "collapsed": false,
    "jupyter": {
     "outputs_hidden": false
    },
    "pycharm": {
     "name": "#%%\n"
    }
   },
   "outputs": [
    {
     "name": "stdout",
     "output_type": "stream",
     "text": [
      "Info    : Writing 'test.msh'...\n",
      "Info    : Done writing 'test.msh'\n"
     ]
    }
   ],
   "source": [
    "gmsh.write('test.msh')"
   ]
  },
  {
   "cell_type": "code",
   "execution_count": 8,
   "id": "e5bba841",
   "metadata": {
    "pycharm": {
     "name": "#%%\n"
    }
   },
   "outputs": [],
   "source": [
    "NodeInfo = gmsh.model.mesh.get_nodes() #saco un objeto con todos los nodos. array uno etiquetas que asigna a los nodos, empieza con 1 y no con 0.\n",
    "NN = NodeInfo[0].shape[0] #numero de nodos es la cantidad de elementos uqe tengo en el primer array\n",
    "NN_Tags = NodeInfo[0]-1 #Los Tags de los nodos los pongo en numeración python.\n",
    "MN = NodeInfo[1].reshape(NN,3)\n",
    "\n",
    "E_Tags, MC_Flatten = gmsh.model.mesh.get_elements_by_type(4) #dame los tags (numero de elementos) del tipo 4 (tetrahedros) la MC flatten.\n",
    "NNXE=4\n",
    "NE=E_Tags.shape[0]\n",
    "MC=MC_Flatten.reshape(NE,4)\n",
    "MC=MC-np.ones(MC.shape)#Lo dejo en numeración python"
   ]
  },
  {
   "cell_type": "code",
   "execution_count": 9,
   "id": "09b1865d",
   "metadata": {
    "pycharm": {
     "name": "#%%\n"
    }
   },
   "outputs": [
    {
     "data": {
      "text/plain": [
       "24"
      ]
     },
     "execution_count": 9,
     "metadata": {},
     "output_type": "execute_result"
    }
   ],
   "source": [
    "NE"
   ]
  },
  {
   "cell_type": "markdown",
   "id": "e04b5eaa",
   "metadata": {
    "pycharm": {
     "name": "#%% md\n"
    }
   },
   "source": [
    "Para calcular los desplazamientos u(x,y,z) debo conocer V, alpha_i,beta_i, gamma_i y delta_i (i=1,2,3,4) según la ecuacion:\n",
    "\n",
    "11.2.3\n",
    "\n",
    "Análogamente, se obtienen v(x,y,z) y w(x,y,z)"
   ]
  },
  {
   "cell_type": "markdown",
   "id": "9182c653",
   "metadata": {
    "pycharm": {
     "name": "#%% md\n"
    }
   },
   "source": [
    "Para obtener 6V se evalua el determinante:\n",
    "\n",
    "11.2.4\n",
    "\n",
    "donde xi,yi,zi , i=1,2,3,4\n",
    "son las coordenadas del nodo i. Como el Volumen de todos los tetraedros es iguales, me fijo para el primer elemento los nodos que lo componen (MC) y para esos nodos busco sus posiciones (MN).\n"
   ]
  },
  {
   "cell_type": "markdown",
   "id": "e7d6d035",
   "metadata": {},
   "source": [
    "<div style=\"background:#999900\">ojo con el signo del volumen!</div>"
   ]
  },
  {
   "cell_type": "code",
   "execution_count": 10,
   "id": "01850516",
   "metadata": {
    "pycharm": {
     "name": "#%%\n"
    }
   },
   "outputs": [],
   "source": [
    "def k_elemental_3D(MN, MC, nu, E, elemento):\n",
    "    \n",
    "    Fila_MC = MC[elemento, :].astype(int)\n",
    "    x1, y1, z1= MN[Fila_MC[0]][0], MN[Fila_MC[0]][1], MN[Fila_MC[0]][2]\n",
    "    x2, y2, z2= MN[Fila_MC[1]][0], MN[Fila_MC[1]][1], MN[Fila_MC[1]][2]\n",
    "    x3, y3, z3= MN[Fila_MC[2]][0], MN[Fila_MC[2]][1], MN[Fila_MC[2]][2]\n",
    "    x4, y4, z4= MN[Fila_MC[3]][0], MN[Fila_MC[3]][1], MN[Fila_MC[3]][2]\n",
    "\n",
    "    SeisV=np.array([[1,x1,y1,z1],\n",
    "                    [1,x2,y2,z2],\n",
    "                    [1,x3,y3,z3],\n",
    "                    [1,x4,y4,z4]])\n",
    "    \n",
    "#mdf_comment    V=np.abs(np.linalg.det(SeisV)/6)\n",
    "    V=np.linalg.det(SeisV)/6\n",
    "\n",
    "    D=np.array([[1-nu,nu,nu,0,0,0],\n",
    "       [nu,1-nu,nu,0,0,0],\n",
    "       [nu,nu,1-nu,0,0,0],\n",
    "       [0,0,0,(1-2*nu)/2,0,0],\n",
    "       [0,0,0,0,(1-2*nu)/2,0],\n",
    "       [0,0,0,0,0,(1-2*nu)/2]])*(E/((1+nu)*(1-2*nu)))\n",
    "    \n",
    "    Coeficientes=np.zeros((4,4))\n",
    "    for i in range(4):\n",
    "        for j in range(4):\n",
    "            Coeficientes[i, j]=M3D.Menores_Det(SeisV, i, j)\n",
    "\n",
    "    alpha1 = Coeficientes[0,0]\n",
    "    alpha2 = -Coeficientes[1,0]\n",
    "    alpha3 = Coeficientes[2,0]\n",
    "    alpha4 = -Coeficientes[3,0]\n",
    "\n",
    "    beta1 = -Coeficientes[0,1]\n",
    "    beta2 = Coeficientes[1,1]\n",
    "    beta3 = -Coeficientes[2,1]\n",
    "    beta4 = Coeficientes[3,1]\n",
    "\n",
    "    gamma1 = Coeficientes[0,2]\n",
    "    gamma2 = -Coeficientes[1,2]\n",
    "    gamma3 = Coeficientes[2,2]\n",
    "    gamma4 = -Coeficientes[3,2]\n",
    "\n",
    "    delta1 = -Coeficientes[0,3]\n",
    "    delta2 = Coeficientes[1,3]\n",
    "    delta3 = -Coeficientes[2,3]\n",
    "    delta4 = Coeficientes[3,3]\n",
    "\n",
    "    B1=np.array([[beta1,0,0],\n",
    "                 [0,gamma1,0],\n",
    "                 [0,0,delta1],\n",
    "                 [gamma1,beta1,0],\n",
    "                 [0,delta1,gamma1],\n",
    "                 [delta1,0,beta1]])\n",
    "\n",
    "    B2=np.array([[beta2,0,0],\n",
    "                 [0,gamma2,0],\n",
    "                 [0,0,delta2],\n",
    "                 [gamma2,beta2,0],\n",
    "                 [0,delta2,gamma2],\n",
    "                 [delta2,0,beta2]])\n",
    "\n",
    "    B3=np.array([[beta3,0,0],\n",
    "                 [0,gamma3,0],\n",
    "                 [0,0,delta3],\n",
    "                 [gamma3,beta3,0],\n",
    "                 [0,delta3,gamma3],\n",
    "                 [delta3,0,beta3]])\n",
    "\n",
    "    B4=np.array([[beta4,0,0],\n",
    "                 [0,gamma4,0],\n",
    "                 [0,0,delta4],\n",
    "                 [gamma4,beta4,0],\n",
    "                 [0,delta4,gamma4],\n",
    "                 [delta4,0,beta4]])\n",
    "\n",
    "    B=np.hstack([B1,B2,B3,B4])/(6*V)\n",
    "    Kel=np.transpose(B).dot(D.dot(B))*abs(V)\n",
    "    # print(Kel)\n",
    "    return Kel, D, B"
   ]
  },
  {
   "cell_type": "code",
   "execution_count": 11,
   "id": "0b3a7a60",
   "metadata": {
    "pycharm": {
     "name": "#%%\n"
    }
   },
   "outputs": [],
   "source": [
    "GLXN = 3\n",
    "for e in range(NE):\n",
    "    Kel, D, B = k_elemental_3D(MN, MC, nu, E, e)\n",
    "    K = M3D.Ensamblado_Matriz_Global(MN, MC, Kel, GLXN)"
   ]
  },
  {
   "cell_type": "markdown",
   "id": "ab5bd644",
   "metadata": {},
   "source": [
    "<div style=\"background:#999900\">Huy  cuidado con hardcodear numeros de entidades !</div>"
   ]
  },
  {
   "cell_type": "code",
   "execution_count": 12,
   "id": "eb9a5476",
   "metadata": {
    "pycharm": {
     "name": "#%%\n"
    }
   },
   "outputs": [],
   "source": [
    "Traccionado_PG = gmsh.model.addPhysicalGroup(2, [26])"
   ]
  },
  {
   "cell_type": "markdown",
   "id": "776a3033",
   "metadata": {},
   "source": [
    "<div style=\"background:#999900\">a demas el PG conviene definirlo antes de mallar, de esa manera vas a terner asignados todos los nodos nuevos a ese PG.</div>"
   ]
  },
  {
   "cell_type": "code",
   "execution_count": 13,
   "id": "725ecb06",
   "metadata": {
    "pycharm": {
     "name": "#%%\n"
    }
   },
   "outputs": [],
   "source": [
    "# gmsh.fltk.run()"
   ]
  },
  {
   "cell_type": "markdown",
   "id": "a16a7b03",
   "metadata": {},
   "source": [
    "<div style=\"background:#999900\">uh pero ojo con los numeros que estas poniendo en el s ! tendrias que tener un empotrado_PG y sacar los s</div>"
   ]
  },
  {
   "cell_type": "markdown",
   "id": "398341ca",
   "metadata": {
    "pycharm": {
     "name": "#%% md\n"
    }
   },
   "source": [
    "Pruebo solicitando el cubo a traccion"
   ]
  },
  {
   "cell_type": "code",
   "execution_count": 14,
   "id": "2d9f4dfc",
   "metadata": {
    "pycharm": {
     "name": "#%%\n"
    }
   },
   "outputs": [
    {
     "name": "stdout",
     "output_type": "stream",
     "text": [
      "nodos:  14 17 41\n",
      "nodos:  23 14 41\n",
      "nodos:  17 20 41\n",
      "nodos:  20 23 41\n"
     ]
    }
   ],
   "source": [
    "EntidadTraccionado=gmsh.model.getEntitiesForPhysicalGroup(2,Traccionado_PG)\n",
    "ETypesTraccionado, ETagsTraccionado, NodeTagsTraccionado = gmsh.model.mesh.getElements(2,EntidadTraccionado[0]) \n",
    "NElementosTraccionados=len(ETagsTraccionado[0])\n",
    "MC_T=NodeTagsTraccionado[0].reshape(NElementosTraccionados,GLXN)-1\n",
    "\n",
    "\n",
    "s=(np.array([1,2,3,4,9])-1)*GLXN+2\n",
    "Us=np.zeros_like(s)\n",
    "r = np.array([i for i in range(NN*GLXN) if i not in s])\n",
    "Fr=np.zeros_like(r).astype(float)\n",
    "Tension=100\n",
    "\n",
    "for eT in range(NElementosTraccionados):\n",
    "    n1=MC_T[eT,0].astype(int)\n",
    "    n2=MC_T[eT,1].astype(int)\n",
    "    n3=MC_T[eT,2].astype(int)\n",
    "\n",
    "    A= (1/2)*np.abs(np.linalg.det(np.array([ [MN[n1,0] ,MN[n1,1], 1], \n",
    "                                             [MN[n2,0] ,MN[n2,1], 1], \n",
    "                                             [MN[n3,0] ,MN[n3,1], 1]])))\n",
    "    print('nodos: ', n1*GLXN+2, n2*GLXN+2, n3*GLXN+2)\n",
    "    Fr[r==n1*GLXN+2] += Tension * A / 3\n",
    "    Fr[r==n2*GLXN+2] += Tension * A / 3\n",
    "    Fr[r==n3*GLXN+2] += Tension * A / 3"
   ]
  },
  {
   "cell_type": "code",
   "execution_count": 15,
   "id": "d74bf4e0",
   "metadata": {
    "pycharm": {
     "name": "#%%\n"
    }
   },
   "outputs": [
    {
     "name": "stdout",
     "output_type": "stream",
     "text": [
      "[ 2  5  8 11 26]\n",
      "[ 0  1  3  4  6  7  9 10 12 13 14 15 16 17 18 19 20 21 22 23 24 25 27 28\n",
      " 29 30 31 32 33 34 35 36 37 38 39 40 41]\n",
      "[ 0.          0.          0.          0.          0.          0.\n",
      "  0.          0.          0.          0.         16.66666667  0.\n",
      "  0.         16.66666667  0.          0.         16.66666667  0.\n",
      "  0.         16.66666667  0.          0.          0.          0.\n",
      "  0.          0.          0.          0.          0.          0.\n",
      "  0.          0.          0.          0.          0.          0.\n",
      " 33.33333333]\n"
     ]
    }
   ],
   "source": [
    "# 4 5 6 7 13\n",
    "print(s)\n",
    "print(r)\n",
    "print(Fr.flatten())"
   ]
  },
  {
   "cell_type": "code",
   "execution_count": 16,
   "id": "c7329c08",
   "metadata": {
    "collapsed": false,
    "jupyter": {
     "outputs_hidden": false
    },
    "pycharm": {
     "name": "#%%\n"
    }
   },
   "outputs": [],
   "source": [
    "F0 = np.zeros([ NN*3])"
   ]
  },
  {
   "cell_type": "code",
   "execution_count": 17,
   "id": "1ab60d98",
   "metadata": {
    "collapsed": false,
    "jupyter": {
     "outputs_hidden": false
    },
    "pycharm": {
     "name": "#%%\n"
    }
   },
   "outputs": [],
   "source": [
    "F0[r]=Fr"
   ]
  },
  {
   "cell_type": "code",
   "execution_count": 18,
   "id": "5391338f",
   "metadata": {
    "collapsed": false,
    "jupyter": {
     "outputs_hidden": false
    },
    "pycharm": {
     "name": "#%%\n"
    }
   },
   "outputs": [],
   "source": [
    "F0 = F0.reshape(NN, 3)"
   ]
  },
  {
   "cell_type": "code",
   "execution_count": 19,
   "id": "dade79ea",
   "metadata": {
    "collapsed": false,
    "jupyter": {
     "outputs_hidden": false
    },
    "pycharm": {
     "name": "#%%\n"
    }
   },
   "outputs": [],
   "source": [
    "ViewF0 = gmsh.view.add('Fuerzas Iniciales')"
   ]
  },
  {
   "cell_type": "code",
   "execution_count": 20,
   "id": "e9d316af",
   "metadata": {},
   "outputs": [
    {
     "data": {
      "text/plain": [
       "array([1], dtype=int32)"
      ]
     },
     "execution_count": 20,
     "metadata": {},
     "output_type": "execute_result"
    }
   ],
   "source": [
    "gmsh.view.get_tags()"
   ]
  },
  {
   "cell_type": "code",
   "execution_count": 21,
   "id": "aa445469",
   "metadata": {
    "collapsed": false,
    "jupyter": {
     "outputs_hidden": false
    },
    "pycharm": {
     "name": "#%%\n"
    }
   },
   "outputs": [],
   "source": [
    "gmsh.view.addModelData(ViewF0,  0, 'Cubo Prueba', 'NodeData', NodeInfo[0], F0.reshape(NN, 3), numComponents=3)\n",
    "gmsh.option.set_number(f'View[{ViewF0-1}].GlyphLocation', 2)"
   ]
  },
  {
   "cell_type": "code",
   "execution_count": 22,
   "id": "ac88d3df",
   "metadata": {
    "collapsed": false,
    "jupyter": {
     "outputs_hidden": false
    },
    "pycharm": {
     "name": "#%%\n"
    }
   },
   "outputs": [
    {
     "name": "stdout",
     "output_type": "stream",
     "text": [
      "-------------------------------------------------------\n",
      "Version       : 4.10.5\n",
      "License       : GNU General Public License\n",
      "Build OS      : Linux64-sdk\n",
      "Build date    : 20220701\n",
      "Build host    : gmsh.info\n",
      "Build options : 64Bit ALGLIB[contrib] ANN[contrib] Bamg Blas[petsc] Blossom Cgns DIntegration Dlopen DomHex Eigen[contrib] Fltk Gmm[contrib] Hxt Jpeg Kbipack Lapack[petsc] LinuxJoystick MathEx[contrib] Med Mesh Metis[contrib] Mmg Mpeg Netgen ONELAB ONELABMetamodel OpenCASCADE OpenCASCADE-CAF OpenGL OpenMP OptHom PETSc Parser Plugins Png Post QuadMeshingTools QuadTri Solver TetGen/BR Voro++[contrib] WinslowUntangler Zlib\n",
      "FLTK version  : 1.4.0\n",
      "PETSc version : 3.14.4 (real arithmtic)\n",
      "OCC version   : 7.6.1\n",
      "MED version   : 4.1.0\n",
      "Packaged by   : geuzaine\n",
      "Web site      : https://gmsh.info\n",
      "Issue tracker : https://gitlab.onelab.info/gmsh/gmsh/issues\n",
      "-------------------------------------------------------\n"
     ]
    }
   ],
   "source": [
    "gmsh.fltk.run()"
   ]
  },
  {
   "cell_type": "code",
   "execution_count": 23,
   "id": "24e889b8",
   "metadata": {
    "pycharm": {
     "name": "#%%\n"
    }
   },
   "outputs": [],
   "source": [
    "U,F=M3D.solve(K,s,r,Us,Fr)"
   ]
  },
  {
   "cell_type": "code",
   "execution_count": 24,
   "id": "b686fa28",
   "metadata": {
    "pycharm": {
     "name": "#%%\n"
    }
   },
   "outputs": [],
   "source": [
    "U3D = U.reshape(NN,GLXN)"
   ]
  },
  {
   "cell_type": "code",
   "execution_count": 25,
   "id": "2cc28f60",
   "metadata": {
    "pycharm": {
     "name": "#%%\n"
    }
   },
   "outputs": [
    {
     "name": "stdout",
     "output_type": "stream",
     "text": [
      "-------------------------------------------------------\n",
      "Version       : 4.10.5\n",
      "License       : GNU General Public License\n",
      "Build OS      : Linux64-sdk\n",
      "Build date    : 20220701\n",
      "Build host    : gmsh.info\n",
      "Build options : 64Bit ALGLIB[contrib] ANN[contrib] Bamg Blas[petsc] Blossom Cgns DIntegration Dlopen DomHex Eigen[contrib] Fltk Gmm[contrib] Hxt Jpeg Kbipack Lapack[petsc] LinuxJoystick MathEx[contrib] Med Mesh Metis[contrib] Mmg Mpeg Netgen ONELAB ONELABMetamodel OpenCASCADE OpenCASCADE-CAF OpenGL OpenMP OptHom PETSc Parser Plugins Png Post QuadMeshingTools QuadTri Solver TetGen/BR Voro++[contrib] WinslowUntangler Zlib\n",
      "FLTK version  : 1.4.0\n",
      "PETSc version : 3.14.4 (real arithmtic)\n",
      "OCC version   : 7.6.1\n",
      "MED version   : 4.1.0\n",
      "Packaged by   : geuzaine\n",
      "Web site      : https://gmsh.info\n",
      "Issue tracker : https://gitlab.onelab.info/gmsh/gmsh/issues\n",
      "-------------------------------------------------------\n"
     ]
    }
   ],
   "source": [
    "strains = gmsh.view.add(\"Desplazamientos\")\n",
    "# por algun motivo le faltaba sumar 1 a nodeinfo\n",
    "strain_model_data = gmsh.view.addModelData(strains, 0, 'Cubo Prueba', 'NodeData', NodeInfo[0], U3D, numComponents=3)\n",
    "gmsh.option.setNumber(f'View[{strains-1}].VectorType',4)\n",
    "gmsh.option.setNumber(f'View[{strains-1}].GlyphLocation',2)\n",
    "\n",
    "F3D = F.reshape(NN,GLXN)\n",
    "\n",
    "forces = gmsh.view.add('forces')\n",
    "# por algun motivo le faltaba sumar 1 a nodeinfo\n",
    "forces_model_data = gmsh.view.addModelData(forces, 0, 'Cubo Prueba','NodeData',NodeInfo[0], F3D, numComponents=3)\n",
    "gmsh.option.setNumber(f'View[{forces-1}].VectorType',4)\n",
    "gmsh.option.setNumber(f'View[{forces-1}].GlyphLocation',2)\n",
    "# gmsh.fltk.run()\n",
    "\n",
    "gmsh.fltk.run()"
   ]
  },
  {
   "cell_type": "code",
   "execution_count": 26,
   "id": "c16545fd",
   "metadata": {
    "collapsed": false,
    "jupyter": {
     "outputs_hidden": false
    },
    "pycharm": {
     "name": "#%%\n"
    }
   },
   "outputs": [
    {
     "name": "stdout",
     "output_type": "stream",
     "text": [
      "Info    : Writing 'testOUT.msh'...\n",
      "Info    : Done writing 'testOUT.msh'\n",
      "Info    : Writing 'testOUT.msh'...\n",
      "Info    : Done writing 'testOUT.msh'\n"
     ]
    }
   ],
   "source": [
    "gmsh.view.write(strains, 'testOUT.msh',)\n",
    "gmsh.view.write(forces, 'testOUT.msh', append=True)\n",
    "gmsh.finalize()"
   ]
  },
  {
   "cell_type": "code",
   "execution_count": 27,
   "id": "f1125835",
   "metadata": {
    "collapsed": false,
    "jupyter": {
     "outputs_hidden": false
    },
    "pycharm": {
     "name": "#%%\n"
    }
   },
   "outputs": [
    {
     "data": {
      "text/plain": [
       "3"
      ]
     },
     "execution_count": 27,
     "metadata": {},
     "output_type": "execute_result"
    }
   ],
   "source": [
    "forces"
   ]
  },
  {
   "cell_type": "code",
   "execution_count": null,
   "id": "6b16c21b",
   "metadata": {
    "collapsed": false,
    "jupyter": {
     "outputs_hidden": false
    },
    "pycharm": {
     "name": "#%%\n"
    }
   },
   "outputs": [],
   "source": []
  }
 ],
 "metadata": {
  "kernelspec": {
   "display_name": "Python 3 (ipykernel)",
   "language": "python",
   "name": "python3"
  },
  "language_info": {
   "codemirror_mode": {
    "name": "ipython",
    "version": 3
   },
   "file_extension": ".py",
   "mimetype": "text/x-python",
   "name": "python",
   "nbconvert_exporter": "python",
   "pygments_lexer": "ipython3",
   "version": "3.9.12"
  }
 },
 "nbformat": 4,
 "nbformat_minor": 5
}
