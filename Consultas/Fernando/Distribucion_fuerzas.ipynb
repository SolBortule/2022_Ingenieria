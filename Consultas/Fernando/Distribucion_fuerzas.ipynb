{
 "cells": [
  {
   "cell_type": "markdown",
   "id": "986c6bf5-95dd-4506-a4a7-9348f0b083d8",
   "metadata": {},
   "source": [
    "1/3 cL^2/(ne)**2*2\n",
    "2°, 2/3 cL^2/ ne^2.2 + "
   ]
  },
  {
   "cell_type": "code",
   "execution_count": 122,
   "id": "ef89d93c-45f8-4422-8f4c-f0316634e568",
   "metadata": {},
   "outputs": [],
   "source": [
    "from scipy.integrate import quad\n",
    "import numpy as np\n",
    "import matplotlib.pyplot as plt  \n",
    "import math   \n",
    "import random   \n",
    "import copy\n",
    "import MEF\n",
    "from scipy.integrate import quad"
   ]
  },
  {
   "cell_type": "code",
   "execution_count": 123,
   "id": "c04581ee-795e-412c-9dd7-ebc565226d88",
   "metadata": {},
   "outputs": [],
   "source": [
    "Ne= 1 #Numero de elementos en los que divido la barra\n",
    "Nn= Ne+1 #numero de nodos\n",
    "E= 30E6\n",
    "T = np.array([-10, 0])\n",
    "L0= 0.6\n",
    "a1= -1/L0\n",
    "a0= 1\n",
    "b1= 1/L0\n",
    "b0= 0\n",
    "A= 2*E-4\n",
    "glxn= 1\n",
    "#puedo poner las funciones interpolacion como una matriza\n",
    "N = np.array([(a1, a0),(b1 , b0)]) #funciones de interpolacion,, coeficientes, 1°grado"
   ]
  },
  {
   "cell_type": "code",
   "execution_count": 124,
   "id": "8ecc40da-5455-42e1-b1f5-47998ba23b55",
   "metadata": {},
   "outputs": [],
   "source": [
    "MN= np.linspace(0,L0,Nn) #posicion de los nodos\n",
    "MC= np.array([[i,i+1] for i in range (Ne)])\n",
    "k_elem= {}"
   ]
  },
  {
   "cell_type": "code",
   "execution_count": 125,
   "id": "2f4eeeb8-4b7b-49c4-abe2-a9c948cead16",
   "metadata": {},
   "outputs": [],
   "source": [
    "def carga_axial_centrada(T,i,MC,MN):\n",
    "    T[1] = -T[0]*MN[MC[i][0]]\n",
    "    return T"
   ]
  },
  {
   "cell_type": "code",
   "execution_count": 126,
   "id": "0981e047-7670-461c-95d2-053072654b44",
   "metadata": {},
   "outputs": [],
   "source": [
    "def derivada_inter(N):\n",
    "    #N es el vector con los coeficientes de la funcion interpolacion\n",
    "    # N= an*x^n+ ....+ a2*x^2+ a1*x+a0, length -1=grado pol  \n",
    "    #N' = (gr-1-i)*an\n",
    "    gr= len(N) -1\n",
    "    N_deriv= []\n",
    "    for i in range(len(N)-1):\n",
    "        N_deriv.append((gr-i)*N[i])\n",
    "    return N_deriv"
   ]
  },
  {
   "cell_type": "markdown",
   "id": "82910316-9b87-44e0-ba02-8c301e1483a2",
   "metadata": {},
   "source": [
    "Traté de generalizar la obtencion de la matriz B, para despues obtener la k elemental de cada elemento.\n",
    "A la funcion le ingreso como parametro las dimensiones de la barra y el modulo de young, la cantidad de elementos, la matriz de conectividad y de nodos.\n",
    "La generalizacion era mas por el caso de que si no tengo las funciones de interpolacion que sean polinomios de primer orden porder hacerlas (no pude tampoco con eso, porque generé el vector B con las derivadas de las funciones interpolacion, pero no llegue a calcular la matriz de esa forma. no sabia como hacer B^T*B para obtener la matriz.\n",
    "Entonces, en la funcion, leo la cantidad de funciones interpolacion que tiene el sistema. Creo la matriz B de zeros, que podria ser directamente k_elem.\n",
    "Despues genero un for para calcular ir recorriendo todas las filas de la matriz B y otro for para recorrer las columnas de la matriz. Calculó con la funcion derivada_inter la derivada para cada polinomio de interpolacion de lo que seria el vector B^T y luego del vector B. Y los agrego en la matriz a partir de la posicion que le corresponde segun los indices i,j."
   ]
  },
  {
   "cell_type": "code",
   "execution_count": 127,
   "id": "6058b4e6-1950-4d8c-92a4-fc5bef889597",
   "metadata": {},
   "outputs": [],
   "source": [
    "def k_elem_distribucion(MC,MN,E,A,i,L0,N,Ne):\n",
    "    cant_func = N.shape[1] #cantidad de funciones de interpolacion\n",
    "    B= np.zeros([cant_func,cant_func])\n",
    "    for i in range(cant_func):\n",
    "        for j in range(cant_func):          \n",
    "            N_deriv1= derivada_inter(N[i]) #es lineal, me da un solo elemento\n",
    "            N_deriv2= derivada_inter(N[j])\n",
    "            B[i,j]= N_deriv1[0]*N_deriv2[0] #corregir para el caso de que no sea linea\n",
    "    ke= E*A/(L0/Ne)\n",
    "    K_elem= ke*B\n",
    "    K_elem[np.abs(K_elem/K_elem.max()) < 1e-15] = 0\n",
    "\n",
    "    return K_elem"
   ]
  },
  {
   "cell_type": "code",
   "execution_count": 128,
   "id": "ff8746d8-7605-450c-a898-e3d5b3954b51",
   "metadata": {},
   "outputs": [],
   "source": [
    "Kglobal= np.zeros([Nn*glxn,Nn*glxn])"
   ]
  },
  {
   "cell_type": "code",
   "execution_count": 129,
   "id": "0c6d2dcf-8e16-447d-9b3a-400f05f36a9f",
   "metadata": {},
   "outputs": [
    {
     "name": "stdout",
     "output_type": "stream",
     "text": [
      "[[ 8.33333278e+15 -8.33333278e+15]\n",
      " [-8.33333278e+15  8.33333278e+15]]\n",
      "[0 1]\n"
     ]
    }
   ],
   "source": [
    "for e in range(Ne):\n",
    "    k_elem[e]= k_elem_distribucion(MC,MN,E,A,e,L0,N,Ne)\n",
    "    fe = np.abs(k_elem[e].max()) #factor de escala\n",
    "    pos= np.array([e,e+1])\n",
    "    #with open(archivo,'a') as f:\n",
    "     #   f.write(f'\\nelemento {e}, fe ={fe:4e}\\n')\n",
    "      #  f.write(f'{k_elem[e]/fe}\\n')\n",
    "    Kglobal[np.ix_(pos,pos)] += k_elem[e]"
   ]
  },
  {
   "cell_type": "code",
   "execution_count": 130,
   "id": "edadf7a0-6540-4f0c-af9f-9a407d357b26",
   "metadata": {},
   "outputs": [
    {
     "name": "stdout",
     "output_type": "stream",
     "text": [
      "[[ 8.33333278e+15 -8.33333278e+15]\n",
      " [-8.33333278e+15  8.33333278e+15]]\n"
     ]
    }
   ],
   "source": [
    "print(Kglobal)"
   ]
  },
  {
   "cell_type": "markdown",
   "id": "fec8b84f-def0-43e3-9a43-9e1cb2825d31",
   "metadata": {},
   "source": [
    "    # Nnxe es siempre dos, el elemento queda definido a partir de dos nodos.\n",
    "    i in range(2):\n",
    "        rangoi= np.linspace(i*glxn,(i+1)*glxn,2, dtype = \"int\")\n",
    "        rangoni= np.linspace(MC[e][i]*glxn,(MC[e][i]+1)*glxn,2, dtype = \"int\")\n",
    "        for j in range(2):\n",
    "            rangoj= np.linspace(j*glxn,(j+1)*glxn,2, dtype = \"int\")\n",
    "            rangonj= np.linspace(MC[e][j]*glxn,(MC[e][j]+1)*glxn,2, dtype = \"int\")\n",
    "            Kglobal[np.ix_(rangoni,rangonj)] += k_elem[e][np.ix_(rangoi,rangoj)]"
   ]
  },
  {
   "cell_type": "code",
   "execution_count": 131,
   "id": "c91846c5-772e-4b91-aee8-9c7bb784d388",
   "metadata": {},
   "outputs": [],
   "source": [
    "def int_polinomio(p):\n",
    "    gr= len(p)-1\n",
    "    p_int= []\n",
    "    for i in range(len(p)-1):\n",
    "        p_int.append(p[i]/(gr+1))\n",
    "    p_int.append(0)\n",
    "    return p_int"
   ]
  },
  {
   "cell_type": "code",
   "execution_count": 132,
   "id": "53e66f10-3047-4885-a892-b47ffae05003",
   "metadata": {},
   "outputs": [
    {
     "name": "stdout",
     "output_type": "stream",
     "text": [
      "0\n",
      "1\n"
     ]
    },
    {
     "ename": "IndexError",
     "evalue": "index 1 is out of bounds for axis 0 with size 1",
     "output_type": "error",
     "traceback": [
      "\u001b[1;31m---------------------------------------------------------------------------\u001b[0m",
      "\u001b[1;31mIndexError\u001b[0m                                Traceback (most recent call last)",
      "\u001b[1;32m~\\AppData\\Local\\Temp\\ipykernel_17172\\640511560.py\u001b[0m in \u001b[0;36m<module>\u001b[1;34m\u001b[0m\n\u001b[0;32m      4\u001b[0m     \u001b[1;32mfor\u001b[0m \u001b[0mj\u001b[0m \u001b[1;32min\u001b[0m \u001b[0mrange\u001b[0m\u001b[1;33m(\u001b[0m\u001b[0mlen\u001b[0m\u001b[1;33m(\u001b[0m\u001b[0mN\u001b[0m\u001b[1;33m)\u001b[0m\u001b[1;33m)\u001b[0m\u001b[1;33m:\u001b[0m \u001b[1;31m#para la cantidad de funciones de interpolacion\u001b[0m\u001b[1;33m\u001b[0m\u001b[1;33m\u001b[0m\u001b[0m\n\u001b[0;32m      5\u001b[0m         \u001b[0mintegrate1\u001b[0m\u001b[1;33m=\u001b[0m \u001b[0mint_polinomio\u001b[0m\u001b[1;33m(\u001b[0m\u001b[0mN\u001b[0m\u001b[1;33m[\u001b[0m\u001b[0mj\u001b[0m\u001b[1;33m,\u001b[0m\u001b[1;33m:\u001b[0m\u001b[1;33m]\u001b[0m\u001b[1;33m)\u001b[0m\u001b[1;33m\u001b[0m\u001b[1;33m\u001b[0m\u001b[0m\n\u001b[1;32m----> 6\u001b[1;33m         \u001b[0mfuerzas\u001b[0m\u001b[1;33m[\u001b[0m\u001b[0mi\u001b[0m\u001b[1;33m]\u001b[0m\u001b[1;33m=\u001b[0m\u001b[0mnp\u001b[0m\u001b[1;33m.\u001b[0m\u001b[0mpolyval\u001b[0m\u001b[1;33m(\u001b[0m\u001b[0mT\u001b[0m\u001b[1;33m,\u001b[0m\u001b[0mMN\u001b[0m\u001b[1;33m[\u001b[0m\u001b[0mi\u001b[0m\u001b[1;33m]\u001b[0m\u001b[1;33m)\u001b[0m\u001b[1;33m\u001b[0m\u001b[1;33m\u001b[0m\u001b[0m\n\u001b[0m\u001b[0;32m      7\u001b[0m     \u001b[1;32mif\u001b[0m \u001b[0mi\u001b[0m \u001b[1;33m==\u001b[0m \u001b[1;36m0\u001b[0m\u001b[1;33m:\u001b[0m\u001b[1;33m\u001b[0m\u001b[1;33m\u001b[0m\u001b[0m\n\u001b[0;32m      8\u001b[0m         \u001b[1;31m#fuerzas[i]=(MN[MC[i][1]]-MN[MC[i][0]])*np.polyval(T,MN[MC[i][1]])\u001b[0m\u001b[1;33m\u001b[0m\u001b[1;33m\u001b[0m\u001b[0m\n",
      "\u001b[1;31mIndexError\u001b[0m: index 1 is out of bounds for axis 0 with size 1"
     ]
    }
   ],
   "source": [
    "#el vector fuerzas no lo puedo armar, no encuentro la forma para integrar, o armar la funcion N1*T(x) e intgrarla\n",
    "fuerzas = np.zeros([1,Nn])\n",
    "for i in range(Nn):\n",
    "    print(i)\n",
    "    for j in range(len(N)): #para la cantidad de funciones de interpolacion\n",
    "        integrate1= int_polinomio(N[j,:])\n",
    "        fuerzas[i]=np.polyval(T,MN[i])\n",
    "    if i == 0:\n",
    "        #fuerzas[i]=(MN[MC[i][1]]-MN[MC[i][0]])*np.polyval(T,MN[MC[i][1]])\n",
    "        fuerzas[i]=(MN[i+1]-MN[i])*np.polyval(T,MN[i])\n",
    "    else:\n",
    "        #T= carga_axial_centrada(T,i,MC,MN) #calculo la carga axial aplicada centrada en el punto de la barra en el que estoy\n",
    "        #auxiliar= MC[i][1]\n",
    "        #h0= np.polyval(T,MN[MC[i][0]]) #altura del rectangulo\n",
    "        h0= np.polyval(T,MN[i-1])\n",
    "        base=MN[i]-MN[i-1]\n",
    "        fuerzas[0,i]= (base*(np.polyval(T,MN[i])-h0))+base*h0"
   ]
  },
  {
   "cell_type": "code",
   "execution_count": 114,
   "id": "0680ed2f-fdc2-48a5-b47c-ecf9a8cfd5a8",
   "metadata": {},
   "outputs": [
    {
     "data": {
      "text/plain": [
       "array([[ 0. , -3.6]])"
      ]
     },
     "execution_count": 114,
     "metadata": {},
     "output_type": "execute_result"
    }
   ],
   "source": [
    "fuerzas"
   ]
  },
  {
   "cell_type": "code",
   "execution_count": 20,
   "id": "aa920982-2c80-4007-a4e0-0bdd5109f977",
   "metadata": {},
   "outputs": [],
   "source": [
    "#me falta armar el s,r,Us,Fr\n",
    "r= np.array([0])\n",
    "s= np.array([1])\n",
    "Us= np.array([0])\n",
    "Fr= np.array([fuerzas[0]])"
   ]
  },
  {
   "cell_type": "code",
   "execution_count": 20,
   "id": "db7e9454-b0f8-41b6-8d92-dc9b3be6fc0f",
   "metadata": {},
   "outputs": [],
   "source": [
    "U,F = MEF.solve1D(K_global,s,r,Us,Fr)"
   ]
  },
  {
   "cell_type": "code",
   "execution_count": null,
   "id": "0e04266b-912e-4a02-a9a6-ecf6251a1829",
   "metadata": {},
   "outputs": [],
   "source": []
  }
 ],
 "metadata": {
  "kernelspec": {
   "display_name": "Python 3 (ipykernel)",
   "language": "python",
   "name": "python3"
  },
  "language_info": {
   "codemirror_mode": {
    "name": "ipython",
    "version": 3
   },
   "file_extension": ".py",
   "mimetype": "text/x-python",
   "name": "python",
   "nbconvert_exporter": "python",
   "pygments_lexer": "ipython3",
   "version": "3.9.10"
  }
 },
 "nbformat": 4,
 "nbformat_minor": 5
}
